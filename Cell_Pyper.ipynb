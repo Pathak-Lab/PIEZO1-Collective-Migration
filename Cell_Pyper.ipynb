{
 "cells": [
  {
   "cell_type": "code",
   "execution_count": 142,
   "metadata": {},
   "outputs": [],
   "source": [
    "%matplotlib inline\n",
    "from scipy.spatial import distance \n",
    "import sys\n",
    "sys.path.append(\"..\")\n",
    "import matplotlib.pyplot as plt\n",
    "import os\n",
    "from pytrackmate import trackmate_peak_import\n",
    "from glob import glob\n",
    "import pandas as pd\n",
    "import numpy as np\n",
    "import xml.etree.ElementTree as et\n",
    "import seaborn as sns\n",
    "import openpyxl\n",
    "import re\n",
    "import plotly.express as px\n",
    "import sklearn.preprocessing as preprocessing\n",
    "import dabest\n",
    "from scipy.signal import correlate\n",
    "from tqdm import tqdm\n",
    "import time\n",
    "import dabest\n",
    "import plotly.graph_objects as go\n",
    "from datetime import datetime\n",
    "from scipy import stats"
   ]
  },
  {
   "cell_type": "markdown",
   "metadata": {},
   "source": [
    "Format TrackMate Outputs for analysis:"
   ]
  },
  {
   "cell_type": "code",
   "execution_count": 5,
   "metadata": {},
   "outputs": [],
   "source": [
    "# Load Trackmate xml files into a python dictionary with the following structure:\n",
    "# tracks = {'0': {'nSpots': 20, 'trackData': numpy.array(t, x, y, z) }}\n",
    "# Tracks should be xml file from 'Export tracks to XML file'\n",
    "\n",
    "def loadxmlTrajs(xmlfile):\n",
    "    try:\n",
    "        tree = et.parse(xmlfile);\n",
    "    except OSError:\n",
    "        print('Failed to read XML file {}.'.format(xlmfile) )\n",
    "    root =  tree.getroot()\n",
    "    # print(root.attrib)  # or extract metadata\n",
    "    nTracks = int(root.attrib['nTracks'])\n",
    "    tracks = {}\n",
    "    for i in range(nTracks):\n",
    "        trackIdx = str(i)\n",
    "        tracks[trackIdx] = {}\n",
    "        nSpots = int(root[i].attrib['nSpots'])\n",
    "        tracks[trackIdx]['nSpots'] = nSpots\n",
    "        trackData = np.array([ ]).reshape(0, 4)\n",
    "        for j in range(nSpots):\n",
    "            t = float(root[i][j].attrib['t'])\n",
    "            x = float(root[i][j].attrib['x'])\n",
    "            y = float(root[i][j].attrib['y'])\n",
    "            z = float(root[i][j].attrib['z'])\n",
    "            spotData = np.array([t, x, y, z])\n",
    "            trackData = np.vstack((trackData, spotData))\n",
    "        tracks[trackIdx]['trackData'] = trackData\n",
    "    return tracks"
   ]
  },
  {
   "cell_type": "code",
   "execution_count": 6,
   "metadata": {},
   "outputs": [],
   "source": [
    "#calculate track MSD using FFT\n",
    "\n",
    "def msd_calc_v1(r):\n",
    "    shifts = np.arange(len(r))\n",
    "    msds = np.zeros(shifts.size)    \n",
    "    for i, shift in enumerate(shifts):\n",
    "        diffs = r[:-shift if shift else None] - r[shift:]\n",
    "        sqdist = np.square(diffs).sum(axis=1)\n",
    "        msds[i] = sqdist.mean()\n",
    "    return msds\n",
    "\n",
    "def autocorrFFT(x):\n",
    "    N=len(x)\n",
    "    F = np.fft.fft(x, n=2*N)  #2*N because of zero-padding\n",
    "    PSD = F * F.conjugate()\n",
    "    res = np.fft.ifft(PSD)\n",
    "    res= (res[:N]).real   #now we have the autocorrelation in convention B\n",
    "    n=N*np.ones(N)-np.arange(0,N) #divide res(m) by (N-m)\n",
    "    return res/n #this is the autocorrelation in convention A\n",
    "\n",
    "def msd_fft(r):\n",
    "    N=len(r)\n",
    "    D=np.square(r).sum(axis=1) \n",
    "    D=np.append(D,0) \n",
    "    S2=sum([autocorrFFT(r[:, i]) for i in range(r.shape[1])])\n",
    "    Q=2*D.sum()\n",
    "    S1=np.zeros(N)\n",
    "    for m in range(N):\n",
    "        Q=Q-D[m-1]-D[N-m]\n",
    "        S1[m]=Q/(N-m)\n",
    "    return S1-2*S2"
   ]
  },
  {
   "cell_type": "code",
   "execution_count": 7,
   "metadata": {},
   "outputs": [],
   "source": [
    "# calculate speed of trajectory. function takes a trajectory array and frame interval as arguments\n",
    "# returns the instantaneous speed at each frame. Use .mean function to find average for cell\n",
    "\n",
    "def Speed(trajectory_array, time_step):\n",
    "    inst_spd=[]\n",
    "    for i in range(1, len(trajectory_array)-1):\n",
    "        # we are finding the euclidean distance between successive frame a and frame b\n",
    "        a = np.array((trajectory_array[i][0], trajectory_array[i][1]))\n",
    "        b = np.array((trajectory_array[i+1][0], trajectory_array[i+1][1]))\n",
    "        dist = np.linalg.norm(a-b)\n",
    "        #speed=distance/time, time_step is declared in the function\n",
    "        speed = dist/time_step \n",
    "        #appends to list with the instaneous speed at each timepoint\n",
    "        inst_spd.append(speed) \n",
    "    return inst_spd"
   ]
  },
  {
   "cell_type": "code",
   "execution_count": 8,
   "metadata": {},
   "outputs": [],
   "source": [
    "# This function calculates the directionality ratio,  oft referred to as the straightness ratio\n",
    "# aka straight-line length between start and the endpoint, divided by length of the trajectory\n",
    "# function takes a array of coordinates (trajectory_array) and returns DF with Dir_Ratio at every\n",
    "# point and the Dir_ratio at the last point of the movie\n",
    "\n",
    "def Dir_Ratio(trajectory_array):\n",
    "    all_dist=[]\n",
    "    for i in range(len(trajectory_array)-1):\n",
    "        #find frame a (i) and frame b (i+1)\n",
    "        a = np.array((trajectory_array[i][0], trajectory_array[i][1]))\n",
    "        b = np.array((trajectory_array[i+1][0], trajectory_array[i+1][1]))\n",
    "        # calculate euclidean distance between successive frame a and frame b\n",
    "        dist = np.linalg.norm(a-b) \n",
    "        # append distance of each frame to a list\n",
    "        all_dist.append(dist) \n",
    "\n",
    "    cum_dist=[]\n",
    "    dir_ratio=[]\n",
    "    for i in range(len(all_dist)):\n",
    "        # loop thru and iteratively add distances up to timepoint i into an empty list\n",
    "        cum_dist.append(all_dist[i]) \n",
    "        # sum list to give the Dt (total trajectory length) up to timepoint i\n",
    "        Dt_to_date = sum(cum_dist) \n",
    "        # calculate the straightline distance (dt) between frame 0 and frame i \n",
    "        a = np.array((trajectory_array[0][0], trajectory_array[0][1]))\n",
    "        b = np.array((trajectory_array[i][0], trajectory_array[i][1]))\n",
    "        dt_to_date = np.linalg.norm(a-b)\n",
    "        # calculate directionality ratio: straightline dist (dt)/actual trajectory length Dt\n",
    "        dir_ratio_now = dt_to_date/Dt_to_date\n",
    "        dir_ratio.append(dir_ratio_now)\n",
    "    # log the dir_ratio at the last frame of the trajectory \n",
    "    dir_ratio_lastpoint = dt_to_date/Dt_to_date\n",
    "    return dir_ratio, dir_ratio_lastpoint"
   ]
  },
  {
   "cell_type": "code",
   "execution_count": 9,
   "metadata": {},
   "outputs": [],
   "source": [
    "# This function performs direction (angle) autocorrelation analysis w/ overlapping time intervals\n",
    "\n",
    "# User supply (1) coordinate list (trajectory_array) and (2) time interval btw frames (delta_t)\n",
    "# Outputs  DataFrame of all Directional Autocorrelation coefficients. To average across multiple\n",
    "# cells use weighted average function\n",
    "\n",
    "# Framework adopted from Gorelik et al 2014 https://www.nature.com/articles/nprot.2014.131\n",
    "\n",
    "def dir_auto(trajectory_array, delta_t):\n",
    "    total_displacements = len(trajectory_array)-1\n",
    "\n",
    "    track_pauses=[]\n",
    "    vectors_list=[]\n",
    "\n",
    "    for i in range(0, total_displacements):\n",
    "        # For instances that a displacement vector cannot be generated aka if the cell stands in \n",
    "        # place we want to ignore those timepoints. One way to do this is by omitting any\n",
    "        # 'missing' vectors. So we will find any instances where the trajectory does not change\n",
    "        # x or y coordinates between timepoint i and i+1 and add them to an array for later.\n",
    "        # these gaps become problematic if you lack a enough cells or have vv short trajectories\n",
    "        if trajectory_array[i][0]==trajectory_array[i+1][0] and trajectory_array[i][1]==trajectory_array[i+1][1]:\n",
    "            track_pauses.append(i)\n",
    "\n",
    "        # Scan thru track dataframe and only find coordinates that move between frame a at  \n",
    "        # time point i and B at time i+1\n",
    "        else: \n",
    "            a = np.array((trajectory_array[i][0], trajectory_array[i][1]))\n",
    "            b = np.array((trajectory_array[i+1][0], trajectory_array[i+1][1]))   \n",
    "\n",
    "            # Find directional vector AB by subtracting starting point A from terminal point B\n",
    "            vec_ab = b-a \n",
    "            vectors_list.append(vec_ab)\n",
    "\n",
    "    # Normalize magnitude of our displacement vectors, this eliminates any bias from diff in speed\n",
    "    norm_vecs = preprocessing.normalize(vectors_list, norm='l2')\n",
    "\n",
    "    # Calculate angles (alpha) formed by each normalized vector\n",
    "    alphas_list = []\n",
    "    for i in range(len(norm_vecs)):\n",
    "        # since alpha = tan–1(y/x) and we want from 0:360 degrees then:\n",
    "        vec_alpha = np.arctan2(norm_vecs[i][1], norm_vecs[i][0])\n",
    "        alphas_list.append(vec_alpha)\n",
    "\n",
    "    # Add back in the pauses to our list of alphas for when we perform autocorrelation\n",
    "    for i in track_pauses:\n",
    "        alphas_list.insert(i, float('nan'))\n",
    "\n",
    "    # step intervals though such that step interval 1 is cos(θ1,2), cos(θ2,3) etc. and\n",
    "    # step interval 2 is cos(θ1,3), cos(θ2,4) etc. and step interval 3 is cos(θ1,4) etc.\n",
    "    track_dir_auto = pd.DataFrame(columns =[])\n",
    "    for stepsize in range(0, total_displacements):\n",
    "        thetas=[]\n",
    "        for i in range(total_displacements-stepsize):\n",
    "        # If cell stops (ie btw t2 & t3) vector cannot be produced so we skip v for paused t\n",
    "            if i in track_pauses or (i+stepsize) in track_pauses:\n",
    "                thetas.append(float('nan'))\n",
    "        # calculate angles θ between each step interval ie θ1,3=α1-α3 and calculates cosθ\n",
    "            else:\n",
    "                alpha_diff = np.cos(alphas_list[i]-alphas_list[i+stepsize])\n",
    "                thetas.append(alpha_diff)\n",
    "        step_dir_auto = pd.DataFrame(thetas, columns = [stepsize*delta_t])\n",
    "        track_dir_auto = pd.concat([track_dir_auto, step_dir_auto], axis=1)\n",
    "    return track_dir_auto"
   ]
  },
  {
   "cell_type": "code",
   "execution_count": 10,
   "metadata": {},
   "outputs": [],
   "source": [
    "# This function performs normalized velocity autocorrelation analysis with overlapping time intervals\n",
    "# Takes input as an array of coordinates (trajectory_array) and time interval between frames, delta_t\n",
    "\n",
    "# Framework adopted from Gorelik et al 2014 https://www.nature.com/articles/nprot.2014.131\n",
    "\n",
    "def vel_auto(trajectory_array, delta_t):\n",
    "    total_displacements = len(trajectory_array)-1\n",
    "    \n",
    "    velocity_vectors_list = []\n",
    "    Norm = 0\n",
    "    for i in range(0, total_displacements-1):\n",
    "        xProd = np.square(trajectory_array[i][0]-trajectory_array[i+1][0])\n",
    "        yProd = np.square(trajectory_array[i][1]-trajectory_array[i+1][1])\n",
    "        Norm = Norm+xProd+yProd\n",
    "    Norm = Norm/(np.square(delta_t)*total_displacements)\n",
    "\n",
    "    track_vel_auto = pd.DataFrame(columns =[])\n",
    "    for stepsize in range(1, int((total_displacements-2)/3)):\n",
    "        v_autocorr_n =[]\n",
    "        for i in range(0, total_displacements-stepsize):\n",
    "            xProd_1 = (np.array(trajectory_array[i][0])-np.array(trajectory_array[i+1][0]))\n",
    "            xProd_2 = (np.array(trajectory_array[i+stepsize][0])-np.array(trajectory_array[i+stepsize+1][0]))\n",
    "            xProd = xProd_1*xProd_2 \n",
    "            yProd_1 = (np.array(trajectory_array[i][1])-np.array(trajectory_array[i+1][1]))\n",
    "            yProd_2 = (np.array(trajectory_array[i+stepsize][1])-np.array(trajectory_array[i+stepsize+1][1]))\n",
    "            yProd = yProd_1*yProd_2\n",
    "            salsa = (xProd+yProd)/(Norm*np.square(delta_t))\n",
    "            v_autocorr_n.append(salsa)\n",
    "        step_vel_auto = pd.DataFrame(v_autocorr_n, columns = [stepsize*delta_t])\n",
    "\n",
    "        track_vel_auto = pd.concat([track_vel_auto, step_vel_auto], axis=1)\n",
    "    return track_vel_auto"
   ]
  },
  {
   "cell_type": "code",
   "execution_count": 11,
   "metadata": {},
   "outputs": [],
   "source": [
    "def weighted_average(distrib, weights):\n",
    "    top = sum([distrib[i]*weights[i] for i in range(len(distrib))])\n",
    "    bot = sum(weights)\n",
    "    return round(top/bot,2)"
   ]
  },
  {
   "cell_type": "code",
   "execution_count": 23,
   "metadata": {},
   "outputs": [
    {
     "name": "stderr",
     "output_type": "stream",
     "text": [
      " 20%|███████████████▌                                                               | 11/56 [13:01<1:52:41, 150.25s/it]C:\\ProgramData\\Anaconda3\\lib\\site-packages\\ipykernel_launcher.py:29: RuntimeWarning: invalid value encountered in double_scalars\n",
      "100%|█████████████████████████████████████████████████████████████████████████████| 56/56 [15:50:31<00:00, 1346.71s/it]\n"
     ]
    }
   ],
   "source": [
    "# This formats dataframe from trackmate and calculates\n",
    "\n",
    "#save_name = '2021_12_17_Exp263_+Y1_TrackMate_Tracks'\n",
    "\n",
    "# folder_path = \"F:/Jesse/cKO/cKO_XML_Trajectories/cKO/\"\n",
    "# folder_path = \"F:/Jesse/cKO/cKO_XML_Trajectories/Con(cKO)/\"\n",
    "\n",
    "# folder_path = \"F:/Jesse/GoF/GoF_XML_Trajectories/GoF_tracks\"\n",
    "folder_path = \"F:/Jesse/GoF/GoF_XML_Trajectories/Con_GoF_tracks\"\n",
    "\n",
    "# folder_path = \"F:/Jesse/tdTomato+Drug/dmso_tracks/\"\n",
    "# folder_path = \"F:/Jesse/tdTomato+Drug/yoda1_tracks/\"\n",
    "\n",
    "fname = sorted(glob(os.path.join(folder_path, \"*.xml\")))\n",
    "\n",
    "all_msd_df = pd.DataFrame(columns =[])\n",
    "all_speed_df = pd.DataFrame(columns =[])\n",
    "all_dir_ratio_df = pd.DataFrame(columns =[])\n",
    "dir_ratio_last = []\n",
    "\n",
    "all_dir_auto = pd.DataFrame(columns =[])\n",
    "all_vel_auto = pd.DataFrame(columns =[])\n",
    "\n",
    "for file in tqdm(range(len(fname)), position=0, leave=True):\n",
    "    file_name = fname[file].split('\\\\')[-1]\n",
    "    file_name = re.sub('_ScratchFast','',file_name)\n",
    "    file_name = re.sub('_MMStack','',file_name)\n",
    "    file_name = re.sub('_Tracks.xml','',file_name)\n",
    "    track_xml_file = loadxmlTrajs(fname[file])\n",
    "    all_dataframe = pd.DataFrame.from_dict(track_xml_file)\n",
    "    all_tracks_dataframe = pd.DataFrame(all_dataframe.loc['trackData'])\n",
    "    for index, track_data in all_tracks_dataframe.iterrows():\n",
    "        track_instance = all_tracks_dataframe.loc[index, 'trackData']\n",
    "        track_df = pd.DataFrame(track_instance)\n",
    "        \n",
    "        # Convert trajectory coordinates from pixel to microns\n",
    "        track_df[1] = track_df[1]*(0.6442*4) \n",
    "        track_df[2] = track_df[2]*(0.6442*4)\n",
    "        track_df.drop([0, 3], axis=1, inplace=True)\n",
    "        trajectory_array = track_df.to_numpy()\n",
    "        \n",
    "        # Calculate track directionality ratio\n",
    "        track_dir_ratio, dir_ratio_lastpoint = Dir_Ratio(trajectory_array)\n",
    "        dir_ratio_df = pd.DataFrame(track_dir_ratio, columns=[file_name+'_Track_'+index])\n",
    "        all_dir_ratio_df = pd.concat([all_dir_ratio_df, dir_ratio_df], axis=1)\n",
    "        dir_ratio_last.append(dir_ratio_lastpoint)\n",
    "        \n",
    "#         # Calculate track speed\n",
    "        track_speed = Speed(trajectory_array, 5)\n",
    "        speed_df = pd.DataFrame(track_speed, columns=[file_name+'_Track_'+index])\n",
    "        all_speed_df = pd.concat([all_speed_df, speed_df], axis=1)\n",
    "        \n",
    "#         # Calculate track MSD\n",
    "        track_MSD = msd_fft(trajectory_array)\n",
    "        msd_df = pd.DataFrame(track_MSD, columns=[file_name+'_Track_'+index])\n",
    "        all_msd_df = pd.concat([all_msd_df,msd_df], axis=1)\n",
    "        \n",
    "        # Calculate velocity correlation\n",
    "        VelA = vel_auto(trajectory_array, 5)\n",
    "        all_vel_auto = pd.concat([all_vel_auto, VelA], axis=0)\n",
    "        \n",
    "        # Calculate directional correlation\n",
    "        DirrA = dir_auto(trajectory_array, 5)\n",
    "        all_dir_auto = pd.concat([all_dir_auto, DirrA], axis=0)"
   ]
  },
  {
   "cell_type": "code",
   "execution_count": 24,
   "metadata": {},
   "outputs": [],
   "source": [
    "#Prefixes= DMSO, Yoda1, Con_cKO, cKO, GoF, Con_GoF\n",
    "\n",
    "Con_GoF_Speed_All = all_speed_df\n",
    "Con_GoF_MSD_All = all_msd_df\n",
    "Con_GoF_DirRatio_All = all_dir_ratio_df\n",
    "Con_GoF_DirRatio_Last = dir_ratio_last\n",
    "\n",
    "Con_GoF_DA = all_dir_auto\n",
    "Con_GoF_VA = all_vel_auto\n",
    "\n"
   ]
  },
  {
   "cell_type": "markdown",
   "metadata": {},
   "source": [
    "Export Python Outputs to CSV"
   ]
  },
  {
   "cell_type": "code",
   "execution_count": null,
   "metadata": {},
   "outputs": [],
   "source": [
    "date = datetime.now().strftime(\"%Y_%m_%d_%I_%M_%p\")\n",
    "\n",
    "DMSO_Speed_All.to_csv(f'C:/Users/17605/Downloads/{date}_DMSO_Speed.csv')\n",
    "Yoda1_Speed_All.to_csv(f'C:/Users/17605/Downloads/{date}_Yoda1_Speed.csv')\n",
    "DMSO_MSD_All.to_csv(f'C:/Users/17605/Downloads/{date}_DMSO_MSD.csv')\n",
    "Yoda1_MSD_All.to_csv(f'C:/Users/17605/Downloads/{date}_Yoda1_MSD.csv')\n",
    "\n",
    "DMSO_DirRatio_All.to_csv(f'C:/Users/17605/Downloads{date}_DMSO_DirRatio.csv')\n",
    "Yoda1_DirRatio_All.to_csv(f'C:/Users/17605/Downloads{date}_Yoda1_DirRatio.csv')\n",
    "\n",
    "DMSO_DirRatio_Last.to_csv(f'C:/Users/17605/Downloads/{date}_DMSO_DirRatio_Last.csv')\n",
    "Yoda1_DirRatio_Last.to_csv(f'C:/Users/17605/Downloads/{date}_Yoda1_DirRatio_Last.csv')\n",
    "\n",
    "DMSO_DA.to_csv(f'C:/Users/17605/Downloads/{date}_DMSO_DA.csv')\n",
    "Yoda1_DA.to_csv(f'C:/Users/17605/Downloads/{date}_Yoda1_DA.csv')\n",
    "\n",
    "DMSO_VA.to_csv(f'C:/Users/17605/Downloads/{date}_DMSO_VA.csv')\n",
    "Yoda1_VA.to_csv(f'C:/Users/17605/Downloads/{date}_Yoda1_VA.csv')"
   ]
  },
  {
   "cell_type": "code",
   "execution_count": null,
   "metadata": {},
   "outputs": [],
   "source": [
    "date = datetime.now().strftime(\"%Y_%m_%d_%I_%M_%p\")\n",
    "\n",
    "Con_GoF_Speed_All.to_csv(f'C:/Users/17605/Downloads/{date}_Con_GoF_Speed.csv')\n",
    "GoF_Speed_All.to_csv(f'C:/Users/17605/Downloads/{date}_GoF_Speed.csv')\n",
    "Con_GoF_MSD_All.to_csv(f'C:/Users/17605/Downloads/{date}_Con_GoF_MSD.csv')\n",
    "GoF_MSD_All.to_csv(f'C:/Users/17605/Downloads/{date}_GoF_MSD.csv')\n",
    "\n",
    "Con_GoF_DirRatio_All.to_csv(f'C:/Users/17605/Downloads{date}_Con_GoF_DirRatio.csv')\n",
    "GoF_DirRatio_All.to_csv(f'C:/Users/17605/Downloads{date}_GoF_DirRatio.csv')\n",
    "\n",
    "# Con_GoF_DirRatio_Last.to_csv(f'C:/Users/17605/Downloads/{date}_Con_GoF_DirRatio_Last.csv')\n",
    "# GoF_DirRatio_Last.to_csv(f'C:/Users/17605/Downloads/{date}_GoF_DirRatio_Last.csv')\n",
    "\n",
    "Con_GoF_DA.to_csv(f'C:/Users/17605/Downloads/{date}_Con_GoF_DA.csv')\n",
    "GoF_DA.to_csv(f'C:/Users/17605/Downloads/{date}_GoF_DA.csv')\n",
    "\n",
    "Con_GoF_VA.to_csv(f'C:/Users/17605/Downloads/{date}_Con_GoF_VA.csv')\n",
    "GoF_VA.to_csv(f'C:/Users/17605/Downloads/{date}_GoF_VA.csv')"
   ]
  },
  {
   "cell_type": "code",
   "execution_count": null,
   "metadata": {},
   "outputs": [],
   "source": [
    "date = datetime.now().strftime(\"%Y_%m_%d_%I_%M_%p\")\n",
    "\n",
    "# Con_cKO_Speed_All.to_csv(f'C:/Users/17605/Downloads/{date}_Con_cKO_Speed.csv')\n",
    "# cKO_Speed_All.to_csv(f'C:/Users/17605/Downloads/{date}_cKO_Speed.csv')\n",
    "# Con_cKO_MSD_All.to_csv(f'C:/Users/17605/Downloads/{date}_Con_cKO_MSD.csv')\n",
    "# cKO_MSD_All.to_csv(f'C:/Users/17605/Downloads/{date}_cKO_MSD.csv')\n",
    "\n",
    "# Con_cKO_DirRatio_All.to_csv(f'C:/Users/17605/Downloads{date}_Con_cKO_DirRatio.csv')\n",
    "# cKO_DirRatio_All.to_csv(f'C:/Users/17605/Downloads{date}_cKO_DirRatio.csv')\n",
    "\n",
    "# Con_cKO_DirRatio_Last.to_csv(f'C:/Users/17605/Downloads/{date}_Con_cKO_DirRatio_Last.csv')\n",
    "# cKO_DirRatio_Last.to_csv(f'C:/Users/17605/Downloads/{date}_cKO_DirRatio_Last.csv')\n",
    "\n",
    "Con_cKO_DA.to_csv(f'C:/Users/17605/Downloads/{date}_Con_cKO_DA.csv')\n",
    "# cKO_DA.to_csv(f'C:/Users/17605/Downloads/{date}_cKO_DA.csv')\n",
    "\n",
    "Con_cKO_VA.to_csv(f'C:/Users/17605/Downloads/{date}_Con_cKO_VA.csv')\n",
    "# cKO_VA.to_csv(f'C:/Users/17605/Downloads/{date}_cKO_VA.csv')"
   ]
  },
  {
   "cell_type": "markdown",
   "metadata": {},
   "source": [
    "Read CSVs and setup for graphing functions"
   ]
  },
  {
   "cell_type": "code",
   "execution_count": 192,
   "metadata": {},
   "outputs": [],
   "source": [
    "DMSO_MSD = pd.read_csv (\"2022_04_16_07_32_AM_DMSO_MSD.csv\")\n",
    "Yoda1_MSD = pd.read_csv (\"2022_04_16_07_32_AM_Yoda1_MSD.csv\")\n",
    "Con_GoF_MSD = pd.read_csv (\"2022_04_19_06_42_AM_Con_GoF_MSD.csv\")\n",
    "GoF_MSD = pd.read_csv (\"2022_04_19_06_42_AM_GoF_MSD.csv\")\n",
    "Con_cKO_MSD = pd.read_csv (\"2022_04_12_07_17_AM_Con_cKO_MSD.csv\")\n",
    "cKO_MSD = pd.read_csv (\"2022_04_12_07_17_AM_cKO_MSD.csv\")"
   ]
  },
  {
   "cell_type": "code",
   "execution_count": 193,
   "metadata": {},
   "outputs": [],
   "source": [
    "del DMSO_MSD['Unnamed: 0']\n",
    "del Yoda1_MSD['Unnamed: 0']\n",
    "del Con_GoF_MSD['Unnamed: 0']\n",
    "del GoF_MSD['Unnamed: 0']\n",
    "del Con_cKO_MSD['Unnamed: 0']\n",
    "del cKO_MSD['Unnamed: 0']"
   ]
  },
  {
   "cell_type": "code",
   "execution_count": 39,
   "metadata": {},
   "outputs": [],
   "source": [
    "All_MSD = pd.concat([pd.DataFrame(DMSO_MSD.mean(axis=1), columns=['DMSO_MSD_Mean']), \n",
    "                    pd.DataFrame(DMSO_MSD.sem(axis=1), columns=['DMSO_MSD_SEM']), \n",
    "                    pd.DataFrame(Yoda1_MSD.mean(axis=1), columns=['Yoda1_MSD_Mean']), \n",
    "                    pd.DataFrame(Yoda1_MSD.sem(axis=1), columns=['Yoda1_MSD_SEM']), \n",
    "                    pd.DataFrame(Con_cKO_MSD.mean(axis=1), columns=['Con(cKO)_MSD_Mean']), \n",
    "                    pd.DataFrame(Con_cKO_MSD.sem(axis=1), columns=['Con(cKO)_MSD_SEM']), \n",
    "                    pd.DataFrame(cKO_MSD.mean(axis=1), columns=['cKO_MSD_Mean']), \n",
    "                    pd.DataFrame(cKO_MSD.sem(axis=1), columns=['cKO_MSD_SEM']), \n",
    "                    pd.DataFrame(Con_GoF_MSD.mean(axis=1), columns=['Con(GoF)_MSD_Mean']), \n",
    "                    pd.DataFrame(Con_GoF_MSD.sem(axis=1), columns=['Con(GoF)_MSD_SEM']), \n",
    "                    pd.DataFrame(GoF_MSD.mean(axis=1), columns=['GoF_MSD_Mean']),  \n",
    "                    pd.DataFrame(GoF_MSD.sem(axis=1), columns=['GoF_MSD_SEM'])], axis=1)"
   ]
  },
  {
   "cell_type": "code",
   "execution_count": 40,
   "metadata": {},
   "outputs": [],
   "source": [
    "date = datetime.now().strftime(\"%Y_%m_%d_%I_%M_%p\")\n",
    "\n",
    "All_MSD.to_excel(f'{date}_All_MSD_mean_sem.xlsx')"
   ]
  },
  {
   "cell_type": "code",
   "execution_count": 127,
   "metadata": {},
   "outputs": [],
   "source": [
    "DMSO_Speed = pd.read_csv (\"2022_04_16_07_32_AM_DMSO_Speed.csv\")\n",
    "Yoda1_Speed = pd.read_csv (\"2022_04_16_07_32_AM_Yoda1_Speed.csv\")\n",
    "Con_GoF_Speed = pd.read_csv (\"2022_04_19_06_42_AM_Con_GoF_Speed.csv\")\n",
    "GoF_Speed = pd.read_csv (\"2022_04_19_06_42_AM_GoF_Speed.csv\")\n",
    "Con_cKO_Speed = pd.read_csv (\"2022_04_12_07_17_AM_Con_cKO_Speed.csv\")\n",
    "cKO_Speed = pd.read_csv (\"2022_04_12_07_17_AM_cKO_Speed.csv\")"
   ]
  },
  {
   "cell_type": "code",
   "execution_count": null,
   "metadata": {},
   "outputs": [],
   "source": [
    "del DMSO_Speed['Unnamed: 0']\n",
    "del Yoda1_Speed['Unnamed: 0']\n",
    "del Con_GoF_Speed['Unnamed: 0']\n",
    "del GoF_Speed['Unnamed: 0']\n",
    "del Con_cKO_Speed['Unnamed: 0']\n",
    "del cKO_Speed['Unnamed: 0']"
   ]
  },
  {
   "cell_type": "code",
   "execution_count": 44,
   "metadata": {},
   "outputs": [],
   "source": [
    "DMSO_Speed_Stack = pd.melt(DMSO_Speed, var_name='DMSO Filename', value_name='DMSO Speed (um/min)')\n",
    "DMSO_Speed_Stack.dropna(inplace=True)\n",
    "Yoda1_Speed_Stack = pd.melt(Yoda1_Speed, var_name='Yoda1 Filename', value_name='Yoda1 Speed (um/min)')\n",
    "Yoda1_Speed_Stack.dropna(inplace=True)\n",
    "Con_GoF_Speed_Stack = pd.melt(Con_GoF_Speed, var_name='Con(GoF) Filename', value_name='Con(GoF)Speed (um/min)')\n",
    "Con_GoF_Speed_Stack.dropna(inplace=True)\n",
    "GoF_Speed_Stack = pd.melt(GoF_Speed, var_name='GoF Filename', value_name='GoF Speed (um/min)')\n",
    "GoF_Speed_Stack.dropna(inplace=True)\n",
    "Con_cKO_Speed_Stack = pd.melt(Con_cKO_Speed, var_name='Con(cKO) Filename', value_name='Con(cKO) Speed (um/min)')\n",
    "Con_cKO_Speed_Stack.dropna(inplace=True)\n",
    "cKO_Speed_Stack = pd.melt(cKO_Speed, var_name='cKO Filename', value_name='cKO Speed (um/min)')\n",
    "cKO_Speed_Stack.dropna(inplace=True)"
   ]
  },
  {
   "cell_type": "code",
   "execution_count": 45,
   "metadata": {},
   "outputs": [],
   "source": [
    "All_Speed =pd.concat([pd.DataFrame(DMSO_Speed_Stack['DMSO Speed (um/min)']),\n",
    "            pd.DataFrame(Yoda1_Speed_Stack['Yoda1 Speed (um/min)']),\n",
    "            pd.DataFrame(Con_GoF_Speed_Stack['Con(GoF)Speed (um/min)']),\n",
    "            pd.DataFrame(GoF_Speed_Stack['GoF Speed (um/min)']),\n",
    "            pd.DataFrame(Con_cKO_Speed_Stack['Con(cKO) Speed (um/min)']),\n",
    "            pd.DataFrame(cKO_Speed_Stack['cKO Speed (um/min)'])], \n",
    "            axis=1, \n",
    "            ignore_index=True)\n",
    "All_Speed.rename(columns = {0: 'DMSO', 1:'Yoda1', 2:'Con(GoF)', 3:'GoF', 4:'Con(cKO)', 5:'cKO'}, inplace=True)\n",
    "\n",
    "date = datetime.now().strftime(\"%Y_%m_%d_%I_%M_%p\")\n",
    "\n",
    "All_Speed.to_csv(f'{date}_All_Speed.csv')"
   ]
  },
  {
   "cell_type": "code",
   "execution_count": 116,
   "metadata": {},
   "outputs": [],
   "source": [
    "dmso_speed_mean = pd.DataFrame(DMSO_Speed.mean(axis=0))\n",
    "dmso_speed_mean.reset_index(inplace=True)\n",
    "dmso_speed_mean.rename(columns={'index':'Filename', 0:\"DMSO Speed (um/min)\"}, inplace=True)\n",
    "yoda1_speed_mean = pd.DataFrame(Yoda1_Speed.mean(axis=0))\n",
    "yoda1_speed_mean.reset_index(inplace=True)\n",
    "yoda1_speed_mean.rename(columns={'index':'Filename', 0:\"Yoda1 Speed (um/min)\"}, inplace=True)\n",
    "con_cko_speed_mean = pd.DataFrame(Con_cKO_Speed.mean(axis=0))\n",
    "con_cko_speed_mean.reset_index(inplace=True)\n",
    "con_cko_speed_mean.rename(columns={'index':'Filename', 0:\"Con(cKO) Speed (um/min)\"}, inplace=True)\n",
    "con_gof_speed_mean = pd.DataFrame(Con_GoF_Speed.mean(axis=0))\n",
    "con_gof_speed_mean.reset_index(inplace=True)\n",
    "yoda1_speed_mean.rename(columns={'index':'Filename', 0:\"Con(GoF) Speed (um/min)\"}, inplace=True)\n",
    "cko_speed_mean = pd.DataFrame(cKO_Speed.mean(axis=0))\n",
    "cko_speed_mean.reset_index(inplace=True)\n",
    "cko_speed_mean.rename(columns={'index':'Filename', 0:\"cKO Speed (um/min)\"}, inplace=True)\n",
    "gof_speed_mean = pd.DataFrame(GoF_Speed.mean(axis=0))\n",
    "gof_speed_mean.reset_index(inplace=True)\n",
    "gof_speed_mean.rename(columns={'index':'Filename', 0:\"GoF Speed (um/min)\"}, inplace=True)\n",
    "\n",
    "All_Speed_Means =pd.concat([dmso_speed_mean,\n",
    "            yoda1_speed_mean,\n",
    "            con_cko_speed_mean,\n",
    "            cko_speed_mean,\n",
    "            con_gof_speed_mean,\n",
    "            gof_speed_mean], \n",
    "            axis=1)\n",
    "\n",
    "date = datetime.now().strftime(\"%Y_%m_%d_%I_%M_%p\")\n",
    "\n",
    "All_Speed_Means.to_excel(f'{date}_All_Speed_Means.xlsx')"
   ]
  },
  {
   "cell_type": "code",
   "execution_count": null,
   "metadata": {},
   "outputs": [],
   "source": [
    "DMSO_Speed_Stack = pd.melt(DMSO_Speed.mean(axis=0), var_name='DMSO Filename', value_name='DMSO Speed (um/min)')\n",
    "DMSO_Speed_Stack.dropna(inplace=True)\n",
    "Yoda1_Speed_Stack = pd.melt(Yoda1_Speed.mean(axis=0), var_name='Yoda1 Filename', value_name='Yoda1 Speed (um/min)')\n",
    "Yoda1_Speed_Stack.dropna(inplace=True)\n",
    "Con_GoF_Speed_Stack = pd.melt(Con_GoF_Speed.mean(axis=0), var_name='Con(GoF) Filename', value_name='Con(GoF)Speed (um/min)')\n",
    "Con_GoF_Speed_Stack.dropna(inplace=True)\n",
    "GoF_Speed_Stack = pd.melt(GoF_Speed.mean(axis=0), var_name='GoF Filename', value_name='GoF Speed (um/min)')\n",
    "GoF_Speed_Stack.dropna(inplace=True)\n",
    "Con_cKO_Speed_Stack = pd.melt(Con_cKO_Speed.mean(axis=0), var_name='Con(cKO) Filename', value_name='Con(cKO) Speed (um/min)')\n",
    "Con_cKO_Speed_Stack.dropna(inplace=True)\n",
    "cKO_Speed_Stack = pd.melt(cKO_Speed.mean(axis=0), var_name='cKO Filename', value_name='cKO Speed (um/min)')\n",
    "cKO_Speed_Stack.dropna(inplace=True)"
   ]
  },
  {
   "cell_type": "code",
   "execution_count": 45,
   "metadata": {},
   "outputs": [],
   "source": [
    "DMSO_VA = pd.read_csv (\"2022_04_16_07_32_AM_DMSO_VA.csv\")\n",
    "Yoda1_VA = pd.read_csv (\"2022_04_16_07_32_AM_Yoda1_VA.csv\")\n",
    "Con_GoF_VA = pd.read_csv (\"2022_04_19_06_42_AM_Con_GoF_VA.csv\")\n",
    "GoF_VA = pd.read_csv (\"2022_04_19_06_42_AM_GoF_VA.csv\")\n",
    "Con_cKO_VA = pd.read_csv (\"2022_04_14_05_39_PM_Con_cKO_VA.csv\")\n",
    "cKO_VA = pd.read_csv (\"2022_04_12_07_33_AM_cKO_VA.csv\")"
   ]
  },
  {
   "cell_type": "code",
   "execution_count": 46,
   "metadata": {},
   "outputs": [],
   "source": [
    "DMSO_DA = pd.read_csv (\"2022_04_16_07_32_AM_DMSO_DA.csv\")\n",
    "Yoda1_DA = pd.read_csv (\"2022_04_16_07_32_AM_Yoda1_DA.csv\")\n",
    "Con_GoF_DA = pd.read_csv (\"2022_04_19_06_42_AM_Con_GoF_DA.csv\")\n",
    "GoF_DA = pd.read_csv (\"2022_04_19_06_42_AM_GoF_DA.csv\")\n",
    "Con_cKO_DA = pd.read_csv (\"2022_04_14_05_39_PM_Con_cKO_DA.csv\")\n",
    "cKO_DA = pd.read_csv (\"2022_04_12_07_33_AM_cKO_DA.csv\")"
   ]
  },
  {
   "cell_type": "code",
   "execution_count": 56,
   "metadata": {},
   "outputs": [],
   "source": [
    "del DMSO_VA['Unnamed: 0']\n",
    "del Yoda1_VA['Unnamed: 0']\n",
    "del Con_GoF_VA['Unnamed: 0']\n",
    "del GoF_VA['Unnamed: 0']\n",
    "del Con_cKO_VA['Unnamed: 0']\n",
    "del cKO_VA['Unnamed: 0'] "
   ]
  },
  {
   "cell_type": "code",
   "execution_count": 69,
   "metadata": {},
   "outputs": [],
   "source": [
    "del DMSO_DA['Unnamed: 0']\n",
    "del Yoda1_DA['Unnamed: 0']\n",
    "del Con_GoF_DA['Unnamed: 0']\n",
    "del GoF_DA['Unnamed: 0']\n",
    "del Con_cKO_DA['Unnamed: 0']\n",
    "del cKO_DA['Unnamed: 0'] "
   ]
  },
  {
   "cell_type": "code",
   "execution_count": 73,
   "metadata": {},
   "outputs": [
    {
     "name": "stderr",
     "output_type": "stream",
     "text": [
      "C:\\ProgramData\\Anaconda3\\lib\\site-packages\\ipykernel_launcher.py:29: FutureWarning: As the xlwt package is no longer maintained, the xlwt engine will be removed in a future version of pandas. This is the only engine in pandas that supports writing in the xls format. Install openpyxl and write to an xlsx file instead. You can set the option io.excel.xls.writer to 'xlwt' to silence this warning. While this option is deprecated and will also raise a warning, it can be globally set and the warning suppressed.\n",
      "C:\\ProgramData\\Anaconda3\\lib\\site-packages\\ipykernel_launcher.py:30: FutureWarning: As the xlwt package is no longer maintained, the xlwt engine will be removed in a future version of pandas. This is the only engine in pandas that supports writing in the xls format. Install openpyxl and write to an xlsx file instead. You can set the option io.excel.xls.writer to 'xlwt' to silence this warning. While this option is deprecated and will also raise a warning, it can be globally set and the warning suppressed.\n"
     ]
    }
   ],
   "source": [
    "All_DA = pd.concat([pd.DataFrame(DMSO_DA.mean(axis=0), columns=['DMSO_DA_Mean']), \n",
    "                    pd.DataFrame(DMSO_DA.sem(axis=0), columns=['DMSO_DA_SEM']), \n",
    "                    pd.DataFrame(Yoda1_DA.mean(axis=0), columns=['Yoda1_DA_Mean']), \n",
    "                    pd.DataFrame(Yoda1_DA.sem(axis=0), columns=['Yoda1_DA_SEM']), \n",
    "                    pd.DataFrame(Con_cKO_DA.mean(axis=0), columns=['Con(cKO)_DA_Mean']), \n",
    "                    pd.DataFrame(Con_cKO_DA.sem(axis=0), columns=['Con(cKO)_DA_SEM']), \n",
    "                    pd.DataFrame(cKO_DA.mean(axis=0), columns=['cKO_DA_Mean']), \n",
    "                    pd.DataFrame(cKO_DA.sem(axis=0), columns=['cKO_DA_SEM']), \n",
    "                    pd.DataFrame(Con_GoF_DA.mean(axis=0), columns=['Con(GoF)_DA_Mean']), \n",
    "                    pd.DataFrame(Con_GoF_DA.sem(axis=0), columns=['Con(GoF)_DA_SEM']), \n",
    "                    pd.DataFrame(GoF_DA.mean(axis=0), columns=['GoF_DA_Mean']),  \n",
    "                    pd.DataFrame(GoF_DA.sem(axis=0), columns=['GoF_DA_SEM'])], axis=1)\n",
    "\n",
    "All_VA = pd.concat([pd.DataFrame(DMSO_VA.mean(axis=0), columns=['DMSO_VA_Mean']), \n",
    "                    pd.DataFrame(DMSO_VA.sem(axis=0), columns=['DMSO_VA_SEM']), \n",
    "                    pd.DataFrame(Yoda1_VA.mean(axis=0), columns=['Yoda1_VA_Mean']), \n",
    "                    pd.DataFrame(Yoda1_VA.sem(axis=0), columns=['Yoda1_VA_SEM']), \n",
    "                    pd.DataFrame(Con_cKO_VA.mean(axis=0), columns=['Con(cKO)_VA_Mean']), \n",
    "                    pd.DataFrame(Con_cKO_VA.sem(axis=0), columns=['Con(cKO)_VA_SEM']), \n",
    "                    pd.DataFrame(cKO_VA.mean(axis=0), columns=['cKO_VA_Mean']),  \n",
    "                    pd.DataFrame(cKO_VA.sem(axis=0), columns=['cKO_VA_SEM']), \n",
    "                    pd.DataFrame(Con_GoF_VA.mean(axis=0), columns=['Con(GoF)_VA_Mean']), \n",
    "                    pd.DataFrame(Con_GoF_VA.sem(axis=0), columns=['Con(GoF)_VA_SEM']), \n",
    "                    pd.DataFrame(GoF_VA.mean(axis=0), columns=['GoF_VA_Mean']), \n",
    "                    pd.DataFrame(GoF_VA.sem(axis=0), columns=['GoF_VA_SEM'])], axis=1)\n",
    "\n",
    "date = datetime.now().strftime(\"%Y_%m_%d_%I_%M_%p\")\n",
    "\n",
    "All_DA.to_excel(f'{date}_All_DA_mean_sem.xls')\n",
    "All_VA.to_excel(f'{date}_All_VA_mean_sem.xls')"
   ]
  },
  {
   "cell_type": "code",
   "execution_count": null,
   "metadata": {},
   "outputs": [],
   "source": [
    "dir_ratio_last = []\n",
    "for (columnName, columnData) in Con_GoF_DirRatio_All.iteritems():\n",
    "    taco = columnData.last_valid_index()\n",
    "    dir_ratio_last.append(columnData[taco])"
   ]
  },
  {
   "cell_type": "markdown",
   "metadata": {},
   "source": [
    "Stats"
   ]
  },
  {
   "cell_type": "code",
   "execution_count": 178,
   "metadata": {},
   "outputs": [],
   "source": [
    "#define cohens d using the function defined here: https://machinelearningmastery.com/effect-size-measures-in-python/\n",
    "def cohend(d1, d2):\n",
    "    # calculate the size of samples\n",
    "    n1, n2 = len(d1), len(d2)\n",
    "    # calculate the variance of the samples\n",
    "    s1, s2 = np.var(d1, ddof=1), np.var(d2, ddof=1)\n",
    "    # calculate the pooled standard deviation\n",
    "    s = np.sqrt(((n1 - 1) * s1 + (n2 - 1) * s2) / (n1 + n2 - 2))\n",
    "    # calculate the means of the samples\n",
    "    u1, u2 = np.nanmean(d1), np.nanmean(d2)\n",
    "    # calculate the effect size\n",
    "    return (u2 - u1) / s"
   ]
  },
  {
   "cell_type": "code",
   "execution_count": 196,
   "metadata": {},
   "outputs": [],
   "source": [
    "cKO_msd_anova = []\n",
    "for col in range(np.shape(cKO_MSD.transpose())[1]):\n",
    "    stat, p = stats.f_oneway(Con_cKO_MSD.transpose()[col], cKO_MSD.transpose()[col])\n",
    "    d = cohend(Con_cKO_MSD.transpose()[col], cKO_MSD.transpose()[col])\n",
    "    cKO_msd_anova.append([stat, p, d])\n",
    "\n",
    "date = datetime.now().strftime(\"%Y_%m_%d_\")\n",
    "cKO_Con_stats = pd.DataFrame(cKO_msd_anova, columns= ['ANOVA stat', 'ANOVA p', 'Cohens d'])\n",
    "cKO_Con_stats.to_excel(f'{date}_cKOvCon_MSD_Stats.xlsx')"
   ]
  },
  {
   "cell_type": "code",
   "execution_count": 199,
   "metadata": {},
   "outputs": [],
   "source": [
    "GoF_msd_anova = []\n",
    "for col in range(np.shape(Con_GoF_MSD.transpose())[1]):\n",
    "    stat, p = stats.f_oneway(Con_GoF_MSD.transpose()[col], GoF_MSD.transpose()[col])\n",
    "    d = cohend(Con_GoF_MSD.transpose()[col], GoF_MSD.transpose()[col])\n",
    "    GoF_msd_anova.append([stat, p, d])\n",
    "\n",
    "date = datetime.now().strftime(\"%Y_%m_%d_\")\n",
    "GoF_Con_stats = pd.DataFrame(GoF_msd_anova, columns= ['ANOVA stat', 'ANOVA p', 'Cohens d'])\n",
    "GoF_Con_stats.to_excel(f'{date}_GoFvCon_MSD_Stats.xlsx')"
   ]
  },
  {
   "cell_type": "code",
   "execution_count": 200,
   "metadata": {},
   "outputs": [],
   "source": [
    "dmso_msd_anova = []\n",
    "for col in range(np.shape(DMSO_MSD.transpose())[1]):\n",
    "    stat, p = stats.f_oneway(DMSO_MSD.transpose()[col], Yoda1_MSD.transpose()[col])\n",
    "    d=cohend(DMSO_MSD.transpose()[col], Yoda1_MSD.transpose()[col])\n",
    "    dmso_msd_anova.append([stat, p, d])\n",
    "\n",
    "date = datetime.now().strftime(\"%Y_%m_%d_\")\n",
    "dmso_y1_stats = pd.DataFrame(dmso_msd_anova, columns= ['ANOVA stat', 'ANOVA p', 'Cohens d'])\n",
    "dmso_y1_stats.to_excel(f'{date}_DMSOvYoda1_MSD_Stats.xlsx')"
   ]
  },
  {
   "cell_type": "code",
   "execution_count": 213,
   "metadata": {},
   "outputs": [],
   "source": [
    "dmso_VA_anova = []\n",
    "for col in DMSO_VA:\n",
    "    stat, p = stats.f_oneway(DMSO_VA[col], Yoda1_VA[col])\n",
    "    d = cohend(DMSO_VA[col], Yoda1_VA[col])\n",
    "    dmso_VA_anova.append([stat, p, d])\n",
    "\n",
    "date = datetime.now().strftime(\"%Y_%m_%d_\")\n",
    "dmso_y1_VA_stats = pd.DataFrame(dmso_VA_anova, columns= ['ANOVA stat', 'ANOVA p', 'Cohens d'])\n",
    "dmso_y1_VA_stats.to_excel(f'{date}_DMSOvYoda1_VA_Stats.xlsx')"
   ]
  },
  {
   "cell_type": "code",
   "execution_count": 247,
   "metadata": {},
   "outputs": [],
   "source": [
    "cKO_VA_anova=[]\n",
    "for count, col in enumerate(cKO_VA.columns):\n",
    "    stat, p = stats.f_oneway(Con_cKO_VA[col], cKO_VA[col])\n",
    "    d = cohend(Con_cKO_VA[col], cKO_VA[col])\n",
    "    cKO_VA_anova.append([stat, p, d])\n",
    "\n",
    "date = datetime.now().strftime(\"%Y_%m_%d_\")\n",
    "con_cko_VA_stats = pd.DataFrame(cKO_VA_anova, columns= ['ANOVA stat', 'ANOVA p', 'Cohens d'])\n",
    "con_cko_VA_stats.to_excel(f'{date}_Con_cKO_VA_Stats.xlsx')"
   ]
  },
  {
   "cell_type": "code",
   "execution_count": 237,
   "metadata": {},
   "outputs": [],
   "source": [
    "GoF_VA_anova=[]\n",
    "for count, col in enumerate(Con_GoF_VA.columns):\n",
    "    stat, p = stats.f_oneway(Con_GoF_VA[col], GoF_VA[col])\n",
    "    d = cohend(Con_GoF_VA[col], GoF_VA[col])\n",
    "    GoF_VA_anova.append([stat, p, d])\n",
    "\n",
    "date = datetime.now().strftime(\"%Y_%m_%d_\")\n",
    "con_GoF_VA_stats = pd.DataFrame(GoF_VA_anova, columns= ['ANOVA stat', 'ANOVA p', 'Cohens d'])\n",
    "con_GoF_VA_stats.to_excel(f'{date}_Con_GoF_VA_Stats.xlsx')"
   ]
  },
  {
   "cell_type": "code",
   "execution_count": 238,
   "metadata": {},
   "outputs": [
    {
     "name": "stderr",
     "output_type": "stream",
     "text": [
      "C:\\ProgramData\\Anaconda3\\lib\\site-packages\\ipykernel_launcher.py:12: RuntimeWarning: invalid value encountered in double_scalars\n",
      "  if sys.path[0] == '':\n"
     ]
    }
   ],
   "source": [
    "dmso_DA_anova=[]\n",
    "for count, col in enumerate(DMSO_DA.columns):\n",
    "    stat, p = stats.f_oneway(DMSO_DA[col], Yoda1_DA[col])\n",
    "    d = cohend(DMSO_DA[col], Yoda1_DA[col])\n",
    "    dmso_DA_anova.append([stat, p, d])\n",
    "\n",
    "date = datetime.now().strftime(\"%Y_%m_%d_\")\n",
    "dmso_y1_DA_stats = pd.DataFrame(dmso_DA_anova, columns= ['ANOVA stat', 'ANOVA p', 'Cohens d'])\n",
    "dmso_y1_DA_stats.to_excel(f'{date}_DMSOvYoda1_DA_Stats.xlsx')"
   ]
  },
  {
   "cell_type": "code",
   "execution_count": 243,
   "metadata": {},
   "outputs": [
    {
     "name": "stderr",
     "output_type": "stream",
     "text": [
      "C:\\ProgramData\\Anaconda3\\lib\\site-packages\\ipykernel_launcher.py:12: RuntimeWarning: invalid value encountered in double_scalars\n",
      "  if sys.path[0] == '':\n"
     ]
    }
   ],
   "source": [
    "cKO_DA_anova=[]\n",
    "for count, col in enumerate(cKO_DA.columns):\n",
    "    stat, p = stats.f_oneway(Con_cKO_DA[col], cKO_DA[col])\n",
    "    d = cohend(Con_cKO_DA[col], cKO_DA[col])\n",
    "    cKO_DA_anova.append([stat, p, d])\n",
    "\n",
    "date = datetime.now().strftime(\"%Y_%m_%d_\")\n",
    "con_cko_DA_stats = pd.DataFrame(cKO_DA_anova, columns= ['ANOVA stat', 'ANOVA p', 'Cohens d'])\n",
    "con_cko_DA_stats.to_excel(f'{date}_Con_cKO_DA_Stats.xlsx')"
   ]
  },
  {
   "cell_type": "code",
   "execution_count": 244,
   "metadata": {},
   "outputs": [
    {
     "name": "stderr",
     "output_type": "stream",
     "text": [
      "C:\\ProgramData\\Anaconda3\\lib\\site-packages\\ipykernel_launcher.py:12: RuntimeWarning: invalid value encountered in double_scalars\n",
      "  if sys.path[0] == '':\n"
     ]
    }
   ],
   "source": [
    "GoF_DA_anova=[]\n",
    "for count, col in enumerate(Con_GoF_DA.columns):\n",
    "    stat, p = stats.f_oneway(Con_GoF_DA[col], GoF_DA[col])\n",
    "    d = cohend(Con_GoF_DA[col], GoF_DA[col])\n",
    "    GoF_DA_anova.append([stat, p, d])\n",
    "\n",
    "date = datetime.now().strftime(\"%Y_%m_%d_\")\n",
    "con_GoF_DA_stats = pd.DataFrame(GoF_DA_anova, columns= ['ANOVA stat', 'ANOVA p', 'Cohens d'])\n",
    "con_GoF_DA_stats.to_excel(f'{date}_Con_GoF_DA_Stats.xlsx')"
   ]
  },
  {
   "cell_type": "markdown",
   "metadata": {},
   "source": [
    "DMSO v Yoda1 Figures & Stats"
   ]
  },
  {
   "cell_type": "code",
   "execution_count": 117,
   "metadata": {},
   "outputs": [
    {
     "data": {
      "text/plain": [
       "DABEST v0.3.1\n",
       "=============\n",
       "             \n",
       "Good afternoon!\n",
       "The current time is Thu Apr 21 13:16:23 2022.\n",
       "\n",
       "The unpaired Cohen's d between DMSO and Yoda1 is -0.549 [95%CI -0.57, -0.527].\n",
       "The p-value of the two-sided permutation t-test is 0.0. \n",
       "\n",
       "5000 bootstrap samples were taken; the confidence interval is bias-corrected and accelerated.\n",
       "The p-value(s) reported are the likelihood(s) of observing the effect size(s),\n",
       "if the null hypothesis of zero difference is true.\n",
       "For each p-value, 5000 reshuffles of the control and test labels were performed.\n",
       "\n",
       "To get the results of all valid statistical tests, use `.cohens_d.statistical_tests`"
      ]
     },
     "execution_count": 117,
     "metadata": {},
     "output_type": "execute_result"
    }
   ],
   "source": [
    "Con_Speed = pd.DataFrame(DMSO_Speed.mean(axis=0)).rename(columns={0:\"DMSO\"})\n",
    "Test_Speed = pd.DataFrame(Yoda1_Speed.mean(axis=0)).rename(columns={0:\"Yoda1\"})\n",
    "Speed_Pair = pd.concat([Con_Speed[\"DMSO\"], Test_Speed[\"Yoda1\"]], axis=1)\n",
    "GoF_unpaired_speed = dabest.load(Speed_Pair, idx=(\"DMSO\", \"Yoda1\"), resamples=5000)\n",
    "GoF_unpaired_speed.cohens_d"
   ]
  },
  {
   "cell_type": "code",
   "execution_count": 121,
   "metadata": {},
   "outputs": [
    {
     "data": {
      "text/html": [
       "<div>\n",
       "<style scoped>\n",
       "    .dataframe tbody tr th:only-of-type {\n",
       "        vertical-align: middle;\n",
       "    }\n",
       "\n",
       "    .dataframe tbody tr th {\n",
       "        vertical-align: top;\n",
       "    }\n",
       "\n",
       "    .dataframe thead th {\n",
       "        text-align: right;\n",
       "    }\n",
       "</style>\n",
       "<table border=\"1\" class=\"dataframe\">\n",
       "  <thead>\n",
       "    <tr style=\"text-align: right;\">\n",
       "      <th></th>\n",
       "      <th>control</th>\n",
       "      <th>test</th>\n",
       "      <th>control_N</th>\n",
       "      <th>test_N</th>\n",
       "      <th>effect_size</th>\n",
       "      <th>is_paired</th>\n",
       "      <th>difference</th>\n",
       "      <th>ci</th>\n",
       "      <th>bca_low</th>\n",
       "      <th>bca_high</th>\n",
       "      <th>pvalue_permutation</th>\n",
       "      <th>pvalue_welch</th>\n",
       "      <th>statistic_welch</th>\n",
       "      <th>pvalue_students_t</th>\n",
       "      <th>statistic_students_t</th>\n",
       "      <th>pvalue_mann_whitney</th>\n",
       "      <th>statistic_mann_whitney</th>\n",
       "    </tr>\n",
       "  </thead>\n",
       "  <tbody>\n",
       "    <tr>\n",
       "      <th>0</th>\n",
       "      <td>DMSO</td>\n",
       "      <td>Yoda1</td>\n",
       "      <td>13338</td>\n",
       "      <td>14012</td>\n",
       "      <td>Cohen's d</td>\n",
       "      <td>False</td>\n",
       "      <td>-0.549071</td>\n",
       "      <td>95</td>\n",
       "      <td>-0.570292</td>\n",
       "      <td>-0.527205</td>\n",
       "      <td>0.0</td>\n",
       "      <td>0.0</td>\n",
       "      <td>44.918943</td>\n",
       "      <td>0.0</td>\n",
       "      <td>45.388441</td>\n",
       "      <td>0.0</td>\n",
       "      <td>123079537.0</td>\n",
       "    </tr>\n",
       "  </tbody>\n",
       "</table>\n",
       "</div>"
      ],
      "text/plain": [
       "  control   test  control_N  test_N effect_size  is_paired  difference  ci  \\\n",
       "0    DMSO  Yoda1      13338   14012   Cohen's d      False   -0.549071  95   \n",
       "\n",
       "    bca_low  bca_high  pvalue_permutation  pvalue_welch  statistic_welch  \\\n",
       "0 -0.570292 -0.527205                 0.0           0.0        44.918943   \n",
       "\n",
       "   pvalue_students_t  statistic_students_t  pvalue_mann_whitney  \\\n",
       "0                0.0             45.388441                  0.0   \n",
       "\n",
       "   statistic_mann_whitney  \n",
       "0             123079537.0  "
      ]
     },
     "execution_count": 121,
     "metadata": {},
     "output_type": "execute_result"
    }
   ],
   "source": [
    "two_groups_unpaired.cohens_d.statistical_tests"
   ]
  },
  {
   "cell_type": "code",
   "execution_count": null,
   "metadata": {
    "scrolled": false
   },
   "outputs": [],
   "source": [
    "dmso_y1_speed_fig = px.violin(df_Speed_Pair, box=True)\n",
    "dmso_y1_speed_fig.show()"
   ]
  },
  {
   "cell_type": "code",
   "execution_count": 85,
   "metadata": {},
   "outputs": [
    {
     "data": {
      "text/plain": [
       "DABEST v0.3.1\n",
       "=============\n",
       "             \n",
       "Good morning!\n",
       "The current time is Wed Mar  2 11:39:45 2022.\n",
       "\n",
       "The unpaired Cohen's d between DMSO and Yoda1 is -0.249 [95%CI -0.289, -0.207].\n",
       "The p-value of the two-sided permutation t-test is 0.0. \n",
       "\n",
       "5000 bootstrap samples were taken; the confidence interval is bias-corrected and accelerated.\n",
       "The p-value(s) reported are the likelihood(s) of observing the effect size(s),\n",
       "if the null hypothesis of zero difference is true.\n",
       "For each p-value, 5000 reshuffles of the control and test labels were performed.\n",
       "\n",
       "To get the results of all valid statistical tests, use `.cohens_d.statistical_tests`"
      ]
     },
     "execution_count": 85,
     "metadata": {},
     "output_type": "execute_result"
    }
   ],
   "source": [
    "DirRatio_Last = pd.DataFrame([DMSO_DirRatio, Yoda1_DirRatio_Last])\n",
    "DirRatio_Last = DirRatio_Last.transpose()\n",
    "DirRatio_Last.rename(columns={0:\"DMSO\", 1:\"Yoda1\"},inplace=True)\n",
    "DirRatio_Last_unpaired = dabest.load(DirRatio_Last, idx=(\"DMSO\", \"Yoda1\"), resamples=5000)\n",
    "DirRatio_Last_unpaired.cohens_d"
   ]
  },
  {
   "cell_type": "code",
   "execution_count": 86,
   "metadata": {},
   "outputs": [
    {
     "data": {
      "text/html": [
       "<div>\n",
       "<style scoped>\n",
       "    .dataframe tbody tr th:only-of-type {\n",
       "        vertical-align: middle;\n",
       "    }\n",
       "\n",
       "    .dataframe tbody tr th {\n",
       "        vertical-align: top;\n",
       "    }\n",
       "\n",
       "    .dataframe thead th {\n",
       "        text-align: right;\n",
       "    }\n",
       "</style>\n",
       "<table border=\"1\" class=\"dataframe\">\n",
       "  <thead>\n",
       "    <tr style=\"text-align: right;\">\n",
       "      <th></th>\n",
       "      <th>control</th>\n",
       "      <th>test</th>\n",
       "      <th>control_N</th>\n",
       "      <th>test_N</th>\n",
       "      <th>effect_size</th>\n",
       "      <th>is_paired</th>\n",
       "      <th>difference</th>\n",
       "      <th>ci</th>\n",
       "      <th>bca_low</th>\n",
       "      <th>bca_high</th>\n",
       "      <th>pvalue_permutation</th>\n",
       "      <th>pvalue_welch</th>\n",
       "      <th>statistic_welch</th>\n",
       "      <th>pvalue_students_t</th>\n",
       "      <th>statistic_students_t</th>\n",
       "      <th>pvalue_mann_whitney</th>\n",
       "      <th>statistic_mann_whitney</th>\n",
       "    </tr>\n",
       "  </thead>\n",
       "  <tbody>\n",
       "    <tr>\n",
       "      <th>0</th>\n",
       "      <td>DMSO</td>\n",
       "      <td>Yoda1</td>\n",
       "      <td>4689</td>\n",
       "      <td>4167</td>\n",
       "      <td>Cohen's d</td>\n",
       "      <td>False</td>\n",
       "      <td>-0.249491</td>\n",
       "      <td>95</td>\n",
       "      <td>-0.288924</td>\n",
       "      <td>-0.206539</td>\n",
       "      <td>0.0</td>\n",
       "      <td>3.443792e-32</td>\n",
       "      <td>11.857869</td>\n",
       "      <td>1.740252e-31</td>\n",
       "      <td>11.718935</td>\n",
       "      <td>3.022438e-21</td>\n",
       "      <td>10905812.0</td>\n",
       "    </tr>\n",
       "  </tbody>\n",
       "</table>\n",
       "</div>"
      ],
      "text/plain": [
       "  control   test  control_N  test_N effect_size  is_paired  difference  ci  \\\n",
       "0    DMSO  Yoda1       4689    4167   Cohen's d      False   -0.249491  95   \n",
       "\n",
       "    bca_low  bca_high  pvalue_permutation  pvalue_welch  statistic_welch  \\\n",
       "0 -0.288924 -0.206539                 0.0  3.443792e-32        11.857869   \n",
       "\n",
       "   pvalue_students_t  statistic_students_t  pvalue_mann_whitney  \\\n",
       "0       1.740252e-31             11.718935         3.022438e-21   \n",
       "\n",
       "   statistic_mann_whitney  \n",
       "0              10905812.0  "
      ]
     },
     "execution_count": 86,
     "metadata": {},
     "output_type": "execute_result"
    }
   ],
   "source": [
    "DirRatio_Last_unpaired.cohens_d.statistical_tests"
   ]
  },
  {
   "cell_type": "code",
   "execution_count": null,
   "metadata": {},
   "outputs": [],
   "source": [
    "dmso_y1_DirRatioLast_fig = px.violin(DirRatio_Last, box=True)\n",
    "dmso_y1_DirRatioLast_fig.show()"
   ]
  },
  {
   "cell_type": "code",
   "execution_count": null,
   "metadata": {},
   "outputs": [],
   "source": [
    "time=[]\n",
    "for i in range(len(DMSO_DirRatio_Mean)):\n",
    "    time.append(i*5)\n",
    "\n",
    "dmso_v_y1_dir_Ratio_fig = go.Figure()\n",
    "\n",
    "dmso_v_y1_dir_Ratio_fig.add_trace(go.Scatter(x= time, y=DMSO_DirRatio.mean(axis=1), name='DMSO', line_color='#000000', error_y=dict(type='data', array = DMSO_DirRatio.sem(axis=1), visible=True)))\n",
    "dmso_v_y1_dir_Ratio_fig.add_trace(go.Scatter(x= time, y=Yoda1_DirRatio.mean(axis=1), name='Yoda1', error_y =dict(type='data', array = Yoda1_DirRatio.sem(axis=1) , visible=True)))\n",
    "dmso_v_y1_dir_Ratio_fig.update_layout(title=\"Scratch Assay: DMSO v Yoda1 Dir Ratio\", xaxis_title=\"Time (min)\", yaxis_title=\"Dir Ratio\", \n",
    "legend_title=\"Condition\")\n",
    "dmso_v_y1_dir_Ratio_fig.show()"
   ]
  },
  {
   "cell_type": "code",
   "execution_count": null,
   "metadata": {
    "scrolled": false
   },
   "outputs": [],
   "source": [
    "time=[]\n",
    "for i in range(len(DMSO_DirRatio_Mean)):\n",
    "    time.append(i*5)\n",
    "\n",
    "dmso_v_y1_MSD_fig = go.Figure()\n",
    "\n",
    "dmso_v_y1_MSD_fig.add_trace(go.Scatter(x= time, y=DMSO_MSD.mean(axis=1), name='DMSO', line_color='#000000', error_y=dict(type='data', array = DMSO_MSD.sem(axis=1), visible=True)))\n",
    "dmso_v_y1_MSD_fig.add_trace(go.Scatter(x= time, y=Yoda1_MSD.mean(axis=1), name='Yoda1', error_y =dict(type='data', array = Yoda1_MSD.sem(axis=1) , visible=True)))\n",
    "dmso_v_y1_MSD_fig.update_layout(title=\"Scratch Assay MSD: DMSO v Yoda1 MSD\", xaxis_title=\"Time (min)\", yaxis_title=\"MSD\", legend_title=\"Condition\")\n",
    "dmso_v_y1_MSD_fig.show()"
   ]
  },
  {
   "cell_type": "code",
   "execution_count": null,
   "metadata": {},
   "outputs": [],
   "source": [
    "dmso_v_y1_DA_fig = go.Figure()\n",
    "\n",
    "dmso_v_y1_DA_fig.add_trace(go.Scatter(x= time, y= DMSO_DA.mean(axis=0), name='DMSO', line_color='#000000', error_y=dict(type='data', array = Yoda1_DA.sem(axis=0), visible=True)))\n",
    "dmso_v_y1_DA_fig.add_trace(go.Scatter(x= time, y= Yoda1_DA.mean(axis=0), name='Yoda1', error_y =dict(type='data', array = Yoda1_DA.sem(axis=0) , visible=True)))\n",
    "dmso_v_y1_DA_fig.update_layout(title=\"Scratch Assay: DMSO v Yoda1 Dir AutoCorr\", xaxis_title=\"Time (min)\", yaxis_title=\"Dir Ratio\", legend_title=\"Condition\")\n",
    "dmso_v_y1_DA_fig.show()"
   ]
  },
  {
   "cell_type": "code",
   "execution_count": null,
   "metadata": {},
   "outputs": [],
   "source": [
    "dmso_v_y1_VA_fig = go.Figure()\n",
    "\n",
    "dmso_v_y1_VA_fig.add_trace(go.Scatter(x= time, y= DMSO_VA.mean(axis=0), name='DMSO', line_color='#000000', error_y=dict(type='data', array = Yoda1_VA.sem(axis=0), visible=True)))\n",
    "dmso_v_y1_VA_fig.add_trace(go.Scatter(x= time, y= Yoda1_VA.mean(axis=0), name='Yoda1', error_y =dict(type='data', array = Yoda1_VA.sem(axis=0) , visible=True)))\n",
    "dmso_v_y1_VA_fig.update_layout(title=\"Scratch Assay: DMSO v Yoda1 Vel AutoCorr\", xaxis_title=\"Time (min)\", yaxis_title=\"Vel AutoCorr\", legend_title=\"Condition\")\n",
    "dmso_v_y1_VA_fig.show()"
   ]
  },
  {
   "cell_type": "markdown",
   "metadata": {},
   "source": [
    "GoF v Control Figures & Stats"
   ]
  },
  {
   "cell_type": "code",
   "execution_count": 139,
   "metadata": {},
   "outputs": [
    {
     "data": {
      "text/plain": [
       "DABEST v0.3.1\n",
       "=============\n",
       "             \n",
       "Good afternoon!\n",
       "The current time is Thu Apr 21 14:11:58 2022.\n",
       "\n",
       "The unpaired Cohen's d between Con(GoF) and GoF is -0.113 [95%CI -0.133, -0.0935].\n",
       "The p-value of the two-sided permutation t-test is 0.0. \n",
       "\n",
       "5000 bootstrap samples were taken; the confidence interval is bias-corrected and accelerated.\n",
       "The p-value(s) reported are the likelihood(s) of observing the effect size(s),\n",
       "if the null hypothesis of zero difference is true.\n",
       "For each p-value, 5000 reshuffles of the control and test labels were performed.\n",
       "\n",
       "To get the results of all valid statistical tests, use `.cohens_d.statistical_tests`"
      ]
     },
     "execution_count": 139,
     "metadata": {},
     "output_type": "execute_result"
    }
   ],
   "source": [
    "Con_Speed = pd.DataFrame(Con_GoF_Speed.mean(axis=0)).rename(columns={0:\"Con(GoF)\"})\n",
    "Test_Speed = pd.DataFrame(GoF_Speed.mean(axis=0)).rename(columns={0:\"GoF\"})\n",
    "Speed_Pair = pd.concat([Con_Speed[\"Con(GoF)\"], Test_Speed[\"GoF\"]], axis=1)\n",
    "GoF_unpaired_speed = dabest.load(Speed_Pair, idx=(\"Con(GoF)\", \"GoF\"), resamples=5000)\n",
    "GoF_unpaired_speed.cohens_d"
   ]
  },
  {
   "cell_type": "code",
   "execution_count": 123,
   "metadata": {},
   "outputs": [
    {
     "data": {
      "text/html": [
       "<div>\n",
       "<style scoped>\n",
       "    .dataframe tbody tr th:only-of-type {\n",
       "        vertical-align: middle;\n",
       "    }\n",
       "\n",
       "    .dataframe tbody tr th {\n",
       "        vertical-align: top;\n",
       "    }\n",
       "\n",
       "    .dataframe thead th {\n",
       "        text-align: right;\n",
       "    }\n",
       "</style>\n",
       "<table border=\"1\" class=\"dataframe\">\n",
       "  <thead>\n",
       "    <tr style=\"text-align: right;\">\n",
       "      <th></th>\n",
       "      <th>control</th>\n",
       "      <th>test</th>\n",
       "      <th>control_N</th>\n",
       "      <th>test_N</th>\n",
       "      <th>effect_size</th>\n",
       "      <th>is_paired</th>\n",
       "      <th>difference</th>\n",
       "      <th>ci</th>\n",
       "      <th>bca_low</th>\n",
       "      <th>bca_high</th>\n",
       "      <th>pvalue_permutation</th>\n",
       "      <th>pvalue_welch</th>\n",
       "      <th>statistic_welch</th>\n",
       "      <th>pvalue_students_t</th>\n",
       "      <th>statistic_students_t</th>\n",
       "      <th>pvalue_mann_whitney</th>\n",
       "      <th>statistic_mann_whitney</th>\n",
       "    </tr>\n",
       "  </thead>\n",
       "  <tbody>\n",
       "    <tr>\n",
       "      <th>0</th>\n",
       "      <td>Con(GoF)</td>\n",
       "      <td>GoF</td>\n",
       "      <td>20726</td>\n",
       "      <td>19947</td>\n",
       "      <td>Cohen's d</td>\n",
       "      <td>False</td>\n",
       "      <td>-0.113207</td>\n",
       "      <td>95</td>\n",
       "      <td>-0.133068</td>\n",
       "      <td>-0.093458</td>\n",
       "      <td>0.0</td>\n",
       "      <td>2.831515e-30</td>\n",
       "      <td>11.443239</td>\n",
       "      <td>3.983565e-30</td>\n",
       "      <td>11.413408</td>\n",
       "      <td>1.535639e-13</td>\n",
       "      <td>215451700.0</td>\n",
       "    </tr>\n",
       "  </tbody>\n",
       "</table>\n",
       "</div>"
      ],
      "text/plain": [
       "    control test  control_N  test_N effect_size  is_paired  difference  ci  \\\n",
       "0  Con(GoF)  GoF      20726   19947   Cohen's d      False   -0.113207  95   \n",
       "\n",
       "    bca_low  bca_high  pvalue_permutation  pvalue_welch  statistic_welch  \\\n",
       "0 -0.133068 -0.093458                 0.0  2.831515e-30        11.443239   \n",
       "\n",
       "   pvalue_students_t  statistic_students_t  pvalue_mann_whitney  \\\n",
       "0       3.983565e-30             11.413408         1.535639e-13   \n",
       "\n",
       "   statistic_mann_whitney  \n",
       "0             215451700.0  "
      ]
     },
     "execution_count": 123,
     "metadata": {},
     "output_type": "execute_result"
    }
   ],
   "source": [
    "GoF_unpaired_speed.cohens_d.statistical_tests"
   ]
  },
  {
   "cell_type": "code",
   "execution_count": null,
   "metadata": {},
   "outputs": [],
   "source": [
    "GoF_Speed_fig = px.violin(GoF_Speed_Pair, box=True)\n",
    "GoF_Speed_fig.show()"
   ]
  },
  {
   "cell_type": "code",
   "execution_count": 63,
   "metadata": {},
   "outputs": [
    {
     "data": {
      "text/plain": [
       "DABEST v0.3.1\n",
       "=============\n",
       "             \n",
       "Good morning!\n",
       "The current time is Wed Mar  2 09:20:24 2022.\n",
       "\n",
       "The unpaired Cohen's d between Con_GoF and GoF is -0.267 [95%CI -0.288, -0.247].\n",
       "The p-value of the two-sided permutation t-test is 0.0. \n",
       "\n",
       "5000 bootstrap samples were taken; the confidence interval is bias-corrected and accelerated.\n",
       "The p-value(s) reported are the likelihood(s) of observing the effect size(s),\n",
       "if the null hypothesis of zero difference is true.\n",
       "For each p-value, 5000 reshuffles of the control and test labels were performed.\n",
       "\n",
       "To get the results of all valid statistical tests, use `.cohens_d.statistical_tests`"
      ]
     },
     "execution_count": 63,
     "metadata": {},
     "output_type": "execute_result"
    }
   ],
   "source": [
    "GoF_Pair_DirRatio_Last = pd.DataFrame([Con_GoF_DirRatio_Last, GoF_DirRatio_Last])\n",
    "GoF_Pair_DirRatio_Last = GoF_Pair_DirRatio_Last.transpose()\n",
    "GoF_Pair_DirRatio_Last.rename(columns={0:\"Con_GoF\", 1:\"GoF\"},inplace=True)\n",
    "GoF_unpaired_DirRatio = dabest.load(GoF_Pair_DirRatio_Last, idx=(\"Con_GoF\", \"GoF\"), resamples=5000)\n",
    "GoF_unpaired_DirRatio.cohens_d"
   ]
  },
  {
   "cell_type": "code",
   "execution_count": 64,
   "metadata": {},
   "outputs": [
    {
     "data": {
      "text/html": [
       "<div>\n",
       "<style scoped>\n",
       "    .dataframe tbody tr th:only-of-type {\n",
       "        vertical-align: middle;\n",
       "    }\n",
       "\n",
       "    .dataframe tbody tr th {\n",
       "        vertical-align: top;\n",
       "    }\n",
       "\n",
       "    .dataframe thead th {\n",
       "        text-align: right;\n",
       "    }\n",
       "</style>\n",
       "<table border=\"1\" class=\"dataframe\">\n",
       "  <thead>\n",
       "    <tr style=\"text-align: right;\">\n",
       "      <th></th>\n",
       "      <th>control</th>\n",
       "      <th>test</th>\n",
       "      <th>control_N</th>\n",
       "      <th>test_N</th>\n",
       "      <th>effect_size</th>\n",
       "      <th>is_paired</th>\n",
       "      <th>difference</th>\n",
       "      <th>ci</th>\n",
       "      <th>bca_low</th>\n",
       "      <th>bca_high</th>\n",
       "      <th>pvalue_permutation</th>\n",
       "      <th>pvalue_welch</th>\n",
       "      <th>statistic_welch</th>\n",
       "      <th>pvalue_students_t</th>\n",
       "      <th>statistic_students_t</th>\n",
       "      <th>pvalue_mann_whitney</th>\n",
       "      <th>statistic_mann_whitney</th>\n",
       "    </tr>\n",
       "  </thead>\n",
       "  <tbody>\n",
       "    <tr>\n",
       "      <th>0</th>\n",
       "      <td>Con_GoF</td>\n",
       "      <td>GoF</td>\n",
       "      <td>19724</td>\n",
       "      <td>16444</td>\n",
       "      <td>Cohen's d</td>\n",
       "      <td>False</td>\n",
       "      <td>-0.267088</td>\n",
       "      <td>95</td>\n",
       "      <td>-0.287675</td>\n",
       "      <td>-0.24664</td>\n",
       "      <td>0.0</td>\n",
       "      <td>6.208833e-146</td>\n",
       "      <td>25.843295</td>\n",
       "      <td>6.370499e-140</td>\n",
       "      <td>25.292571</td>\n",
       "      <td>3.660567e-80</td>\n",
       "      <td>180916969.0</td>\n",
       "    </tr>\n",
       "  </tbody>\n",
       "</table>\n",
       "</div>"
      ],
      "text/plain": [
       "   control test  control_N  test_N effect_size  is_paired  difference  ci  \\\n",
       "0  Con_GoF  GoF      19724   16444   Cohen's d      False   -0.267088  95   \n",
       "\n",
       "    bca_low  bca_high  pvalue_permutation   pvalue_welch  statistic_welch  \\\n",
       "0 -0.287675  -0.24664                 0.0  6.208833e-146        25.843295   \n",
       "\n",
       "   pvalue_students_t  statistic_students_t  pvalue_mann_whitney  \\\n",
       "0      6.370499e-140             25.292571         3.660567e-80   \n",
       "\n",
       "   statistic_mann_whitney  \n",
       "0             180916969.0  "
      ]
     },
     "execution_count": 64,
     "metadata": {},
     "output_type": "execute_result"
    }
   ],
   "source": [
    "GoF_unpaired_DirRatio.cohens_d.statistical_tests"
   ]
  },
  {
   "cell_type": "code",
   "execution_count": null,
   "metadata": {},
   "outputs": [],
   "source": [
    "GoF_DirRatio_Last_fig = px.violin(GoF_Pair_DirRatio_Last, box=True)\n",
    "GoF_DirRatio_Last_fig.show()"
   ]
  },
  {
   "cell_type": "code",
   "execution_count": null,
   "metadata": {},
   "outputs": [],
   "source": [
    "time=[]\n",
    "for i in range(len(Con_GoF_DirRatio_Mean)):\n",
    "    time.append(i*5)\n",
    "\n",
    "Con_v_GoF_dirRatio_fig = go.Figure()\n",
    "\n",
    "Con_v_GoF_dirRatio_fig.add_trace(go.Scatter(x= time, y= Con_GoF_DirRatio.mean(axis=1), name='Con(GoF)', line_color='#000000', error_y=dict(type='data', array = Con_GoF_DirRatio.sem(axis=1), visible=True)))\n",
    "Con_v_GoF_dirRatio_fig.add_trace(go.Scatter(x= time, y= GoF_DirRatio.mean(axis=1), name='GoF', line_color='#006400', error_y =dict(type='data', array = GoF_DirRatio.sem(axis=1) , visible=True)))\n",
    "Con_v_GoF_dirRatio_fig.update_layout(title=\"Scratch Assay: Con v GoF Dir_Ratio\", xaxis_title=\"Time (min)\", yaxis_title=\"Dir Ratio\", legend_title=\"Genotype\")\n",
    "Con_v_GoF_dirRatio_fig.show()"
   ]
  },
  {
   "cell_type": "code",
   "execution_count": null,
   "metadata": {},
   "outputs": [],
   "source": [
    "time=[]\n",
    "for i in range(len(Con_GoF_MSD_Mean)):\n",
    "    time.append(i*5)\n",
    "\n",
    "GoF_MSD_fig = go.Figure()\n",
    "\n",
    "GoF_MSD_fig.add_trace(go.Scatter(x= time, y= Con_GoF_MSD.mean(axis=1), name='Con(GoF)', line_color='#000000', error_y=dict(type='data', array = Con_GoF_MSD.sem(axis=1), visible=True)))\n",
    "GoF_MSD_fig.add_trace(go.Scatter(x= time, y= GoF_MSD.mean(axis=1), name='GoF', line_color='#006400', error_y =dict(type='data', array = GoF_MSD.sem(axis=1) , visible=True)))\n",
    "GoF_MSD_fig.update_layout(title=\"Scratch Assay: Con v GoF MSD\", xaxis_title=\"Time (min)\", yaxis_title=\"MSD\", legend_title=\"Genotype\")\n",
    "GoF_MSD_fig.show()"
   ]
  },
  {
   "cell_type": "code",
   "execution_count": null,
   "metadata": {},
   "outputs": [],
   "source": [
    "time=[]\n",
    "for i in range(len(Con_GoF_DA)):\n",
    "    time.append(i*5)\n",
    "    \n",
    "GoF_DA_fig = go.Figure()\n",
    "\n",
    "GoF_DA_fig.add_trace(go.Scatter(x= time, y= Con_GoF_DA.mean(axis=0), name='Con(GoF)', line_color='#000000', error_y=dict(type='data', array = Con_GoF_DA.sem(axis=0), visible=True)))\n",
    "GoF_DA_fig.add_trace(go.Scatter(x= time, y= GoF_DA.mean(axis=0), name='GoF', line_color='#006400', error_y =dict(type='data', array = GoF_DA.sem(axis=0) , visible=True)))\n",
    "GoF_DA_fig.update_layout(title=\"Scratch Assay: Con(GoF) v GoF Dir AutoCorr\", xaxis_title=\"Time (min)\", yaxis_title=\"Dir AutoCorr\", legend_title=\"Condition\")\n",
    "GoF_DA_fig.show()"
   ]
  },
  {
   "cell_type": "code",
   "execution_count": null,
   "metadata": {},
   "outputs": [],
   "source": [
    "GoF_VA_fig = go.Figure()\n",
    "\n",
    "GoF_VA_fig.add_trace(go.Scatter(x= time, y= Con_GoF_VA.mean(axis=0), name='Con(GoF)', line_color='#000000', error_y=dict(type='data', array = Con_GoF_VA.sem(axis=0), visible=True)))\n",
    "GoF_VA_fig.add_trace(go.Scatter(x= time, y= GoF_VA.mean(axis=0), name='GoF', line_color='#006400', error_y =dict(type='data', array = GoF_VA.sem(axis=0) , visible=True)))\n",
    "GoF_VA_fig.update_layout(title=\"Scratch Assay: Con(GoF) v GoF Vel AutoCorr\", xaxis_title=\"Time (min)\", yaxis_title=\"Vel AutoCorr\", legend_title=\"Condition\")\n",
    "GoF_VA_fig.show()"
   ]
  },
  {
   "cell_type": "markdown",
   "metadata": {},
   "source": [
    "cKO v Control Figures & Stats"
   ]
  },
  {
   "cell_type": "code",
   "execution_count": 140,
   "metadata": {},
   "outputs": [
    {
     "data": {
      "text/plain": [
       "DABEST v0.3.1\n",
       "=============\n",
       "             \n",
       "Good afternoon!\n",
       "The current time is Thu Apr 21 14:19:40 2022.\n",
       "\n",
       "The unpaired Cohen's d between Con(cKO) and cKO is 0.31 [95%CI 0.297, 0.325].\n",
       "The p-value of the two-sided permutation t-test is 0.0. \n",
       "\n",
       "5000 bootstrap samples were taken; the confidence interval is bias-corrected and accelerated.\n",
       "The p-value(s) reported are the likelihood(s) of observing the effect size(s),\n",
       "if the null hypothesis of zero difference is true.\n",
       "For each p-value, 5000 reshuffles of the control and test labels were performed.\n",
       "\n",
       "To get the results of all valid statistical tests, use `.cohens_d.statistical_tests`"
      ]
     },
     "execution_count": 140,
     "metadata": {},
     "output_type": "execute_result"
    }
   ],
   "source": [
    "Con_Speed = pd.DataFrame(Con_cKO_Speed.mean(axis=0)).rename(columns={0:\"Con(cKO)\"})\n",
    "Test_Speed = pd.DataFrame(cKO_Speed.mean(axis=0)).rename(columns={0:\"cKO\"})\n",
    "Speed_Pair = pd.concat([Con_Speed[\"Con(cKO)\"], Test_Speed[\"cKO\"]], axis=1)\n",
    "cKO_unpaired_speed = dabest.load(Speed_Pair, idx=(\"Con(cKO)\", \"cKO\"), resamples=5000)\n",
    "cKO_unpaired_speed.cohens_d"
   ]
  },
  {
   "cell_type": "code",
   "execution_count": 14,
   "metadata": {},
   "outputs": [
    {
     "data": {
      "text/html": [
       "<div>\n",
       "<style scoped>\n",
       "    .dataframe tbody tr th:only-of-type {\n",
       "        vertical-align: middle;\n",
       "    }\n",
       "\n",
       "    .dataframe tbody tr th {\n",
       "        vertical-align: top;\n",
       "    }\n",
       "\n",
       "    .dataframe thead th {\n",
       "        text-align: right;\n",
       "    }\n",
       "</style>\n",
       "<table border=\"1\" class=\"dataframe\">\n",
       "  <thead>\n",
       "    <tr style=\"text-align: right;\">\n",
       "      <th></th>\n",
       "      <th>control</th>\n",
       "      <th>test</th>\n",
       "      <th>control_N</th>\n",
       "      <th>test_N</th>\n",
       "      <th>effect_size</th>\n",
       "      <th>is_paired</th>\n",
       "      <th>difference</th>\n",
       "      <th>ci</th>\n",
       "      <th>bca_low</th>\n",
       "      <th>bca_high</th>\n",
       "      <th>pvalue_permutation</th>\n",
       "      <th>pvalue_welch</th>\n",
       "      <th>statistic_welch</th>\n",
       "      <th>pvalue_students_t</th>\n",
       "      <th>statistic_students_t</th>\n",
       "      <th>pvalue_mann_whitney</th>\n",
       "      <th>statistic_mann_whitney</th>\n",
       "    </tr>\n",
       "  </thead>\n",
       "  <tbody>\n",
       "    <tr>\n",
       "      <th>0</th>\n",
       "      <td>Con(cKO)</td>\n",
       "      <td>cKO</td>\n",
       "      <td>26346</td>\n",
       "      <td>39005</td>\n",
       "      <td>Cohen's d</td>\n",
       "      <td>False</td>\n",
       "      <td>0.32052</td>\n",
       "      <td>95</td>\n",
       "      <td>0.305019</td>\n",
       "      <td>0.336172</td>\n",
       "      <td>0.0</td>\n",
       "      <td>0.0</td>\n",
       "      <td>-41.30411</td>\n",
       "      <td>0.0</td>\n",
       "      <td>-40.192699</td>\n",
       "      <td>0.0</td>\n",
       "      <td>417422445.0</td>\n",
       "    </tr>\n",
       "  </tbody>\n",
       "</table>\n",
       "</div>"
      ],
      "text/plain": [
       "    control test  control_N  test_N effect_size  is_paired  difference  ci  \\\n",
       "0  Con(cKO)  cKO      26346   39005   Cohen's d      False     0.32052  95   \n",
       "\n",
       "    bca_low  bca_high  pvalue_permutation  pvalue_welch  statistic_welch  \\\n",
       "0  0.305019  0.336172                 0.0           0.0        -41.30411   \n",
       "\n",
       "   pvalue_students_t  statistic_students_t  pvalue_mann_whitney  \\\n",
       "0                0.0            -40.192699                  0.0   \n",
       "\n",
       "   statistic_mann_whitney  \n",
       "0             417422445.0  "
      ]
     },
     "execution_count": 14,
     "metadata": {},
     "output_type": "execute_result"
    }
   ],
   "source": [
    "cKO_unpaired_speed.cohens_d.statistical_tests"
   ]
  },
  {
   "cell_type": "code",
   "execution_count": null,
   "metadata": {},
   "outputs": [],
   "source": [
    "cKO_Speed_fig = px.violin(cKO_Speed_Pair, box=True)\n",
    "cKO_Speed_fig.show()"
   ]
  },
  {
   "cell_type": "code",
   "execution_count": 16,
   "metadata": {},
   "outputs": [
    {
     "data": {
      "text/plain": [
       "DABEST v0.3.1\n",
       "=============\n",
       "             \n",
       "Good morning!\n",
       "The current time is Mon Feb 28 07:33:44 2022.\n",
       "\n",
       "The unpaired Cohen's d between Con(cKO) and cKO is 0.212 [95%CI 0.197, 0.227].\n",
       "The p-value of the two-sided permutation t-test is 0.0. \n",
       "\n",
       "5000 bootstrap samples were taken; the confidence interval is bias-corrected and accelerated.\n",
       "The p-value(s) reported are the likelihood(s) of observing the effect size(s),\n",
       "if the null hypothesis of zero difference is true.\n",
       "For each p-value, 5000 reshuffles of the control and test labels were performed.\n",
       "\n",
       "To get the results of all valid statistical tests, use `.cohens_d.statistical_tests`"
      ]
     },
     "execution_count": 16,
     "metadata": {},
     "output_type": "execute_result"
    }
   ],
   "source": [
    "cKO_DirRatio_Pair = pd.DataFrame([Con_cKO_DirRatio_Last, cKO_DirRatio_Last])\n",
    "cKO_DirRatio_Pair = cKO_DirRatio_Pair.transpose()\n",
    "cKO_DirRatio_Pair.rename(columns={0:\"Con(cKO)\", 1:\"cKO\"},inplace=True)\n",
    "cKO_unpaired_DirRatio = dabest.load(cKO_DirRatio_Pair, idx=(\"Con(cKO)\", \"cKO\"), resamples=5000)\n",
    "cKO_unpaired_DirRatio.cohens_d"
   ]
  },
  {
   "cell_type": "code",
   "execution_count": 19,
   "metadata": {},
   "outputs": [
    {
     "data": {
      "text/html": [
       "<div>\n",
       "<style scoped>\n",
       "    .dataframe tbody tr th:only-of-type {\n",
       "        vertical-align: middle;\n",
       "    }\n",
       "\n",
       "    .dataframe tbody tr th {\n",
       "        vertical-align: top;\n",
       "    }\n",
       "\n",
       "    .dataframe thead th {\n",
       "        text-align: right;\n",
       "    }\n",
       "</style>\n",
       "<table border=\"1\" class=\"dataframe\">\n",
       "  <thead>\n",
       "    <tr style=\"text-align: right;\">\n",
       "      <th></th>\n",
       "      <th>control</th>\n",
       "      <th>test</th>\n",
       "      <th>control_N</th>\n",
       "      <th>test_N</th>\n",
       "      <th>effect_size</th>\n",
       "      <th>is_paired</th>\n",
       "      <th>difference</th>\n",
       "      <th>ci</th>\n",
       "      <th>bca_low</th>\n",
       "      <th>bca_high</th>\n",
       "      <th>pvalue_permutation</th>\n",
       "      <th>pvalue_welch</th>\n",
       "      <th>statistic_welch</th>\n",
       "      <th>pvalue_students_t</th>\n",
       "      <th>statistic_students_t</th>\n",
       "      <th>pvalue_mann_whitney</th>\n",
       "      <th>statistic_mann_whitney</th>\n",
       "    </tr>\n",
       "  </thead>\n",
       "  <tbody>\n",
       "    <tr>\n",
       "      <th>0</th>\n",
       "      <td>Con(cKO)</td>\n",
       "      <td>cKO</td>\n",
       "      <td>26346</td>\n",
       "      <td>39005</td>\n",
       "      <td>Cohen's d</td>\n",
       "      <td>False</td>\n",
       "      <td>0.212034</td>\n",
       "      <td>95</td>\n",
       "      <td>0.196791</td>\n",
       "      <td>0.227122</td>\n",
       "      <td>0.0</td>\n",
       "      <td>2.221255e-161</td>\n",
       "      <td>-27.152435</td>\n",
       "      <td>6.153349e-155</td>\n",
       "      <td>-26.588709</td>\n",
       "      <td>1.667412e-139</td>\n",
       "      <td>454331508.0</td>\n",
       "    </tr>\n",
       "  </tbody>\n",
       "</table>\n",
       "</div>"
      ],
      "text/plain": [
       "    control test  control_N  test_N effect_size  is_paired  difference  ci  \\\n",
       "0  Con(cKO)  cKO      26346   39005   Cohen's d      False    0.212034  95   \n",
       "\n",
       "    bca_low  bca_high  pvalue_permutation   pvalue_welch  statistic_welch  \\\n",
       "0  0.196791  0.227122                 0.0  2.221255e-161       -27.152435   \n",
       "\n",
       "   pvalue_students_t  statistic_students_t  pvalue_mann_whitney  \\\n",
       "0      6.153349e-155            -26.588709        1.667412e-139   \n",
       "\n",
       "   statistic_mann_whitney  \n",
       "0             454331508.0  "
      ]
     },
     "execution_count": 19,
     "metadata": {},
     "output_type": "execute_result"
    }
   ],
   "source": [
    "cKO_unpaired_DirRatio.cohens_d.statistical_tests"
   ]
  },
  {
   "cell_type": "code",
   "execution_count": null,
   "metadata": {},
   "outputs": [],
   "source": [
    "cKO_DirRatio_last_fig = px.violin(cKO_DirRatio_Pair, box=True)\n",
    "cKO_DirRatio_last_fig.show()"
   ]
  },
  {
   "cell_type": "code",
   "execution_count": null,
   "metadata": {},
   "outputs": [],
   "source": [
    "time=[]\n",
    "for i in range(len(cKO_DirRatio_Mean)):\n",
    "    time.append(i*5)\n",
    "\n",
    "cKO_dirRatio_fig = go.Figure()\n",
    "\n",
    "cKO_dirRatio_fig.add_trace(go.Scatter(x= time, y= Con_cKO_DirRatio.mean(axis=1), name='Con(cKO)', line_color='#000000', error_y=dict(type='data', array = Con_cKO_DirRatio.sem(axis=1), visible=True)))\n",
    "cKO_dirRatio_fig.add_trace(go.Scatter(x= time, y= cKO_DirRatio_Mean.mean(axis=1), name='cKO', line_color='#6a0dad', error_y =dict(type='data', array = cKO_DirRatio.sem(axis=1) , visible=True)))\n",
    "cKO_dirRatio_fig.update_layout(title=\"Scratch Assay: Con v cKO Dir_Ratio\", xaxis_title=\"Time (min)\", yaxis_title=\"Dir Ratio\", legend_title=\"Genotype\")\n",
    "cKO_dirRatio_fig.show()"
   ]
  },
  {
   "cell_type": "code",
   "execution_count": null,
   "metadata": {},
   "outputs": [],
   "source": [
    "time=[]\n",
    "for i in range(len(cKO_MSD_Mean)):\n",
    "    time.append(i*5)\n",
    "\n",
    "cKO_MSD_fig = go.Figure()\n",
    "\n",
    "cKO_MSD_fig.add_trace(go.Scatter(x= time, y= Con_cKO_MSD.mean(axis=0), name='Con(cKO)', line_color='#000000', error_y=dict(type='data', array = Con_cKO_MSD.sem(axis=1), visible=True)))\n",
    "cKO_MSD_fig.add_trace(go.Scatter(x= time, y= cKO_MSD.mean(axis=0), name='cKO', line_color='#6a0dad', error_y =dict(type='data', array = cKO_MSD.sem(axis=1) , visible=True)))\n",
    "cKO_MSD_fig.update_layout(title=\"Scratch Assay: Con v cKO MSD\", xaxis_title=\"Time (min)\", yaxis_title=\"MSD\", legend_title=\"Genotype\")\n",
    "cKO_MSD_fig.show()"
   ]
  },
  {
   "cell_type": "code",
   "execution_count": null,
   "metadata": {},
   "outputs": [],
   "source": [
    "cKO_DA_fig = go.Figure()\n",
    "\n",
    "cKO_DA_fig.add_trace(go.Scatter(x= time, y= Con_cKO_DA.mean(axis=0)[0:50], name='Con(cKO)', line_color='#000000', error_y=dict(type='data', array = Con_cKO_DA.sem(axis=0), visible=True)))\n",
    "cKO_DA_fig.add_trace(go.Scatter(x= time, y= cKO_DA.mean(axis=0)[0:50], name='cKO', line_color='#6a0dad', error_y =dict(type='data', array = cKO_DA.sem(axis=0) , visible=True)))\n",
    "cKO_DA_fig.update_layout(title=\"Scratch Assay: Con(cKO) v cKO Dir AutoCorr\", xaxis_title=\"Time (min)\", yaxis_title=\"Dir AutoCorr\", legend_title=\"Condition\")\n",
    "cKO_DA_fig.show()"
   ]
  },
  {
   "cell_type": "code",
   "execution_count": null,
   "metadata": {},
   "outputs": [],
   "source": [
    "cKO_VA_fig = go.Figure()\n",
    "\n",
    "cKO_VA_fig.add_trace(go.Scatter(x= time, y= Con_cKO_VA.mean(axis=0), name='Con(cKO)', line_color='#000000', error_y=dict(type='data', array = Con_cKO_VA.sem(axis=0), visible=True)))\n",
    "cKO_VA_fig.add_trace(go.Scatter(x= time, y= cKO_VA.mean(axis=0), name='cKO', line_color='#6a0dad', error_y =dict(type='data', array = cKO_VA.sem(axis=0) , visible=True)))\n",
    "cKO_VA_fig.update_layout(title=\"Scratch Assay: Con(cKO) v cKO Vel AutoCorr\", xaxis_title=\"Time (min)\", yaxis_title=\"Vel Auto\", legend_title=\"Condition\")\n",
    "cKO_VA_fig.show()"
   ]
  },
  {
   "cell_type": "markdown",
   "metadata": {},
   "source": [
    "Single Cell DiPer Analysis QC"
   ]
  },
  {
   "cell_type": "code",
   "execution_count": 56,
   "metadata": {},
   "outputs": [],
   "source": [
    "cKO_single_path = \"F:/SingleCell/2022_01_26_cKO_SS_Microns.xlsm\"\n",
    "GoF_single_path = \"F:/SingleCell/2022_01_28_GoF_SS_Microns.xlsm\"\n",
    "\n",
    "cKO_single_xl = pd.read_excel(cKO_single_path, sheet_name=1, header=None)\n",
    "ConcKO_single_xl = pd.read_excel(cKO_single_path, sheet_name=0, header=None)\n",
    "GoF_single_xl = pd.read_excel(GoF_single_path, sheet_name=1, header=None)\n",
    "ConGoF_single_xl = pd.read_excel(GoF_single_path, sheet_name=0, header=None)"
   ]
  },
  {
   "cell_type": "code",
   "execution_count": 284,
   "metadata": {},
   "outputs": [],
   "source": [
    "all_msd_df = pd.DataFrame(columns =[])\n",
    "all_speed_df = pd.DataFrame(columns =[])\n",
    "all_dir_ratio_df = pd.DataFrame(columns =[])\n",
    "dir_ratio_last = []\n",
    "\n",
    "all_dir_auto = pd.DataFrame(columns =[])\n",
    "all_vel_auto = pd.DataFrame(columns =[])\n",
    "\n",
    "i=0\n",
    "while i<len(cKO_single_xl):\n",
    "    df_1 = cKO_single_xl.iloc[i:(i+200),4:6]\n",
    "    # Calculate track directionality ratio\n",
    "#     track_dir_ratio, dir_ratio_lastpoint = Dir_Ratio(df_1.to_numpy())\n",
    "#     dir_ratio_df = pd.DataFrame(track_dir_ratio)\n",
    "#     all_dir_ratio_df = pd.concat([all_dir_ratio_df, dir_ratio_df], axis=1)\n",
    "#     dir_ratio_last.append(dir_ratio_lastpoint)\n",
    "\n",
    "#     # Calculate track speed\n",
    "#     track_speed = Speed(df_1.to_numpy(), 5)\n",
    "#     speed_df = pd.DataFrame(track_speed)\n",
    "#     all_speed_df = pd.concat([all_speed_df, speed_df], axis=1)\n",
    "\n",
    "#     # Calculate track MSD\n",
    "#     track_MSD = msd_fft(df_1.to_numpy())\n",
    "#     msd_df = pd.DataFrame(track_MSD)\n",
    "#     all_msd_df = pd.concat([all_msd_df, msd_df], axis=1)\n",
    "\n",
    "#     # Calculate velocity correlation\n",
    "#     VelA = vel_auto(df_1.to_numpy(), 5)\n",
    "#     all_vel_auto = pd.concat([all_vel_auto, VelA], axis=0)\n",
    "\n",
    "    # Calculate directional correlation\n",
    "    DirrA = dir_auto(df_1.to_numpy(), 5)\n",
    "    all_dir_auto = pd.concat([all_dir_auto, DirrA], axis=0)\n",
    "    i=i+200"
   ]
  },
  {
   "cell_type": "code",
   "execution_count": 285,
   "metadata": {},
   "outputs": [],
   "source": [
    "#Prefixes= Single_DMSO, Single_Yoda1, Single_Con_cKO, Single_cKO, Single_GoF, Single_Con_GoF\n",
    "\n",
    "# Single_Con_cKO_Speed = all_speed_df\n",
    "# Single_Con_cKO_MSD = all_msd_df\n",
    "# Single_Con_cKO_DirRatio_All = all_dir_ratio_df\n",
    "# Single_Con_cKO_DirRatio_Last = dir_ratio_last\n",
    "Single_cKO_DA = all_dir_auto\n",
    "# Single_Con_cKO_VA = all_vel_auto\n"
   ]
  },
  {
   "cell_type": "code",
   "execution_count": 173,
   "metadata": {},
   "outputs": [
    {
     "data": {
      "text/plain": [
       "DABEST v0.3.1\n",
       "=============\n",
       "             \n",
       "Good afternoon!\n",
       "The current time is Mon Mar 14 15:15:16 2022.\n",
       "\n",
       "The unpaired Cohen's d between Con(cKO) and cKO is 0.605 [95%CI 0.119, 1.04].\n",
       "The p-value of the two-sided permutation t-test is 0.0138. \n",
       "\n",
       "5000 bootstrap samples were taken; the confidence interval is bias-corrected and accelerated.\n",
       "The p-value(s) reported are the likelihood(s) of observing the effect size(s),\n",
       "if the null hypothesis of zero difference is true.\n",
       "For each p-value, 5000 reshuffles of the control and test labels were performed.\n",
       "\n",
       "To get the results of all valid statistical tests, use `.cohens_d.statistical_tests`"
      ]
     },
     "execution_count": 173,
     "metadata": {},
     "output_type": "execute_result"
    }
   ],
   "source": [
    "ConcKO_Speed = Single_Con_cKO_Speed_All\n",
    "cKO_Speed = Single_cKO_Speed_All\n",
    "\n",
    "cKO_Con_Speed = pd.DataFrame(ConcKO_Speed.mean(axis=0))\n",
    "cKO_Test_Speed = pd.DataFrame(cKO_Speed.mean(axis=0))\n",
    "cKO_Test_Speed.rename(columns={0:\"cKO\"},inplace=True)\n",
    "cKO_Con_Speed.rename(columns={0:\"Con(cKO)\"},inplace=True)\n",
    "cKO_Con_Speed.reset_index(inplace=True)\n",
    "cKO_Test_Speed.reset_index(inplace=True)\n",
    "cKO_Speed_Pair = pd.concat([cKO_Con_Speed[\"Con(cKO)\"], cKO_Test_Speed[\"cKO\"]], axis=1)\n",
    "cKO_unpaired_speed = dabest.load(cKO_Speed_Pair, idx=(\"Con(cKO)\", \"cKO\"), resamples=5000)\n",
    "cKO_unpaired_speed.cohens_d"
   ]
  },
  {
   "cell_type": "code",
   "execution_count": 174,
   "metadata": {},
   "outputs": [
    {
     "data": {
      "text/html": [
       "<div>\n",
       "<style scoped>\n",
       "    .dataframe tbody tr th:only-of-type {\n",
       "        vertical-align: middle;\n",
       "    }\n",
       "\n",
       "    .dataframe tbody tr th {\n",
       "        vertical-align: top;\n",
       "    }\n",
       "\n",
       "    .dataframe thead th {\n",
       "        text-align: right;\n",
       "    }\n",
       "</style>\n",
       "<table border=\"1\" class=\"dataframe\">\n",
       "  <thead>\n",
       "    <tr style=\"text-align: right;\">\n",
       "      <th></th>\n",
       "      <th>control</th>\n",
       "      <th>test</th>\n",
       "      <th>control_N</th>\n",
       "      <th>test_N</th>\n",
       "      <th>effect_size</th>\n",
       "      <th>is_paired</th>\n",
       "      <th>difference</th>\n",
       "      <th>ci</th>\n",
       "      <th>bca_low</th>\n",
       "      <th>bca_high</th>\n",
       "      <th>pvalue_permutation</th>\n",
       "      <th>pvalue_welch</th>\n",
       "      <th>statistic_welch</th>\n",
       "      <th>pvalue_students_t</th>\n",
       "      <th>statistic_students_t</th>\n",
       "      <th>pvalue_mann_whitney</th>\n",
       "      <th>statistic_mann_whitney</th>\n",
       "    </tr>\n",
       "  </thead>\n",
       "  <tbody>\n",
       "    <tr>\n",
       "      <th>0</th>\n",
       "      <td>Con(cKO)</td>\n",
       "      <td>cKO</td>\n",
       "      <td>36</td>\n",
       "      <td>33</td>\n",
       "      <td>Cohen's d</td>\n",
       "      <td>False</td>\n",
       "      <td>0.604764</td>\n",
       "      <td>95</td>\n",
       "      <td>0.11883</td>\n",
       "      <td>1.042729</td>\n",
       "      <td>0.0138</td>\n",
       "      <td>0.017954</td>\n",
       "      <td>-2.449877</td>\n",
       "      <td>0.014518</td>\n",
       "      <td>-2.5094</td>\n",
       "      <td>0.080495</td>\n",
       "      <td>448.0</td>\n",
       "    </tr>\n",
       "  </tbody>\n",
       "</table>\n",
       "</div>"
      ],
      "text/plain": [
       "    control test  control_N  test_N effect_size  is_paired  difference  ci  \\\n",
       "0  Con(cKO)  cKO         36      33   Cohen's d      False    0.604764  95   \n",
       "\n",
       "   bca_low  bca_high  pvalue_permutation  pvalue_welch  statistic_welch  \\\n",
       "0  0.11883  1.042729              0.0138      0.017954        -2.449877   \n",
       "\n",
       "   pvalue_students_t  statistic_students_t  pvalue_mann_whitney  \\\n",
       "0           0.014518               -2.5094             0.080495   \n",
       "\n",
       "   statistic_mann_whitney  \n",
       "0                   448.0  "
      ]
     },
     "execution_count": 174,
     "metadata": {},
     "output_type": "execute_result"
    }
   ],
   "source": [
    "cKO_unpaired_speed.cohens_d.statistical_tests"
   ]
  },
  {
   "cell_type": "code",
   "execution_count": 175,
   "metadata": {},
   "outputs": [
    {
     "name": "stderr",
     "output_type": "stream",
     "text": [
      "C:\\ProgramData\\Anaconda3\\lib\\site-packages\\IPython\\core\\events.py:88: UserWarning:\n",
      "\n",
      "This figure includes Axes that are not compatible with tight_layout, so results might be incorrect.\n",
      "\n",
      "C:\\ProgramData\\Anaconda3\\lib\\site-packages\\IPython\\core\\pylabtools.py:125: UserWarning:\n",
      "\n",
      "This figure includes Axes that are not compatible with tight_layout, so results might be incorrect.\n",
      "\n"
     ]
    },
    {
     "data": {
      "image/png": "[encoded data removed]",
      "text/plain": [
       "<Figure size 300x600 with 2 Axes>"
      ]
     },
     "metadata": {
      "needs_background": "light"
     },
     "output_type": "display_data"
    }
   ],
   "source": [
    "color_pal={'Con(cKO)':'black', 'cKO': '#dbb5fd'}\n",
    "cKO_unpaired_speed.cohens_d.plot(swarm_label='Inst. Speed (um/min)',float_contrast=False, custom_palette=color_pal, raw_marker_size=5);"
   ]
  },
  {
   "cell_type": "code",
   "execution_count": 150,
   "metadata": {},
   "outputs": [
    {
     "data": {
      "text/plain": [
       "DABEST v0.3.1\n",
       "=============\n",
       "             \n",
       "Good afternoon!\n",
       "The current time is Mon Mar 14 14:48:47 2022.\n",
       "\n",
       "The unpaired Cohen's d between Con(cKO) and cKO is 0.125 [95%CI -0.372, 0.591].\n",
       "The p-value of the two-sided permutation t-test is 0.607. \n",
       "\n",
       "5000 bootstrap samples were taken; the confidence interval is bias-corrected and accelerated.\n",
       "The p-value(s) reported are the likelihood(s) of observing the effect size(s),\n",
       "if the null hypothesis of zero difference is true.\n",
       "For each p-value, 5000 reshuffles of the control and test labels were performed.\n",
       "\n",
       "To get the results of all valid statistical tests, use `.cohens_d.statistical_tests`"
      ]
     },
     "execution_count": 150,
     "metadata": {},
     "output_type": "execute_result"
    }
   ],
   "source": [
    "cKO_DirRatio_Pair = pd.DataFrame([Single_Con_cKO_DirRatio_Last, Single_cKO_DirRatio_Last])\n",
    "cKO_DirRatio_Pair = cKO_DirRatio_Pair.transpose()\n",
    "cKO_DirRatio_Pair.rename(columns={0:\"Con(cKO)\", 1:\"cKO\"},inplace=True)\n",
    "cKO_unpaired_DirRatio = dabest.load(cKO_DirRatio_Pair, idx=(\"Con(cKO)\", \"cKO\"), resamples=5000)\n",
    "cKO_unpaired_DirRatio.cohens_d"
   ]
  },
  {
   "cell_type": "code",
   "execution_count": 151,
   "metadata": {},
   "outputs": [
    {
     "data": {
      "text/html": [
       "<div>\n",
       "<style scoped>\n",
       "    .dataframe tbody tr th:only-of-type {\n",
       "        vertical-align: middle;\n",
       "    }\n",
       "\n",
       "    .dataframe tbody tr th {\n",
       "        vertical-align: top;\n",
       "    }\n",
       "\n",
       "    .dataframe thead th {\n",
       "        text-align: right;\n",
       "    }\n",
       "</style>\n",
       "<table border=\"1\" class=\"dataframe\">\n",
       "  <thead>\n",
       "    <tr style=\"text-align: right;\">\n",
       "      <th></th>\n",
       "      <th>control</th>\n",
       "      <th>test</th>\n",
       "      <th>control_N</th>\n",
       "      <th>test_N</th>\n",
       "      <th>effect_size</th>\n",
       "      <th>is_paired</th>\n",
       "      <th>difference</th>\n",
       "      <th>ci</th>\n",
       "      <th>bca_low</th>\n",
       "      <th>bca_high</th>\n",
       "      <th>pvalue_permutation</th>\n",
       "      <th>pvalue_welch</th>\n",
       "      <th>statistic_welch</th>\n",
       "      <th>pvalue_students_t</th>\n",
       "      <th>statistic_students_t</th>\n",
       "      <th>pvalue_mann_whitney</th>\n",
       "      <th>statistic_mann_whitney</th>\n",
       "    </tr>\n",
       "  </thead>\n",
       "  <tbody>\n",
       "    <tr>\n",
       "      <th>0</th>\n",
       "      <td>Con(cKO)</td>\n",
       "      <td>cKO</td>\n",
       "      <td>36</td>\n",
       "      <td>33</td>\n",
       "      <td>Cohen's d</td>\n",
       "      <td>False</td>\n",
       "      <td>0.12454</td>\n",
       "      <td>95</td>\n",
       "      <td>-0.372477</td>\n",
       "      <td>0.591342</td>\n",
       "      <td>0.607</td>\n",
       "      <td>0.612478</td>\n",
       "      <td>-0.509329</td>\n",
       "      <td>0.607023</td>\n",
       "      <td>-0.516763</td>\n",
       "      <td>0.7962</td>\n",
       "      <td>572.0</td>\n",
       "    </tr>\n",
       "  </tbody>\n",
       "</table>\n",
       "</div>"
      ],
      "text/plain": [
       "    control test  control_N  test_N effect_size  is_paired  difference  ci  \\\n",
       "0  Con(cKO)  cKO         36      33   Cohen's d      False     0.12454  95   \n",
       "\n",
       "    bca_low  bca_high  pvalue_permutation  pvalue_welch  statistic_welch  \\\n",
       "0 -0.372477  0.591342               0.607      0.612478        -0.509329   \n",
       "\n",
       "   pvalue_students_t  statistic_students_t  pvalue_mann_whitney  \\\n",
       "0           0.607023             -0.516763               0.7962   \n",
       "\n",
       "   statistic_mann_whitney  \n",
       "0                   572.0  "
      ]
     },
     "execution_count": 151,
     "metadata": {},
     "output_type": "execute_result"
    }
   ],
   "source": [
    "cKO_unpaired_DirRatio.cohens_d.statistical_tests"
   ]
  },
  {
   "cell_type": "code",
   "execution_count": 153,
   "metadata": {},
   "outputs": [
    {
     "name": "stderr",
     "output_type": "stream",
     "text": [
      "C:\\ProgramData\\Anaconda3\\lib\\site-packages\\IPython\\core\\events.py:88: UserWarning:\n",
      "\n",
      "This figure includes Axes that are not compatible with tight_layout, so results might be incorrect.\n",
      "\n",
      "C:\\ProgramData\\Anaconda3\\lib\\site-packages\\IPython\\core\\pylabtools.py:125: UserWarning:\n",
      "\n",
      "This figure includes Axes that are not compatible with tight_layout, so results might be incorrect.\n",
      "\n"
     ]
    },
    {
     "data": {
      "image/png": "[encoded data removed]",
      "text/plain": [
       "<Figure size 300x600 with 2 Axes>"
      ]
     },
     "metadata": {
      "needs_background": "light"
     },
     "output_type": "display_data"
    }
   ],
   "source": [
    "color_pal={'Con(cKO)':'black', 'cKO': '#dbb5fd'}\n",
    "cKO_unpaired_DirRatio.cohens_d.plot(swarm_label='Inst. Speed (um/min)',float_contrast=False, custom_palette=color_pal, raw_marker_size=5);"
   ]
  },
  {
   "cell_type": "code",
   "execution_count": 181,
   "metadata": {},
   "outputs": [
    {
     "data": {
      "application/vnd.plotly.v1+json": {
       "config": {
        "plotlyServerURL": "https://plot.ly"
       },
       "data": [
        {
         "error_y": {
          "array": [
           0,
           0.05163542109648352,
           0.04610713651041758,
           0.04270108741425001,
           0.03862339699860012,
           0.03464216041109361,
           0.034286489499902366,
           0.030851942533990952,
           0.028461682890647485,
           0.03259642784888893,
           0.032453894242572966,
           0.03156015069001542,
           0.03183671192844562,
           0.03334114989855431,
           0.034210452255670716,
           0.037268731182973455,
           0.037846021145669116,
           0.03583768543899067,
           0.03824419136131484,
           0.03729935453724564,
           0.03697304564417355,
           0.03562026825482271,
           0.03334462076484507,
           0.03363637502187417,
           0.03382388722915709,
           0.03423925859911847,
           0.03398395451979551,
           0.0337750968111857,
           0.03406502239936978,
           0.03346930330395383,
           0.0328777888067572,
           0.03305436658021862,
           0.033209219997927225,
           0.031607076177645285,
           0.02971456778990676,
           0.030674145839831274,
           0.030803343355850082,
           0.031098620305753517,
           0.030841362636630728,
           0.03159434173348581,
           0.03168942471871109,
           0.03136759467335328,
           0.031246282064247424,
           0.03158874576651371,
           0.03190167815195239,
           0.031566025903675056,
           0.03214998323935508,
           0.032304008086171516,
           0.0320708171086782,
           0.03204771744050554,
           0.031008008211829526,
           0.030769865249424332,
           0.030906985581181715,
           0.030066263866223727,
           0.02968933928989097,
           0.02946043062264658,
           0.029592648291795226,
           0.029531248097226823,
           0.029305900971916456,
           0.02893591484687781,
           0.029624448409486633,
           0.02897814500131068,
           0.029297248324592004,
           0.02881589712029665,
           0.02818886296445262,
           0.02741519662667695,
           0.02684214585442901,
           0.026813748597313156,
           0.027421662011236803,
           0.02808659646073627,
           0.027990469135527395,
           0.028010948122144986,
           0.027913214536502834,
           0.02782738588184763,
           0.02802405938063481,
           0.027689863677917745,
           0.02779203475935948,
           0.02813934374343952,
           0.028559504735719683,
           0.029151779224542488,
           0.029440535844036036,
           0.02917570009025304,
           0.029236004113881647,
           0.02951796605461951,
           0.029257708366923683,
           0.02961387955224656,
           0.029319733760756292,
           0.029521306761702514,
           0.029297954895977377,
           0.029410126932695405,
           0.029220840555100772,
           0.028946051951660053,
           0.028326000486532055,
           0.0284211380956876,
           0.02820066405665694,
           0.028074017550795246,
           0.02810074333950274,
           0.028117489824893663,
           0.028059091303790473,
           0.028002920878709283,
           0.028393408026332695,
           0.028397947749860597,
           0.02862913260225544,
           0.02846316040441191,
           0.02883719636185768,
           0.029130339301215166,
           0.029012545757299394,
           0.02883038890298949,
           0.02888244386681489,
           0.028649414204927406,
           0.02892857657516304,
           0.028580724425155676,
           0.028916115042467022,
           0.028647035812349956,
           0.028318402555442615,
           0.028359001740798178,
           0.02814407684024892,
           0.028307219929657488,
           0.028504221138717426,
           0.028303405384850464,
           0.028176031981218912,
           0.02802659654769187,
           0.027718240233754295,
           0.027861617249972548,
           0.027172059116724632,
           0.027209772062980492,
           0.027157347603902374,
           0.02693522725379727,
           0.02711305584117145,
           0.027135709209718622,
           0.027374723321279725,
           0.027490248012824067,
           0.027356899542178542,
           0.027189377293555538,
           0.027109814677624373,
           0.027071677303079033,
           0.026951725794536238,
           0.026710267991874693,
           0.026417614805847738,
           0.026246592459833854,
           0.02619834253409835,
           0.025878818984758575,
           0.025412813905922465,
           0.025112845769820258,
           0.025256188144402874,
           0.025159104861358417,
           0.024983983988434374,
           0.024983488534571902,
           0.02485497765086443,
           0.024588287306083405,
           0.024524622105275645,
           0.024655314861714836,
           0.02460365453852009,
           0.024421578244376522,
           0.024310315002399357,
           0.024175879032473202,
           0.024104919678566022,
           0.024061696209003326,
           0.023821608615202005,
           0.02363131080294527,
           0.023684907195830374,
           0.023539646310635234,
           0.023310393147476783,
           0.02297362510193861,
           0.02283935217320726,
           0.02297247253372921,
           0.02288233732436311,
           0.022950481473810864,
           0.022503181968854858,
           0.022070674462283713,
           0.02217509391646134,
           0.02175979566336138,
           0.021435275605520925,
           0.021312480179813364,
           0.02157098792476508,
           0.02139410902532983,
           0.021420670059817886,
           0.021109995739133778,
           0.020718509931764658,
           0.02061015539221056,
           0.020436173159839126,
           0.02028208497594813,
           0.020142005344726623,
           0.02000624302511106,
           0.020016087053921158,
           0.019940754689732287,
           0.019998647659067424,
           0.019954253617564394,
           0.02015089154000639,
           0.020275626585308012,
           0.02030242608220204,
           0.02016184481304042,
           0.02046828350235207,
           0.02021704834305815,
           0.019845762521003167,
           0.019944212413750783,
           0.019761210210058573,
           0.01986799865689458,
           0.019849438036333177
          ],
          "type": "data",
          "visible": true
         },
         "line": {
          "color": "#000000"
         },
         "name": "Con(cKO)",
         "type": "scatter",
         "x": [
          0,
          5,
          10,
          15,
          20,
          25,
          30,
          35,
          40,
          45,
          50,
          55,
          60,
          65,
          70,
          75,
          80,
          85,
          90,
          95,
          100,
          105,
          110,
          115,
          120,
          125,
          130,
          135,
          140,
          145,
          150,
          155,
          160,
          165,
          170,
          175,
          180,
          185,
          190,
          195,
          200,
          205,
          210,
          215,
          220,
          225,
          230,
          235,
          240,
          245,
          250,
          255,
          260,
          265,
          270,
          275,
          280,
          285,
          290,
          295,
          300,
          305,
          310,
          315,
          320,
          325,
          330,
          335,
          340,
          345,
          350,
          355,
          360,
          365,
          370,
          375,
          380,
          385,
          390,
          395,
          400,
          405,
          410,
          415,
          420,
          425,
          430,
          435,
          440,
          445,
          450,
          455,
          460,
          465,
          470,
          475,
          480,
          485,
          490,
          495,
          500,
          505,
          510,
          515,
          520,
          525,
          530,
          535,
          540,
          545,
          550,
          555,
          560,
          565,
          570,
          575,
          580,
          585,
          590,
          595,
          600,
          605,
          610,
          615,
          620,
          625,
          630,
          635,
          640,
          645,
          650,
          655,
          660,
          665,
          670,
          675,
          680,
          685,
          690,
          695,
          700,
          705,
          710,
          715,
          720,
          725,
          730,
          735,
          740,
          745,
          750,
          755,
          760,
          765,
          770,
          775,
          780,
          785,
          790,
          795,
          800,
          805,
          810,
          815,
          820,
          825,
          830,
          835,
          840,
          845,
          850,
          855,
          860,
          865,
          870,
          875,
          880,
          885,
          890,
          895,
          900,
          905,
          910,
          915,
          920,
          925,
          930,
          935,
          940,
          945,
          950,
          955,
          960,
          965,
          970,
          975,
          980,
          985,
          990
         ],
         "y": [
          0,
          0.6347351765867604,
          0.5638030536968185,
          0.5489514097205741,
          0.45582747491981135,
          0.4880483941871968,
          0.4912140342826302,
          0.4906093226438941,
          0.46480549578561114,
          0.4768175738095064,
          0.5071448510729497,
          0.5058527229897287,
          0.5054549098118395,
          0.4995458343735543,
          0.48752772011678264,
          0.4965102653537168,
          0.4978553677808122,
          0.46684816320386413,
          0.462261967913423,
          0.46002159632403633,
          0.4713432065973034,
          0.4717576473020641,
          0.4672785327163813,
          0.4735644814193409,
          0.4668934198586686,
          0.46782216720191516,
          0.4613967788952731,
          0.45570457393123814,
          0.45539823758909964,
          0.44314783804989183,
          0.43646823980455124,
          0.4227650098789803,
          0.4256842015563033,
          0.430665429979007,
          0.42546450094061283,
          0.4120028890731626,
          0.4145656698734857,
          0.4081147273685045,
          0.4035949726196131,
          0.3998593771349995,
          0.3938043697566564,
          0.3902592679358994,
          0.39077538871900075,
          0.3872906705037687,
          0.3855328679725419,
          0.38714313444981063,
          0.38392169117735714,
          0.3816886059002412,
          0.3800906233015613,
          0.38249077702270723,
          0.3893219399304292,
          0.39469005808455054,
          0.38964574716941,
          0.388133901129071,
          0.38670713333033,
          0.3887246481934296,
          0.3849258827215409,
          0.37739997675441234,
          0.3722238769631836,
          0.370180147190626,
          0.3705530459610665,
          0.36515698752684567,
          0.36487765252657245,
          0.36202650071471054,
          0.3591174138860925,
          0.3595560756919542,
          0.3528964117445032,
          0.34322660195562765,
          0.33785156414114653,
          0.33875023737879123,
          0.3398344549433417,
          0.33807510851298744,
          0.33580767369676073,
          0.3353020706626547,
          0.3387017066245227,
          0.33831383779707597,
          0.33366638932690884,
          0.3297712288565274,
          0.3246678743986806,
          0.3216294673955315,
          0.3213962727100949,
          0.32391379347531074,
          0.32299118330604637,
          0.3200539601183621,
          0.3179405070550541,
          0.31883365700186833,
          0.32088011249086074,
          0.3231455181392199,
          0.32182019142815144,
          0.3228960869570692,
          0.3242282789975468,
          0.32511717098909654,
          0.3250944753179096,
          0.3248598000112507,
          0.3251701150688205,
          0.3240263235230205,
          0.3223005103297998,
          0.32083923310037954,
          0.3201868346292574,
          0.31965571616321253,
          0.3182132736528692,
          0.3166772107001502,
          0.31315276506891293,
          0.3143706690271882,
          0.3147458866282053,
          0.31747750733380187,
          0.31806355863983343,
          0.3198990888489728,
          0.3223592794735523,
          0.3222035884323378,
          0.3224492561757762,
          0.32062438074952476,
          0.31571492879377977,
          0.31546485675292346,
          0.3140348867447863,
          0.3161089050653078,
          0.3113565308042924,
          0.30762588036657457,
          0.30450706229738783,
          0.3035017514100918,
          0.30482933783515614,
          0.30541146326354424,
          0.30350664349468454,
          0.2993977244105222,
          0.30238010597904147,
          0.3017198653098581,
          0.2991332264402182,
          0.2989231764429917,
          0.2971431355468785,
          0.2962890017819707,
          0.29678132966545584,
          0.2958077329514343,
          0.2956379467653459,
          0.29567354287206477,
          0.2945341870881576,
          0.29403000801400525,
          0.29434619590675815,
          0.29311456536255587,
          0.2931627606174809,
          0.29198245009213,
          0.29034021407101895,
          0.28704780285928344,
          0.2851924754358678,
          0.2841214216158828,
          0.2826245063039876,
          0.28202571278815847,
          0.28191573670983266,
          0.2792194423210339,
          0.27798450465914726,
          0.27613237263024987,
          0.27785792331040227,
          0.27576588309082717,
          0.27389621804273223,
          0.272860774728909,
          0.2723327435795945,
          0.2729362153574859,
          0.2720283079759536,
          0.27121381993039473,
          0.2723685250193317,
          0.27130431729203763,
          0.27090644868196007,
          0.26938132575731755,
          0.2686622587654511,
          0.26944039008653164,
          0.2681344638051584,
          0.2693532833810308,
          0.269425168149223,
          0.2693664650928632,
          0.27097817038069394,
          0.2694876528977267,
          0.2694058176380116,
          0.267882713253736,
          0.26581802643475416,
          0.2638806713232009,
          0.2628529767549587,
          0.262127558914129,
          0.2630377300004473,
          0.2631541211966395,
          0.2598810710422671,
          0.2588519836876705,
          0.25779772503247533,
          0.25775916187246334,
          0.25649678011302035,
          0.25544292967318205,
          0.2568818251435682,
          0.2571852192967524,
          0.25888782970605556,
          0.25836713445289605,
          0.2567847482710182,
          0.25667958782335776,
          0.2560064233511783,
          0.2550732279611271,
          0.256060215602762,
          0.2573503710792704,
          0.25773619569967254,
          0.258351173599963,
          0.25765496610721095,
          0.25715989764940983,
          0.2563417830868875
         ]
        },
        {
         "error_y": {
          "array": [
           0,
           0.045655746565661015,
           0.04148900808099414,
           0.036705208676688826,
           0.03936423867958192,
           0.04212354786048153,
           0.044939783475818326,
           0.0404026977287093,
           0.03984290539709344,
           0.036746130752674896,
           0.03469366590770864,
           0.03641154124510169,
           0.036848347601050366,
           0.03877252942050845,
           0.03788137896559778,
           0.03818886874424408,
           0.0385412067894258,
           0.038705906025837976,
           0.039105939259827374,
           0.04198851624502238,
           0.04218647387263764,
           0.039939251244937156,
           0.03952269748269493,
           0.03862368333915036,
           0.03606269982984884,
           0.035989121718367885,
           0.03768964262992297,
           0.03824843971166861,
           0.03801576873793158,
           0.039088345395701295,
           0.03985034405373531,
           0.03853380513870881,
           0.038668908895832015,
           0.03931676858930025,
           0.039325483720532066,
           0.03929737346110255,
           0.03825052759886925,
           0.03825508836159396,
           0.037941583410835436,
           0.0379727775782405,
           0.037711237407539705,
           0.038500508499281424,
           0.03871870170367908,
           0.039059864743866725,
           0.037164689733911405,
           0.03713647701893496,
           0.03752176956660319,
           0.03692465532797082,
           0.037081920882713566,
           0.036249479833168605,
           0.037149621730480836,
           0.037576155207003685,
           0.037406513861760415,
           0.037861777655845474,
           0.03775522763260715,
           0.03797140450162347,
           0.03803444673270787,
           0.03831433454518708,
           0.03827703909740605,
           0.038273141363179664,
           0.037817004671121354,
           0.03781816222623686,
           0.03779826355319389,
           0.0373775328233262,
           0.037125833615035006,
           0.03721437160961559,
           0.03695945664554782,
           0.0371309034788036,
           0.03723707299419307,
           0.03687172928781519,
           0.036554876557786505,
           0.03672091782587225,
           0.036454179441022264,
           0.036356692977918756,
           0.035686689913454576,
           0.03580973439254451,
           0.035372138539516734,
           0.03516277581516411,
           0.03510655361462364,
           0.035112827217273074,
           0.03545626854635589,
           0.03561020684926148,
           0.035784626780753566,
           0.03593823059557582,
           0.03559236688026286,
           0.035612736430976594,
           0.03558195716616582,
           0.03527086995135687,
           0.035202926304391396,
           0.034908090838755186,
           0.03475132887374106,
           0.03444869207696421,
           0.03420214178126553,
           0.03414270006479298,
           0.033812891750714454,
           0.03354988669454295,
           0.03392412742591593,
           0.033747258037932146,
           0.03372932572255323,
           0.03375442685048146,
           0.03331539266478779,
           0.03288884181915508,
           0.032226114919540604,
           0.031886138358418,
           0.03103328418978438,
           0.030766034834575556,
           0.03071591423674538,
           0.030682551480886684,
           0.030053530476530036,
           0.029938301671576243,
           0.029760018269659405,
           0.029335606871797797,
           0.029554064420224485,
           0.028915666843996348,
           0.029027073753128955,
           0.028809579775573975,
           0.028491117535208398,
           0.02845261039360459,
           0.028197609756991055,
           0.028074653071683803,
           0.02783214956469238,
           0.02780850551556343,
           0.027715578473192545,
           0.027869102152848015,
           0.02793132094027421,
           0.028138605934609467,
           0.02817049771187603,
           0.027718892762431835,
           0.027801248168945233,
           0.027956885265736208,
           0.027883889131633907,
           0.027667685619757694,
           0.027680499956408332,
           0.0278400415557138,
           0.02791753336257793,
           0.027908560150491892,
           0.027751452681156974,
           0.027693869550900793,
           0.02774454759364889,
           0.02757963171556821,
           0.027869006648985166,
           0.02782907903874422,
           0.027969595685074882,
           0.027992022640466303,
           0.02784789652896768,
           0.027992806107605236,
           0.027829756259016708,
           0.02777030732198281,
           0.02801302742292565,
           0.02801945805247016,
           0.028086573694934332,
           0.027581354273900856,
           0.027587352082225274,
           0.02751290287231109,
           0.02755879249608635,
           0.027541414167996832,
           0.02805989676389894,
           0.0279416518558609,
           0.028131711983386477,
           0.02801106890573322,
           0.027761103722730236,
           0.02811406958796987,
           0.02813141567375412,
           0.02818364709127659,
           0.028492985725045297,
           0.028416081895952437,
           0.028575589798586747,
           0.02862156117759313,
           0.0288928244809809,
           0.02870919593033162,
           0.028724017435047967,
           0.028901724628803704,
           0.02895155152942535,
           0.029140095192112685,
           0.028994324566301546,
           0.028739861409938044,
           0.02871769336272041,
           0.028267619982271088,
           0.028539376406182582,
           0.028563865328898975,
           0.028579562432737408,
           0.028283672991955493,
           0.028303032354326057,
           0.028354057140654993,
           0.02818454867841653,
           0.028364695582026925,
           0.028438510776870186,
           0.028478043598337045,
           0.028705555085724872,
           0.028589589302677753,
           0.028720276860478157,
           0.0288416515221211,
           0.028825299510287387,
           0.02864245542888,
           0.028663995381703684,
           0.0287037722824282,
           0.028815279764418944,
           0.02902940364753012,
           0.029153988590185923
          ],
          "type": "data",
          "visible": true
         },
         "line": {
          "color": "#6a0dad"
         },
         "name": "cKO",
         "type": "scatter",
         "x": [
          0,
          5,
          10,
          15,
          20,
          25,
          30,
          35,
          40,
          45,
          50,
          55,
          60,
          65,
          70,
          75,
          80,
          85,
          90,
          95,
          100,
          105,
          110,
          115,
          120,
          125,
          130,
          135,
          140,
          145,
          150,
          155,
          160,
          165,
          170,
          175,
          180,
          185,
          190,
          195,
          200,
          205,
          210,
          215,
          220,
          225,
          230,
          235,
          240,
          245,
          250,
          255,
          260,
          265,
          270,
          275,
          280,
          285,
          290,
          295,
          300,
          305,
          310,
          315,
          320,
          325,
          330,
          335,
          340,
          345,
          350,
          355,
          360,
          365,
          370,
          375,
          380,
          385,
          390,
          395,
          400,
          405,
          410,
          415,
          420,
          425,
          430,
          435,
          440,
          445,
          450,
          455,
          460,
          465,
          470,
          475,
          480,
          485,
          490,
          495,
          500,
          505,
          510,
          515,
          520,
          525,
          530,
          535,
          540,
          545,
          550,
          555,
          560,
          565,
          570,
          575,
          580,
          585,
          590,
          595,
          600,
          605,
          610,
          615,
          620,
          625,
          630,
          635,
          640,
          645,
          650,
          655,
          660,
          665,
          670,
          675,
          680,
          685,
          690,
          695,
          700,
          705,
          710,
          715,
          720,
          725,
          730,
          735,
          740,
          745,
          750,
          755,
          760,
          765,
          770,
          775,
          780,
          785,
          790,
          795,
          800,
          805,
          810,
          815,
          820,
          825,
          830,
          835,
          840,
          845,
          850,
          855,
          860,
          865,
          870,
          875,
          880,
          885,
          890,
          895,
          900,
          905,
          910,
          915,
          920,
          925,
          930,
          935,
          940,
          945,
          950,
          955,
          960,
          965,
          970,
          975,
          980,
          985,
          990
         ],
         "y": [
          0,
          0.49591769954698783,
          0.5234490726717923,
          0.6047609870712842,
          0.5460184370301083,
          0.5729362037905009,
          0.5624160233522039,
          0.557128219239276,
          0.5665849507965529,
          0.5472575612374856,
          0.5349071031185278,
          0.5234667448669467,
          0.5169108539311462,
          0.5083455223921294,
          0.515681603454064,
          0.5222317757805671,
          0.5210110753962568,
          0.5138622096077804,
          0.505501059445293,
          0.4893562409207571,
          0.48963506233075926,
          0.5035280318202152,
          0.5052663648533663,
          0.5125757872870941,
          0.5128927680500102,
          0.5288065779144446,
          0.5200104068485858,
          0.5122275738227287,
          0.5109821416848067,
          0.5053093320822821,
          0.49752451392446007,
          0.5125760957459526,
          0.509130160966802,
          0.5076067746576167,
          0.5016561814885705,
          0.5022055189744816,
          0.5007259741448494,
          0.5026885074386014,
          0.49858036392991845,
          0.4943869596512328,
          0.4965344287093525,
          0.4933012079646974,
          0.48158117860414074,
          0.48017182005317377,
          0.47343765548745126,
          0.46841944438492544,
          0.46515484179486016,
          0.46563133496527165,
          0.4603595757748095,
          0.4632831597472949,
          0.45561245205431844,
          0.45829541637151017,
          0.4570981807264443,
          0.4602871650120234,
          0.45524014968345394,
          0.45369422278170235,
          0.4523713180187225,
          0.4493412474069743,
          0.44784641308644435,
          0.44321440642393173,
          0.4433858829796488,
          0.4405318801907162,
          0.43471063726395126,
          0.4338449656357421,
          0.4319038956267227,
          0.4345966432218832,
          0.43464962479893005,
          0.43522211017902884,
          0.4340305568817414,
          0.4342645872805019,
          0.4321058806300647,
          0.4302693305713606,
          0.42840805772700574,
          0.42616702714746324,
          0.4226082462762056,
          0.4234613946089867,
          0.42118751435817514,
          0.4201250607673046,
          0.4186347313792233,
          0.4156343966121349,
          0.4135335263562697,
          0.41288117881328334,
          0.409117502102341,
          0.4076390622753672,
          0.40588053871822,
          0.4009412486118242,
          0.39545642232054423,
          0.38803843018158757,
          0.38318753137195405,
          0.37879675778363975,
          0.3744069599041308,
          0.37298957230188334,
          0.3713806719569992,
          0.3697351764446228,
          0.36636701198751037,
          0.36488844894018196,
          0.3625133759051027,
          0.35977153049586763,
          0.35655818238514375,
          0.35107951015514666,
          0.34916321572244924,
          0.3463435988271989,
          0.34311399071248344,
          0.33874868493732224,
          0.3404242310626091,
          0.34191718697633444,
          0.34171815994255494,
          0.34237694533117125,
          0.3397833538446187,
          0.34325637554651894,
          0.3398629282575214,
          0.33525103233071096,
          0.3352159650465015,
          0.33504209671173485,
          0.33542208609074475,
          0.3369985427770849,
          0.33731214055889214,
          0.33520005789901175,
          0.33593543563828066,
          0.3357784065555424,
          0.3345324484591292,
          0.33507666927623875,
          0.3348695944427744,
          0.33572389656746854,
          0.33451056447644323,
          0.33429380876973663,
          0.3327273797363118,
          0.33002671048686305,
          0.3293842056073547,
          0.32873029711982565,
          0.3302551394085509,
          0.3306288182607961,
          0.33003034758593847,
          0.33068382317519107,
          0.3285109368370047,
          0.32869895880859673,
          0.3268717249858353,
          0.32742650430635667,
          0.32623778403437703,
          0.3245035229653033,
          0.3211786622536053,
          0.32167671860336594,
          0.3203015638686614,
          0.31868612222980897,
          0.31898053931971243,
          0.31774311544233774,
          0.3200469559761849,
          0.31919931099577736,
          0.3170955376954727,
          0.3168194595697263,
          0.31602700705264086,
          0.3133504836362472,
          0.3124992909214475,
          0.310500707790113,
          0.30994430473128776,
          0.3074832921344956,
          0.30528237352889054,
          0.3043861291389518,
          0.30497802481054515,
          0.30384485166462566,
          0.30269029358829264,
          0.30254388649836816,
          0.3024542147577386,
          0.3003381112210766,
          0.2998239924879703,
          0.29933100615668357,
          0.29870805889146596,
          0.29721806842752285,
          0.2958859354205283,
          0.2956743276711357,
          0.29508317631792325,
          0.29476909671755974,
          0.29456421266529825,
          0.2929144926273259,
          0.29290880079432563,
          0.29312108934025954,
          0.2934654105238109,
          0.29124874022434644,
          0.2935146215673595,
          0.2925771724503601,
          0.29132778616499266,
          0.29080134266638624,
          0.29135397232866705,
          0.2909472391198804,
          0.29143883068221155,
          0.2912762082353791,
          0.2911894960277652,
          0.29128652825726936,
          0.2907211529644117,
          0.28947757796524615,
          0.28820003045762627,
          0.28599550072315627,
          0.2831337416634492,
          0.28037986265645365,
          0.2788569882158969,
          0.27788608406649196,
          0.2765425038583095,
          0.27536571333919807,
          0.2743056985648602
         ]
        }
       ],
       "layout": {
        "legend": {
         "title": {
          "text": "Genotype"
         }
        },
        "template": {
         "data": {
          "bar": [
           {
            "error_x": {
             "color": "#2a3f5f"
            },
            "error_y": {
             "color": "#2a3f5f"
            },
            "marker": {
             "line": {
              "color": "#E5ECF6",
              "width": 0.5
             },
             "pattern": {
              "fillmode": "overlay",
              "size": 10,
              "solidity": 0.2
             }
            },
            "type": "bar"
           }
          ],
          "barpolar": [
           {
            "marker": {
             "line": {
              "color": "#E5ECF6",
              "width": 0.5
             },
             "pattern": {
              "fillmode": "overlay",
              "size": 10,
              "solidity": 0.2
             }
            },
            "type": "barpolar"
           }
          ],
          "carpet": [
           {
            "aaxis": {
             "endlinecolor": "#2a3f5f",
             "gridcolor": "white",
             "linecolor": "white",
             "minorgridcolor": "white",
             "startlinecolor": "#2a3f5f"
            },
            "baxis": {
             "endlinecolor": "#2a3f5f",
             "gridcolor": "white",
             "linecolor": "white",
             "minorgridcolor": "white",
             "startlinecolor": "#2a3f5f"
            },
            "type": "carpet"
           }
          ],
          "choropleth": [
           {
            "colorbar": {
             "outlinewidth": 0,
             "ticks": ""
            },
            "type": "choropleth"
           }
          ],
          "contour": [
           {
            "colorbar": {
             "outlinewidth": 0,
             "ticks": ""
            },
            "colorscale": [
             [
              0,
              "#0d0887"
             ],
             [
              0.1111111111111111,
              "#46039f"
             ],
             [
              0.2222222222222222,
              "#7201a8"
             ],
             [
              0.3333333333333333,
              "#9c179e"
             ],
             [
              0.4444444444444444,
              "#bd3786"
             ],
             [
              0.5555555555555556,
              "#d8576b"
             ],
             [
              0.6666666666666666,
              "#ed7953"
             ],
             [
              0.7777777777777778,
              "#fb9f3a"
             ],
             [
              0.8888888888888888,
              "#fdca26"
             ],
             [
              1,
              "#f0f921"
             ]
            ],
            "type": "contour"
           }
          ],
          "contourcarpet": [
           {
            "colorbar": {
             "outlinewidth": 0,
             "ticks": ""
            },
            "type": "contourcarpet"
           }
          ],
          "heatmap": [
           {
            "colorbar": {
             "outlinewidth": 0,
             "ticks": ""
            },
            "colorscale": [
             [
              0,
              "#0d0887"
             ],
             [
              0.1111111111111111,
              "#46039f"
             ],
             [
              0.2222222222222222,
              "#7201a8"
             ],
             [
              0.3333333333333333,
              "#9c179e"
             ],
             [
              0.4444444444444444,
              "#bd3786"
             ],
             [
              0.5555555555555556,
              "#d8576b"
             ],
             [
              0.6666666666666666,
              "#ed7953"
             ],
             [
              0.7777777777777778,
              "#fb9f3a"
             ],
             [
              0.8888888888888888,
              "#fdca26"
             ],
             [
              1,
              "#f0f921"
             ]
            ],
            "type": "heatmap"
           }
          ],
          "heatmapgl": [
           {
            "colorbar": {
             "outlinewidth": 0,
             "ticks": ""
            },
            "colorscale": [
             [
              0,
              "#0d0887"
             ],
             [
              0.1111111111111111,
              "#46039f"
             ],
             [
              0.2222222222222222,
              "#7201a8"
             ],
             [
              0.3333333333333333,
              "#9c179e"
             ],
             [
              0.4444444444444444,
              "#bd3786"
             ],
             [
              0.5555555555555556,
              "#d8576b"
             ],
             [
              0.6666666666666666,
              "#ed7953"
             ],
             [
              0.7777777777777778,
              "#fb9f3a"
             ],
             [
              0.8888888888888888,
              "#fdca26"
             ],
             [
              1,
              "#f0f921"
             ]
            ],
            "type": "heatmapgl"
           }
          ],
          "histogram": [
           {
            "marker": {
             "pattern": {
              "fillmode": "overlay",
              "size": 10,
              "solidity": 0.2
             }
            },
            "type": "histogram"
           }
          ],
          "histogram2d": [
           {
            "colorbar": {
             "outlinewidth": 0,
             "ticks": ""
            },
            "colorscale": [
             [
              0,
              "#0d0887"
             ],
             [
              0.1111111111111111,
              "#46039f"
             ],
             [
              0.2222222222222222,
              "#7201a8"
             ],
             [
              0.3333333333333333,
              "#9c179e"
             ],
             [
              0.4444444444444444,
              "#bd3786"
             ],
             [
              0.5555555555555556,
              "#d8576b"
             ],
             [
              0.6666666666666666,
              "#ed7953"
             ],
             [
              0.7777777777777778,
              "#fb9f3a"
             ],
             [
              0.8888888888888888,
              "#fdca26"
             ],
             [
              1,
              "#f0f921"
             ]
            ],
            "type": "histogram2d"
           }
          ],
          "histogram2dcontour": [
           {
            "colorbar": {
             "outlinewidth": 0,
             "ticks": ""
            },
            "colorscale": [
             [
              0,
              "#0d0887"
             ],
             [
              0.1111111111111111,
              "#46039f"
             ],
             [
              0.2222222222222222,
              "#7201a8"
             ],
             [
              0.3333333333333333,
              "#9c179e"
             ],
             [
              0.4444444444444444,
              "#bd3786"
             ],
             [
              0.5555555555555556,
              "#d8576b"
             ],
             [
              0.6666666666666666,
              "#ed7953"
             ],
             [
              0.7777777777777778,
              "#fb9f3a"
             ],
             [
              0.8888888888888888,
              "#fdca26"
             ],
             [
              1,
              "#f0f921"
             ]
            ],
            "type": "histogram2dcontour"
           }
          ],
          "mesh3d": [
           {
            "colorbar": {
             "outlinewidth": 0,
             "ticks": ""
            },
            "type": "mesh3d"
           }
          ],
          "parcoords": [
           {
            "line": {
             "colorbar": {
              "outlinewidth": 0,
              "ticks": ""
             }
            },
            "type": "parcoords"
           }
          ],
          "pie": [
           {
            "automargin": true,
            "type": "pie"
           }
          ],
          "scatter": [
           {
            "marker": {
             "colorbar": {
              "outlinewidth": 0,
              "ticks": ""
             }
            },
            "type": "scatter"
           }
          ],
          "scatter3d": [
           {
            "line": {
             "colorbar": {
              "outlinewidth": 0,
              "ticks": ""
             }
            },
            "marker": {
             "colorbar": {
              "outlinewidth": 0,
              "ticks": ""
             }
            },
            "type": "scatter3d"
           }
          ],
          "scattercarpet": [
           {
            "marker": {
             "colorbar": {
              "outlinewidth": 0,
              "ticks": ""
             }
            },
            "type": "scattercarpet"
           }
          ],
          "scattergeo": [
           {
            "marker": {
             "colorbar": {
              "outlinewidth": 0,
              "ticks": ""
             }
            },
            "type": "scattergeo"
           }
          ],
          "scattergl": [
           {
            "marker": {
             "colorbar": {
              "outlinewidth": 0,
              "ticks": ""
             }
            },
            "type": "scattergl"
           }
          ],
          "scattermapbox": [
           {
            "marker": {
             "colorbar": {
              "outlinewidth": 0,
              "ticks": ""
             }
            },
            "type": "scattermapbox"
           }
          ],
          "scatterpolar": [
           {
            "marker": {
             "colorbar": {
              "outlinewidth": 0,
              "ticks": ""
             }
            },
            "type": "scatterpolar"
           }
          ],
          "scatterpolargl": [
           {
            "marker": {
             "colorbar": {
              "outlinewidth": 0,
              "ticks": ""
             }
            },
            "type": "scatterpolargl"
           }
          ],
          "scatterternary": [
           {
            "marker": {
             "colorbar": {
              "outlinewidth": 0,
              "ticks": ""
             }
            },
            "type": "scatterternary"
           }
          ],
          "surface": [
           {
            "colorbar": {
             "outlinewidth": 0,
             "ticks": ""
            },
            "colorscale": [
             [
              0,
              "#0d0887"
             ],
             [
              0.1111111111111111,
              "#46039f"
             ],
             [
              0.2222222222222222,
              "#7201a8"
             ],
             [
              0.3333333333333333,
              "#9c179e"
             ],
             [
              0.4444444444444444,
              "#bd3786"
             ],
             [
              0.5555555555555556,
              "#d8576b"
             ],
             [
              0.6666666666666666,
              "#ed7953"
             ],
             [
              0.7777777777777778,
              "#fb9f3a"
             ],
             [
              0.8888888888888888,
              "#fdca26"
             ],
             [
              1,
              "#f0f921"
             ]
            ],
            "type": "surface"
           }
          ],
          "table": [
           {
            "cells": {
             "fill": {
              "color": "#EBF0F8"
             },
             "line": {
              "color": "white"
             }
            },
            "header": {
             "fill": {
              "color": "#C8D4E3"
             },
             "line": {
              "color": "white"
             }
            },
            "type": "table"
           }
          ]
         },
         "layout": {
          "annotationdefaults": {
           "arrowcolor": "#2a3f5f",
           "arrowhead": 0,
           "arrowwidth": 1
          },
          "autotypenumbers": "strict",
          "coloraxis": {
           "colorbar": {
            "outlinewidth": 0,
            "ticks": ""
           }
          },
          "colorscale": {
           "diverging": [
            [
             0,
             "#8e0152"
            ],
            [
             0.1,
             "#c51b7d"
            ],
            [
             0.2,
             "#de77ae"
            ],
            [
             0.3,
             "#f1b6da"
            ],
            [
             0.4,
             "#fde0ef"
            ],
            [
             0.5,
             "#f7f7f7"
            ],
            [
             0.6,
             "#e6f5d0"
            ],
            [
             0.7,
             "#b8e186"
            ],
            [
             0.8,
             "#7fbc41"
            ],
            [
             0.9,
             "#4d9221"
            ],
            [
             1,
             "#276419"
            ]
           ],
           "sequential": [
            [
             0,
             "#0d0887"
            ],
            [
             0.1111111111111111,
             "#46039f"
            ],
            [
             0.2222222222222222,
             "#7201a8"
            ],
            [
             0.3333333333333333,
             "#9c179e"
            ],
            [
             0.4444444444444444,
             "#bd3786"
            ],
            [
             0.5555555555555556,
             "#d8576b"
            ],
            [
             0.6666666666666666,
             "#ed7953"
            ],
            [
             0.7777777777777778,
             "#fb9f3a"
            ],
            [
             0.8888888888888888,
             "#fdca26"
            ],
            [
             1,
             "#f0f921"
            ]
           ],
           "sequentialminus": [
            [
             0,
             "#0d0887"
            ],
            [
             0.1111111111111111,
             "#46039f"
            ],
            [
             0.2222222222222222,
             "#7201a8"
            ],
            [
             0.3333333333333333,
             "#9c179e"
            ],
            [
             0.4444444444444444,
             "#bd3786"
            ],
            [
             0.5555555555555556,
             "#d8576b"
            ],
            [
             0.6666666666666666,
             "#ed7953"
            ],
            [
             0.7777777777777778,
             "#fb9f3a"
            ],
            [
             0.8888888888888888,
             "#fdca26"
            ],
            [
             1,
             "#f0f921"
            ]
           ]
          },
          "colorway": [
           "#636efa",
           "#EF553B",
           "#00cc96",
           "#ab63fa",
           "#FFA15A",
           "#19d3f3",
           "#FF6692",
           "#B6E880",
           "#FF97FF",
           "#FECB52"
          ],
          "font": {
           "color": "#2a3f5f"
          },
          "geo": {
           "bgcolor": "white",
           "lakecolor": "white",
           "landcolor": "#E5ECF6",
           "showlakes": true,
           "showland": true,
           "subunitcolor": "white"
          },
          "hoverlabel": {
           "align": "left"
          },
          "hovermode": "closest",
          "mapbox": {
           "style": "light"
          },
          "paper_bgcolor": "white",
          "plot_bgcolor": "#E5ECF6",
          "polar": {
           "angularaxis": {
            "gridcolor": "white",
            "linecolor": "white",
            "ticks": ""
           },
           "bgcolor": "#E5ECF6",
           "radialaxis": {
            "gridcolor": "white",
            "linecolor": "white",
            "ticks": ""
           }
          },
          "scene": {
           "xaxis": {
            "backgroundcolor": "#E5ECF6",
            "gridcolor": "white",
            "gridwidth": 2,
            "linecolor": "white",
            "showbackground": true,
            "ticks": "",
            "zerolinecolor": "white"
           },
           "yaxis": {
            "backgroundcolor": "#E5ECF6",
            "gridcolor": "white",
            "gridwidth": 2,
            "linecolor": "white",
            "showbackground": true,
            "ticks": "",
            "zerolinecolor": "white"
           },
           "zaxis": {
            "backgroundcolor": "#E5ECF6",
            "gridcolor": "white",
            "gridwidth": 2,
            "linecolor": "white",
            "showbackground": true,
            "ticks": "",
            "zerolinecolor": "white"
           }
          },
          "shapedefaults": {
           "line": {
            "color": "#2a3f5f"
           }
          },
          "ternary": {
           "aaxis": {
            "gridcolor": "white",
            "linecolor": "white",
            "ticks": ""
           },
           "baxis": {
            "gridcolor": "white",
            "linecolor": "white",
            "ticks": ""
           },
           "bgcolor": "#E5ECF6",
           "caxis": {
            "gridcolor": "white",
            "linecolor": "white",
            "ticks": ""
           }
          },
          "title": {
           "x": 0.05
          },
          "xaxis": {
           "automargin": true,
           "gridcolor": "white",
           "linecolor": "white",
           "ticks": "",
           "title": {
            "standoff": 15
           },
           "zerolinecolor": "white",
           "zerolinewidth": 2
          },
          "yaxis": {
           "automargin": true,
           "gridcolor": "white",
           "linecolor": "white",
           "ticks": "",
           "title": {
            "standoff": 15
           },
           "zerolinecolor": "white",
           "zerolinewidth": 2
          }
         }
        },
        "title": {
         "text": "Scratch Assay: Con v cKO Dir_Ratio"
        },
        "xaxis": {
         "title": {
          "text": "Time (min)"
         }
        },
        "yaxis": {
         "title": {
          "text": "Dir Ratio"
         }
        }
       }
      },
      "text/html": [
       "<div>                            <div id=\"eda737d9-2362-4714-836d-887842ff48e7\" class=\"plotly-graph-div\" style=\"height:525px; width:100%;\"></div>            <script type=\"text/javascript\">                require([\"plotly\"], function(Plotly) {                    window.PLOTLYENV=window.PLOTLYENV || {};                                    if (document.getElementById(\"eda737d9-2362-4714-836d-887842ff48e7\")) {                    Plotly.newPlot(                        \"eda737d9-2362-4714-836d-887842ff48e7\",                        [{\"error_y\":{\"array\":[0.0,0.05163542109648352,0.04610713651041758,0.04270108741425001,0.03862339699860012,0.03464216041109361,0.034286489499902366,0.030851942533990952,0.028461682890647485,0.03259642784888893,0.032453894242572966,0.03156015069001542,0.03183671192844562,0.03334114989855431,0.034210452255670716,0.037268731182973455,0.037846021145669116,0.03583768543899067,0.03824419136131484,0.03729935453724564,0.03697304564417355,0.03562026825482271,0.03334462076484507,0.03363637502187417,0.03382388722915709,0.03423925859911847,0.03398395451979551,0.0337750968111857,0.03406502239936978,0.03346930330395383,0.0328777888067572,0.03305436658021862,0.033209219997927225,0.031607076177645285,0.02971456778990676,0.030674145839831274,0.030803343355850082,0.031098620305753517,0.030841362636630728,0.03159434173348581,0.03168942471871109,0.03136759467335328,0.031246282064247424,0.03158874576651371,0.03190167815195239,0.031566025903675056,0.03214998323935508,0.032304008086171516,0.0320708171086782,0.03204771744050554,0.031008008211829526,0.030769865249424332,0.030906985581181715,0.030066263866223727,0.02968933928989097,0.02946043062264658,0.029592648291795226,0.029531248097226823,0.029305900971916456,0.02893591484687781,0.029624448409486633,0.02897814500131068,0.029297248324592004,0.02881589712029665,0.02818886296445262,0.02741519662667695,0.02684214585442901,0.026813748597313156,0.027421662011236803,0.02808659646073627,0.027990469135527395,0.028010948122144986,0.027913214536502834,0.02782738588184763,0.02802405938063481,0.027689863677917745,0.02779203475935948,0.02813934374343952,0.028559504735719683,0.029151779224542488,0.029440535844036036,0.02917570009025304,0.029236004113881647,0.02951796605461951,0.029257708366923683,0.02961387955224656,0.029319733760756292,0.029521306761702514,0.029297954895977377,0.029410126932695405,0.029220840555100772,0.028946051951660053,0.028326000486532055,0.0284211380956876,0.02820066405665694,0.028074017550795246,0.02810074333950274,0.028117489824893663,0.028059091303790473,0.028002920878709283,0.028393408026332695,0.028397947749860597,0.02862913260225544,0.02846316040441191,0.02883719636185768,0.029130339301215166,0.029012545757299394,0.02883038890298949,0.02888244386681489,0.028649414204927406,0.02892857657516304,0.028580724425155676,0.028916115042467022,0.028647035812349956,0.028318402555442615,0.028359001740798178,0.02814407684024892,0.028307219929657488,0.028504221138717426,0.028303405384850464,0.028176031981218912,0.02802659654769187,0.027718240233754295,0.027861617249972548,0.027172059116724632,0.027209772062980492,0.027157347603902374,0.02693522725379727,0.02711305584117145,0.027135709209718622,0.027374723321279725,0.027490248012824067,0.027356899542178542,0.027189377293555538,0.027109814677624373,0.027071677303079033,0.026951725794536238,0.026710267991874693,0.026417614805847738,0.026246592459833854,0.02619834253409835,0.025878818984758575,0.025412813905922465,0.025112845769820258,0.025256188144402874,0.025159104861358417,0.024983983988434374,0.024983488534571902,0.02485497765086443,0.024588287306083405,0.024524622105275645,0.024655314861714836,0.02460365453852009,0.024421578244376522,0.024310315002399357,0.024175879032473202,0.024104919678566022,0.024061696209003326,0.023821608615202005,0.02363131080294527,0.023684907195830374,0.023539646310635234,0.023310393147476783,0.02297362510193861,0.02283935217320726,0.02297247253372921,0.02288233732436311,0.022950481473810864,0.022503181968854858,0.022070674462283713,0.02217509391646134,0.02175979566336138,0.021435275605520925,0.021312480179813364,0.02157098792476508,0.02139410902532983,0.021420670059817886,0.021109995739133778,0.020718509931764658,0.02061015539221056,0.020436173159839126,0.02028208497594813,0.020142005344726623,0.02000624302511106,0.020016087053921158,0.019940754689732287,0.019998647659067424,0.019954253617564394,0.02015089154000639,0.020275626585308012,0.02030242608220204,0.02016184481304042,0.02046828350235207,0.02021704834305815,0.019845762521003167,0.019944212413750783,0.019761210210058573,0.01986799865689458,0.019849438036333177],\"type\":\"data\",\"visible\":true},\"line\":{\"color\":\"#000000\"},\"name\":\"Con(cKO)\",\"type\":\"scatter\",\"x\":[0,5,10,15,20,25,30,35,40,45,50,55,60,65,70,75,80,85,90,95,100,105,110,115,120,125,130,135,140,145,150,155,160,165,170,175,180,185,190,195,200,205,210,215,220,225,230,235,240,245,250,255,260,265,270,275,280,285,290,295,300,305,310,315,320,325,330,335,340,345,350,355,360,365,370,375,380,385,390,395,400,405,410,415,420,425,430,435,440,445,450,455,460,465,470,475,480,485,490,495,500,505,510,515,520,525,530,535,540,545,550,555,560,565,570,575,580,585,590,595,600,605,610,615,620,625,630,635,640,645,650,655,660,665,670,675,680,685,690,695,700,705,710,715,720,725,730,735,740,745,750,755,760,765,770,775,780,785,790,795,800,805,810,815,820,825,830,835,840,845,850,855,860,865,870,875,880,885,890,895,900,905,910,915,920,925,930,935,940,945,950,955,960,965,970,975,980,985,990],\"y\":[0.0,0.6347351765867604,0.5638030536968185,0.5489514097205741,0.45582747491981135,0.4880483941871968,0.4912140342826302,0.4906093226438941,0.46480549578561114,0.4768175738095064,0.5071448510729497,0.5058527229897287,0.5054549098118395,0.4995458343735543,0.48752772011678264,0.4965102653537168,0.4978553677808122,0.46684816320386413,0.462261967913423,0.46002159632403633,0.4713432065973034,0.4717576473020641,0.4672785327163813,0.4735644814193409,0.4668934198586686,0.46782216720191516,0.4613967788952731,0.45570457393123814,0.45539823758909964,0.44314783804989183,0.43646823980455124,0.4227650098789803,0.4256842015563033,0.430665429979007,0.42546450094061283,0.4120028890731626,0.4145656698734857,0.4081147273685045,0.4035949726196131,0.3998593771349995,0.3938043697566564,0.3902592679358994,0.39077538871900075,0.3872906705037687,0.3855328679725419,0.38714313444981063,0.38392169117735714,0.3816886059002412,0.3800906233015613,0.38249077702270723,0.3893219399304292,0.39469005808455054,0.38964574716941,0.388133901129071,0.38670713333033,0.3887246481934296,0.3849258827215409,0.37739997675441234,0.3722238769631836,0.370180147190626,0.3705530459610665,0.36515698752684567,0.36487765252657245,0.36202650071471054,0.3591174138860925,0.3595560756919542,0.3528964117445032,0.34322660195562765,0.33785156414114653,0.33875023737879123,0.3398344549433417,0.33807510851298744,0.33580767369676073,0.3353020706626547,0.3387017066245227,0.33831383779707597,0.33366638932690884,0.3297712288565274,0.3246678743986806,0.3216294673955315,0.3213962727100949,0.32391379347531074,0.32299118330604637,0.3200539601183621,0.3179405070550541,0.31883365700186833,0.32088011249086074,0.3231455181392199,0.32182019142815144,0.3228960869570692,0.3242282789975468,0.32511717098909654,0.3250944753179096,0.3248598000112507,0.3251701150688205,0.3240263235230205,0.3223005103297998,0.32083923310037954,0.3201868346292574,0.31965571616321253,0.3182132736528692,0.3166772107001502,0.31315276506891293,0.3143706690271882,0.3147458866282053,0.31747750733380187,0.31806355863983343,0.3198990888489728,0.3223592794735523,0.3222035884323378,0.3224492561757762,0.32062438074952476,0.31571492879377977,0.31546485675292346,0.3140348867447863,0.3161089050653078,0.3113565308042924,0.30762588036657457,0.30450706229738783,0.3035017514100918,0.30482933783515614,0.30541146326354424,0.30350664349468454,0.2993977244105222,0.30238010597904147,0.3017198653098581,0.2991332264402182,0.2989231764429917,0.2971431355468785,0.2962890017819707,0.29678132966545584,0.2958077329514343,0.2956379467653459,0.29567354287206477,0.2945341870881576,0.29403000801400525,0.29434619590675815,0.29311456536255587,0.2931627606174809,0.29198245009213,0.29034021407101895,0.28704780285928344,0.2851924754358678,0.2841214216158828,0.2826245063039876,0.28202571278815847,0.28191573670983266,0.2792194423210339,0.27798450465914726,0.27613237263024987,0.27785792331040227,0.27576588309082717,0.27389621804273223,0.272860774728909,0.2723327435795945,0.2729362153574859,0.2720283079759536,0.27121381993039473,0.2723685250193317,0.27130431729203763,0.27090644868196007,0.26938132575731755,0.2686622587654511,0.26944039008653164,0.2681344638051584,0.2693532833810308,0.269425168149223,0.2693664650928632,0.27097817038069394,0.2694876528977267,0.2694058176380116,0.267882713253736,0.26581802643475416,0.2638806713232009,0.2628529767549587,0.262127558914129,0.2630377300004473,0.2631541211966395,0.2598810710422671,0.2588519836876705,0.25779772503247533,0.25775916187246334,0.25649678011302035,0.25544292967318205,0.2568818251435682,0.2571852192967524,0.25888782970605556,0.25836713445289605,0.2567847482710182,0.25667958782335776,0.2560064233511783,0.2550732279611271,0.256060215602762,0.2573503710792704,0.25773619569967254,0.258351173599963,0.25765496610721095,0.25715989764940983,0.2563417830868875]},{\"error_y\":{\"array\":[0.0,0.045655746565661015,0.04148900808099414,0.036705208676688826,0.03936423867958192,0.04212354786048153,0.044939783475818326,0.0404026977287093,0.03984290539709344,0.036746130752674896,0.03469366590770864,0.03641154124510169,0.036848347601050366,0.03877252942050845,0.03788137896559778,0.03818886874424408,0.0385412067894258,0.038705906025837976,0.039105939259827374,0.04198851624502238,0.04218647387263764,0.039939251244937156,0.03952269748269493,0.03862368333915036,0.03606269982984884,0.035989121718367885,0.03768964262992297,0.03824843971166861,0.03801576873793158,0.039088345395701295,0.03985034405373531,0.03853380513870881,0.038668908895832015,0.03931676858930025,0.039325483720532066,0.03929737346110255,0.03825052759886925,0.03825508836159396,0.037941583410835436,0.0379727775782405,0.037711237407539705,0.038500508499281424,0.03871870170367908,0.039059864743866725,0.037164689733911405,0.03713647701893496,0.03752176956660319,0.03692465532797082,0.037081920882713566,0.036249479833168605,0.037149621730480836,0.037576155207003685,0.037406513861760415,0.037861777655845474,0.03775522763260715,0.03797140450162347,0.03803444673270787,0.03831433454518708,0.03827703909740605,0.038273141363179664,0.037817004671121354,0.03781816222623686,0.03779826355319389,0.0373775328233262,0.037125833615035006,0.03721437160961559,0.03695945664554782,0.0371309034788036,0.03723707299419307,0.03687172928781519,0.036554876557786505,0.03672091782587225,0.036454179441022264,0.036356692977918756,0.035686689913454576,0.03580973439254451,0.035372138539516734,0.03516277581516411,0.03510655361462364,0.035112827217273074,0.03545626854635589,0.03561020684926148,0.035784626780753566,0.03593823059557582,0.03559236688026286,0.035612736430976594,0.03558195716616582,0.03527086995135687,0.035202926304391396,0.034908090838755186,0.03475132887374106,0.03444869207696421,0.03420214178126553,0.03414270006479298,0.033812891750714454,0.03354988669454295,0.03392412742591593,0.033747258037932146,0.03372932572255323,0.03375442685048146,0.03331539266478779,0.03288884181915508,0.032226114919540604,0.031886138358418,0.03103328418978438,0.030766034834575556,0.03071591423674538,0.030682551480886684,0.030053530476530036,0.029938301671576243,0.029760018269659405,0.029335606871797797,0.029554064420224485,0.028915666843996348,0.029027073753128955,0.028809579775573975,0.028491117535208398,0.02845261039360459,0.028197609756991055,0.028074653071683803,0.02783214956469238,0.02780850551556343,0.027715578473192545,0.027869102152848015,0.02793132094027421,0.028138605934609467,0.02817049771187603,0.027718892762431835,0.027801248168945233,0.027956885265736208,0.027883889131633907,0.027667685619757694,0.027680499956408332,0.0278400415557138,0.02791753336257793,0.027908560150491892,0.027751452681156974,0.027693869550900793,0.02774454759364889,0.02757963171556821,0.027869006648985166,0.02782907903874422,0.027969595685074882,0.027992022640466303,0.02784789652896768,0.027992806107605236,0.027829756259016708,0.02777030732198281,0.02801302742292565,0.02801945805247016,0.028086573694934332,0.027581354273900856,0.027587352082225274,0.02751290287231109,0.02755879249608635,0.027541414167996832,0.02805989676389894,0.0279416518558609,0.028131711983386477,0.02801106890573322,0.027761103722730236,0.02811406958796987,0.02813141567375412,0.02818364709127659,0.028492985725045297,0.028416081895952437,0.028575589798586747,0.02862156117759313,0.0288928244809809,0.02870919593033162,0.028724017435047967,0.028901724628803704,0.02895155152942535,0.029140095192112685,0.028994324566301546,0.028739861409938044,0.02871769336272041,0.028267619982271088,0.028539376406182582,0.028563865328898975,0.028579562432737408,0.028283672991955493,0.028303032354326057,0.028354057140654993,0.02818454867841653,0.028364695582026925,0.028438510776870186,0.028478043598337045,0.028705555085724872,0.028589589302677753,0.028720276860478157,0.0288416515221211,0.028825299510287387,0.02864245542888,0.028663995381703684,0.0287037722824282,0.028815279764418944,0.02902940364753012,0.029153988590185923],\"type\":\"data\",\"visible\":true},\"line\":{\"color\":\"#6a0dad\"},\"name\":\"cKO\",\"type\":\"scatter\",\"x\":[0,5,10,15,20,25,30,35,40,45,50,55,60,65,70,75,80,85,90,95,100,105,110,115,120,125,130,135,140,145,150,155,160,165,170,175,180,185,190,195,200,205,210,215,220,225,230,235,240,245,250,255,260,265,270,275,280,285,290,295,300,305,310,315,320,325,330,335,340,345,350,355,360,365,370,375,380,385,390,395,400,405,410,415,420,425,430,435,440,445,450,455,460,465,470,475,480,485,490,495,500,505,510,515,520,525,530,535,540,545,550,555,560,565,570,575,580,585,590,595,600,605,610,615,620,625,630,635,640,645,650,655,660,665,670,675,680,685,690,695,700,705,710,715,720,725,730,735,740,745,750,755,760,765,770,775,780,785,790,795,800,805,810,815,820,825,830,835,840,845,850,855,860,865,870,875,880,885,890,895,900,905,910,915,920,925,930,935,940,945,950,955,960,965,970,975,980,985,990],\"y\":[0.0,0.49591769954698783,0.5234490726717923,0.6047609870712842,0.5460184370301083,0.5729362037905009,0.5624160233522039,0.557128219239276,0.5665849507965529,0.5472575612374856,0.5349071031185278,0.5234667448669467,0.5169108539311462,0.5083455223921294,0.515681603454064,0.5222317757805671,0.5210110753962568,0.5138622096077804,0.505501059445293,0.4893562409207571,0.48963506233075926,0.5035280318202152,0.5052663648533663,0.5125757872870941,0.5128927680500102,0.5288065779144446,0.5200104068485858,0.5122275738227287,0.5109821416848067,0.5053093320822821,0.49752451392446007,0.5125760957459526,0.509130160966802,0.5076067746576167,0.5016561814885705,0.5022055189744816,0.5007259741448494,0.5026885074386014,0.49858036392991845,0.4943869596512328,0.4965344287093525,0.4933012079646974,0.48158117860414074,0.48017182005317377,0.47343765548745126,0.46841944438492544,0.46515484179486016,0.46563133496527165,0.4603595757748095,0.4632831597472949,0.45561245205431844,0.45829541637151017,0.4570981807264443,0.4602871650120234,0.45524014968345394,0.45369422278170235,0.4523713180187225,0.4493412474069743,0.44784641308644435,0.44321440642393173,0.4433858829796488,0.4405318801907162,0.43471063726395126,0.4338449656357421,0.4319038956267227,0.4345966432218832,0.43464962479893005,0.43522211017902884,0.4340305568817414,0.4342645872805019,0.4321058806300647,0.4302693305713606,0.42840805772700574,0.42616702714746324,0.4226082462762056,0.4234613946089867,0.42118751435817514,0.4201250607673046,0.4186347313792233,0.4156343966121349,0.4135335263562697,0.41288117881328334,0.409117502102341,0.4076390622753672,0.40588053871822,0.4009412486118242,0.39545642232054423,0.38803843018158757,0.38318753137195405,0.37879675778363975,0.3744069599041308,0.37298957230188334,0.3713806719569992,0.3697351764446228,0.36636701198751037,0.36488844894018196,0.3625133759051027,0.35977153049586763,0.35655818238514375,0.35107951015514666,0.34916321572244924,0.3463435988271989,0.34311399071248344,0.33874868493732224,0.3404242310626091,0.34191718697633444,0.34171815994255494,0.34237694533117125,0.3397833538446187,0.34325637554651894,0.3398629282575214,0.33525103233071096,0.3352159650465015,0.33504209671173485,0.33542208609074475,0.3369985427770849,0.33731214055889214,0.33520005789901175,0.33593543563828066,0.3357784065555424,0.3345324484591292,0.33507666927623875,0.3348695944427744,0.33572389656746854,0.33451056447644323,0.33429380876973663,0.3327273797363118,0.33002671048686305,0.3293842056073547,0.32873029711982565,0.3302551394085509,0.3306288182607961,0.33003034758593847,0.33068382317519107,0.3285109368370047,0.32869895880859673,0.3268717249858353,0.32742650430635667,0.32623778403437703,0.3245035229653033,0.3211786622536053,0.32167671860336594,0.3203015638686614,0.31868612222980897,0.31898053931971243,0.31774311544233774,0.3200469559761849,0.31919931099577736,0.3170955376954727,0.3168194595697263,0.31602700705264086,0.3133504836362472,0.3124992909214475,0.310500707790113,0.30994430473128776,0.3074832921344956,0.30528237352889054,0.3043861291389518,0.30497802481054515,0.30384485166462566,0.30269029358829264,0.30254388649836816,0.3024542147577386,0.3003381112210766,0.2998239924879703,0.29933100615668357,0.29870805889146596,0.29721806842752285,0.2958859354205283,0.2956743276711357,0.29508317631792325,0.29476909671755974,0.29456421266529825,0.2929144926273259,0.29290880079432563,0.29312108934025954,0.2934654105238109,0.29124874022434644,0.2935146215673595,0.2925771724503601,0.29132778616499266,0.29080134266638624,0.29135397232866705,0.2909472391198804,0.29143883068221155,0.2912762082353791,0.2911894960277652,0.29128652825726936,0.2907211529644117,0.28947757796524615,0.28820003045762627,0.28599550072315627,0.2831337416634492,0.28037986265645365,0.2788569882158969,0.27788608406649196,0.2765425038583095,0.27536571333919807,0.2743056985648602]}],                        {\"legend\":{\"title\":{\"text\":\"Genotype\"}},\"template\":{\"data\":{\"bar\":[{\"error_x\":{\"color\":\"#2a3f5f\"},\"error_y\":{\"color\":\"#2a3f5f\"},\"marker\":{\"line\":{\"color\":\"#E5ECF6\",\"width\":0.5},\"pattern\":{\"fillmode\":\"overlay\",\"size\":10,\"solidity\":0.2}},\"type\":\"bar\"}],\"barpolar\":[{\"marker\":{\"line\":{\"color\":\"#E5ECF6\",\"width\":0.5},\"pattern\":{\"fillmode\":\"overlay\",\"size\":10,\"solidity\":0.2}},\"type\":\"barpolar\"}],\"carpet\":[{\"aaxis\":{\"endlinecolor\":\"#2a3f5f\",\"gridcolor\":\"white\",\"linecolor\":\"white\",\"minorgridcolor\":\"white\",\"startlinecolor\":\"#2a3f5f\"},\"baxis\":{\"endlinecolor\":\"#2a3f5f\",\"gridcolor\":\"white\",\"linecolor\":\"white\",\"minorgridcolor\":\"white\",\"startlinecolor\":\"#2a3f5f\"},\"type\":\"carpet\"}],\"choropleth\":[{\"colorbar\":{\"outlinewidth\":0,\"ticks\":\"\"},\"type\":\"choropleth\"}],\"contour\":[{\"colorbar\":{\"outlinewidth\":0,\"ticks\":\"\"},\"colorscale\":[[0.0,\"#0d0887\"],[0.1111111111111111,\"#46039f\"],[0.2222222222222222,\"#7201a8\"],[0.3333333333333333,\"#9c179e\"],[0.4444444444444444,\"#bd3786\"],[0.5555555555555556,\"#d8576b\"],[0.6666666666666666,\"#ed7953\"],[0.7777777777777778,\"#fb9f3a\"],[0.8888888888888888,\"#fdca26\"],[1.0,\"#f0f921\"]],\"type\":\"contour\"}],\"contourcarpet\":[{\"colorbar\":{\"outlinewidth\":0,\"ticks\":\"\"},\"type\":\"contourcarpet\"}],\"heatmap\":[{\"colorbar\":{\"outlinewidth\":0,\"ticks\":\"\"},\"colorscale\":[[0.0,\"#0d0887\"],[0.1111111111111111,\"#46039f\"],[0.2222222222222222,\"#7201a8\"],[0.3333333333333333,\"#9c179e\"],[0.4444444444444444,\"#bd3786\"],[0.5555555555555556,\"#d8576b\"],[0.6666666666666666,\"#ed7953\"],[0.7777777777777778,\"#fb9f3a\"],[0.8888888888888888,\"#fdca26\"],[1.0,\"#f0f921\"]],\"type\":\"heatmap\"}],\"heatmapgl\":[{\"colorbar\":{\"outlinewidth\":0,\"ticks\":\"\"},\"colorscale\":[[0.0,\"#0d0887\"],[0.1111111111111111,\"#46039f\"],[0.2222222222222222,\"#7201a8\"],[0.3333333333333333,\"#9c179e\"],[0.4444444444444444,\"#bd3786\"],[0.5555555555555556,\"#d8576b\"],[0.6666666666666666,\"#ed7953\"],[0.7777777777777778,\"#fb9f3a\"],[0.8888888888888888,\"#fdca26\"],[1.0,\"#f0f921\"]],\"type\":\"heatmapgl\"}],\"histogram\":[{\"marker\":{\"pattern\":{\"fillmode\":\"overlay\",\"size\":10,\"solidity\":0.2}},\"type\":\"histogram\"}],\"histogram2d\":[{\"colorbar\":{\"outlinewidth\":0,\"ticks\":\"\"},\"colorscale\":[[0.0,\"#0d0887\"],[0.1111111111111111,\"#46039f\"],[0.2222222222222222,\"#7201a8\"],[0.3333333333333333,\"#9c179e\"],[0.4444444444444444,\"#bd3786\"],[0.5555555555555556,\"#d8576b\"],[0.6666666666666666,\"#ed7953\"],[0.7777777777777778,\"#fb9f3a\"],[0.8888888888888888,\"#fdca26\"],[1.0,\"#f0f921\"]],\"type\":\"histogram2d\"}],\"histogram2dcontour\":[{\"colorbar\":{\"outlinewidth\":0,\"ticks\":\"\"},\"colorscale\":[[0.0,\"#0d0887\"],[0.1111111111111111,\"#46039f\"],[0.2222222222222222,\"#7201a8\"],[0.3333333333333333,\"#9c179e\"],[0.4444444444444444,\"#bd3786\"],[0.5555555555555556,\"#d8576b\"],[0.6666666666666666,\"#ed7953\"],[0.7777777777777778,\"#fb9f3a\"],[0.8888888888888888,\"#fdca26\"],[1.0,\"#f0f921\"]],\"type\":\"histogram2dcontour\"}],\"mesh3d\":[{\"colorbar\":{\"outlinewidth\":0,\"ticks\":\"\"},\"type\":\"mesh3d\"}],\"parcoords\":[{\"line\":{\"colorbar\":{\"outlinewidth\":0,\"ticks\":\"\"}},\"type\":\"parcoords\"}],\"pie\":[{\"automargin\":true,\"type\":\"pie\"}],\"scatter\":[{\"marker\":{\"colorbar\":{\"outlinewidth\":0,\"ticks\":\"\"}},\"type\":\"scatter\"}],\"scatter3d\":[{\"line\":{\"colorbar\":{\"outlinewidth\":0,\"ticks\":\"\"}},\"marker\":{\"colorbar\":{\"outlinewidth\":0,\"ticks\":\"\"}},\"type\":\"scatter3d\"}],\"scattercarpet\":[{\"marker\":{\"colorbar\":{\"outlinewidth\":0,\"ticks\":\"\"}},\"type\":\"scattercarpet\"}],\"scattergeo\":[{\"marker\":{\"colorbar\":{\"outlinewidth\":0,\"ticks\":\"\"}},\"type\":\"scattergeo\"}],\"scattergl\":[{\"marker\":{\"colorbar\":{\"outlinewidth\":0,\"ticks\":\"\"}},\"type\":\"scattergl\"}],\"scattermapbox\":[{\"marker\":{\"colorbar\":{\"outlinewidth\":0,\"ticks\":\"\"}},\"type\":\"scattermapbox\"}],\"scatterpolar\":[{\"marker\":{\"colorbar\":{\"outlinewidth\":0,\"ticks\":\"\"}},\"type\":\"scatterpolar\"}],\"scatterpolargl\":[{\"marker\":{\"colorbar\":{\"outlinewidth\":0,\"ticks\":\"\"}},\"type\":\"scatterpolargl\"}],\"scatterternary\":[{\"marker\":{\"colorbar\":{\"outlinewidth\":0,\"ticks\":\"\"}},\"type\":\"scatterternary\"}],\"surface\":[{\"colorbar\":{\"outlinewidth\":0,\"ticks\":\"\"},\"colorscale\":[[0.0,\"#0d0887\"],[0.1111111111111111,\"#46039f\"],[0.2222222222222222,\"#7201a8\"],[0.3333333333333333,\"#9c179e\"],[0.4444444444444444,\"#bd3786\"],[0.5555555555555556,\"#d8576b\"],[0.6666666666666666,\"#ed7953\"],[0.7777777777777778,\"#fb9f3a\"],[0.8888888888888888,\"#fdca26\"],[1.0,\"#f0f921\"]],\"type\":\"surface\"}],\"table\":[{\"cells\":{\"fill\":{\"color\":\"#EBF0F8\"},\"line\":{\"color\":\"white\"}},\"header\":{\"fill\":{\"color\":\"#C8D4E3\"},\"line\":{\"color\":\"white\"}},\"type\":\"table\"}]},\"layout\":{\"annotationdefaults\":{\"arrowcolor\":\"#2a3f5f\",\"arrowhead\":0,\"arrowwidth\":1},\"autotypenumbers\":\"strict\",\"coloraxis\":{\"colorbar\":{\"outlinewidth\":0,\"ticks\":\"\"}},\"colorscale\":{\"diverging\":[[0,\"#8e0152\"],[0.1,\"#c51b7d\"],[0.2,\"#de77ae\"],[0.3,\"#f1b6da\"],[0.4,\"#fde0ef\"],[0.5,\"#f7f7f7\"],[0.6,\"#e6f5d0\"],[0.7,\"#b8e186\"],[0.8,\"#7fbc41\"],[0.9,\"#4d9221\"],[1,\"#276419\"]],\"sequential\":[[0.0,\"#0d0887\"],[0.1111111111111111,\"#46039f\"],[0.2222222222222222,\"#7201a8\"],[0.3333333333333333,\"#9c179e\"],[0.4444444444444444,\"#bd3786\"],[0.5555555555555556,\"#d8576b\"],[0.6666666666666666,\"#ed7953\"],[0.7777777777777778,\"#fb9f3a\"],[0.8888888888888888,\"#fdca26\"],[1.0,\"#f0f921\"]],\"sequentialminus\":[[0.0,\"#0d0887\"],[0.1111111111111111,\"#46039f\"],[0.2222222222222222,\"#7201a8\"],[0.3333333333333333,\"#9c179e\"],[0.4444444444444444,\"#bd3786\"],[0.5555555555555556,\"#d8576b\"],[0.6666666666666666,\"#ed7953\"],[0.7777777777777778,\"#fb9f3a\"],[0.8888888888888888,\"#fdca26\"],[1.0,\"#f0f921\"]]},\"colorway\":[\"#636efa\",\"#EF553B\",\"#00cc96\",\"#ab63fa\",\"#FFA15A\",\"#19d3f3\",\"#FF6692\",\"#B6E880\",\"#FF97FF\",\"#FECB52\"],\"font\":{\"color\":\"#2a3f5f\"},\"geo\":{\"bgcolor\":\"white\",\"lakecolor\":\"white\",\"landcolor\":\"#E5ECF6\",\"showlakes\":true,\"showland\":true,\"subunitcolor\":\"white\"},\"hoverlabel\":{\"align\":\"left\"},\"hovermode\":\"closest\",\"mapbox\":{\"style\":\"light\"},\"paper_bgcolor\":\"white\",\"plot_bgcolor\":\"#E5ECF6\",\"polar\":{\"angularaxis\":{\"gridcolor\":\"white\",\"linecolor\":\"white\",\"ticks\":\"\"},\"bgcolor\":\"#E5ECF6\",\"radialaxis\":{\"gridcolor\":\"white\",\"linecolor\":\"white\",\"ticks\":\"\"}},\"scene\":{\"xaxis\":{\"backgroundcolor\":\"#E5ECF6\",\"gridcolor\":\"white\",\"gridwidth\":2,\"linecolor\":\"white\",\"showbackground\":true,\"ticks\":\"\",\"zerolinecolor\":\"white\"},\"yaxis\":{\"backgroundcolor\":\"#E5ECF6\",\"gridcolor\":\"white\",\"gridwidth\":2,\"linecolor\":\"white\",\"showbackground\":true,\"ticks\":\"\",\"zerolinecolor\":\"white\"},\"zaxis\":{\"backgroundcolor\":\"#E5ECF6\",\"gridcolor\":\"white\",\"gridwidth\":2,\"linecolor\":\"white\",\"showbackground\":true,\"ticks\":\"\",\"zerolinecolor\":\"white\"}},\"shapedefaults\":{\"line\":{\"color\":\"#2a3f5f\"}},\"ternary\":{\"aaxis\":{\"gridcolor\":\"white\",\"linecolor\":\"white\",\"ticks\":\"\"},\"baxis\":{\"gridcolor\":\"white\",\"linecolor\":\"white\",\"ticks\":\"\"},\"bgcolor\":\"#E5ECF6\",\"caxis\":{\"gridcolor\":\"white\",\"linecolor\":\"white\",\"ticks\":\"\"}},\"title\":{\"x\":0.05},\"xaxis\":{\"automargin\":true,\"gridcolor\":\"white\",\"linecolor\":\"white\",\"ticks\":\"\",\"title\":{\"standoff\":15},\"zerolinecolor\":\"white\",\"zerolinewidth\":2},\"yaxis\":{\"automargin\":true,\"gridcolor\":\"white\",\"linecolor\":\"white\",\"ticks\":\"\",\"title\":{\"standoff\":15},\"zerolinecolor\":\"white\",\"zerolinewidth\":2}}},\"title\":{\"text\":\"Scratch Assay: Con v cKO Dir_Ratio\"},\"xaxis\":{\"title\":{\"text\":\"Time (min)\"}},\"yaxis\":{\"title\":{\"text\":\"Dir Ratio\"}}},                        {\"responsive\": true}                    ).then(function(){\n",
       "                            \n",
       "var gd = document.getElementById('eda737d9-2362-4714-836d-887842ff48e7');\n",
       "var x = new MutationObserver(function (mutations, observer) {{\n",
       "        var display = window.getComputedStyle(gd).display;\n",
       "        if (!display || display === 'none') {{\n",
       "            console.log([gd, 'removed!']);\n",
       "            Plotly.purge(gd);\n",
       "            observer.disconnect();\n",
       "        }}\n",
       "}});\n",
       "\n",
       "// Listen for the removal of the full notebook cells\n",
       "var notebookContainer = gd.closest('#notebook-container');\n",
       "if (notebookContainer) {{\n",
       "    x.observe(notebookContainer, {childList: true});\n",
       "}}\n",
       "\n",
       "// Listen for the clearing of the current output cell\n",
       "var outputEl = gd.closest('.output');\n",
       "if (outputEl) {{\n",
       "    x.observe(outputEl, {childList: true});\n",
       "}}\n",
       "\n",
       "                        })                };                });            </script>        </div>"
      ]
     },
     "metadata": {},
     "output_type": "display_data"
    }
   ],
   "source": [
    "time=[]\n",
    "for i in range(len(Single_cKO_DirRatio_Mean)):\n",
    "    time.append(i*5)\n",
    "\n",
    "cKO_dirRatio_fig = go.Figure()\n",
    "\n",
    "cKO_dirRatio_fig.add_trace(go.Scatter(x= time, y= Single_Con_cKO_DirRatio_All.mean(axis=1), name='Con(cKO)', line_color='#000000', error_y=dict(type='data', array = Single_Con_cKO_DirRatio_All.sem(axis=1), visible=True)))\n",
    "cKO_dirRatio_fig.add_trace(go.Scatter(x= time, y= Single_cKO_DirRatio_All.mean(axis=1), name='cKO', line_color='#6a0dad', error_y =dict(type='data', array = Single_cKO_DirRatio_All.sem(axis=1) , visible=True)))\n",
    "cKO_dirRatio_fig.update_layout(title=\"Scratch Assay: Con v cKO Dir_Ratio\", xaxis_title=\"Time (min)\", yaxis_title=\"Dir Ratio\", legend_title=\"Genotype\")\n",
    "cKO_dirRatio_fig.show()"
   ]
  },
  {
   "cell_type": "code",
   "execution_count": 183,
   "metadata": {},
   "outputs": [
    {
     "data": {
      "application/vnd.plotly.v1+json": {
       "config": {
        "plotlyServerURL": "https://plot.ly"
       },
       "data": [
        {
         "error_y": {
          "array": [
           6.16671252740068e-11,
           4.587265145040733,
           12.846046938707177,
           23.365959262987804,
           35.553609761847255,
           49.15664489207359,
           64.57581522995123,
           81.5588814227245,
           100.22909947233542,
           120.02665546757383,
           140.6292948087548,
           161.88045653576836,
           183.91092699957392,
           206.80349422099792,
           230.3979945887488,
           254.4122734416153,
           278.83618794456135,
           303.72688907538,
           329.4327930673304,
           355.4322809824225,
           381.856699019439,
           408.60487926631595,
           435.9022058737315,
           463.5317912309866,
           492.1105777805197,
           521.281152203659,
           550.9158700811066,
           580.9863825573696,
           611.169949829753,
           641.7061346070262,
           672.4471517962503,
           703.1284773720864,
           733.8375152681183,
           764.0358309341362,
           794.0652892380089,
           823.9928561917791,
           853.7399907502695,
           883.5982332424422,
           912.9095012370836,
           941.8006571223887,
           970.5178526853043,
           999.1206206561601,
           1027.631689344024,
           1056.184477726737,
           1084.435449261034,
           1112.303043634034,
           1139.662863638497,
           1166.7851539428652,
           1193.3369661130505,
           1219.6908413362105,
           1245.553744577533,
           1271.4261202659395,
           1296.7870537815772,
           1322.2160302000623,
           1347.1621371222,
           1372.1452690499357,
           1397.4238769989695,
           1422.4209194592897,
           1449.0014574771023,
           1475.8919233259712,
           1503.2219173167912,
           1531.2176554979144,
           1559.9005792190383,
           1589.6659400156766,
           1619.8871990603177,
           1650.3083052977072,
           1681.0289793514478,
           1712.4224445791897,
           1744.0716083653876,
           1775.580643138517,
           1807.0493645924978,
           1838.4699540304946,
           1869.841780447898,
           1900.7757493202473,
           1930.1587452184785,
           1957.85511839235,
           1985.238886814992,
           2012.2593953048317,
           2039.3638994637295,
           2066.643468733543,
           2094.148239447775,
           2121.8908381671886,
           2150.023481728295,
           2178.2265443225983,
           2206.78155620683,
           2235.353327899103,
           2263.2126821899055,
           2290.9531733418844,
           2318.1312779131204,
           2345.1592419015337,
           2372.26340850364,
           2399.4703546673363,
           2426.850648369897,
           2454.4081095418655,
           2480.099771563904,
           2505.727492566389,
           2531.465897714604,
           2557.539920339616,
           2582.8929351707593,
           2608.7676849881555,
           2635.5412167271047,
           2663.911723767611,
           2693.2354559880164,
           2722.3687049629875,
           2751.668598826883,
           2777.9096399280224,
           2804.831594511865,
           2832.0972662888157,
           2857.625016106253,
           2883.2134547653313,
           2908.5448694284546,
           2933.944358731295,
           2960.895638797047,
           2988.0833673637935,
           3015.35677187078,
           3042.095410300152,
           3069.4668133123964,
           3095.970401320709,
           3120.9093410617843,
           3145.1566270411763,
           3168.1421649986564,
           3189.7538202344913,
           3209.493063893889,
           3229.215154742191,
           3249.622033224898,
           3269.4968444475144,
           3290.3998210431237,
           3313.2239481722677,
           3336.6685202462645,
           3359.535920783924,
           3382.407054596742,
           3405.5603750001105,
           3428.6054507320387,
           3450.849182506894,
           3470.7964604718395,
           3491.5642260636373,
           3514.4636011605985,
           3536.6577200880297,
           3557.234008988435,
           3578.094360228324,
           3599.9909257582253,
           3622.5664264974416,
           3645.941441034851,
           3668.567807479272,
           3688.120852460536,
           3709.5956886291074,
           3729.421638255982,
           3750.889289541345,
           3773.9848732662126,
           3797.9542750689247,
           3820.978216279529,
           3841.9160006950647,
           3862.332722952476,
           3882.380210632396,
           3899.222275557054,
           3913.4286001251853,
           3924.921796275516,
           3938.554020929699,
           3953.9761941427173,
           3968.2533163309363,
           3985.051984594593,
           4004.837175020822,
           4027.272835236215,
           4050.2754264991113,
           4075.1362637238253,
           4100.779423482491,
           4121.436033909643,
           4137.8265459515105,
           4148.230514895916,
           4153.039382788157,
           4159.848487243214,
           4171.092157562568,
           4186.798319380189,
           4205.084521361397,
           4230.6945959706745,
           4252.208791110642,
           4274.468882196439,
           4297.033323893461,
           4313.159368933891,
           4345.629828326342,
           4384.277684509812,
           4428.787533974281,
           4473.779590085823,
           4525.311631509249,
           4587.952855973755,
           4637.608575946703,
           4695.350338281226,
           4761.326095248597,
           4823.421041176223,
           4888.656944178177,
           4953.022283338443,
           5027.217685374827,
           5112.8473100890105,
           5200.218063507506,
           5295.8665016256855,
           5422.6564426862,
           5565.988469856715,
           5705.523623937985,
           5828.221675443703,
           5996.472722565132
          ],
          "type": "data",
          "visible": true
         },
         "line": {
          "color": "#000000"
         },
         "name": "Con(cKO)",
         "type": "scatter",
         "x": [
          0,
          5,
          10,
          15,
          20,
          25,
          30,
          35,
          40,
          45,
          50,
          55,
          60,
          65,
          70,
          75,
          80,
          85,
          90,
          95,
          100,
          105,
          110,
          115,
          120,
          125,
          130,
          135,
          140,
          145,
          150,
          155,
          160,
          165,
          170,
          175,
          180,
          185,
          190,
          195,
          200,
          205,
          210,
          215,
          220,
          225,
          230,
          235,
          240,
          245,
          250,
          255,
          260,
          265,
          270,
          275,
          280,
          285,
          290,
          295,
          300,
          305,
          310,
          315,
          320,
          325,
          330,
          335,
          340,
          345,
          350,
          355,
          360,
          365,
          370,
          375,
          380,
          385,
          390,
          395,
          400,
          405,
          410,
          415,
          420,
          425,
          430,
          435,
          440,
          445,
          450,
          455,
          460,
          465,
          470,
          475,
          480,
          485,
          490,
          495,
          500,
          505,
          510,
          515,
          520,
          525,
          530,
          535,
          540,
          545,
          550,
          555,
          560,
          565,
          570,
          575,
          580,
          585,
          590,
          595,
          600,
          605,
          610,
          615,
          620,
          625,
          630,
          635,
          640,
          645,
          650,
          655,
          660,
          665,
          670,
          675,
          680,
          685,
          690,
          695,
          700,
          705,
          710,
          715,
          720,
          725,
          730,
          735,
          740,
          745,
          750,
          755,
          760,
          765,
          770,
          775,
          780,
          785,
          790,
          795,
          800,
          805,
          810,
          815,
          820,
          825,
          830,
          835,
          840,
          845,
          850,
          855,
          860,
          865,
          870,
          875,
          880,
          885,
          890,
          895,
          900,
          905,
          910,
          915,
          920,
          925,
          930,
          935,
          940,
          945,
          950,
          955,
          960,
          965,
          970,
          975,
          980,
          985,
          990,
          995
         ],
         "y": [
          1.034802860683865e-10,
          33.333654164365726,
          85.85288380952099,
          150.806848013835,
          222.7060485977628,
          302.16799528992203,
          389.0559997107355,
          483.04476890450394,
          583.8523218833111,
          690.5821588791441,
          802.5597017517074,
          920.2982910417842,
          1043.3194594271545,
          1171.7756096847038,
          1303.3651949977566,
          1437.2775039221515,
          1573.7277584641188,
          1712.6858788790803,
          1856.4607512600487,
          2004.0914754412725,
          2155.5284565686015,
          2309.4015589770765,
          2464.68963045232,
          2621.036581186581,
          2779.3917690556136,
          2940.164433269089,
          3104.5700821514993,
          3271.4444178033737,
          3440.198625315356,
          3610.017441109172,
          3783.1896323520114,
          3958.937991077462,
          4137.711732486267,
          4315.597835041379,
          4493.53054595771,
          4672.645577815662,
          4850.777773877515,
          5029.384342243591,
          5207.283605072469,
          5386.3521024512265,
          5565.692358660004,
          5745.268982337015,
          5925.43748392579,
          6104.770270210163,
          6283.444293452401,
          6461.467886860256,
          6637.144998429725,
          6813.685960105743,
          6991.837271630783,
          7168.16326600395,
          7341.449112418191,
          7510.88288311963,
          7676.626228272061,
          7842.806418219452,
          8007.046707813935,
          8170.654381231854,
          8333.477825556245,
          8495.048431406629,
          8658.82070719129,
          8825.912267572832,
          8994.50917436729,
          9164.03735046977,
          9335.122251844428,
          9508.255955520704,
          9682.28838736486,
          9859.3067914172,
          10041.4039292783,
          10227.461599205712,
          10415.71904373373,
          10602.328992767518,
          10787.71596585814,
          10973.68815257735,
          11161.18530573246,
          11348.509126047626,
          11532.257129198219,
          11713.202495974085,
          11894.214421942675,
          12074.549850935166,
          12257.483043831155,
          12443.750900679022,
          12631.273336431484,
          12817.279713933667,
          13004.034474473207,
          13191.445482055886,
          13380.078255039944,
          13570.94951196281,
          13763.69226383469,
          13958.439650614817,
          14152.55724016784,
          14350.118188633742,
          14549.74456123923,
          14750.645168622914,
          14952.99502834172,
          15154.991378323495,
          15355.20340999838,
          15553.32804489974,
          15748.963013687928,
          15946.246952477093,
          16141.048239610369,
          16335.03526194915
         ]
        },
        {
         "error_y": {
          "array": [
           7.914346520528737e-11,
           10.135675409972318,
           29.54581895362821,
           56.81383324304253,
           89.91575216052752,
           126.80649729584897,
           166.45630686211953,
           208.88193274551975,
           254.1481388347264,
           302.7572177585219,
           354.4746024777321,
           409.8224361822715,
           468.1058705100316,
           529.7539206518188,
           594.9891491991793,
           663.5913535136431,
           735.8133806414684,
           810.8953077427926,
           888.2771593195,
           968.218881596221,
           1051.0067797200247,
           1136.550853477369,
           1225.2687396110198,
           1317.967339090511,
           1413.7376763304344,
           1512.559396817342,
           1613.7459234878224,
           1716.6752425662648,
           1821.7310088580111,
           1928.3871956396288,
           2036.2867501153994,
           2145.123320791474,
           2254.2869744476593,
           2364.094761819124,
           2474.5264886302043,
           2585.837120610093,
           2697.260929793757,
           2809.065759990188,
           2920.8831018508554,
           3033.017234384017,
           3144.4519610382777,
           3256.0854384052086,
           3368.692586768291,
           3481.9284307441926,
           3595.916612048264,
           3710.0395669583463,
           3825.081842707254,
           3941.388169389824,
           4058.8015570262455,
           4177.04297434457,
           4295.874215832391,
           4415.757092443175,
           4536.1853766153845,
           4656.304032048718,
           4775.87018327594,
           4894.991010210052,
           5013.340649175265,
           5130.038852827308,
           5244.694440677489,
           5358.922039423351,
           5472.9479266177395,
           5586.553725659198,
           5699.761787804982,
           5812.6918998846695,
           5925.203946047065,
           6038.027496767234,
           6149.834916196263,
           6262.520943434868,
           6375.736195794038,
           6489.334926453169,
           6603.099307710262,
           6717.070967004423,
           6832.731965771974,
           6947.944535344109,
           7062.7505507731685,
           7174.391259892993,
           7285.298813476218,
           7395.804717537159,
           7505.150944085027,
           7613.909341747799,
           7720.802142538107,
           7823.960905852585,
           7923.572647168444,
           8019.185514655361,
           8110.2060514598925,
           8196.91323777109,
           8280.590966510685,
           8362.107803490868,
           8441.949710777839,
           8519.170535811696,
           8594.324072021545,
           8670.254358817117,
           8743.713804581676,
           8814.586722908884,
           8882.741640720387,
           8948.882308265232,
           9012.808290225403,
           9074.755974270565,
           9135.25862759201,
           9194.710574967781,
           9253.317832759205,
           9311.421891166894,
           9367.892781851773,
           9420.532543375512,
           9471.48011115323,
           9521.487138249631,
           9570.677292531715,
           9618.25857088742,
           9663.606522847116,
           9709.693816272878,
           9753.910992740968,
           9794.294206143062,
           9833.122971306491,
           9870.124431237624,
           9905.537301290007,
           9940.183571012689,
           9975.984500153125,
           10012.196887114054,
           10052.122341702609,
           10095.33786650369,
           10140.311324119248,
           10191.279804690677,
           10248.640184802545,
           10311.011392173743,
           10374.025119658147,
           10439.125338372321,
           10508.832510637687,
           10580.457523544077,
           10654.312588575409,
           10729.687707454148,
           10802.628979424495,
           10877.457759229821,
           10957.506045450604,
           11042.257303719001,
           11131.870723063203,
           11225.306195127238,
           11322.526960232693,
           11424.207029095076,
           11529.9689740073,
           11640.227434608878,
           11754.356244079878,
           11870.064854171324,
           11991.081594450816,
           12118.65957889655,
           12249.906173481908,
           12384.603935175575,
           12520.910023338083,
           12656.34035293416,
           12796.469810248607,
           12935.556359334003,
           13076.802866119822,
           13219.402783355275,
           13363.125969201192,
           13512.323162407838,
           13664.538568320719,
           13815.081869239371,
           13964.6423859966,
           14109.13211295688,
           14251.649758592046,
           14389.597633342713,
           14527.075049048708,
           14666.805674752999,
           14808.187436661177,
           14952.240959552259,
           15098.265156004325,
           15215.148016726227,
           15335.983838157268,
           15456.628739317794,
           15579.68755319344,
           15699.214948906489,
           15812.578994048472,
           15925.968728743279,
           16031.882036382363,
           16128.284554553127,
           16218.848190753672,
           16306.142774510434,
           16395.181742837765,
           16482.02882424353,
           16561.849470104975,
           16625.94924581761,
           16683.943269622116,
           16735.37487489582,
           16829.44225343099,
           16926.659845682894,
           17019.339490423594,
           17104.6625626656,
           17184.229304197528,
           17262.836538943666,
           17339.85363120816,
           17396.5939254935,
           17430.541833443673,
           17449.171880470112,
           17486.709550624684,
           17508.14981939716,
           17552.945692638008,
           17619.2684360768,
           17702.171608124438,
           17770.82825377542,
           17841.941817607993,
           17850.337000022595
          ],
          "type": "data",
          "visible": true
         },
         "line": {
          "color": "#6a0dad"
         },
         "name": "cKO",
         "type": "scatter",
         "x": [
          0,
          5,
          10,
          15,
          20,
          25,
          30,
          35,
          40,
          45,
          50,
          55,
          60,
          65,
          70,
          75,
          80,
          85,
          90,
          95,
          100,
          105,
          110,
          115,
          120,
          125,
          130,
          135,
          140,
          145,
          150,
          155,
          160,
          165,
          170,
          175,
          180,
          185,
          190,
          195,
          200,
          205,
          210,
          215,
          220,
          225,
          230,
          235,
          240,
          245,
          250,
          255,
          260,
          265,
          270,
          275,
          280,
          285,
          290,
          295,
          300,
          305,
          310,
          315,
          320,
          325,
          330,
          335,
          340,
          345,
          350,
          355,
          360,
          365,
          370,
          375,
          380,
          385,
          390,
          395,
          400,
          405,
          410,
          415,
          420,
          425,
          430,
          435,
          440,
          445,
          450,
          455,
          460,
          465,
          470,
          475,
          480,
          485,
          490,
          495,
          500,
          505,
          510,
          515,
          520,
          525,
          530,
          535,
          540,
          545,
          550,
          555,
          560,
          565,
          570,
          575,
          580,
          585,
          590,
          595,
          600,
          605,
          610,
          615,
          620,
          625,
          630,
          635,
          640,
          645,
          650,
          655,
          660,
          665,
          670,
          675,
          680,
          685,
          690,
          695,
          700,
          705,
          710,
          715,
          720,
          725,
          730,
          735,
          740,
          745,
          750,
          755,
          760,
          765,
          770,
          775,
          780,
          785,
          790,
          795,
          800,
          805,
          810,
          815,
          820,
          825,
          830,
          835,
          840,
          845,
          850,
          855,
          860,
          865,
          870,
          875,
          880,
          885,
          890,
          895,
          900,
          905,
          910,
          915,
          920,
          925,
          930,
          935,
          940,
          945,
          950,
          955,
          960,
          965,
          970,
          975,
          980,
          985,
          990,
          995
         ],
         "y": [
          2.998576471299836e-11,
          59.720635019868936,
          164.788357109544,
          308.08635996688145,
          479.0627467575621,
          672.1541027701124,
          884.3075035863881,
          1111.645985141804,
          1355.1134524991662,
          1614.2142393773063,
          1886.735590923209,
          2171.1993698796937,
          2465.2410342726735,
          2770.4446061416565,
          3086.1087180965274,
          3413.0290127746534,
          3751.269996321933,
          4101.67960750978,
          4462.676756884492,
          4832.476870155403,
          5212.232791657621,
          5600.999194252908,
          6001.267234943152,
          6415.058390729265,
          6839.431689151194,
          7273.8275959552475,
          7715.452746657401,
          8163.711845531846,
          8620.05481913004,
          9083.163230828643,
          9552.215185221365,
          10025.688875735432,
          10499.778116141068,
          10974.878218027177,
          11453.241877778466,
          11933.460446497082,
          12411.355354076635,
          12889.052216633672,
          13367.582606135697,
          13847.58775177984,
          14327.598951159427,
          14806.66948980325,
          15289.776405082677,
          15776.579013785273,
          16267.042938044478,
          16759.549846163354,
          17252.205231302298,
          17747.791123722207,
          18242.96049887019,
          18738.635967012753,
          19229.282853345267,
          19720.097198131185,
          20207.75446894025,
          20691.026839970724,
          21169.58282161576,
          21641.84930089025,
          22109.953093400727,
          22573.429711442983,
          23028.79928995424,
          23479.08485490173,
          23926.59803993255,
          24368.495141798623,
          24807.867019620455,
          25248.919302030456,
          25687.146275792984,
          26129.300194592433,
          26566.254268863828,
          27004.594291602705,
          27440.8272518148,
          27873.715259782668,
          28302.16176322792,
          28727.146400892107,
          29148.67795659505,
          29569.26060479934,
          29989.123971672503,
          30403.805314596993,
          30819.83821276837,
          31238.29201290486,
          31655.63701186271,
          32077.07118990312,
          32495.480154550463,
          32909.78575334624,
          33317.582368724215,
          33718.83107880218,
          34108.908020581934,
          34493.79132288902,
          34880.411809625366,
          35271.1087523168,
          35665.92631648432,
          36061.82791505947,
          36456.62307654419,
          36861.87491037027,
          37250.5293164728,
          37633.149666245816,
          38015.259129115424,
          38398.55819889471,
          38775.37183232478,
          39143.165438102005,
          39511.47303650432,
          39873.81469788637
         ]
        }
       ],
       "layout": {
        "legend": {
         "title": {
          "text": "Genotype"
         }
        },
        "template": {
         "data": {
          "bar": [
           {
            "error_x": {
             "color": "#2a3f5f"
            },
            "error_y": {
             "color": "#2a3f5f"
            },
            "marker": {
             "line": {
              "color": "#E5ECF6",
              "width": 0.5
             },
             "pattern": {
              "fillmode": "overlay",
              "size": 10,
              "solidity": 0.2
             }
            },
            "type": "bar"
           }
          ],
          "barpolar": [
           {
            "marker": {
             "line": {
              "color": "#E5ECF6",
              "width": 0.5
             },
             "pattern": {
              "fillmode": "overlay",
              "size": 10,
              "solidity": 0.2
             }
            },
            "type": "barpolar"
           }
          ],
          "carpet": [
           {
            "aaxis": {
             "endlinecolor": "#2a3f5f",
             "gridcolor": "white",
             "linecolor": "white",
             "minorgridcolor": "white",
             "startlinecolor": "#2a3f5f"
            },
            "baxis": {
             "endlinecolor": "#2a3f5f",
             "gridcolor": "white",
             "linecolor": "white",
             "minorgridcolor": "white",
             "startlinecolor": "#2a3f5f"
            },
            "type": "carpet"
           }
          ],
          "choropleth": [
           {
            "colorbar": {
             "outlinewidth": 0,
             "ticks": ""
            },
            "type": "choropleth"
           }
          ],
          "contour": [
           {
            "colorbar": {
             "outlinewidth": 0,
             "ticks": ""
            },
            "colorscale": [
             [
              0,
              "#0d0887"
             ],
             [
              0.1111111111111111,
              "#46039f"
             ],
             [
              0.2222222222222222,
              "#7201a8"
             ],
             [
              0.3333333333333333,
              "#9c179e"
             ],
             [
              0.4444444444444444,
              "#bd3786"
             ],
             [
              0.5555555555555556,
              "#d8576b"
             ],
             [
              0.6666666666666666,
              "#ed7953"
             ],
             [
              0.7777777777777778,
              "#fb9f3a"
             ],
             [
              0.8888888888888888,
              "#fdca26"
             ],
             [
              1,
              "#f0f921"
             ]
            ],
            "type": "contour"
           }
          ],
          "contourcarpet": [
           {
            "colorbar": {
             "outlinewidth": 0,
             "ticks": ""
            },
            "type": "contourcarpet"
           }
          ],
          "heatmap": [
           {
            "colorbar": {
             "outlinewidth": 0,
             "ticks": ""
            },
            "colorscale": [
             [
              0,
              "#0d0887"
             ],
             [
              0.1111111111111111,
              "#46039f"
             ],
             [
              0.2222222222222222,
              "#7201a8"
             ],
             [
              0.3333333333333333,
              "#9c179e"
             ],
             [
              0.4444444444444444,
              "#bd3786"
             ],
             [
              0.5555555555555556,
              "#d8576b"
             ],
             [
              0.6666666666666666,
              "#ed7953"
             ],
             [
              0.7777777777777778,
              "#fb9f3a"
             ],
             [
              0.8888888888888888,
              "#fdca26"
             ],
             [
              1,
              "#f0f921"
             ]
            ],
            "type": "heatmap"
           }
          ],
          "heatmapgl": [
           {
            "colorbar": {
             "outlinewidth": 0,
             "ticks": ""
            },
            "colorscale": [
             [
              0,
              "#0d0887"
             ],
             [
              0.1111111111111111,
              "#46039f"
             ],
             [
              0.2222222222222222,
              "#7201a8"
             ],
             [
              0.3333333333333333,
              "#9c179e"
             ],
             [
              0.4444444444444444,
              "#bd3786"
             ],
             [
              0.5555555555555556,
              "#d8576b"
             ],
             [
              0.6666666666666666,
              "#ed7953"
             ],
             [
              0.7777777777777778,
              "#fb9f3a"
             ],
             [
              0.8888888888888888,
              "#fdca26"
             ],
             [
              1,
              "#f0f921"
             ]
            ],
            "type": "heatmapgl"
           }
          ],
          "histogram": [
           {
            "marker": {
             "pattern": {
              "fillmode": "overlay",
              "size": 10,
              "solidity": 0.2
             }
            },
            "type": "histogram"
           }
          ],
          "histogram2d": [
           {
            "colorbar": {
             "outlinewidth": 0,
             "ticks": ""
            },
            "colorscale": [
             [
              0,
              "#0d0887"
             ],
             [
              0.1111111111111111,
              "#46039f"
             ],
             [
              0.2222222222222222,
              "#7201a8"
             ],
             [
              0.3333333333333333,
              "#9c179e"
             ],
             [
              0.4444444444444444,
              "#bd3786"
             ],
             [
              0.5555555555555556,
              "#d8576b"
             ],
             [
              0.6666666666666666,
              "#ed7953"
             ],
             [
              0.7777777777777778,
              "#fb9f3a"
             ],
             [
              0.8888888888888888,
              "#fdca26"
             ],
             [
              1,
              "#f0f921"
             ]
            ],
            "type": "histogram2d"
           }
          ],
          "histogram2dcontour": [
           {
            "colorbar": {
             "outlinewidth": 0,
             "ticks": ""
            },
            "colorscale": [
             [
              0,
              "#0d0887"
             ],
             [
              0.1111111111111111,
              "#46039f"
             ],
             [
              0.2222222222222222,
              "#7201a8"
             ],
             [
              0.3333333333333333,
              "#9c179e"
             ],
             [
              0.4444444444444444,
              "#bd3786"
             ],
             [
              0.5555555555555556,
              "#d8576b"
             ],
             [
              0.6666666666666666,
              "#ed7953"
             ],
             [
              0.7777777777777778,
              "#fb9f3a"
             ],
             [
              0.8888888888888888,
              "#fdca26"
             ],
             [
              1,
              "#f0f921"
             ]
            ],
            "type": "histogram2dcontour"
           }
          ],
          "mesh3d": [
           {
            "colorbar": {
             "outlinewidth": 0,
             "ticks": ""
            },
            "type": "mesh3d"
           }
          ],
          "parcoords": [
           {
            "line": {
             "colorbar": {
              "outlinewidth": 0,
              "ticks": ""
             }
            },
            "type": "parcoords"
           }
          ],
          "pie": [
           {
            "automargin": true,
            "type": "pie"
           }
          ],
          "scatter": [
           {
            "marker": {
             "colorbar": {
              "outlinewidth": 0,
              "ticks": ""
             }
            },
            "type": "scatter"
           }
          ],
          "scatter3d": [
           {
            "line": {
             "colorbar": {
              "outlinewidth": 0,
              "ticks": ""
             }
            },
            "marker": {
             "colorbar": {
              "outlinewidth": 0,
              "ticks": ""
             }
            },
            "type": "scatter3d"
           }
          ],
          "scattercarpet": [
           {
            "marker": {
             "colorbar": {
              "outlinewidth": 0,
              "ticks": ""
             }
            },
            "type": "scattercarpet"
           }
          ],
          "scattergeo": [
           {
            "marker": {
             "colorbar": {
              "outlinewidth": 0,
              "ticks": ""
             }
            },
            "type": "scattergeo"
           }
          ],
          "scattergl": [
           {
            "marker": {
             "colorbar": {
              "outlinewidth": 0,
              "ticks": ""
             }
            },
            "type": "scattergl"
           }
          ],
          "scattermapbox": [
           {
            "marker": {
             "colorbar": {
              "outlinewidth": 0,
              "ticks": ""
             }
            },
            "type": "scattermapbox"
           }
          ],
          "scatterpolar": [
           {
            "marker": {
             "colorbar": {
              "outlinewidth": 0,
              "ticks": ""
             }
            },
            "type": "scatterpolar"
           }
          ],
          "scatterpolargl": [
           {
            "marker": {
             "colorbar": {
              "outlinewidth": 0,
              "ticks": ""
             }
            },
            "type": "scatterpolargl"
           }
          ],
          "scatterternary": [
           {
            "marker": {
             "colorbar": {
              "outlinewidth": 0,
              "ticks": ""
             }
            },
            "type": "scatterternary"
           }
          ],
          "surface": [
           {
            "colorbar": {
             "outlinewidth": 0,
             "ticks": ""
            },
            "colorscale": [
             [
              0,
              "#0d0887"
             ],
             [
              0.1111111111111111,
              "#46039f"
             ],
             [
              0.2222222222222222,
              "#7201a8"
             ],
             [
              0.3333333333333333,
              "#9c179e"
             ],
             [
              0.4444444444444444,
              "#bd3786"
             ],
             [
              0.5555555555555556,
              "#d8576b"
             ],
             [
              0.6666666666666666,
              "#ed7953"
             ],
             [
              0.7777777777777778,
              "#fb9f3a"
             ],
             [
              0.8888888888888888,
              "#fdca26"
             ],
             [
              1,
              "#f0f921"
             ]
            ],
            "type": "surface"
           }
          ],
          "table": [
           {
            "cells": {
             "fill": {
              "color": "#EBF0F8"
             },
             "line": {
              "color": "white"
             }
            },
            "header": {
             "fill": {
              "color": "#C8D4E3"
             },
             "line": {
              "color": "white"
             }
            },
            "type": "table"
           }
          ]
         },
         "layout": {
          "annotationdefaults": {
           "arrowcolor": "#2a3f5f",
           "arrowhead": 0,
           "arrowwidth": 1
          },
          "autotypenumbers": "strict",
          "coloraxis": {
           "colorbar": {
            "outlinewidth": 0,
            "ticks": ""
           }
          },
          "colorscale": {
           "diverging": [
            [
             0,
             "#8e0152"
            ],
            [
             0.1,
             "#c51b7d"
            ],
            [
             0.2,
             "#de77ae"
            ],
            [
             0.3,
             "#f1b6da"
            ],
            [
             0.4,
             "#fde0ef"
            ],
            [
             0.5,
             "#f7f7f7"
            ],
            [
             0.6,
             "#e6f5d0"
            ],
            [
             0.7,
             "#b8e186"
            ],
            [
             0.8,
             "#7fbc41"
            ],
            [
             0.9,
             "#4d9221"
            ],
            [
             1,
             "#276419"
            ]
           ],
           "sequential": [
            [
             0,
             "#0d0887"
            ],
            [
             0.1111111111111111,
             "#46039f"
            ],
            [
             0.2222222222222222,
             "#7201a8"
            ],
            [
             0.3333333333333333,
             "#9c179e"
            ],
            [
             0.4444444444444444,
             "#bd3786"
            ],
            [
             0.5555555555555556,
             "#d8576b"
            ],
            [
             0.6666666666666666,
             "#ed7953"
            ],
            [
             0.7777777777777778,
             "#fb9f3a"
            ],
            [
             0.8888888888888888,
             "#fdca26"
            ],
            [
             1,
             "#f0f921"
            ]
           ],
           "sequentialminus": [
            [
             0,
             "#0d0887"
            ],
            [
             0.1111111111111111,
             "#46039f"
            ],
            [
             0.2222222222222222,
             "#7201a8"
            ],
            [
             0.3333333333333333,
             "#9c179e"
            ],
            [
             0.4444444444444444,
             "#bd3786"
            ],
            [
             0.5555555555555556,
             "#d8576b"
            ],
            [
             0.6666666666666666,
             "#ed7953"
            ],
            [
             0.7777777777777778,
             "#fb9f3a"
            ],
            [
             0.8888888888888888,
             "#fdca26"
            ],
            [
             1,
             "#f0f921"
            ]
           ]
          },
          "colorway": [
           "#636efa",
           "#EF553B",
           "#00cc96",
           "#ab63fa",
           "#FFA15A",
           "#19d3f3",
           "#FF6692",
           "#B6E880",
           "#FF97FF",
           "#FECB52"
          ],
          "font": {
           "color": "#2a3f5f"
          },
          "geo": {
           "bgcolor": "white",
           "lakecolor": "white",
           "landcolor": "#E5ECF6",
           "showlakes": true,
           "showland": true,
           "subunitcolor": "white"
          },
          "hoverlabel": {
           "align": "left"
          },
          "hovermode": "closest",
          "mapbox": {
           "style": "light"
          },
          "paper_bgcolor": "white",
          "plot_bgcolor": "#E5ECF6",
          "polar": {
           "angularaxis": {
            "gridcolor": "white",
            "linecolor": "white",
            "ticks": ""
           },
           "bgcolor": "#E5ECF6",
           "radialaxis": {
            "gridcolor": "white",
            "linecolor": "white",
            "ticks": ""
           }
          },
          "scene": {
           "xaxis": {
            "backgroundcolor": "#E5ECF6",
            "gridcolor": "white",
            "gridwidth": 2,
            "linecolor": "white",
            "showbackground": true,
            "ticks": "",
            "zerolinecolor": "white"
           },
           "yaxis": {
            "backgroundcolor": "#E5ECF6",
            "gridcolor": "white",
            "gridwidth": 2,
            "linecolor": "white",
            "showbackground": true,
            "ticks": "",
            "zerolinecolor": "white"
           },
           "zaxis": {
            "backgroundcolor": "#E5ECF6",
            "gridcolor": "white",
            "gridwidth": 2,
            "linecolor": "white",
            "showbackground": true,
            "ticks": "",
            "zerolinecolor": "white"
           }
          },
          "shapedefaults": {
           "line": {
            "color": "#2a3f5f"
           }
          },
          "ternary": {
           "aaxis": {
            "gridcolor": "white",
            "linecolor": "white",
            "ticks": ""
           },
           "baxis": {
            "gridcolor": "white",
            "linecolor": "white",
            "ticks": ""
           },
           "bgcolor": "#E5ECF6",
           "caxis": {
            "gridcolor": "white",
            "linecolor": "white",
            "ticks": ""
           }
          },
          "title": {
           "x": 0.05
          },
          "xaxis": {
           "automargin": true,
           "gridcolor": "white",
           "linecolor": "white",
           "ticks": "",
           "title": {
            "standoff": 15
           },
           "zerolinecolor": "white",
           "zerolinewidth": 2
          },
          "yaxis": {
           "automargin": true,
           "gridcolor": "white",
           "linecolor": "white",
           "ticks": "",
           "title": {
            "standoff": 15
           },
           "zerolinecolor": "white",
           "zerolinewidth": 2
          }
         }
        },
        "title": {
         "text": "Scratch Assay: Con v cKO MSD"
        },
        "xaxis": {
         "title": {
          "text": "Time (min)"
         }
        },
        "yaxis": {
         "title": {
          "text": "MSD"
         }
        }
       }
      },
      "text/html": [
       "<div>                            <div id=\"7ad58cff-1809-4f5c-b084-b8d7eeac9748\" class=\"plotly-graph-div\" style=\"height:525px; width:100%;\"></div>            <script type=\"text/javascript\">                require([\"plotly\"], function(Plotly) {                    window.PLOTLYENV=window.PLOTLYENV || {};                                    if (document.getElementById(\"7ad58cff-1809-4f5c-b084-b8d7eeac9748\")) {                    Plotly.newPlot(                        \"7ad58cff-1809-4f5c-b084-b8d7eeac9748\",                        [{\"error_y\":{\"array\":[6.16671252740068e-11,4.587265145040733,12.846046938707177,23.365959262987804,35.553609761847255,49.15664489207359,64.57581522995123,81.5588814227245,100.22909947233542,120.02665546757383,140.6292948087548,161.88045653576836,183.91092699957392,206.80349422099792,230.3979945887488,254.4122734416153,278.83618794456135,303.72688907538,329.4327930673304,355.4322809824225,381.856699019439,408.60487926631595,435.9022058737315,463.5317912309866,492.1105777805197,521.281152203659,550.9158700811066,580.9863825573696,611.169949829753,641.7061346070262,672.4471517962503,703.1284773720864,733.8375152681183,764.0358309341362,794.0652892380089,823.9928561917791,853.7399907502695,883.5982332424422,912.9095012370836,941.8006571223887,970.5178526853043,999.1206206561601,1027.631689344024,1056.184477726737,1084.435449261034,1112.303043634034,1139.662863638497,1166.7851539428652,1193.3369661130505,1219.6908413362105,1245.553744577533,1271.4261202659395,1296.7870537815772,1322.2160302000623,1347.1621371222,1372.1452690499357,1397.4238769989695,1422.4209194592897,1449.0014574771023,1475.8919233259712,1503.2219173167912,1531.2176554979144,1559.9005792190383,1589.6659400156766,1619.8871990603177,1650.3083052977072,1681.0289793514478,1712.4224445791897,1744.0716083653876,1775.580643138517,1807.0493645924978,1838.4699540304946,1869.841780447898,1900.7757493202473,1930.1587452184785,1957.85511839235,1985.238886814992,2012.2593953048317,2039.3638994637295,2066.643468733543,2094.148239447775,2121.8908381671886,2150.023481728295,2178.2265443225983,2206.78155620683,2235.353327899103,2263.2126821899055,2290.9531733418844,2318.1312779131204,2345.1592419015337,2372.26340850364,2399.4703546673363,2426.850648369897,2454.4081095418655,2480.099771563904,2505.727492566389,2531.465897714604,2557.539920339616,2582.8929351707593,2608.7676849881555,2635.5412167271047,2663.911723767611,2693.2354559880164,2722.3687049629875,2751.668598826883,2777.9096399280224,2804.831594511865,2832.0972662888157,2857.625016106253,2883.2134547653313,2908.5448694284546,2933.944358731295,2960.895638797047,2988.0833673637935,3015.35677187078,3042.095410300152,3069.4668133123964,3095.970401320709,3120.9093410617843,3145.1566270411763,3168.1421649986564,3189.7538202344913,3209.493063893889,3229.215154742191,3249.622033224898,3269.4968444475144,3290.3998210431237,3313.2239481722677,3336.6685202462645,3359.535920783924,3382.407054596742,3405.5603750001105,3428.6054507320387,3450.849182506894,3470.7964604718395,3491.5642260636373,3514.4636011605985,3536.6577200880297,3557.234008988435,3578.094360228324,3599.9909257582253,3622.5664264974416,3645.941441034851,3668.567807479272,3688.120852460536,3709.5956886291074,3729.421638255982,3750.889289541345,3773.9848732662126,3797.9542750689247,3820.978216279529,3841.9160006950647,3862.332722952476,3882.380210632396,3899.222275557054,3913.4286001251853,3924.921796275516,3938.554020929699,3953.9761941427173,3968.2533163309363,3985.051984594593,4004.837175020822,4027.272835236215,4050.2754264991113,4075.1362637238253,4100.779423482491,4121.436033909643,4137.8265459515105,4148.230514895916,4153.039382788157,4159.848487243214,4171.092157562568,4186.798319380189,4205.084521361397,4230.6945959706745,4252.208791110642,4274.468882196439,4297.033323893461,4313.159368933891,4345.629828326342,4384.277684509812,4428.787533974281,4473.779590085823,4525.311631509249,4587.952855973755,4637.608575946703,4695.350338281226,4761.326095248597,4823.421041176223,4888.656944178177,4953.022283338443,5027.217685374827,5112.8473100890105,5200.218063507506,5295.8665016256855,5422.6564426862,5565.988469856715,5705.523623937985,5828.221675443703,5996.472722565132],\"type\":\"data\",\"visible\":true},\"line\":{\"color\":\"#000000\"},\"name\":\"Con(cKO)\",\"type\":\"scatter\",\"x\":[0,5,10,15,20,25,30,35,40,45,50,55,60,65,70,75,80,85,90,95,100,105,110,115,120,125,130,135,140,145,150,155,160,165,170,175,180,185,190,195,200,205,210,215,220,225,230,235,240,245,250,255,260,265,270,275,280,285,290,295,300,305,310,315,320,325,330,335,340,345,350,355,360,365,370,375,380,385,390,395,400,405,410,415,420,425,430,435,440,445,450,455,460,465,470,475,480,485,490,495,500,505,510,515,520,525,530,535,540,545,550,555,560,565,570,575,580,585,590,595,600,605,610,615,620,625,630,635,640,645,650,655,660,665,670,675,680,685,690,695,700,705,710,715,720,725,730,735,740,745,750,755,760,765,770,775,780,785,790,795,800,805,810,815,820,825,830,835,840,845,850,855,860,865,870,875,880,885,890,895,900,905,910,915,920,925,930,935,940,945,950,955,960,965,970,975,980,985,990,995],\"y\":[1.034802860683865e-10,33.333654164365726,85.85288380952099,150.806848013835,222.7060485977628,302.16799528992203,389.0559997107355,483.04476890450394,583.8523218833111,690.5821588791441,802.5597017517074,920.2982910417842,1043.3194594271545,1171.7756096847038,1303.3651949977566,1437.2775039221515,1573.7277584641188,1712.6858788790803,1856.4607512600487,2004.0914754412725,2155.5284565686015,2309.4015589770765,2464.68963045232,2621.036581186581,2779.3917690556136,2940.164433269089,3104.5700821514993,3271.4444178033737,3440.198625315356,3610.017441109172,3783.1896323520114,3958.937991077462,4137.711732486267,4315.597835041379,4493.53054595771,4672.645577815662,4850.777773877515,5029.384342243591,5207.283605072469,5386.3521024512265,5565.692358660004,5745.268982337015,5925.43748392579,6104.770270210163,6283.444293452401,6461.467886860256,6637.144998429725,6813.685960105743,6991.837271630783,7168.16326600395,7341.449112418191,7510.88288311963,7676.626228272061,7842.806418219452,8007.046707813935,8170.654381231854,8333.477825556245,8495.048431406629,8658.82070719129,8825.912267572832,8994.50917436729,9164.03735046977,9335.122251844428,9508.255955520704,9682.28838736486,9859.3067914172,10041.4039292783,10227.461599205712,10415.71904373373,10602.328992767518,10787.71596585814,10973.68815257735,11161.18530573246,11348.509126047626,11532.257129198219,11713.202495974085,11894.214421942675,12074.549850935166,12257.483043831155,12443.750900679022,12631.273336431484,12817.279713933667,13004.034474473207,13191.445482055886,13380.078255039944,13570.94951196281,13763.69226383469,13958.439650614817,14152.55724016784,14350.118188633742,14549.74456123923,14750.645168622914,14952.99502834172,15154.991378323495,15355.20340999838,15553.32804489974,15748.963013687928,15946.246952477093,16141.048239610369,16335.03526194915]},{\"error_y\":{\"array\":[7.914346520528737e-11,10.135675409972318,29.54581895362821,56.81383324304253,89.91575216052752,126.80649729584897,166.45630686211953,208.88193274551975,254.1481388347264,302.7572177585219,354.4746024777321,409.8224361822715,468.1058705100316,529.7539206518188,594.9891491991793,663.5913535136431,735.8133806414684,810.8953077427926,888.2771593195,968.218881596221,1051.0067797200247,1136.550853477369,1225.2687396110198,1317.967339090511,1413.7376763304344,1512.559396817342,1613.7459234878224,1716.6752425662648,1821.7310088580111,1928.3871956396288,2036.2867501153994,2145.123320791474,2254.2869744476593,2364.094761819124,2474.5264886302043,2585.837120610093,2697.260929793757,2809.065759990188,2920.8831018508554,3033.017234384017,3144.4519610382777,3256.0854384052086,3368.692586768291,3481.9284307441926,3595.916612048264,3710.0395669583463,3825.081842707254,3941.388169389824,4058.8015570262455,4177.04297434457,4295.874215832391,4415.757092443175,4536.1853766153845,4656.304032048718,4775.87018327594,4894.991010210052,5013.340649175265,5130.038852827308,5244.694440677489,5358.922039423351,5472.9479266177395,5586.553725659198,5699.761787804982,5812.6918998846695,5925.203946047065,6038.027496767234,6149.834916196263,6262.520943434868,6375.736195794038,6489.334926453169,6603.099307710262,6717.070967004423,6832.731965771974,6947.944535344109,7062.7505507731685,7174.391259892993,7285.298813476218,7395.804717537159,7505.150944085027,7613.909341747799,7720.802142538107,7823.960905852585,7923.572647168444,8019.185514655361,8110.2060514598925,8196.91323777109,8280.590966510685,8362.107803490868,8441.949710777839,8519.170535811696,8594.324072021545,8670.254358817117,8743.713804581676,8814.586722908884,8882.741640720387,8948.882308265232,9012.808290225403,9074.755974270565,9135.25862759201,9194.710574967781,9253.317832759205,9311.421891166894,9367.892781851773,9420.532543375512,9471.48011115323,9521.487138249631,9570.677292531715,9618.25857088742,9663.606522847116,9709.693816272878,9753.910992740968,9794.294206143062,9833.122971306491,9870.124431237624,9905.537301290007,9940.183571012689,9975.984500153125,10012.196887114054,10052.122341702609,10095.33786650369,10140.311324119248,10191.279804690677,10248.640184802545,10311.011392173743,10374.025119658147,10439.125338372321,10508.832510637687,10580.457523544077,10654.312588575409,10729.687707454148,10802.628979424495,10877.457759229821,10957.506045450604,11042.257303719001,11131.870723063203,11225.306195127238,11322.526960232693,11424.207029095076,11529.9689740073,11640.227434608878,11754.356244079878,11870.064854171324,11991.081594450816,12118.65957889655,12249.906173481908,12384.603935175575,12520.910023338083,12656.34035293416,12796.469810248607,12935.556359334003,13076.802866119822,13219.402783355275,13363.125969201192,13512.323162407838,13664.538568320719,13815.081869239371,13964.6423859966,14109.13211295688,14251.649758592046,14389.597633342713,14527.075049048708,14666.805674752999,14808.187436661177,14952.240959552259,15098.265156004325,15215.148016726227,15335.983838157268,15456.628739317794,15579.68755319344,15699.214948906489,15812.578994048472,15925.968728743279,16031.882036382363,16128.284554553127,16218.848190753672,16306.142774510434,16395.181742837765,16482.02882424353,16561.849470104975,16625.94924581761,16683.943269622116,16735.37487489582,16829.44225343099,16926.659845682894,17019.339490423594,17104.6625626656,17184.229304197528,17262.836538943666,17339.85363120816,17396.5939254935,17430.541833443673,17449.171880470112,17486.709550624684,17508.14981939716,17552.945692638008,17619.2684360768,17702.171608124438,17770.82825377542,17841.941817607993,17850.337000022595],\"type\":\"data\",\"visible\":true},\"line\":{\"color\":\"#6a0dad\"},\"name\":\"cKO\",\"type\":\"scatter\",\"x\":[0,5,10,15,20,25,30,35,40,45,50,55,60,65,70,75,80,85,90,95,100,105,110,115,120,125,130,135,140,145,150,155,160,165,170,175,180,185,190,195,200,205,210,215,220,225,230,235,240,245,250,255,260,265,270,275,280,285,290,295,300,305,310,315,320,325,330,335,340,345,350,355,360,365,370,375,380,385,390,395,400,405,410,415,420,425,430,435,440,445,450,455,460,465,470,475,480,485,490,495,500,505,510,515,520,525,530,535,540,545,550,555,560,565,570,575,580,585,590,595,600,605,610,615,620,625,630,635,640,645,650,655,660,665,670,675,680,685,690,695,700,705,710,715,720,725,730,735,740,745,750,755,760,765,770,775,780,785,790,795,800,805,810,815,820,825,830,835,840,845,850,855,860,865,870,875,880,885,890,895,900,905,910,915,920,925,930,935,940,945,950,955,960,965,970,975,980,985,990,995],\"y\":[2.998576471299836e-11,59.720635019868936,164.788357109544,308.08635996688145,479.0627467575621,672.1541027701124,884.3075035863881,1111.645985141804,1355.1134524991662,1614.2142393773063,1886.735590923209,2171.1993698796937,2465.2410342726735,2770.4446061416565,3086.1087180965274,3413.0290127746534,3751.269996321933,4101.67960750978,4462.676756884492,4832.476870155403,5212.232791657621,5600.999194252908,6001.267234943152,6415.058390729265,6839.431689151194,7273.8275959552475,7715.452746657401,8163.711845531846,8620.05481913004,9083.163230828643,9552.215185221365,10025.688875735432,10499.778116141068,10974.878218027177,11453.241877778466,11933.460446497082,12411.355354076635,12889.052216633672,13367.582606135697,13847.58775177984,14327.598951159427,14806.66948980325,15289.776405082677,15776.579013785273,16267.042938044478,16759.549846163354,17252.205231302298,17747.791123722207,18242.96049887019,18738.635967012753,19229.282853345267,19720.097198131185,20207.75446894025,20691.026839970724,21169.58282161576,21641.84930089025,22109.953093400727,22573.429711442983,23028.79928995424,23479.08485490173,23926.59803993255,24368.495141798623,24807.867019620455,25248.919302030456,25687.146275792984,26129.300194592433,26566.254268863828,27004.594291602705,27440.8272518148,27873.715259782668,28302.16176322792,28727.146400892107,29148.67795659505,29569.26060479934,29989.123971672503,30403.805314596993,30819.83821276837,31238.29201290486,31655.63701186271,32077.07118990312,32495.480154550463,32909.78575334624,33317.582368724215,33718.83107880218,34108.908020581934,34493.79132288902,34880.411809625366,35271.1087523168,35665.92631648432,36061.82791505947,36456.62307654419,36861.87491037027,37250.5293164728,37633.149666245816,38015.259129115424,38398.55819889471,38775.37183232478,39143.165438102005,39511.47303650432,39873.81469788637]}],                        {\"legend\":{\"title\":{\"text\":\"Genotype\"}},\"template\":{\"data\":{\"bar\":[{\"error_x\":{\"color\":\"#2a3f5f\"},\"error_y\":{\"color\":\"#2a3f5f\"},\"marker\":{\"line\":{\"color\":\"#E5ECF6\",\"width\":0.5},\"pattern\":{\"fillmode\":\"overlay\",\"size\":10,\"solidity\":0.2}},\"type\":\"bar\"}],\"barpolar\":[{\"marker\":{\"line\":{\"color\":\"#E5ECF6\",\"width\":0.5},\"pattern\":{\"fillmode\":\"overlay\",\"size\":10,\"solidity\":0.2}},\"type\":\"barpolar\"}],\"carpet\":[{\"aaxis\":{\"endlinecolor\":\"#2a3f5f\",\"gridcolor\":\"white\",\"linecolor\":\"white\",\"minorgridcolor\":\"white\",\"startlinecolor\":\"#2a3f5f\"},\"baxis\":{\"endlinecolor\":\"#2a3f5f\",\"gridcolor\":\"white\",\"linecolor\":\"white\",\"minorgridcolor\":\"white\",\"startlinecolor\":\"#2a3f5f\"},\"type\":\"carpet\"}],\"choropleth\":[{\"colorbar\":{\"outlinewidth\":0,\"ticks\":\"\"},\"type\":\"choropleth\"}],\"contour\":[{\"colorbar\":{\"outlinewidth\":0,\"ticks\":\"\"},\"colorscale\":[[0.0,\"#0d0887\"],[0.1111111111111111,\"#46039f\"],[0.2222222222222222,\"#7201a8\"],[0.3333333333333333,\"#9c179e\"],[0.4444444444444444,\"#bd3786\"],[0.5555555555555556,\"#d8576b\"],[0.6666666666666666,\"#ed7953\"],[0.7777777777777778,\"#fb9f3a\"],[0.8888888888888888,\"#fdca26\"],[1.0,\"#f0f921\"]],\"type\":\"contour\"}],\"contourcarpet\":[{\"colorbar\":{\"outlinewidth\":0,\"ticks\":\"\"},\"type\":\"contourcarpet\"}],\"heatmap\":[{\"colorbar\":{\"outlinewidth\":0,\"ticks\":\"\"},\"colorscale\":[[0.0,\"#0d0887\"],[0.1111111111111111,\"#46039f\"],[0.2222222222222222,\"#7201a8\"],[0.3333333333333333,\"#9c179e\"],[0.4444444444444444,\"#bd3786\"],[0.5555555555555556,\"#d8576b\"],[0.6666666666666666,\"#ed7953\"],[0.7777777777777778,\"#fb9f3a\"],[0.8888888888888888,\"#fdca26\"],[1.0,\"#f0f921\"]],\"type\":\"heatmap\"}],\"heatmapgl\":[{\"colorbar\":{\"outlinewidth\":0,\"ticks\":\"\"},\"colorscale\":[[0.0,\"#0d0887\"],[0.1111111111111111,\"#46039f\"],[0.2222222222222222,\"#7201a8\"],[0.3333333333333333,\"#9c179e\"],[0.4444444444444444,\"#bd3786\"],[0.5555555555555556,\"#d8576b\"],[0.6666666666666666,\"#ed7953\"],[0.7777777777777778,\"#fb9f3a\"],[0.8888888888888888,\"#fdca26\"],[1.0,\"#f0f921\"]],\"type\":\"heatmapgl\"}],\"histogram\":[{\"marker\":{\"pattern\":{\"fillmode\":\"overlay\",\"size\":10,\"solidity\":0.2}},\"type\":\"histogram\"}],\"histogram2d\":[{\"colorbar\":{\"outlinewidth\":0,\"ticks\":\"\"},\"colorscale\":[[0.0,\"#0d0887\"],[0.1111111111111111,\"#46039f\"],[0.2222222222222222,\"#7201a8\"],[0.3333333333333333,\"#9c179e\"],[0.4444444444444444,\"#bd3786\"],[0.5555555555555556,\"#d8576b\"],[0.6666666666666666,\"#ed7953\"],[0.7777777777777778,\"#fb9f3a\"],[0.8888888888888888,\"#fdca26\"],[1.0,\"#f0f921\"]],\"type\":\"histogram2d\"}],\"histogram2dcontour\":[{\"colorbar\":{\"outlinewidth\":0,\"ticks\":\"\"},\"colorscale\":[[0.0,\"#0d0887\"],[0.1111111111111111,\"#46039f\"],[0.2222222222222222,\"#7201a8\"],[0.3333333333333333,\"#9c179e\"],[0.4444444444444444,\"#bd3786\"],[0.5555555555555556,\"#d8576b\"],[0.6666666666666666,\"#ed7953\"],[0.7777777777777778,\"#fb9f3a\"],[0.8888888888888888,\"#fdca26\"],[1.0,\"#f0f921\"]],\"type\":\"histogram2dcontour\"}],\"mesh3d\":[{\"colorbar\":{\"outlinewidth\":0,\"ticks\":\"\"},\"type\":\"mesh3d\"}],\"parcoords\":[{\"line\":{\"colorbar\":{\"outlinewidth\":0,\"ticks\":\"\"}},\"type\":\"parcoords\"}],\"pie\":[{\"automargin\":true,\"type\":\"pie\"}],\"scatter\":[{\"marker\":{\"colorbar\":{\"outlinewidth\":0,\"ticks\":\"\"}},\"type\":\"scatter\"}],\"scatter3d\":[{\"line\":{\"colorbar\":{\"outlinewidth\":0,\"ticks\":\"\"}},\"marker\":{\"colorbar\":{\"outlinewidth\":0,\"ticks\":\"\"}},\"type\":\"scatter3d\"}],\"scattercarpet\":[{\"marker\":{\"colorbar\":{\"outlinewidth\":0,\"ticks\":\"\"}},\"type\":\"scattercarpet\"}],\"scattergeo\":[{\"marker\":{\"colorbar\":{\"outlinewidth\":0,\"ticks\":\"\"}},\"type\":\"scattergeo\"}],\"scattergl\":[{\"marker\":{\"colorbar\":{\"outlinewidth\":0,\"ticks\":\"\"}},\"type\":\"scattergl\"}],\"scattermapbox\":[{\"marker\":{\"colorbar\":{\"outlinewidth\":0,\"ticks\":\"\"}},\"type\":\"scattermapbox\"}],\"scatterpolar\":[{\"marker\":{\"colorbar\":{\"outlinewidth\":0,\"ticks\":\"\"}},\"type\":\"scatterpolar\"}],\"scatterpolargl\":[{\"marker\":{\"colorbar\":{\"outlinewidth\":0,\"ticks\":\"\"}},\"type\":\"scatterpolargl\"}],\"scatterternary\":[{\"marker\":{\"colorbar\":{\"outlinewidth\":0,\"ticks\":\"\"}},\"type\":\"scatterternary\"}],\"surface\":[{\"colorbar\":{\"outlinewidth\":0,\"ticks\":\"\"},\"colorscale\":[[0.0,\"#0d0887\"],[0.1111111111111111,\"#46039f\"],[0.2222222222222222,\"#7201a8\"],[0.3333333333333333,\"#9c179e\"],[0.4444444444444444,\"#bd3786\"],[0.5555555555555556,\"#d8576b\"],[0.6666666666666666,\"#ed7953\"],[0.7777777777777778,\"#fb9f3a\"],[0.8888888888888888,\"#fdca26\"],[1.0,\"#f0f921\"]],\"type\":\"surface\"}],\"table\":[{\"cells\":{\"fill\":{\"color\":\"#EBF0F8\"},\"line\":{\"color\":\"white\"}},\"header\":{\"fill\":{\"color\":\"#C8D4E3\"},\"line\":{\"color\":\"white\"}},\"type\":\"table\"}]},\"layout\":{\"annotationdefaults\":{\"arrowcolor\":\"#2a3f5f\",\"arrowhead\":0,\"arrowwidth\":1},\"autotypenumbers\":\"strict\",\"coloraxis\":{\"colorbar\":{\"outlinewidth\":0,\"ticks\":\"\"}},\"colorscale\":{\"diverging\":[[0,\"#8e0152\"],[0.1,\"#c51b7d\"],[0.2,\"#de77ae\"],[0.3,\"#f1b6da\"],[0.4,\"#fde0ef\"],[0.5,\"#f7f7f7\"],[0.6,\"#e6f5d0\"],[0.7,\"#b8e186\"],[0.8,\"#7fbc41\"],[0.9,\"#4d9221\"],[1,\"#276419\"]],\"sequential\":[[0.0,\"#0d0887\"],[0.1111111111111111,\"#46039f\"],[0.2222222222222222,\"#7201a8\"],[0.3333333333333333,\"#9c179e\"],[0.4444444444444444,\"#bd3786\"],[0.5555555555555556,\"#d8576b\"],[0.6666666666666666,\"#ed7953\"],[0.7777777777777778,\"#fb9f3a\"],[0.8888888888888888,\"#fdca26\"],[1.0,\"#f0f921\"]],\"sequentialminus\":[[0.0,\"#0d0887\"],[0.1111111111111111,\"#46039f\"],[0.2222222222222222,\"#7201a8\"],[0.3333333333333333,\"#9c179e\"],[0.4444444444444444,\"#bd3786\"],[0.5555555555555556,\"#d8576b\"],[0.6666666666666666,\"#ed7953\"],[0.7777777777777778,\"#fb9f3a\"],[0.8888888888888888,\"#fdca26\"],[1.0,\"#f0f921\"]]},\"colorway\":[\"#636efa\",\"#EF553B\",\"#00cc96\",\"#ab63fa\",\"#FFA15A\",\"#19d3f3\",\"#FF6692\",\"#B6E880\",\"#FF97FF\",\"#FECB52\"],\"font\":{\"color\":\"#2a3f5f\"},\"geo\":{\"bgcolor\":\"white\",\"lakecolor\":\"white\",\"landcolor\":\"#E5ECF6\",\"showlakes\":true,\"showland\":true,\"subunitcolor\":\"white\"},\"hoverlabel\":{\"align\":\"left\"},\"hovermode\":\"closest\",\"mapbox\":{\"style\":\"light\"},\"paper_bgcolor\":\"white\",\"plot_bgcolor\":\"#E5ECF6\",\"polar\":{\"angularaxis\":{\"gridcolor\":\"white\",\"linecolor\":\"white\",\"ticks\":\"\"},\"bgcolor\":\"#E5ECF6\",\"radialaxis\":{\"gridcolor\":\"white\",\"linecolor\":\"white\",\"ticks\":\"\"}},\"scene\":{\"xaxis\":{\"backgroundcolor\":\"#E5ECF6\",\"gridcolor\":\"white\",\"gridwidth\":2,\"linecolor\":\"white\",\"showbackground\":true,\"ticks\":\"\",\"zerolinecolor\":\"white\"},\"yaxis\":{\"backgroundcolor\":\"#E5ECF6\",\"gridcolor\":\"white\",\"gridwidth\":2,\"linecolor\":\"white\",\"showbackground\":true,\"ticks\":\"\",\"zerolinecolor\":\"white\"},\"zaxis\":{\"backgroundcolor\":\"#E5ECF6\",\"gridcolor\":\"white\",\"gridwidth\":2,\"linecolor\":\"white\",\"showbackground\":true,\"ticks\":\"\",\"zerolinecolor\":\"white\"}},\"shapedefaults\":{\"line\":{\"color\":\"#2a3f5f\"}},\"ternary\":{\"aaxis\":{\"gridcolor\":\"white\",\"linecolor\":\"white\",\"ticks\":\"\"},\"baxis\":{\"gridcolor\":\"white\",\"linecolor\":\"white\",\"ticks\":\"\"},\"bgcolor\":\"#E5ECF6\",\"caxis\":{\"gridcolor\":\"white\",\"linecolor\":\"white\",\"ticks\":\"\"}},\"title\":{\"x\":0.05},\"xaxis\":{\"automargin\":true,\"gridcolor\":\"white\",\"linecolor\":\"white\",\"ticks\":\"\",\"title\":{\"standoff\":15},\"zerolinecolor\":\"white\",\"zerolinewidth\":2},\"yaxis\":{\"automargin\":true,\"gridcolor\":\"white\",\"linecolor\":\"white\",\"ticks\":\"\",\"title\":{\"standoff\":15},\"zerolinecolor\":\"white\",\"zerolinewidth\":2}}},\"title\":{\"text\":\"Scratch Assay: Con v cKO MSD\"},\"xaxis\":{\"title\":{\"text\":\"Time (min)\"}},\"yaxis\":{\"title\":{\"text\":\"MSD\"}}},                        {\"responsive\": true}                    ).then(function(){\n",
       "                            \n",
       "var gd = document.getElementById('7ad58cff-1809-4f5c-b084-b8d7eeac9748');\n",
       "var x = new MutationObserver(function (mutations, observer) {{\n",
       "        var display = window.getComputedStyle(gd).display;\n",
       "        if (!display || display === 'none') {{\n",
       "            console.log([gd, 'removed!']);\n",
       "            Plotly.purge(gd);\n",
       "            observer.disconnect();\n",
       "        }}\n",
       "}});\n",
       "\n",
       "// Listen for the removal of the full notebook cells\n",
       "var notebookContainer = gd.closest('#notebook-container');\n",
       "if (notebookContainer) {{\n",
       "    x.observe(notebookContainer, {childList: true});\n",
       "}}\n",
       "\n",
       "// Listen for the clearing of the current output cell\n",
       "var outputEl = gd.closest('.output');\n",
       "if (outputEl) {{\n",
       "    x.observe(outputEl, {childList: true});\n",
       "}}\n",
       "\n",
       "                        })                };                });            </script>        </div>"
      ]
     },
     "metadata": {},
     "output_type": "display_data"
    }
   ],
   "source": [
    "time=[]\n",
    "for i in range(200):\n",
    "    time.append(i*5)\n",
    "\n",
    "cKO_MSD_fig = go.Figure()\n",
    "\n",
    "cKO_MSD_fig.add_trace(go.Scatter(x= time, y= Single_Con_cKO_MSD.mean(axis=1)[0:100], name='Con(cKO)', line_color='#000000', error_y=dict(type='data', array = Single_Con_cKO_MSD_SEM, visible=True)))\n",
    "cKO_MSD_fig.add_trace(go.Scatter(x= time, y= Single_cKO_MSD.mean(axis=1)[0:100], name='cKO', line_color='#6a0dad', error_y =dict(type='data', array = Single_cKO_MSD_SEM , visible=True)))\n",
    "cKO_MSD_fig.update_layout(title=\"Scratch Assay: Con v cKO MSD\", xaxis_title=\"Time (min)\", yaxis_title=\"MSD\", legend_title=\"Genotype\")\n",
    "cKO_MSD_fig.show()"
   ]
  },
  {
   "cell_type": "code",
   "execution_count": 286,
   "metadata": {},
   "outputs": [
    {
     "data": {
      "application/vnd.plotly.v1+json": {
       "config": {
        "plotlyServerURL": "https://plot.ly"
       },
       "data": [
        {
         "error_y": {
          "array": [
           0,
           0.008906837913271747,
           0.009535676923965465,
           0.009874280778342596,
           0.010050494792284507,
           0.009977390200605778,
           0.010076795190841837,
           0.010139807388972497,
           0.010171840681243662,
           0.010142502315333035,
           0.010187319035535868,
           0.010345772807554696,
           0.01029218717350347,
           0.010389860517310058,
           0.010380853763783456,
           0.010416432886807376,
           0.010464707669764206,
           0.010624710504087616,
           0.010607745332689648,
           0.010523711682060715,
           0.010559919842748825,
           0.010642103902844525,
           0.0106468329251863,
           0.010730584192051057,
           0.010794679394660391,
           0.010741896289981031,
           0.010892467675933994,
           0.010883010274280132,
           0.010916276628992671,
           0.011050590668882858,
           0.011005452415571475,
           0.010944149092390604,
           0.010970060364316032,
           0.010989583147201637,
           0.010989938147828275,
           0.011025869713059468,
           0.011082074503043665,
           0.011125613196740896,
           0.011203050606632526,
           0.011101945709881928,
           0.011244327947801946,
           0.01126056464115716,
           0.011360790024780989,
           0.011325884015825695,
           0.011346737387411928,
           0.011426740161887067,
           0.011475261046132511,
           0.01155448495156332,
           0.011565179510524925,
           0.011627311238447449,
           0.011682056479176622,
           0.01156777197916195,
           0.011698929407487723,
           0.011801091652970235,
           0.011834619690401036,
           0.011790891602842576,
           0.011883551670803716,
           0.011995167680995709,
           0.011997070471083095,
           0.012061011787033213,
           0.01201430482927119,
           0.01215198000336218,
           0.012213020802006569,
           0.01210837904277374,
           0.012153520959196152,
           0.012285212700978142,
           0.012245120859249012,
           0.012320119566558383,
           0.012347286729391093,
           0.012372590190988715,
           0.012494663885312791,
           0.012468196695588766,
           0.012663001720625526,
           0.01269713574920616,
           0.012717084002854,
           0.012784486806012596,
           0.012817709124255887,
           0.012842939147067196,
           0.012792511434161246,
           0.012916312851305277,
           0.012942616286714437,
           0.013050153298806991,
           0.013006790222655799,
           0.013051466010327051,
           0.013053987317999642,
           0.013102649654487885,
           0.013283136125106981,
           0.01350491504672678,
           0.013292953522299722,
           0.013312914843793254,
           0.01345321595661397,
           0.01360646230618075,
           0.013575473116204067,
           0.01357373955984269,
           0.013619475108517553,
           0.013619930532055003,
           0.013857708752095022,
           0.014014443917377198,
           0.014168030081106005,
           0.014012101369947882,
           0.014209227648710503,
           0.014226116932486935,
           0.014566483807555038,
           0.014505449357622413,
           0.014632836257977448,
           0.014644329201421294,
           0.014699048662644737,
           0.014882744765127793,
           0.014830463323141394,
           0.014547344781417839,
           0.015013757166660742,
           0.015053157793760456,
           0.015129296521451223,
           0.015302850070002786,
           0.015536740198010062,
           0.015491243778516467,
           0.015617517653433256,
           0.01554569086758003,
           0.01570433621807289,
           0.015993282713887964,
           0.016084784302049453,
           0.016217862748546075,
           0.016370066838151703,
           0.016362945182519486,
           0.016277125374884543,
           0.016578212161468774,
           0.016733211481556876,
           0.01698004564498089,
           0.01700716914875098,
           0.017011630992647773,
           0.017250746604810296,
           0.017360429869557666,
           0.017772904956798074,
           0.01777404139040479,
           0.017775093726265772,
           0.017896720389763407,
           0.01833277069729524,
           0.018464263684392464,
           0.01821153379430178,
           0.01857892556785714,
           0.01867159614530943,
           0.018623052646738067,
           0.019017268082096403,
           0.019175754823433942,
           0.01912916578188004,
           0.019351035458644895,
           0.01979883699461799,
           0.01965870368111804,
           0.019696813612315525,
           0.020067909167262244,
           0.020445311813614198,
           0.020294256821256136,
           0.020948107392492265,
           0.021159107740802877,
           0.02156423430706785,
           0.021631078145920104,
           0.022375962281971758,
           0.022308881391440587,
           0.02256768754248923,
           0.02282280804511647,
           0.023389468854559312,
           0.02340846930514897,
           0.02382792304351039,
           0.02389621111109108,
           0.02452230946200607,
           0.024752874557403368,
           0.02455581743392571,
           0.02511428774466117,
           0.02554109290313649,
           0.026583844090407358,
           0.02693813406812351,
           0.02698837431727413,
           0.02782401945564557,
           0.028058127252367466,
           0.027883297378972906,
           0.029331178979364256,
           0.030299658444938444,
           0.03177591507860512,
           0.03242923923299884,
           0.03291899762735835,
           0.03331572003516944,
           0.03418101338198327,
           0.034925545664218606,
           0.03653771201988686,
           0.038585277761716094,
           0.03959139163497846,
           0.04076804160706478,
           0.04178182429431533,
           0.04522068020389945,
           0.046311032810963895,
           0.049009434039489444,
           0.05048433602572804,
           0.052997250710563625,
           0.05682965731778356,
           0.07080364051497122,
           0.07734818254990732,
           0.08602121073957936,
           0.10993203712847814,
           0.1495612564129237
          ],
          "type": "data",
          "visible": true
         },
         "line": {
          "color": "#000000"
         },
         "name": "Con(cKO)",
         "type": "scatter",
         "x": [
          0,
          5,
          10,
          15,
          20,
          25,
          30,
          35,
          40,
          45,
          50,
          55,
          60,
          65,
          70,
          75,
          80,
          85,
          90,
          95,
          100,
          105,
          110,
          115,
          120,
          125,
          130,
          135,
          140,
          145,
          150,
          155,
          160,
          165,
          170,
          175,
          180,
          185,
          190,
          195,
          200,
          205,
          210,
          215,
          220,
          225,
          230,
          235,
          240,
          245,
          250,
          255,
          260,
          265,
          270,
          275,
          280,
          285,
          290,
          295,
          300,
          305,
          310,
          315,
          320,
          325,
          330,
          335,
          340,
          345,
          350,
          355,
          360,
          365,
          370,
          375,
          380,
          385,
          390,
          395,
          400,
          405,
          410,
          415,
          420,
          425,
          430,
          435,
          440,
          445,
          450,
          455,
          460,
          465,
          470,
          475,
          480,
          485,
          490,
          495,
          500,
          505,
          510,
          515,
          520,
          525,
          530,
          535,
          540,
          545,
          550,
          555,
          560,
          565,
          570,
          575,
          580,
          585,
          590,
          595,
          600,
          605,
          610,
          615,
          620,
          625,
          630,
          635,
          640,
          645,
          650,
          655,
          660,
          665,
          670,
          675,
          680,
          685,
          690,
          695,
          700,
          705,
          710,
          715,
          720,
          725,
          730,
          735,
          740,
          745,
          750,
          755,
          760,
          765,
          770,
          775,
          780,
          785,
          790,
          795,
          800,
          805,
          810,
          815,
          820,
          825,
          830,
          835,
          840,
          845,
          850,
          855,
          860,
          865,
          870,
          875,
          880,
          885,
          890,
          895,
          900,
          905,
          910,
          915,
          920,
          925,
          930,
          935,
          940,
          945,
          950,
          955,
          960,
          965,
          970,
          975,
          980,
          985,
          990,
          995
         ],
         "y": [
          1,
          0.46159591941760736,
          0.3315146235454525,
          0.25389997689178895,
          0.22933781241969667,
          0.2526867746385814,
          0.20098868028900688,
          0.198039004494201,
          0.19137536152789156,
          0.18818927794772525
         ]
        },
        {
         "error_y": {
          "array": [
           0,
           0.008472386324723996,
           0.008806675053848438,
           0.009015026820475934,
           0.009240225972780495,
           0.009311948595810962,
           0.009430922765702654,
           0.009541455144636958,
           0.009649847764406916,
           0.009709898437365173,
           0.009757952331564134,
           0.009925202030159383,
           0.009922449782797924,
           0.009893502608711894,
           0.010045766324407509,
           0.009935307689794465,
           0.009982450372901335,
           0.010042016091007458,
           0.010081847038594261,
           0.010192349613334935,
           0.01021047107620049,
           0.010216732670709914,
           0.010169008325476373,
           0.01020700130353235,
           0.010204262820264718,
           0.010238740642071479,
           0.010396531927036505,
           0.010302577528115439,
           0.010427377484559774,
           0.010394267759181399,
           0.01043983593577303,
           0.010469338118890769,
           0.010591873033364653,
           0.010554140107613932,
           0.01059083625548634,
           0.0106390594054402,
           0.010669631615096827,
           0.01058763871684818,
           0.010707746850700629,
           0.010715072616914708,
           0.010752494821620774,
           0.010738366923538613,
           0.010782510614260285,
           0.010803441412790828,
           0.010804090171523206,
           0.01089418719590038,
           0.010962454508313691,
           0.011025046133506659,
           0.011007005072993256,
           0.011073646800692458,
           0.011158849244455092,
           0.011228036989738805,
           0.011143660816175323,
           0.01130493655547761,
           0.01131813437919269,
           0.011348419362218571,
           0.01135186113596897,
           0.011359828918258968,
           0.011332417786709405,
           0.011494292300140511,
           0.011449504529515256,
           0.011502320055723854,
           0.011536310666729945,
           0.011542060743611023,
           0.011675404052461289,
           0.011748377827085122,
           0.01177969464702926,
           0.011823209897017862,
           0.011854633221026655,
           0.011882457540926579,
           0.011924766744801167,
           0.012148539483366904,
           0.01205699124879433,
           0.012124586367168707,
           0.012188499766349139,
           0.012277392700856038,
           0.012283675054934972,
           0.012267932077697384,
           0.012356072981412442,
           0.012497040334326916,
           0.012586412099217601,
           0.012570593644226859,
           0.012659447107983002,
           0.012645586113567081,
           0.012658755393579062,
           0.012754223754015769,
           0.012828653930157497,
           0.012984279092888823,
           0.01301269620862332,
           0.01304842675283781,
           0.013101348900957627,
           0.013137711225450596,
           0.013190875449639119,
           0.01333396251914664,
           0.013476862824850907,
           0.013418245977864349,
           0.013505504940416009,
           0.013585005849953952,
           0.01364425509992173,
           0.01368976953123495,
           0.013861995357783308,
           0.013964431164119176,
           0.01400615158545606,
           0.014138097383267366,
           0.014089058436170478,
           0.014103252747404524,
           0.014204174039890789,
           0.014308392185577471,
           0.014305402842423284,
           0.014351890890277696,
           0.014552115962518852,
           0.014553596277913214,
           0.014667261468213762,
           0.01480396663064617,
           0.014998789486239547,
           0.014958268228849691,
           0.015088380600142174,
           0.015052148545529725,
           0.015136179234535026,
           0.015179551637914967,
           0.015269686178154935,
           0.015459389692623803,
           0.015439718580105873,
           0.015728868643391368,
           0.015783247807256397,
           0.016116036816887582,
           0.01608430511308344,
           0.016189795256104658,
           0.016331874758177854,
           0.01659170330298314,
           0.01656471848733817,
           0.01670265244724261,
           0.016786007568306834,
           0.01667461415461628,
           0.017013785959624595,
           0.017182162052602156,
           0.01746298797625423,
           0.017472548147227873,
           0.01765881962487348,
           0.017952231554537075,
           0.01787281377684881,
           0.018096389052878123,
           0.018378331456430832,
           0.018395559220129264,
           0.018714407735682906,
           0.018864314107668697,
           0.01899167808597143,
           0.019223417857642065,
           0.019476780635646177,
           0.019698115361499596,
           0.019702430460129178,
           0.019753610928960424,
           0.020369402368134292,
           0.020749934572406148,
           0.021023892696100988,
           0.021080271277023655,
           0.021374596009830847,
           0.02171509640975657,
           0.021843276570076724,
           0.022155645671306012,
           0.02198109676038281,
           0.022759525661414273,
           0.022709803887156436,
           0.02297350766651647,
           0.023555570648710625,
           0.02411584205288768,
           0.024780621898296117,
           0.024349177133137022,
           0.02479582760143921,
           0.025239186847905222,
           0.025919229390152558,
           0.027294618374664802,
           0.02701922050224451,
           0.02758660824401623,
           0.027966491138954958,
           0.02863368582999341,
           0.029559885426581493,
           0.029560347183269473,
           0.0299017969354114,
           0.0309140508869565,
           0.030895025863992433,
           0.032374605007850756,
           0.03356012057445724,
           0.0354578403669958,
           0.03676764650937615,
           0.03747352487569094,
           0.038596485519630665,
           0.04009248654980277,
           0.04374597611794442,
           0.04372977210361165,
           0.04768082034293279,
           0.048858217325304945,
           0.05419356419007906,
           0.05823237468788437,
           0.06450755133245245,
           0.07480670056709855,
           0.08424531764824487,
           0.10162919362867434,
           0.1344622365049471
          ],
          "type": "data",
          "visible": true
         },
         "line": {
          "color": "#6a0dad"
         },
         "name": "cKO",
         "type": "scatter",
         "x": [
          0,
          5,
          10,
          15,
          20,
          25,
          30,
          35,
          40,
          45,
          50,
          55,
          60,
          65,
          70,
          75,
          80,
          85,
          90,
          95,
          100,
          105,
          110,
          115,
          120,
          125,
          130,
          135,
          140,
          145,
          150,
          155,
          160,
          165,
          170,
          175,
          180,
          185,
          190,
          195,
          200,
          205,
          210,
          215,
          220,
          225,
          230,
          235,
          240,
          245,
          250,
          255,
          260,
          265,
          270,
          275,
          280,
          285,
          290,
          295,
          300,
          305,
          310,
          315,
          320,
          325,
          330,
          335,
          340,
          345,
          350,
          355,
          360,
          365,
          370,
          375,
          380,
          385,
          390,
          395,
          400,
          405,
          410,
          415,
          420,
          425,
          430,
          435,
          440,
          445,
          450,
          455,
          460,
          465,
          470,
          475,
          480,
          485,
          490,
          495,
          500,
          505,
          510,
          515,
          520,
          525,
          530,
          535,
          540,
          545,
          550,
          555,
          560,
          565,
          570,
          575,
          580,
          585,
          590,
          595,
          600,
          605,
          610,
          615,
          620,
          625,
          630,
          635,
          640,
          645,
          650,
          655,
          660,
          665,
          670,
          675,
          680,
          685,
          690,
          695,
          700,
          705,
          710,
          715,
          720,
          725,
          730,
          735,
          740,
          745,
          750,
          755,
          760,
          765,
          770,
          775,
          780,
          785,
          790,
          795,
          800,
          805,
          810,
          815,
          820,
          825,
          830,
          835,
          840,
          845,
          850,
          855,
          860,
          865,
          870,
          875,
          880,
          885,
          890,
          895,
          900,
          905,
          910,
          915,
          920,
          925,
          930,
          935,
          940,
          945,
          950,
          955,
          960,
          965,
          970,
          975,
          980,
          985,
          990,
          995
         ],
         "y": [
          1,
          0.5098299860325044,
          0.43261434813082045,
          0.3666674843688233,
          0.32144770031815956,
          0.3086530630639641,
          0.2685931850761111,
          0.23690586690097107,
          0.2183171070005834,
          0.1983250069678655
         ]
        }
       ],
       "layout": {
        "legend": {
         "title": {
          "text": "Condition"
         }
        },
        "template": {
         "data": {
          "bar": [
           {
            "error_x": {
             "color": "#2a3f5f"
            },
            "error_y": {
             "color": "#2a3f5f"
            },
            "marker": {
             "line": {
              "color": "#E5ECF6",
              "width": 0.5
             },
             "pattern": {
              "fillmode": "overlay",
              "size": 10,
              "solidity": 0.2
             }
            },
            "type": "bar"
           }
          ],
          "barpolar": [
           {
            "marker": {
             "line": {
              "color": "#E5ECF6",
              "width": 0.5
             },
             "pattern": {
              "fillmode": "overlay",
              "size": 10,
              "solidity": 0.2
             }
            },
            "type": "barpolar"
           }
          ],
          "carpet": [
           {
            "aaxis": {
             "endlinecolor": "#2a3f5f",
             "gridcolor": "white",
             "linecolor": "white",
             "minorgridcolor": "white",
             "startlinecolor": "#2a3f5f"
            },
            "baxis": {
             "endlinecolor": "#2a3f5f",
             "gridcolor": "white",
             "linecolor": "white",
             "minorgridcolor": "white",
             "startlinecolor": "#2a3f5f"
            },
            "type": "carpet"
           }
          ],
          "choropleth": [
           {
            "colorbar": {
             "outlinewidth": 0,
             "ticks": ""
            },
            "type": "choropleth"
           }
          ],
          "contour": [
           {
            "colorbar": {
             "outlinewidth": 0,
             "ticks": ""
            },
            "colorscale": [
             [
              0,
              "#0d0887"
             ],
             [
              0.1111111111111111,
              "#46039f"
             ],
             [
              0.2222222222222222,
              "#7201a8"
             ],
             [
              0.3333333333333333,
              "#9c179e"
             ],
             [
              0.4444444444444444,
              "#bd3786"
             ],
             [
              0.5555555555555556,
              "#d8576b"
             ],
             [
              0.6666666666666666,
              "#ed7953"
             ],
             [
              0.7777777777777778,
              "#fb9f3a"
             ],
             [
              0.8888888888888888,
              "#fdca26"
             ],
             [
              1,
              "#f0f921"
             ]
            ],
            "type": "contour"
           }
          ],
          "contourcarpet": [
           {
            "colorbar": {
             "outlinewidth": 0,
             "ticks": ""
            },
            "type": "contourcarpet"
           }
          ],
          "heatmap": [
           {
            "colorbar": {
             "outlinewidth": 0,
             "ticks": ""
            },
            "colorscale": [
             [
              0,
              "#0d0887"
             ],
             [
              0.1111111111111111,
              "#46039f"
             ],
             [
              0.2222222222222222,
              "#7201a8"
             ],
             [
              0.3333333333333333,
              "#9c179e"
             ],
             [
              0.4444444444444444,
              "#bd3786"
             ],
             [
              0.5555555555555556,
              "#d8576b"
             ],
             [
              0.6666666666666666,
              "#ed7953"
             ],
             [
              0.7777777777777778,
              "#fb9f3a"
             ],
             [
              0.8888888888888888,
              "#fdca26"
             ],
             [
              1,
              "#f0f921"
             ]
            ],
            "type": "heatmap"
           }
          ],
          "heatmapgl": [
           {
            "colorbar": {
             "outlinewidth": 0,
             "ticks": ""
            },
            "colorscale": [
             [
              0,
              "#0d0887"
             ],
             [
              0.1111111111111111,
              "#46039f"
             ],
             [
              0.2222222222222222,
              "#7201a8"
             ],
             [
              0.3333333333333333,
              "#9c179e"
             ],
             [
              0.4444444444444444,
              "#bd3786"
             ],
             [
              0.5555555555555556,
              "#d8576b"
             ],
             [
              0.6666666666666666,
              "#ed7953"
             ],
             [
              0.7777777777777778,
              "#fb9f3a"
             ],
             [
              0.8888888888888888,
              "#fdca26"
             ],
             [
              1,
              "#f0f921"
             ]
            ],
            "type": "heatmapgl"
           }
          ],
          "histogram": [
           {
            "marker": {
             "pattern": {
              "fillmode": "overlay",
              "size": 10,
              "solidity": 0.2
             }
            },
            "type": "histogram"
           }
          ],
          "histogram2d": [
           {
            "colorbar": {
             "outlinewidth": 0,
             "ticks": ""
            },
            "colorscale": [
             [
              0,
              "#0d0887"
             ],
             [
              0.1111111111111111,
              "#46039f"
             ],
             [
              0.2222222222222222,
              "#7201a8"
             ],
             [
              0.3333333333333333,
              "#9c179e"
             ],
             [
              0.4444444444444444,
              "#bd3786"
             ],
             [
              0.5555555555555556,
              "#d8576b"
             ],
             [
              0.6666666666666666,
              "#ed7953"
             ],
             [
              0.7777777777777778,
              "#fb9f3a"
             ],
             [
              0.8888888888888888,
              "#fdca26"
             ],
             [
              1,
              "#f0f921"
             ]
            ],
            "type": "histogram2d"
           }
          ],
          "histogram2dcontour": [
           {
            "colorbar": {
             "outlinewidth": 0,
             "ticks": ""
            },
            "colorscale": [
             [
              0,
              "#0d0887"
             ],
             [
              0.1111111111111111,
              "#46039f"
             ],
             [
              0.2222222222222222,
              "#7201a8"
             ],
             [
              0.3333333333333333,
              "#9c179e"
             ],
             [
              0.4444444444444444,
              "#bd3786"
             ],
             [
              0.5555555555555556,
              "#d8576b"
             ],
             [
              0.6666666666666666,
              "#ed7953"
             ],
             [
              0.7777777777777778,
              "#fb9f3a"
             ],
             [
              0.8888888888888888,
              "#fdca26"
             ],
             [
              1,
              "#f0f921"
             ]
            ],
            "type": "histogram2dcontour"
           }
          ],
          "mesh3d": [
           {
            "colorbar": {
             "outlinewidth": 0,
             "ticks": ""
            },
            "type": "mesh3d"
           }
          ],
          "parcoords": [
           {
            "line": {
             "colorbar": {
              "outlinewidth": 0,
              "ticks": ""
             }
            },
            "type": "parcoords"
           }
          ],
          "pie": [
           {
            "automargin": true,
            "type": "pie"
           }
          ],
          "scatter": [
           {
            "marker": {
             "colorbar": {
              "outlinewidth": 0,
              "ticks": ""
             }
            },
            "type": "scatter"
           }
          ],
          "scatter3d": [
           {
            "line": {
             "colorbar": {
              "outlinewidth": 0,
              "ticks": ""
             }
            },
            "marker": {
             "colorbar": {
              "outlinewidth": 0,
              "ticks": ""
             }
            },
            "type": "scatter3d"
           }
          ],
          "scattercarpet": [
           {
            "marker": {
             "colorbar": {
              "outlinewidth": 0,
              "ticks": ""
             }
            },
            "type": "scattercarpet"
           }
          ],
          "scattergeo": [
           {
            "marker": {
             "colorbar": {
              "outlinewidth": 0,
              "ticks": ""
             }
            },
            "type": "scattergeo"
           }
          ],
          "scattergl": [
           {
            "marker": {
             "colorbar": {
              "outlinewidth": 0,
              "ticks": ""
             }
            },
            "type": "scattergl"
           }
          ],
          "scattermapbox": [
           {
            "marker": {
             "colorbar": {
              "outlinewidth": 0,
              "ticks": ""
             }
            },
            "type": "scattermapbox"
           }
          ],
          "scatterpolar": [
           {
            "marker": {
             "colorbar": {
              "outlinewidth": 0,
              "ticks": ""
             }
            },
            "type": "scatterpolar"
           }
          ],
          "scatterpolargl": [
           {
            "marker": {
             "colorbar": {
              "outlinewidth": 0,
              "ticks": ""
             }
            },
            "type": "scatterpolargl"
           }
          ],
          "scatterternary": [
           {
            "marker": {
             "colorbar": {
              "outlinewidth": 0,
              "ticks": ""
             }
            },
            "type": "scatterternary"
           }
          ],
          "surface": [
           {
            "colorbar": {
             "outlinewidth": 0,
             "ticks": ""
            },
            "colorscale": [
             [
              0,
              "#0d0887"
             ],
             [
              0.1111111111111111,
              "#46039f"
             ],
             [
              0.2222222222222222,
              "#7201a8"
             ],
             [
              0.3333333333333333,
              "#9c179e"
             ],
             [
              0.4444444444444444,
              "#bd3786"
             ],
             [
              0.5555555555555556,
              "#d8576b"
             ],
             [
              0.6666666666666666,
              "#ed7953"
             ],
             [
              0.7777777777777778,
              "#fb9f3a"
             ],
             [
              0.8888888888888888,
              "#fdca26"
             ],
             [
              1,
              "#f0f921"
             ]
            ],
            "type": "surface"
           }
          ],
          "table": [
           {
            "cells": {
             "fill": {
              "color": "#EBF0F8"
             },
             "line": {
              "color": "white"
             }
            },
            "header": {
             "fill": {
              "color": "#C8D4E3"
             },
             "line": {
              "color": "white"
             }
            },
            "type": "table"
           }
          ]
         },
         "layout": {
          "annotationdefaults": {
           "arrowcolor": "#2a3f5f",
           "arrowhead": 0,
           "arrowwidth": 1
          },
          "autotypenumbers": "strict",
          "coloraxis": {
           "colorbar": {
            "outlinewidth": 0,
            "ticks": ""
           }
          },
          "colorscale": {
           "diverging": [
            [
             0,
             "#8e0152"
            ],
            [
             0.1,
             "#c51b7d"
            ],
            [
             0.2,
             "#de77ae"
            ],
            [
             0.3,
             "#f1b6da"
            ],
            [
             0.4,
             "#fde0ef"
            ],
            [
             0.5,
             "#f7f7f7"
            ],
            [
             0.6,
             "#e6f5d0"
            ],
            [
             0.7,
             "#b8e186"
            ],
            [
             0.8,
             "#7fbc41"
            ],
            [
             0.9,
             "#4d9221"
            ],
            [
             1,
             "#276419"
            ]
           ],
           "sequential": [
            [
             0,
             "#0d0887"
            ],
            [
             0.1111111111111111,
             "#46039f"
            ],
            [
             0.2222222222222222,
             "#7201a8"
            ],
            [
             0.3333333333333333,
             "#9c179e"
            ],
            [
             0.4444444444444444,
             "#bd3786"
            ],
            [
             0.5555555555555556,
             "#d8576b"
            ],
            [
             0.6666666666666666,
             "#ed7953"
            ],
            [
             0.7777777777777778,
             "#fb9f3a"
            ],
            [
             0.8888888888888888,
             "#fdca26"
            ],
            [
             1,
             "#f0f921"
            ]
           ],
           "sequentialminus": [
            [
             0,
             "#0d0887"
            ],
            [
             0.1111111111111111,
             "#46039f"
            ],
            [
             0.2222222222222222,
             "#7201a8"
            ],
            [
             0.3333333333333333,
             "#9c179e"
            ],
            [
             0.4444444444444444,
             "#bd3786"
            ],
            [
             0.5555555555555556,
             "#d8576b"
            ],
            [
             0.6666666666666666,
             "#ed7953"
            ],
            [
             0.7777777777777778,
             "#fb9f3a"
            ],
            [
             0.8888888888888888,
             "#fdca26"
            ],
            [
             1,
             "#f0f921"
            ]
           ]
          },
          "colorway": [
           "#636efa",
           "#EF553B",
           "#00cc96",
           "#ab63fa",
           "#FFA15A",
           "#19d3f3",
           "#FF6692",
           "#B6E880",
           "#FF97FF",
           "#FECB52"
          ],
          "font": {
           "color": "#2a3f5f"
          },
          "geo": {
           "bgcolor": "white",
           "lakecolor": "white",
           "landcolor": "#E5ECF6",
           "showlakes": true,
           "showland": true,
           "subunitcolor": "white"
          },
          "hoverlabel": {
           "align": "left"
          },
          "hovermode": "closest",
          "mapbox": {
           "style": "light"
          },
          "paper_bgcolor": "white",
          "plot_bgcolor": "#E5ECF6",
          "polar": {
           "angularaxis": {
            "gridcolor": "white",
            "linecolor": "white",
            "ticks": ""
           },
           "bgcolor": "#E5ECF6",
           "radialaxis": {
            "gridcolor": "white",
            "linecolor": "white",
            "ticks": ""
           }
          },
          "scene": {
           "xaxis": {
            "backgroundcolor": "#E5ECF6",
            "gridcolor": "white",
            "gridwidth": 2,
            "linecolor": "white",
            "showbackground": true,
            "ticks": "",
            "zerolinecolor": "white"
           },
           "yaxis": {
            "backgroundcolor": "#E5ECF6",
            "gridcolor": "white",
            "gridwidth": 2,
            "linecolor": "white",
            "showbackground": true,
            "ticks": "",
            "zerolinecolor": "white"
           },
           "zaxis": {
            "backgroundcolor": "#E5ECF6",
            "gridcolor": "white",
            "gridwidth": 2,
            "linecolor": "white",
            "showbackground": true,
            "ticks": "",
            "zerolinecolor": "white"
           }
          },
          "shapedefaults": {
           "line": {
            "color": "#2a3f5f"
           }
          },
          "ternary": {
           "aaxis": {
            "gridcolor": "white",
            "linecolor": "white",
            "ticks": ""
           },
           "baxis": {
            "gridcolor": "white",
            "linecolor": "white",
            "ticks": ""
           },
           "bgcolor": "#E5ECF6",
           "caxis": {
            "gridcolor": "white",
            "linecolor": "white",
            "ticks": ""
           }
          },
          "title": {
           "x": 0.05
          },
          "xaxis": {
           "automargin": true,
           "gridcolor": "white",
           "linecolor": "white",
           "ticks": "",
           "title": {
            "standoff": 15
           },
           "zerolinecolor": "white",
           "zerolinewidth": 2
          },
          "yaxis": {
           "automargin": true,
           "gridcolor": "white",
           "linecolor": "white",
           "ticks": "",
           "title": {
            "standoff": 15
           },
           "zerolinecolor": "white",
           "zerolinewidth": 2
          }
         }
        },
        "title": {
         "text": "Scratch Assay: Con(cKO) v cKO Dir AutoCorr"
        },
        "xaxis": {
         "title": {
          "text": "Time (min)"
         }
        },
        "yaxis": {
         "title": {
          "text": "Dir AutoCorr"
         }
        }
       }
      },
      "text/html": [
       "<div>                            <div id=\"b504bfdd-a035-4215-995b-9e6a61210152\" class=\"plotly-graph-div\" style=\"height:525px; width:100%;\"></div>            <script type=\"text/javascript\">                require([\"plotly\"], function(Plotly) {                    window.PLOTLYENV=window.PLOTLYENV || {};                                    if (document.getElementById(\"b504bfdd-a035-4215-995b-9e6a61210152\")) {                    Plotly.newPlot(                        \"b504bfdd-a035-4215-995b-9e6a61210152\",                        [{\"error_y\":{\"array\":[0.0,0.008906837913271747,0.009535676923965465,0.009874280778342596,0.010050494792284507,0.009977390200605778,0.010076795190841837,0.010139807388972497,0.010171840681243662,0.010142502315333035,0.010187319035535868,0.010345772807554696,0.01029218717350347,0.010389860517310058,0.010380853763783456,0.010416432886807376,0.010464707669764206,0.010624710504087616,0.010607745332689648,0.010523711682060715,0.010559919842748825,0.010642103902844525,0.0106468329251863,0.010730584192051057,0.010794679394660391,0.010741896289981031,0.010892467675933994,0.010883010274280132,0.010916276628992671,0.011050590668882858,0.011005452415571475,0.010944149092390604,0.010970060364316032,0.010989583147201637,0.010989938147828275,0.011025869713059468,0.011082074503043665,0.011125613196740896,0.011203050606632526,0.011101945709881928,0.011244327947801946,0.01126056464115716,0.011360790024780989,0.011325884015825695,0.011346737387411928,0.011426740161887067,0.011475261046132511,0.01155448495156332,0.011565179510524925,0.011627311238447449,0.011682056479176622,0.01156777197916195,0.011698929407487723,0.011801091652970235,0.011834619690401036,0.011790891602842576,0.011883551670803716,0.011995167680995709,0.011997070471083095,0.012061011787033213,0.01201430482927119,0.01215198000336218,0.012213020802006569,0.01210837904277374,0.012153520959196152,0.012285212700978142,0.012245120859249012,0.012320119566558383,0.012347286729391093,0.012372590190988715,0.012494663885312791,0.012468196695588766,0.012663001720625526,0.01269713574920616,0.012717084002854,0.012784486806012596,0.012817709124255887,0.012842939147067196,0.012792511434161246,0.012916312851305277,0.012942616286714437,0.013050153298806991,0.013006790222655799,0.013051466010327051,0.013053987317999642,0.013102649654487885,0.013283136125106981,0.01350491504672678,0.013292953522299722,0.013312914843793254,0.01345321595661397,0.01360646230618075,0.013575473116204067,0.01357373955984269,0.013619475108517553,0.013619930532055003,0.013857708752095022,0.014014443917377198,0.014168030081106005,0.014012101369947882,0.014209227648710503,0.014226116932486935,0.014566483807555038,0.014505449357622413,0.014632836257977448,0.014644329201421294,0.014699048662644737,0.014882744765127793,0.014830463323141394,0.014547344781417839,0.015013757166660742,0.015053157793760456,0.015129296521451223,0.015302850070002786,0.015536740198010062,0.015491243778516467,0.015617517653433256,0.01554569086758003,0.01570433621807289,0.015993282713887964,0.016084784302049453,0.016217862748546075,0.016370066838151703,0.016362945182519486,0.016277125374884543,0.016578212161468774,0.016733211481556876,0.01698004564498089,0.01700716914875098,0.017011630992647773,0.017250746604810296,0.017360429869557666,0.017772904956798074,0.01777404139040479,0.017775093726265772,0.017896720389763407,0.01833277069729524,0.018464263684392464,0.01821153379430178,0.01857892556785714,0.01867159614530943,0.018623052646738067,0.019017268082096403,0.019175754823433942,0.01912916578188004,0.019351035458644895,0.01979883699461799,0.01965870368111804,0.019696813612315525,0.020067909167262244,0.020445311813614198,0.020294256821256136,0.020948107392492265,0.021159107740802877,0.02156423430706785,0.021631078145920104,0.022375962281971758,0.022308881391440587,0.02256768754248923,0.02282280804511647,0.023389468854559312,0.02340846930514897,0.02382792304351039,0.02389621111109108,0.02452230946200607,0.024752874557403368,0.02455581743392571,0.02511428774466117,0.02554109290313649,0.026583844090407358,0.02693813406812351,0.02698837431727413,0.02782401945564557,0.028058127252367466,0.027883297378972906,0.029331178979364256,0.030299658444938444,0.03177591507860512,0.03242923923299884,0.03291899762735835,0.03331572003516944,0.03418101338198327,0.034925545664218606,0.03653771201988686,0.038585277761716094,0.03959139163497846,0.04076804160706478,0.04178182429431533,0.04522068020389945,0.046311032810963895,0.049009434039489444,0.05048433602572804,0.052997250710563625,0.05682965731778356,0.07080364051497122,0.07734818254990732,0.08602121073957936,0.10993203712847814,0.1495612564129237],\"type\":\"data\",\"visible\":true},\"line\":{\"color\":\"#000000\"},\"name\":\"Con(cKO)\",\"type\":\"scatter\",\"x\":[0,5,10,15,20,25,30,35,40,45,50,55,60,65,70,75,80,85,90,95,100,105,110,115,120,125,130,135,140,145,150,155,160,165,170,175,180,185,190,195,200,205,210,215,220,225,230,235,240,245,250,255,260,265,270,275,280,285,290,295,300,305,310,315,320,325,330,335,340,345,350,355,360,365,370,375,380,385,390,395,400,405,410,415,420,425,430,435,440,445,450,455,460,465,470,475,480,485,490,495,500,505,510,515,520,525,530,535,540,545,550,555,560,565,570,575,580,585,590,595,600,605,610,615,620,625,630,635,640,645,650,655,660,665,670,675,680,685,690,695,700,705,710,715,720,725,730,735,740,745,750,755,760,765,770,775,780,785,790,795,800,805,810,815,820,825,830,835,840,845,850,855,860,865,870,875,880,885,890,895,900,905,910,915,920,925,930,935,940,945,950,955,960,965,970,975,980,985,990,995],\"y\":[1.0,0.46159591941760736,0.3315146235454525,0.25389997689178895,0.22933781241969667,0.2526867746385814,0.20098868028900688,0.198039004494201,0.19137536152789156,0.18818927794772525]},{\"error_y\":{\"array\":[0.0,0.008472386324723996,0.008806675053848438,0.009015026820475934,0.009240225972780495,0.009311948595810962,0.009430922765702654,0.009541455144636958,0.009649847764406916,0.009709898437365173,0.009757952331564134,0.009925202030159383,0.009922449782797924,0.009893502608711894,0.010045766324407509,0.009935307689794465,0.009982450372901335,0.010042016091007458,0.010081847038594261,0.010192349613334935,0.01021047107620049,0.010216732670709914,0.010169008325476373,0.01020700130353235,0.010204262820264718,0.010238740642071479,0.010396531927036505,0.010302577528115439,0.010427377484559774,0.010394267759181399,0.01043983593577303,0.010469338118890769,0.010591873033364653,0.010554140107613932,0.01059083625548634,0.0106390594054402,0.010669631615096827,0.01058763871684818,0.010707746850700629,0.010715072616914708,0.010752494821620774,0.010738366923538613,0.010782510614260285,0.010803441412790828,0.010804090171523206,0.01089418719590038,0.010962454508313691,0.011025046133506659,0.011007005072993256,0.011073646800692458,0.011158849244455092,0.011228036989738805,0.011143660816175323,0.01130493655547761,0.01131813437919269,0.011348419362218571,0.01135186113596897,0.011359828918258968,0.011332417786709405,0.011494292300140511,0.011449504529515256,0.011502320055723854,0.011536310666729945,0.011542060743611023,0.011675404052461289,0.011748377827085122,0.01177969464702926,0.011823209897017862,0.011854633221026655,0.011882457540926579,0.011924766744801167,0.012148539483366904,0.01205699124879433,0.012124586367168707,0.012188499766349139,0.012277392700856038,0.012283675054934972,0.012267932077697384,0.012356072981412442,0.012497040334326916,0.012586412099217601,0.012570593644226859,0.012659447107983002,0.012645586113567081,0.012658755393579062,0.012754223754015769,0.012828653930157497,0.012984279092888823,0.01301269620862332,0.01304842675283781,0.013101348900957627,0.013137711225450596,0.013190875449639119,0.01333396251914664,0.013476862824850907,0.013418245977864349,0.013505504940416009,0.013585005849953952,0.01364425509992173,0.01368976953123495,0.013861995357783308,0.013964431164119176,0.01400615158545606,0.014138097383267366,0.014089058436170478,0.014103252747404524,0.014204174039890789,0.014308392185577471,0.014305402842423284,0.014351890890277696,0.014552115962518852,0.014553596277913214,0.014667261468213762,0.01480396663064617,0.014998789486239547,0.014958268228849691,0.015088380600142174,0.015052148545529725,0.015136179234535026,0.015179551637914967,0.015269686178154935,0.015459389692623803,0.015439718580105873,0.015728868643391368,0.015783247807256397,0.016116036816887582,0.01608430511308344,0.016189795256104658,0.016331874758177854,0.01659170330298314,0.01656471848733817,0.01670265244724261,0.016786007568306834,0.01667461415461628,0.017013785959624595,0.017182162052602156,0.01746298797625423,0.017472548147227873,0.01765881962487348,0.017952231554537075,0.01787281377684881,0.018096389052878123,0.018378331456430832,0.018395559220129264,0.018714407735682906,0.018864314107668697,0.01899167808597143,0.019223417857642065,0.019476780635646177,0.019698115361499596,0.019702430460129178,0.019753610928960424,0.020369402368134292,0.020749934572406148,0.021023892696100988,0.021080271277023655,0.021374596009830847,0.02171509640975657,0.021843276570076724,0.022155645671306012,0.02198109676038281,0.022759525661414273,0.022709803887156436,0.02297350766651647,0.023555570648710625,0.02411584205288768,0.024780621898296117,0.024349177133137022,0.02479582760143921,0.025239186847905222,0.025919229390152558,0.027294618374664802,0.02701922050224451,0.02758660824401623,0.027966491138954958,0.02863368582999341,0.029559885426581493,0.029560347183269473,0.0299017969354114,0.0309140508869565,0.030895025863992433,0.032374605007850756,0.03356012057445724,0.0354578403669958,0.03676764650937615,0.03747352487569094,0.038596485519630665,0.04009248654980277,0.04374597611794442,0.04372977210361165,0.04768082034293279,0.048858217325304945,0.05419356419007906,0.05823237468788437,0.06450755133245245,0.07480670056709855,0.08424531764824487,0.10162919362867434,0.1344622365049471],\"type\":\"data\",\"visible\":true},\"line\":{\"color\":\"#6a0dad\"},\"name\":\"cKO\",\"type\":\"scatter\",\"x\":[0,5,10,15,20,25,30,35,40,45,50,55,60,65,70,75,80,85,90,95,100,105,110,115,120,125,130,135,140,145,150,155,160,165,170,175,180,185,190,195,200,205,210,215,220,225,230,235,240,245,250,255,260,265,270,275,280,285,290,295,300,305,310,315,320,325,330,335,340,345,350,355,360,365,370,375,380,385,390,395,400,405,410,415,420,425,430,435,440,445,450,455,460,465,470,475,480,485,490,495,500,505,510,515,520,525,530,535,540,545,550,555,560,565,570,575,580,585,590,595,600,605,610,615,620,625,630,635,640,645,650,655,660,665,670,675,680,685,690,695,700,705,710,715,720,725,730,735,740,745,750,755,760,765,770,775,780,785,790,795,800,805,810,815,820,825,830,835,840,845,850,855,860,865,870,875,880,885,890,895,900,905,910,915,920,925,930,935,940,945,950,955,960,965,970,975,980,985,990,995],\"y\":[1.0,0.5098299860325044,0.43261434813082045,0.3666674843688233,0.32144770031815956,0.3086530630639641,0.2685931850761111,0.23690586690097107,0.2183171070005834,0.1983250069678655]}],                        {\"legend\":{\"title\":{\"text\":\"Condition\"}},\"template\":{\"data\":{\"bar\":[{\"error_x\":{\"color\":\"#2a3f5f\"},\"error_y\":{\"color\":\"#2a3f5f\"},\"marker\":{\"line\":{\"color\":\"#E5ECF6\",\"width\":0.5},\"pattern\":{\"fillmode\":\"overlay\",\"size\":10,\"solidity\":0.2}},\"type\":\"bar\"}],\"barpolar\":[{\"marker\":{\"line\":{\"color\":\"#E5ECF6\",\"width\":0.5},\"pattern\":{\"fillmode\":\"overlay\",\"size\":10,\"solidity\":0.2}},\"type\":\"barpolar\"}],\"carpet\":[{\"aaxis\":{\"endlinecolor\":\"#2a3f5f\",\"gridcolor\":\"white\",\"linecolor\":\"white\",\"minorgridcolor\":\"white\",\"startlinecolor\":\"#2a3f5f\"},\"baxis\":{\"endlinecolor\":\"#2a3f5f\",\"gridcolor\":\"white\",\"linecolor\":\"white\",\"minorgridcolor\":\"white\",\"startlinecolor\":\"#2a3f5f\"},\"type\":\"carpet\"}],\"choropleth\":[{\"colorbar\":{\"outlinewidth\":0,\"ticks\":\"\"},\"type\":\"choropleth\"}],\"contour\":[{\"colorbar\":{\"outlinewidth\":0,\"ticks\":\"\"},\"colorscale\":[[0.0,\"#0d0887\"],[0.1111111111111111,\"#46039f\"],[0.2222222222222222,\"#7201a8\"],[0.3333333333333333,\"#9c179e\"],[0.4444444444444444,\"#bd3786\"],[0.5555555555555556,\"#d8576b\"],[0.6666666666666666,\"#ed7953\"],[0.7777777777777778,\"#fb9f3a\"],[0.8888888888888888,\"#fdca26\"],[1.0,\"#f0f921\"]],\"type\":\"contour\"}],\"contourcarpet\":[{\"colorbar\":{\"outlinewidth\":0,\"ticks\":\"\"},\"type\":\"contourcarpet\"}],\"heatmap\":[{\"colorbar\":{\"outlinewidth\":0,\"ticks\":\"\"},\"colorscale\":[[0.0,\"#0d0887\"],[0.1111111111111111,\"#46039f\"],[0.2222222222222222,\"#7201a8\"],[0.3333333333333333,\"#9c179e\"],[0.4444444444444444,\"#bd3786\"],[0.5555555555555556,\"#d8576b\"],[0.6666666666666666,\"#ed7953\"],[0.7777777777777778,\"#fb9f3a\"],[0.8888888888888888,\"#fdca26\"],[1.0,\"#f0f921\"]],\"type\":\"heatmap\"}],\"heatmapgl\":[{\"colorbar\":{\"outlinewidth\":0,\"ticks\":\"\"},\"colorscale\":[[0.0,\"#0d0887\"],[0.1111111111111111,\"#46039f\"],[0.2222222222222222,\"#7201a8\"],[0.3333333333333333,\"#9c179e\"],[0.4444444444444444,\"#bd3786\"],[0.5555555555555556,\"#d8576b\"],[0.6666666666666666,\"#ed7953\"],[0.7777777777777778,\"#fb9f3a\"],[0.8888888888888888,\"#fdca26\"],[1.0,\"#f0f921\"]],\"type\":\"heatmapgl\"}],\"histogram\":[{\"marker\":{\"pattern\":{\"fillmode\":\"overlay\",\"size\":10,\"solidity\":0.2}},\"type\":\"histogram\"}],\"histogram2d\":[{\"colorbar\":{\"outlinewidth\":0,\"ticks\":\"\"},\"colorscale\":[[0.0,\"#0d0887\"],[0.1111111111111111,\"#46039f\"],[0.2222222222222222,\"#7201a8\"],[0.3333333333333333,\"#9c179e\"],[0.4444444444444444,\"#bd3786\"],[0.5555555555555556,\"#d8576b\"],[0.6666666666666666,\"#ed7953\"],[0.7777777777777778,\"#fb9f3a\"],[0.8888888888888888,\"#fdca26\"],[1.0,\"#f0f921\"]],\"type\":\"histogram2d\"}],\"histogram2dcontour\":[{\"colorbar\":{\"outlinewidth\":0,\"ticks\":\"\"},\"colorscale\":[[0.0,\"#0d0887\"],[0.1111111111111111,\"#46039f\"],[0.2222222222222222,\"#7201a8\"],[0.3333333333333333,\"#9c179e\"],[0.4444444444444444,\"#bd3786\"],[0.5555555555555556,\"#d8576b\"],[0.6666666666666666,\"#ed7953\"],[0.7777777777777778,\"#fb9f3a\"],[0.8888888888888888,\"#fdca26\"],[1.0,\"#f0f921\"]],\"type\":\"histogram2dcontour\"}],\"mesh3d\":[{\"colorbar\":{\"outlinewidth\":0,\"ticks\":\"\"},\"type\":\"mesh3d\"}],\"parcoords\":[{\"line\":{\"colorbar\":{\"outlinewidth\":0,\"ticks\":\"\"}},\"type\":\"parcoords\"}],\"pie\":[{\"automargin\":true,\"type\":\"pie\"}],\"scatter\":[{\"marker\":{\"colorbar\":{\"outlinewidth\":0,\"ticks\":\"\"}},\"type\":\"scatter\"}],\"scatter3d\":[{\"line\":{\"colorbar\":{\"outlinewidth\":0,\"ticks\":\"\"}},\"marker\":{\"colorbar\":{\"outlinewidth\":0,\"ticks\":\"\"}},\"type\":\"scatter3d\"}],\"scattercarpet\":[{\"marker\":{\"colorbar\":{\"outlinewidth\":0,\"ticks\":\"\"}},\"type\":\"scattercarpet\"}],\"scattergeo\":[{\"marker\":{\"colorbar\":{\"outlinewidth\":0,\"ticks\":\"\"}},\"type\":\"scattergeo\"}],\"scattergl\":[{\"marker\":{\"colorbar\":{\"outlinewidth\":0,\"ticks\":\"\"}},\"type\":\"scattergl\"}],\"scattermapbox\":[{\"marker\":{\"colorbar\":{\"outlinewidth\":0,\"ticks\":\"\"}},\"type\":\"scattermapbox\"}],\"scatterpolar\":[{\"marker\":{\"colorbar\":{\"outlinewidth\":0,\"ticks\":\"\"}},\"type\":\"scatterpolar\"}],\"scatterpolargl\":[{\"marker\":{\"colorbar\":{\"outlinewidth\":0,\"ticks\":\"\"}},\"type\":\"scatterpolargl\"}],\"scatterternary\":[{\"marker\":{\"colorbar\":{\"outlinewidth\":0,\"ticks\":\"\"}},\"type\":\"scatterternary\"}],\"surface\":[{\"colorbar\":{\"outlinewidth\":0,\"ticks\":\"\"},\"colorscale\":[[0.0,\"#0d0887\"],[0.1111111111111111,\"#46039f\"],[0.2222222222222222,\"#7201a8\"],[0.3333333333333333,\"#9c179e\"],[0.4444444444444444,\"#bd3786\"],[0.5555555555555556,\"#d8576b\"],[0.6666666666666666,\"#ed7953\"],[0.7777777777777778,\"#fb9f3a\"],[0.8888888888888888,\"#fdca26\"],[1.0,\"#f0f921\"]],\"type\":\"surface\"}],\"table\":[{\"cells\":{\"fill\":{\"color\":\"#EBF0F8\"},\"line\":{\"color\":\"white\"}},\"header\":{\"fill\":{\"color\":\"#C8D4E3\"},\"line\":{\"color\":\"white\"}},\"type\":\"table\"}]},\"layout\":{\"annotationdefaults\":{\"arrowcolor\":\"#2a3f5f\",\"arrowhead\":0,\"arrowwidth\":1},\"autotypenumbers\":\"strict\",\"coloraxis\":{\"colorbar\":{\"outlinewidth\":0,\"ticks\":\"\"}},\"colorscale\":{\"diverging\":[[0,\"#8e0152\"],[0.1,\"#c51b7d\"],[0.2,\"#de77ae\"],[0.3,\"#f1b6da\"],[0.4,\"#fde0ef\"],[0.5,\"#f7f7f7\"],[0.6,\"#e6f5d0\"],[0.7,\"#b8e186\"],[0.8,\"#7fbc41\"],[0.9,\"#4d9221\"],[1,\"#276419\"]],\"sequential\":[[0.0,\"#0d0887\"],[0.1111111111111111,\"#46039f\"],[0.2222222222222222,\"#7201a8\"],[0.3333333333333333,\"#9c179e\"],[0.4444444444444444,\"#bd3786\"],[0.5555555555555556,\"#d8576b\"],[0.6666666666666666,\"#ed7953\"],[0.7777777777777778,\"#fb9f3a\"],[0.8888888888888888,\"#fdca26\"],[1.0,\"#f0f921\"]],\"sequentialminus\":[[0.0,\"#0d0887\"],[0.1111111111111111,\"#46039f\"],[0.2222222222222222,\"#7201a8\"],[0.3333333333333333,\"#9c179e\"],[0.4444444444444444,\"#bd3786\"],[0.5555555555555556,\"#d8576b\"],[0.6666666666666666,\"#ed7953\"],[0.7777777777777778,\"#fb9f3a\"],[0.8888888888888888,\"#fdca26\"],[1.0,\"#f0f921\"]]},\"colorway\":[\"#636efa\",\"#EF553B\",\"#00cc96\",\"#ab63fa\",\"#FFA15A\",\"#19d3f3\",\"#FF6692\",\"#B6E880\",\"#FF97FF\",\"#FECB52\"],\"font\":{\"color\":\"#2a3f5f\"},\"geo\":{\"bgcolor\":\"white\",\"lakecolor\":\"white\",\"landcolor\":\"#E5ECF6\",\"showlakes\":true,\"showland\":true,\"subunitcolor\":\"white\"},\"hoverlabel\":{\"align\":\"left\"},\"hovermode\":\"closest\",\"mapbox\":{\"style\":\"light\"},\"paper_bgcolor\":\"white\",\"plot_bgcolor\":\"#E5ECF6\",\"polar\":{\"angularaxis\":{\"gridcolor\":\"white\",\"linecolor\":\"white\",\"ticks\":\"\"},\"bgcolor\":\"#E5ECF6\",\"radialaxis\":{\"gridcolor\":\"white\",\"linecolor\":\"white\",\"ticks\":\"\"}},\"scene\":{\"xaxis\":{\"backgroundcolor\":\"#E5ECF6\",\"gridcolor\":\"white\",\"gridwidth\":2,\"linecolor\":\"white\",\"showbackground\":true,\"ticks\":\"\",\"zerolinecolor\":\"white\"},\"yaxis\":{\"backgroundcolor\":\"#E5ECF6\",\"gridcolor\":\"white\",\"gridwidth\":2,\"linecolor\":\"white\",\"showbackground\":true,\"ticks\":\"\",\"zerolinecolor\":\"white\"},\"zaxis\":{\"backgroundcolor\":\"#E5ECF6\",\"gridcolor\":\"white\",\"gridwidth\":2,\"linecolor\":\"white\",\"showbackground\":true,\"ticks\":\"\",\"zerolinecolor\":\"white\"}},\"shapedefaults\":{\"line\":{\"color\":\"#2a3f5f\"}},\"ternary\":{\"aaxis\":{\"gridcolor\":\"white\",\"linecolor\":\"white\",\"ticks\":\"\"},\"baxis\":{\"gridcolor\":\"white\",\"linecolor\":\"white\",\"ticks\":\"\"},\"bgcolor\":\"#E5ECF6\",\"caxis\":{\"gridcolor\":\"white\",\"linecolor\":\"white\",\"ticks\":\"\"}},\"title\":{\"x\":0.05},\"xaxis\":{\"automargin\":true,\"gridcolor\":\"white\",\"linecolor\":\"white\",\"ticks\":\"\",\"title\":{\"standoff\":15},\"zerolinecolor\":\"white\",\"zerolinewidth\":2},\"yaxis\":{\"automargin\":true,\"gridcolor\":\"white\",\"linecolor\":\"white\",\"ticks\":\"\",\"title\":{\"standoff\":15},\"zerolinecolor\":\"white\",\"zerolinewidth\":2}}},\"title\":{\"text\":\"Scratch Assay: Con(cKO) v cKO Dir AutoCorr\"},\"xaxis\":{\"title\":{\"text\":\"Time (min)\"}},\"yaxis\":{\"title\":{\"text\":\"Dir AutoCorr\"}}},                        {\"responsive\": true}                    ).then(function(){\n",
       "                            \n",
       "var gd = document.getElementById('b504bfdd-a035-4215-995b-9e6a61210152');\n",
       "var x = new MutationObserver(function (mutations, observer) {{\n",
       "        var display = window.getComputedStyle(gd).display;\n",
       "        if (!display || display === 'none') {{\n",
       "            console.log([gd, 'removed!']);\n",
       "            Plotly.purge(gd);\n",
       "            observer.disconnect();\n",
       "        }}\n",
       "}});\n",
       "\n",
       "// Listen for the removal of the full notebook cells\n",
       "var notebookContainer = gd.closest('#notebook-container');\n",
       "if (notebookContainer) {{\n",
       "    x.observe(notebookContainer, {childList: true});\n",
       "}}\n",
       "\n",
       "// Listen for the clearing of the current output cell\n",
       "var outputEl = gd.closest('.output');\n",
       "if (outputEl) {{\n",
       "    x.observe(outputEl, {childList: true});\n",
       "}}\n",
       "\n",
       "                        })                };                });            </script>        </div>"
      ]
     },
     "metadata": {},
     "output_type": "display_data"
    }
   ],
   "source": [
    "Single_cKO_DA_fig = go.Figure()\n",
    "\n",
    "Single_cKO_DA_fig.add_trace(go.Scatter(x= time, y= np.nanmean(Single_Con_cKO_DA, axis=0)[0:10], name='Con(cKO)', line_color='#000000', error_y=dict(type='data', array = Single_Con_cKO_DA.sem(axis=0), visible=True)))\n",
    "Single_cKO_DA_fig.add_trace(go.Scatter(x= time, y= np.nanmean(Single_cKO_DA, axis=0)[0:10], name='cKO', line_color='#6a0dad', error_y =dict(type='data', array = Single_cKO_DA.sem(axis=0) , visible=True)))\n",
    "Single_cKO_DA_fig.update_layout(title=\"Scratch Assay: Con(cKO) v cKO Dir AutoCorr\", xaxis_title=\"Time (min)\", yaxis_title=\"Dir AutoCorr\", legend_title=\"Condition\")\n",
    "Single_cKO_DA_fig.show()"
   ]
  },
  {
   "cell_type": "code",
   "execution_count": 237,
   "metadata": {},
   "outputs": [
    {
     "ename": "ValueError",
     "evalue": "cannot insert 0, already exists",
     "output_type": "error",
     "traceback": [
      "\u001b[1;31m---------------------------------------------------------------------------\u001b[0m",
      "\u001b[1;31mValueError\u001b[0m                                Traceback (most recent call last)",
      "\u001b[1;32m<ipython-input-237-949c296e01b3>\u001b[0m in \u001b[0;36m<module>\u001b[1;34m()\u001b[0m\n\u001b[0;32m      3\u001b[0m     \u001b[0mfirst\u001b[0m\u001b[1;33m.\u001b[0m\u001b[0mappend\u001b[0m\u001b[1;33m(\u001b[0m\u001b[1;36m1\u001b[0m\u001b[1;33m)\u001b[0m\u001b[1;33m\u001b[0m\u001b[0m\n\u001b[0;32m      4\u001b[0m \u001b[1;33m\u001b[0m\u001b[0m\n\u001b[1;32m----> 5\u001b[1;33m \u001b[0mSingle_cKO_VA\u001b[0m\u001b[1;33m.\u001b[0m\u001b[0minsert\u001b[0m\u001b[1;33m(\u001b[0m\u001b[1;36m0\u001b[0m\u001b[1;33m,\u001b[0m \u001b[0mcolumn\u001b[0m\u001b[1;33m=\u001b[0m\u001b[1;34m'0'\u001b[0m\u001b[1;33m,\u001b[0m \u001b[0mvalue\u001b[0m\u001b[1;33m=\u001b[0m\u001b[0mfirst\u001b[0m\u001b[1;33m)\u001b[0m\u001b[1;33m\u001b[0m\u001b[0m\n\u001b[0m",
      "\u001b[1;32m~\\AppData\\Roaming\\Python\\Python37\\site-packages\\pandas\\core\\frame.py\u001b[0m in \u001b[0;36minsert\u001b[1;34m(self, loc, column, value, allow_duplicates)\u001b[0m\n\u001b[0;32m   4412\u001b[0m         \u001b[1;32mif\u001b[0m \u001b[1;32mnot\u001b[0m \u001b[0mallow_duplicates\u001b[0m \u001b[1;32mand\u001b[0m \u001b[0mcolumn\u001b[0m \u001b[1;32min\u001b[0m \u001b[0mself\u001b[0m\u001b[1;33m.\u001b[0m\u001b[0mcolumns\u001b[0m\u001b[1;33m:\u001b[0m\u001b[1;33m\u001b[0m\u001b[0m\n\u001b[0;32m   4413\u001b[0m             \u001b[1;31m# Should this be a different kind of error??\u001b[0m\u001b[1;33m\u001b[0m\u001b[1;33m\u001b[0m\u001b[0m\n\u001b[1;32m-> 4414\u001b[1;33m             \u001b[1;32mraise\u001b[0m \u001b[0mValueError\u001b[0m\u001b[1;33m(\u001b[0m\u001b[1;34mf\"cannot insert {column}, already exists\"\u001b[0m\u001b[1;33m)\u001b[0m\u001b[1;33m\u001b[0m\u001b[0m\n\u001b[0m\u001b[0;32m   4415\u001b[0m         \u001b[1;32mif\u001b[0m \u001b[1;32mnot\u001b[0m \u001b[0misinstance\u001b[0m\u001b[1;33m(\u001b[0m\u001b[0mloc\u001b[0m\u001b[1;33m,\u001b[0m \u001b[0mint\u001b[0m\u001b[1;33m)\u001b[0m\u001b[1;33m:\u001b[0m\u001b[1;33m\u001b[0m\u001b[0m\n\u001b[0;32m   4416\u001b[0m             \u001b[1;32mraise\u001b[0m \u001b[0mTypeError\u001b[0m\u001b[1;33m(\u001b[0m\u001b[1;34m\"loc must be int\"\u001b[0m\u001b[1;33m)\u001b[0m\u001b[1;33m\u001b[0m\u001b[0m\n",
      "\u001b[1;31mValueError\u001b[0m: cannot insert 0, already exists"
     ]
    }
   ],
   "source": [
    "first=[]\n",
    "for i in range(np.shape(Single_cKO_VA)[0]):\n",
    "    first.append(1)\n",
    "\n",
    "Single_cKO_VA.insert(0, column='0', value=first)"
   ]
  },
  {
   "cell_type": "code",
   "execution_count": 220,
   "metadata": {},
   "outputs": [
    {
     "data": {
      "application/vnd.plotly.v1+json": {
       "config": {
        "plotlyServerURL": "https://plot.ly"
       },
       "data": [
        {
         "error_y": {
          "array": [
           0,
           0.016691819535749934,
           0.012561064591312222,
           0.012700560055665337,
           0.011894675407823347,
           0.011001446012678823,
           0.010177514433447589,
           0.01136162726476675,
           0.010826835453706064,
           0.01012111897892612,
           0.009690756676620322,
           0.009099842520315123,
           0.009724698592255753,
           0.009782905612161863,
           0.009981948919250846,
           0.009376535637352374,
           0.009629134981975797,
           0.009308524494005758,
           0.009204260717664043,
           0.009189703383255296,
           0.010615087083921938,
           0.010980371305813391,
           0.010897859278835267,
           0.008720256657070978,
           0.00847917152575833,
           0.009257870567517652,
           0.010615692003183963,
           0.00955327193047379,
           0.008579554004085778,
           0.013968999292962823,
           0.010161125511748147,
           0.01019752128639746,
           0.009255378458403027,
           0.009867994639191654,
           0.00998301990341181,
           0.008959729942818023,
           0.011077479216394888,
           0.009905945210401028,
           0.009842372149770426,
           0.010696548949899005,
           0.009855541335986798,
           0.00943635932096788,
           0.010374312564418555,
           0.008945029928423396,
           0.008458972839099544,
           0.00889791010109227,
           0.00906508987367102,
           0.0097865145140886,
           0.009742635923177362,
           0.009672621141395114,
           0.009778189539648421,
           0.00926421041756947,
           0.00928978477089898,
           0.009862731568334742,
           0.008467797844878177,
           0.010460991415330611,
           0.009432091818480084,
           0.009155906433664155,
           0.009117291924701745,
           0.009097959709434875,
           0.009254569953882994,
           0.010116328121866256,
           0.009909127921553589,
           0.0104197577622018,
           0.010067291509183344
          ],
          "type": "data",
          "visible": true
         },
         "line": {
          "color": "#000000"
         },
         "name": "Con(cKO)",
         "type": "scatter",
         "x": [
          0,
          5,
          10,
          15,
          20,
          25,
          30,
          35,
          40,
          45,
          50,
          55,
          60,
          65,
          70,
          75,
          80,
          85,
          90,
          95,
          100,
          105,
          110,
          115,
          120,
          125,
          130,
          135,
          140,
          145,
          150,
          155,
          160,
          165,
          170,
          175,
          180,
          185,
          190,
          195,
          200,
          205,
          210,
          215,
          220,
          225,
          230,
          235,
          240,
          245,
          250,
          255,
          260,
          265,
          270,
          275,
          280,
          285,
          290,
          295,
          300,
          305,
          310,
          315,
          320,
          325,
          330,
          335,
          340,
          345,
          350,
          355,
          360,
          365,
          370,
          375,
          380,
          385,
          390,
          395,
          400,
          405,
          410,
          415,
          420,
          425,
          430,
          435,
          440,
          445,
          450,
          455,
          460,
          465,
          470,
          475,
          480,
          485,
          490,
          495,
          500,
          505,
          510,
          515,
          520,
          525,
          530,
          535,
          540,
          545,
          550,
          555,
          560,
          565,
          570,
          575,
          580,
          585,
          590,
          595,
          600,
          605,
          610,
          615,
          620,
          625,
          630,
          635,
          640,
          645,
          650,
          655,
          660,
          665,
          670,
          675,
          680,
          685,
          690,
          695,
          700,
          705,
          710,
          715,
          720,
          725,
          730,
          735,
          740,
          745,
          750,
          755,
          760,
          765,
          770,
          775,
          780,
          785,
          790,
          795,
          800,
          805,
          810,
          815,
          820,
          825,
          830,
          835,
          840,
          845,
          850,
          855,
          860,
          865,
          870,
          875,
          880,
          885,
          890,
          895,
          900,
          905,
          910,
          915,
          920,
          925,
          930,
          935,
          940,
          945,
          950,
          955,
          960,
          965,
          970,
          975,
          980,
          985,
          990,
          995
         ],
         "y": [
          1,
          0.2874355625381628,
          0.1900859574545273,
          0.13129585722622006,
          0.1305402983019666,
          0.1462807589882649,
          0.12436234532886539,
          0.11196806266262634,
          0.11073796441950723,
          0.10331919749322842,
          0.1212525684685638,
          0.0931117365973802,
          0.08995085898199993,
          0.07268593530591011,
          0.0630529249759713,
          0.07235791910926057,
          0.060954458091911634,
          0.06773949550094072,
          0.06785689377617901,
          0.06317425492790152,
          0.06258081762490685,
          0.0453244584733201,
          0.04173446693531898,
          0.04570412068981763,
          0.04945897790622853,
          0.058221893404443247,
          0.04530520615010084,
          0.05813123884696472,
          0.040313672588344306,
          0.05051699822646453,
          0.05357967704827248,
          0.04166228937799102,
          0.030613068903878497,
          0.03134687553229566,
          0.04280129657415543,
          0.038611980742836324,
          0.03658373537849387,
          0.02665408380552376,
          0.03525979812660046,
          0.025161326095967426,
          0.027767496399824086,
          0.021940194616289495,
          0.016150686036141844,
          -0.0007393974129567962,
          0.009313637562496766,
          0.016958040975261983,
          0.017809345504088813,
          0.04350906020177233,
          0.025122205262122898,
          0.01444877663714779,
          0.011333370509348108,
          0.010607223672647659,
          0.014791933600213126,
          0.003965708220201847,
          0.01933251336929866,
          0.019766481460421006,
          0.007458649803973986,
          0.0018342665335483884,
          0.0035769836697583045,
          0.018745423519493303,
          0.026740125045777136,
          0.018965244949573908,
          0.033479785812666765,
          0.03475149050563926,
          0.023820329598851178
         ]
        },
        {
         "error_y": {
          "array": [
           0,
           0.018918651093027393,
           0.01504943573635837,
           0.011245191408664326,
           0.010462393405415753,
           0.00982839723343131,
           0.009994688498118812,
           0.00958423046448474,
           0.009844508237185499,
           0.010054259502525906,
           0.010224410563497143,
           0.01029173178320142,
           0.009941404642807912,
           0.009583055891576833,
           0.008980312827366464,
           0.009161133964717074,
           0.009285100815835319,
           0.009814749398780324,
           0.00890185813838241,
           0.009442077335511737,
           0.009824356117242939,
           0.009396061671913324,
           0.00969912256388153,
           0.009480505623139967,
           0.009166164355451952,
           0.009678139715483518,
           0.009472062108084194,
           0.009018615144861216,
           0.009268539642164269,
           0.010027996878197155,
           0.010011776971720737,
           0.011939995487769871,
           0.012392730742972657,
           0.009741532401306095,
           0.009090794099215158,
           0.00952902641427215,
           0.009285038571253632,
           0.010200784901132654,
           0.009274606716850403,
           0.00998893890753277,
           0.009677439625157701,
           0.009645971311588546,
           0.009283881986633923,
           0.00962742169865409,
           0.009064465207297446,
           0.008905030025684088,
           0.008625607305118375,
           0.009007912420424693,
           0.009234291681095706,
           0.009778607336404658,
           0.009502175005404026,
           0.009277705932046717,
           0.009392154644043645,
           0.009429947421969684,
           0.01015354519929771,
           0.009557032642500792,
           0.010484890271816639,
           0.009649855342560066,
           0.009279981229887322,
           0.00976587993705843,
           0.009771706289936807,
           0.010762382090991247,
           0.009540759420976545,
           0.011969244302287912,
           0.01187149975735905
          ],
          "type": "data",
          "visible": true
         },
         "line": {
          "color": "#6a0dad"
         },
         "name": "cKO",
         "type": "scatter",
         "x": [
          0,
          5,
          10,
          15,
          20,
          25,
          30,
          35,
          40,
          45,
          50,
          55,
          60,
          65,
          70,
          75,
          80,
          85,
          90,
          95,
          100,
          105,
          110,
          115,
          120,
          125,
          130,
          135,
          140,
          145,
          150,
          155,
          160,
          165,
          170,
          175,
          180,
          185,
          190,
          195,
          200,
          205,
          210,
          215,
          220,
          225,
          230,
          235,
          240,
          245,
          250,
          255,
          260,
          265,
          270,
          275,
          280,
          285,
          290,
          295,
          300,
          305,
          310,
          315,
          320,
          325,
          330,
          335,
          340,
          345,
          350,
          355,
          360,
          365,
          370,
          375,
          380,
          385,
          390,
          395,
          400,
          405,
          410,
          415,
          420,
          425,
          430,
          435,
          440,
          445,
          450,
          455,
          460,
          465,
          470,
          475,
          480,
          485,
          490,
          495,
          500,
          505,
          510,
          515,
          520,
          525,
          530,
          535,
          540,
          545,
          550,
          555,
          560,
          565,
          570,
          575,
          580,
          585,
          590,
          595,
          600,
          605,
          610,
          615,
          620,
          625,
          630,
          635,
          640,
          645,
          650,
          655,
          660,
          665,
          670,
          675,
          680,
          685,
          690,
          695,
          700,
          705,
          710,
          715,
          720,
          725,
          730,
          735,
          740,
          745,
          750,
          755,
          760,
          765,
          770,
          775,
          780,
          785,
          790,
          795,
          800,
          805,
          810,
          815,
          820,
          825,
          830,
          835,
          840,
          845,
          850,
          855,
          860,
          865,
          870,
          875,
          880,
          885,
          890,
          895,
          900,
          905,
          910,
          915,
          920,
          925,
          930,
          935,
          940,
          945,
          950,
          955,
          960,
          965,
          970,
          975,
          980,
          985,
          990,
          995
         ],
         "y": [
          1,
          0.36669421175650124,
          0.34319000722002213,
          0.2762263114609477,
          0.24395330421658024,
          0.22938536196200518,
          0.19783961633465966,
          0.1903456238411454,
          0.17241202899867264,
          0.15448580193156208,
          0.13528127706739784,
          0.11550563398670248,
          0.11533564521203331,
          0.10360211891955654,
          0.10963661159257902,
          0.10555521644730995,
          0.09885456061477439,
          0.09369342676048306,
          0.08249763812627985,
          0.08690232177993422,
          0.08942215308552419,
          0.1038629795518356,
          0.09104509200511814,
          0.09165204927681901,
          0.07769618349095148,
          0.08000033222689457,
          0.0661854306695812,
          0.07738067380709927,
          0.07337140760036638,
          0.07329969164665166,
          0.07587358984787787,
          0.04663820453901181,
          0.05898621231160202,
          0.056124670515672194,
          0.039632498110418565,
          0.03559981862400253,
          0.04582282419762183,
          0.04020106337246517,
          0.03209499858263355,
          0.03932132405300072,
          0.030084972312447316,
          0.030028220411975594,
          0.029961780123652557,
          0.040326436778778965,
          0.026753745896149223,
          0.020033598014953476,
          0.012568204795873623,
          0.008586304322124793,
          0.017657974719231345,
          0.016025650417805095,
          0.0005575659183936818,
          0.007185230540629304,
          0.007281247167299995,
          0.002113265631181977,
          -0.004493397311007636,
          0.01102690151851844,
          -0.00680777340343062,
          0.0015193608963295303,
          -0.009965401368760604,
          0.0014914927074411504,
          0.005667927604992354,
          0.017967331927640152,
          0.015768388520629,
          0.026967400022929154,
          0.043412725839547424
         ]
        }
       ],
       "layout": {
        "legend": {
         "title": {
          "text": "Condition"
         }
        },
        "template": {
         "data": {
          "bar": [
           {
            "error_x": {
             "color": "#2a3f5f"
            },
            "error_y": {
             "color": "#2a3f5f"
            },
            "marker": {
             "line": {
              "color": "#E5ECF6",
              "width": 0.5
             },
             "pattern": {
              "fillmode": "overlay",
              "size": 10,
              "solidity": 0.2
             }
            },
            "type": "bar"
           }
          ],
          "barpolar": [
           {
            "marker": {
             "line": {
              "color": "#E5ECF6",
              "width": 0.5
             },
             "pattern": {
              "fillmode": "overlay",
              "size": 10,
              "solidity": 0.2
             }
            },
            "type": "barpolar"
           }
          ],
          "carpet": [
           {
            "aaxis": {
             "endlinecolor": "#2a3f5f",
             "gridcolor": "white",
             "linecolor": "white",
             "minorgridcolor": "white",
             "startlinecolor": "#2a3f5f"
            },
            "baxis": {
             "endlinecolor": "#2a3f5f",
             "gridcolor": "white",
             "linecolor": "white",
             "minorgridcolor": "white",
             "startlinecolor": "#2a3f5f"
            },
            "type": "carpet"
           }
          ],
          "choropleth": [
           {
            "colorbar": {
             "outlinewidth": 0,
             "ticks": ""
            },
            "type": "choropleth"
           }
          ],
          "contour": [
           {
            "colorbar": {
             "outlinewidth": 0,
             "ticks": ""
            },
            "colorscale": [
             [
              0,
              "#0d0887"
             ],
             [
              0.1111111111111111,
              "#46039f"
             ],
             [
              0.2222222222222222,
              "#7201a8"
             ],
             [
              0.3333333333333333,
              "#9c179e"
             ],
             [
              0.4444444444444444,
              "#bd3786"
             ],
             [
              0.5555555555555556,
              "#d8576b"
             ],
             [
              0.6666666666666666,
              "#ed7953"
             ],
             [
              0.7777777777777778,
              "#fb9f3a"
             ],
             [
              0.8888888888888888,
              "#fdca26"
             ],
             [
              1,
              "#f0f921"
             ]
            ],
            "type": "contour"
           }
          ],
          "contourcarpet": [
           {
            "colorbar": {
             "outlinewidth": 0,
             "ticks": ""
            },
            "type": "contourcarpet"
           }
          ],
          "heatmap": [
           {
            "colorbar": {
             "outlinewidth": 0,
             "ticks": ""
            },
            "colorscale": [
             [
              0,
              "#0d0887"
             ],
             [
              0.1111111111111111,
              "#46039f"
             ],
             [
              0.2222222222222222,
              "#7201a8"
             ],
             [
              0.3333333333333333,
              "#9c179e"
             ],
             [
              0.4444444444444444,
              "#bd3786"
             ],
             [
              0.5555555555555556,
              "#d8576b"
             ],
             [
              0.6666666666666666,
              "#ed7953"
             ],
             [
              0.7777777777777778,
              "#fb9f3a"
             ],
             [
              0.8888888888888888,
              "#fdca26"
             ],
             [
              1,
              "#f0f921"
             ]
            ],
            "type": "heatmap"
           }
          ],
          "heatmapgl": [
           {
            "colorbar": {
             "outlinewidth": 0,
             "ticks": ""
            },
            "colorscale": [
             [
              0,
              "#0d0887"
             ],
             [
              0.1111111111111111,
              "#46039f"
             ],
             [
              0.2222222222222222,
              "#7201a8"
             ],
             [
              0.3333333333333333,
              "#9c179e"
             ],
             [
              0.4444444444444444,
              "#bd3786"
             ],
             [
              0.5555555555555556,
              "#d8576b"
             ],
             [
              0.6666666666666666,
              "#ed7953"
             ],
             [
              0.7777777777777778,
              "#fb9f3a"
             ],
             [
              0.8888888888888888,
              "#fdca26"
             ],
             [
              1,
              "#f0f921"
             ]
            ],
            "type": "heatmapgl"
           }
          ],
          "histogram": [
           {
            "marker": {
             "pattern": {
              "fillmode": "overlay",
              "size": 10,
              "solidity": 0.2
             }
            },
            "type": "histogram"
           }
          ],
          "histogram2d": [
           {
            "colorbar": {
             "outlinewidth": 0,
             "ticks": ""
            },
            "colorscale": [
             [
              0,
              "#0d0887"
             ],
             [
              0.1111111111111111,
              "#46039f"
             ],
             [
              0.2222222222222222,
              "#7201a8"
             ],
             [
              0.3333333333333333,
              "#9c179e"
             ],
             [
              0.4444444444444444,
              "#bd3786"
             ],
             [
              0.5555555555555556,
              "#d8576b"
             ],
             [
              0.6666666666666666,
              "#ed7953"
             ],
             [
              0.7777777777777778,
              "#fb9f3a"
             ],
             [
              0.8888888888888888,
              "#fdca26"
             ],
             [
              1,
              "#f0f921"
             ]
            ],
            "type": "histogram2d"
           }
          ],
          "histogram2dcontour": [
           {
            "colorbar": {
             "outlinewidth": 0,
             "ticks": ""
            },
            "colorscale": [
             [
              0,
              "#0d0887"
             ],
             [
              0.1111111111111111,
              "#46039f"
             ],
             [
              0.2222222222222222,
              "#7201a8"
             ],
             [
              0.3333333333333333,
              "#9c179e"
             ],
             [
              0.4444444444444444,
              "#bd3786"
             ],
             [
              0.5555555555555556,
              "#d8576b"
             ],
             [
              0.6666666666666666,
              "#ed7953"
             ],
             [
              0.7777777777777778,
              "#fb9f3a"
             ],
             [
              0.8888888888888888,
              "#fdca26"
             ],
             [
              1,
              "#f0f921"
             ]
            ],
            "type": "histogram2dcontour"
           }
          ],
          "mesh3d": [
           {
            "colorbar": {
             "outlinewidth": 0,
             "ticks": ""
            },
            "type": "mesh3d"
           }
          ],
          "parcoords": [
           {
            "line": {
             "colorbar": {
              "outlinewidth": 0,
              "ticks": ""
             }
            },
            "type": "parcoords"
           }
          ],
          "pie": [
           {
            "automargin": true,
            "type": "pie"
           }
          ],
          "scatter": [
           {
            "marker": {
             "colorbar": {
              "outlinewidth": 0,
              "ticks": ""
             }
            },
            "type": "scatter"
           }
          ],
          "scatter3d": [
           {
            "line": {
             "colorbar": {
              "outlinewidth": 0,
              "ticks": ""
             }
            },
            "marker": {
             "colorbar": {
              "outlinewidth": 0,
              "ticks": ""
             }
            },
            "type": "scatter3d"
           }
          ],
          "scattercarpet": [
           {
            "marker": {
             "colorbar": {
              "outlinewidth": 0,
              "ticks": ""
             }
            },
            "type": "scattercarpet"
           }
          ],
          "scattergeo": [
           {
            "marker": {
             "colorbar": {
              "outlinewidth": 0,
              "ticks": ""
             }
            },
            "type": "scattergeo"
           }
          ],
          "scattergl": [
           {
            "marker": {
             "colorbar": {
              "outlinewidth": 0,
              "ticks": ""
             }
            },
            "type": "scattergl"
           }
          ],
          "scattermapbox": [
           {
            "marker": {
             "colorbar": {
              "outlinewidth": 0,
              "ticks": ""
             }
            },
            "type": "scattermapbox"
           }
          ],
          "scatterpolar": [
           {
            "marker": {
             "colorbar": {
              "outlinewidth": 0,
              "ticks": ""
             }
            },
            "type": "scatterpolar"
           }
          ],
          "scatterpolargl": [
           {
            "marker": {
             "colorbar": {
              "outlinewidth": 0,
              "ticks": ""
             }
            },
            "type": "scatterpolargl"
           }
          ],
          "scatterternary": [
           {
            "marker": {
             "colorbar": {
              "outlinewidth": 0,
              "ticks": ""
             }
            },
            "type": "scatterternary"
           }
          ],
          "surface": [
           {
            "colorbar": {
             "outlinewidth": 0,
             "ticks": ""
            },
            "colorscale": [
             [
              0,
              "#0d0887"
             ],
             [
              0.1111111111111111,
              "#46039f"
             ],
             [
              0.2222222222222222,
              "#7201a8"
             ],
             [
              0.3333333333333333,
              "#9c179e"
             ],
             [
              0.4444444444444444,
              "#bd3786"
             ],
             [
              0.5555555555555556,
              "#d8576b"
             ],
             [
              0.6666666666666666,
              "#ed7953"
             ],
             [
              0.7777777777777778,
              "#fb9f3a"
             ],
             [
              0.8888888888888888,
              "#fdca26"
             ],
             [
              1,
              "#f0f921"
             ]
            ],
            "type": "surface"
           }
          ],
          "table": [
           {
            "cells": {
             "fill": {
              "color": "#EBF0F8"
             },
             "line": {
              "color": "white"
             }
            },
            "header": {
             "fill": {
              "color": "#C8D4E3"
             },
             "line": {
              "color": "white"
             }
            },
            "type": "table"
           }
          ]
         },
         "layout": {
          "annotationdefaults": {
           "arrowcolor": "#2a3f5f",
           "arrowhead": 0,
           "arrowwidth": 1
          },
          "autotypenumbers": "strict",
          "coloraxis": {
           "colorbar": {
            "outlinewidth": 0,
            "ticks": ""
           }
          },
          "colorscale": {
           "diverging": [
            [
             0,
             "#8e0152"
            ],
            [
             0.1,
             "#c51b7d"
            ],
            [
             0.2,
             "#de77ae"
            ],
            [
             0.3,
             "#f1b6da"
            ],
            [
             0.4,
             "#fde0ef"
            ],
            [
             0.5,
             "#f7f7f7"
            ],
            [
             0.6,
             "#e6f5d0"
            ],
            [
             0.7,
             "#b8e186"
            ],
            [
             0.8,
             "#7fbc41"
            ],
            [
             0.9,
             "#4d9221"
            ],
            [
             1,
             "#276419"
            ]
           ],
           "sequential": [
            [
             0,
             "#0d0887"
            ],
            [
             0.1111111111111111,
             "#46039f"
            ],
            [
             0.2222222222222222,
             "#7201a8"
            ],
            [
             0.3333333333333333,
             "#9c179e"
            ],
            [
             0.4444444444444444,
             "#bd3786"
            ],
            [
             0.5555555555555556,
             "#d8576b"
            ],
            [
             0.6666666666666666,
             "#ed7953"
            ],
            [
             0.7777777777777778,
             "#fb9f3a"
            ],
            [
             0.8888888888888888,
             "#fdca26"
            ],
            [
             1,
             "#f0f921"
            ]
           ],
           "sequentialminus": [
            [
             0,
             "#0d0887"
            ],
            [
             0.1111111111111111,
             "#46039f"
            ],
            [
             0.2222222222222222,
             "#7201a8"
            ],
            [
             0.3333333333333333,
             "#9c179e"
            ],
            [
             0.4444444444444444,
             "#bd3786"
            ],
            [
             0.5555555555555556,
             "#d8576b"
            ],
            [
             0.6666666666666666,
             "#ed7953"
            ],
            [
             0.7777777777777778,
             "#fb9f3a"
            ],
            [
             0.8888888888888888,
             "#fdca26"
            ],
            [
             1,
             "#f0f921"
            ]
           ]
          },
          "colorway": [
           "#636efa",
           "#EF553B",
           "#00cc96",
           "#ab63fa",
           "#FFA15A",
           "#19d3f3",
           "#FF6692",
           "#B6E880",
           "#FF97FF",
           "#FECB52"
          ],
          "font": {
           "color": "#2a3f5f"
          },
          "geo": {
           "bgcolor": "white",
           "lakecolor": "white",
           "landcolor": "#E5ECF6",
           "showlakes": true,
           "showland": true,
           "subunitcolor": "white"
          },
          "hoverlabel": {
           "align": "left"
          },
          "hovermode": "closest",
          "mapbox": {
           "style": "light"
          },
          "paper_bgcolor": "white",
          "plot_bgcolor": "#E5ECF6",
          "polar": {
           "angularaxis": {
            "gridcolor": "white",
            "linecolor": "white",
            "ticks": ""
           },
           "bgcolor": "#E5ECF6",
           "radialaxis": {
            "gridcolor": "white",
            "linecolor": "white",
            "ticks": ""
           }
          },
          "scene": {
           "xaxis": {
            "backgroundcolor": "#E5ECF6",
            "gridcolor": "white",
            "gridwidth": 2,
            "linecolor": "white",
            "showbackground": true,
            "ticks": "",
            "zerolinecolor": "white"
           },
           "yaxis": {
            "backgroundcolor": "#E5ECF6",
            "gridcolor": "white",
            "gridwidth": 2,
            "linecolor": "white",
            "showbackground": true,
            "ticks": "",
            "zerolinecolor": "white"
           },
           "zaxis": {
            "backgroundcolor": "#E5ECF6",
            "gridcolor": "white",
            "gridwidth": 2,
            "linecolor": "white",
            "showbackground": true,
            "ticks": "",
            "zerolinecolor": "white"
           }
          },
          "shapedefaults": {
           "line": {
            "color": "#2a3f5f"
           }
          },
          "ternary": {
           "aaxis": {
            "gridcolor": "white",
            "linecolor": "white",
            "ticks": ""
           },
           "baxis": {
            "gridcolor": "white",
            "linecolor": "white",
            "ticks": ""
           },
           "bgcolor": "#E5ECF6",
           "caxis": {
            "gridcolor": "white",
            "linecolor": "white",
            "ticks": ""
           }
          },
          "title": {
           "x": 0.05
          },
          "xaxis": {
           "automargin": true,
           "gridcolor": "white",
           "linecolor": "white",
           "ticks": "",
           "title": {
            "standoff": 15
           },
           "zerolinecolor": "white",
           "zerolinewidth": 2
          },
          "yaxis": {
           "automargin": true,
           "gridcolor": "white",
           "linecolor": "white",
           "ticks": "",
           "title": {
            "standoff": 15
           },
           "zerolinecolor": "white",
           "zerolinewidth": 2
          }
         }
        },
        "title": {
         "text": "Scratch Assay: Con(cKO) v cKO Vel AutoCorr"
        },
        "xaxis": {
         "title": {
          "text": "Time (min)"
         }
        },
        "yaxis": {
         "title": {
          "text": "Vel Auto"
         }
        }
       }
      },
      "text/html": [
       "<div>                            <div id=\"df50228d-8d11-45e8-9265-6b254f30ad92\" class=\"plotly-graph-div\" style=\"height:525px; width:100%;\"></div>            <script type=\"text/javascript\">                require([\"plotly\"], function(Plotly) {                    window.PLOTLYENV=window.PLOTLYENV || {};                                    if (document.getElementById(\"df50228d-8d11-45e8-9265-6b254f30ad92\")) {                    Plotly.newPlot(                        \"df50228d-8d11-45e8-9265-6b254f30ad92\",                        [{\"error_y\":{\"array\":[0.0,0.016691819535749934,0.012561064591312222,0.012700560055665337,0.011894675407823347,0.011001446012678823,0.010177514433447589,0.01136162726476675,0.010826835453706064,0.01012111897892612,0.009690756676620322,0.009099842520315123,0.009724698592255753,0.009782905612161863,0.009981948919250846,0.009376535637352374,0.009629134981975797,0.009308524494005758,0.009204260717664043,0.009189703383255296,0.010615087083921938,0.010980371305813391,0.010897859278835267,0.008720256657070978,0.00847917152575833,0.009257870567517652,0.010615692003183963,0.00955327193047379,0.008579554004085778,0.013968999292962823,0.010161125511748147,0.01019752128639746,0.009255378458403027,0.009867994639191654,0.00998301990341181,0.008959729942818023,0.011077479216394888,0.009905945210401028,0.009842372149770426,0.010696548949899005,0.009855541335986798,0.00943635932096788,0.010374312564418555,0.008945029928423396,0.008458972839099544,0.00889791010109227,0.00906508987367102,0.0097865145140886,0.009742635923177362,0.009672621141395114,0.009778189539648421,0.00926421041756947,0.00928978477089898,0.009862731568334742,0.008467797844878177,0.010460991415330611,0.009432091818480084,0.009155906433664155,0.009117291924701745,0.009097959709434875,0.009254569953882994,0.010116328121866256,0.009909127921553589,0.0104197577622018,0.010067291509183344],\"type\":\"data\",\"visible\":true},\"line\":{\"color\":\"#000000\"},\"name\":\"Con(cKO)\",\"type\":\"scatter\",\"x\":[0,5,10,15,20,25,30,35,40,45,50,55,60,65,70,75,80,85,90,95,100,105,110,115,120,125,130,135,140,145,150,155,160,165,170,175,180,185,190,195,200,205,210,215,220,225,230,235,240,245,250,255,260,265,270,275,280,285,290,295,300,305,310,315,320,325,330,335,340,345,350,355,360,365,370,375,380,385,390,395,400,405,410,415,420,425,430,435,440,445,450,455,460,465,470,475,480,485,490,495,500,505,510,515,520,525,530,535,540,545,550,555,560,565,570,575,580,585,590,595,600,605,610,615,620,625,630,635,640,645,650,655,660,665,670,675,680,685,690,695,700,705,710,715,720,725,730,735,740,745,750,755,760,765,770,775,780,785,790,795,800,805,810,815,820,825,830,835,840,845,850,855,860,865,870,875,880,885,890,895,900,905,910,915,920,925,930,935,940,945,950,955,960,965,970,975,980,985,990,995],\"y\":[1.0,0.2874355625381628,0.1900859574545273,0.13129585722622006,0.1305402983019666,0.1462807589882649,0.12436234532886539,0.11196806266262634,0.11073796441950723,0.10331919749322842,0.1212525684685638,0.0931117365973802,0.08995085898199993,0.07268593530591011,0.0630529249759713,0.07235791910926057,0.060954458091911634,0.06773949550094072,0.06785689377617901,0.06317425492790152,0.06258081762490685,0.0453244584733201,0.04173446693531898,0.04570412068981763,0.04945897790622853,0.058221893404443247,0.04530520615010084,0.05813123884696472,0.040313672588344306,0.05051699822646453,0.05357967704827248,0.04166228937799102,0.030613068903878497,0.03134687553229566,0.04280129657415543,0.038611980742836324,0.03658373537849387,0.02665408380552376,0.03525979812660046,0.025161326095967426,0.027767496399824086,0.021940194616289495,0.016150686036141844,-0.0007393974129567962,0.009313637562496766,0.016958040975261983,0.017809345504088813,0.04350906020177233,0.025122205262122898,0.01444877663714779,0.011333370509348108,0.010607223672647659,0.014791933600213126,0.003965708220201847,0.01933251336929866,0.019766481460421006,0.007458649803973986,0.0018342665335483884,0.0035769836697583045,0.018745423519493303,0.026740125045777136,0.018965244949573908,0.033479785812666765,0.03475149050563926,0.023820329598851178]},{\"error_y\":{\"array\":[0.0,0.018918651093027393,0.01504943573635837,0.011245191408664326,0.010462393405415753,0.00982839723343131,0.009994688498118812,0.00958423046448474,0.009844508237185499,0.010054259502525906,0.010224410563497143,0.01029173178320142,0.009941404642807912,0.009583055891576833,0.008980312827366464,0.009161133964717074,0.009285100815835319,0.009814749398780324,0.00890185813838241,0.009442077335511737,0.009824356117242939,0.009396061671913324,0.00969912256388153,0.009480505623139967,0.009166164355451952,0.009678139715483518,0.009472062108084194,0.009018615144861216,0.009268539642164269,0.010027996878197155,0.010011776971720737,0.011939995487769871,0.012392730742972657,0.009741532401306095,0.009090794099215158,0.00952902641427215,0.009285038571253632,0.010200784901132654,0.009274606716850403,0.00998893890753277,0.009677439625157701,0.009645971311588546,0.009283881986633923,0.00962742169865409,0.009064465207297446,0.008905030025684088,0.008625607305118375,0.009007912420424693,0.009234291681095706,0.009778607336404658,0.009502175005404026,0.009277705932046717,0.009392154644043645,0.009429947421969684,0.01015354519929771,0.009557032642500792,0.010484890271816639,0.009649855342560066,0.009279981229887322,0.00976587993705843,0.009771706289936807,0.010762382090991247,0.009540759420976545,0.011969244302287912,0.01187149975735905],\"type\":\"data\",\"visible\":true},\"line\":{\"color\":\"#6a0dad\"},\"name\":\"cKO\",\"type\":\"scatter\",\"x\":[0,5,10,15,20,25,30,35,40,45,50,55,60,65,70,75,80,85,90,95,100,105,110,115,120,125,130,135,140,145,150,155,160,165,170,175,180,185,190,195,200,205,210,215,220,225,230,235,240,245,250,255,260,265,270,275,280,285,290,295,300,305,310,315,320,325,330,335,340,345,350,355,360,365,370,375,380,385,390,395,400,405,410,415,420,425,430,435,440,445,450,455,460,465,470,475,480,485,490,495,500,505,510,515,520,525,530,535,540,545,550,555,560,565,570,575,580,585,590,595,600,605,610,615,620,625,630,635,640,645,650,655,660,665,670,675,680,685,690,695,700,705,710,715,720,725,730,735,740,745,750,755,760,765,770,775,780,785,790,795,800,805,810,815,820,825,830,835,840,845,850,855,860,865,870,875,880,885,890,895,900,905,910,915,920,925,930,935,940,945,950,955,960,965,970,975,980,985,990,995],\"y\":[1.0,0.36669421175650124,0.34319000722002213,0.2762263114609477,0.24395330421658024,0.22938536196200518,0.19783961633465966,0.1903456238411454,0.17241202899867264,0.15448580193156208,0.13528127706739784,0.11550563398670248,0.11533564521203331,0.10360211891955654,0.10963661159257902,0.10555521644730995,0.09885456061477439,0.09369342676048306,0.08249763812627985,0.08690232177993422,0.08942215308552419,0.1038629795518356,0.09104509200511814,0.09165204927681901,0.07769618349095148,0.08000033222689457,0.0661854306695812,0.07738067380709927,0.07337140760036638,0.07329969164665166,0.07587358984787787,0.04663820453901181,0.05898621231160202,0.056124670515672194,0.039632498110418565,0.03559981862400253,0.04582282419762183,0.04020106337246517,0.03209499858263355,0.03932132405300072,0.030084972312447316,0.030028220411975594,0.029961780123652557,0.040326436778778965,0.026753745896149223,0.020033598014953476,0.012568204795873623,0.008586304322124793,0.017657974719231345,0.016025650417805095,0.0005575659183936818,0.007185230540629304,0.007281247167299995,0.002113265631181977,-0.004493397311007636,0.01102690151851844,-0.00680777340343062,0.0015193608963295303,-0.009965401368760604,0.0014914927074411504,0.005667927604992354,0.017967331927640152,0.015768388520629,0.026967400022929154,0.043412725839547424]}],                        {\"legend\":{\"title\":{\"text\":\"Condition\"}},\"template\":{\"data\":{\"bar\":[{\"error_x\":{\"color\":\"#2a3f5f\"},\"error_y\":{\"color\":\"#2a3f5f\"},\"marker\":{\"line\":{\"color\":\"#E5ECF6\",\"width\":0.5},\"pattern\":{\"fillmode\":\"overlay\",\"size\":10,\"solidity\":0.2}},\"type\":\"bar\"}],\"barpolar\":[{\"marker\":{\"line\":{\"color\":\"#E5ECF6\",\"width\":0.5},\"pattern\":{\"fillmode\":\"overlay\",\"size\":10,\"solidity\":0.2}},\"type\":\"barpolar\"}],\"carpet\":[{\"aaxis\":{\"endlinecolor\":\"#2a3f5f\",\"gridcolor\":\"white\",\"linecolor\":\"white\",\"minorgridcolor\":\"white\",\"startlinecolor\":\"#2a3f5f\"},\"baxis\":{\"endlinecolor\":\"#2a3f5f\",\"gridcolor\":\"white\",\"linecolor\":\"white\",\"minorgridcolor\":\"white\",\"startlinecolor\":\"#2a3f5f\"},\"type\":\"carpet\"}],\"choropleth\":[{\"colorbar\":{\"outlinewidth\":0,\"ticks\":\"\"},\"type\":\"choropleth\"}],\"contour\":[{\"colorbar\":{\"outlinewidth\":0,\"ticks\":\"\"},\"colorscale\":[[0.0,\"#0d0887\"],[0.1111111111111111,\"#46039f\"],[0.2222222222222222,\"#7201a8\"],[0.3333333333333333,\"#9c179e\"],[0.4444444444444444,\"#bd3786\"],[0.5555555555555556,\"#d8576b\"],[0.6666666666666666,\"#ed7953\"],[0.7777777777777778,\"#fb9f3a\"],[0.8888888888888888,\"#fdca26\"],[1.0,\"#f0f921\"]],\"type\":\"contour\"}],\"contourcarpet\":[{\"colorbar\":{\"outlinewidth\":0,\"ticks\":\"\"},\"type\":\"contourcarpet\"}],\"heatmap\":[{\"colorbar\":{\"outlinewidth\":0,\"ticks\":\"\"},\"colorscale\":[[0.0,\"#0d0887\"],[0.1111111111111111,\"#46039f\"],[0.2222222222222222,\"#7201a8\"],[0.3333333333333333,\"#9c179e\"],[0.4444444444444444,\"#bd3786\"],[0.5555555555555556,\"#d8576b\"],[0.6666666666666666,\"#ed7953\"],[0.7777777777777778,\"#fb9f3a\"],[0.8888888888888888,\"#fdca26\"],[1.0,\"#f0f921\"]],\"type\":\"heatmap\"}],\"heatmapgl\":[{\"colorbar\":{\"outlinewidth\":0,\"ticks\":\"\"},\"colorscale\":[[0.0,\"#0d0887\"],[0.1111111111111111,\"#46039f\"],[0.2222222222222222,\"#7201a8\"],[0.3333333333333333,\"#9c179e\"],[0.4444444444444444,\"#bd3786\"],[0.5555555555555556,\"#d8576b\"],[0.6666666666666666,\"#ed7953\"],[0.7777777777777778,\"#fb9f3a\"],[0.8888888888888888,\"#fdca26\"],[1.0,\"#f0f921\"]],\"type\":\"heatmapgl\"}],\"histogram\":[{\"marker\":{\"pattern\":{\"fillmode\":\"overlay\",\"size\":10,\"solidity\":0.2}},\"type\":\"histogram\"}],\"histogram2d\":[{\"colorbar\":{\"outlinewidth\":0,\"ticks\":\"\"},\"colorscale\":[[0.0,\"#0d0887\"],[0.1111111111111111,\"#46039f\"],[0.2222222222222222,\"#7201a8\"],[0.3333333333333333,\"#9c179e\"],[0.4444444444444444,\"#bd3786\"],[0.5555555555555556,\"#d8576b\"],[0.6666666666666666,\"#ed7953\"],[0.7777777777777778,\"#fb9f3a\"],[0.8888888888888888,\"#fdca26\"],[1.0,\"#f0f921\"]],\"type\":\"histogram2d\"}],\"histogram2dcontour\":[{\"colorbar\":{\"outlinewidth\":0,\"ticks\":\"\"},\"colorscale\":[[0.0,\"#0d0887\"],[0.1111111111111111,\"#46039f\"],[0.2222222222222222,\"#7201a8\"],[0.3333333333333333,\"#9c179e\"],[0.4444444444444444,\"#bd3786\"],[0.5555555555555556,\"#d8576b\"],[0.6666666666666666,\"#ed7953\"],[0.7777777777777778,\"#fb9f3a\"],[0.8888888888888888,\"#fdca26\"],[1.0,\"#f0f921\"]],\"type\":\"histogram2dcontour\"}],\"mesh3d\":[{\"colorbar\":{\"outlinewidth\":0,\"ticks\":\"\"},\"type\":\"mesh3d\"}],\"parcoords\":[{\"line\":{\"colorbar\":{\"outlinewidth\":0,\"ticks\":\"\"}},\"type\":\"parcoords\"}],\"pie\":[{\"automargin\":true,\"type\":\"pie\"}],\"scatter\":[{\"marker\":{\"colorbar\":{\"outlinewidth\":0,\"ticks\":\"\"}},\"type\":\"scatter\"}],\"scatter3d\":[{\"line\":{\"colorbar\":{\"outlinewidth\":0,\"ticks\":\"\"}},\"marker\":{\"colorbar\":{\"outlinewidth\":0,\"ticks\":\"\"}},\"type\":\"scatter3d\"}],\"scattercarpet\":[{\"marker\":{\"colorbar\":{\"outlinewidth\":0,\"ticks\":\"\"}},\"type\":\"scattercarpet\"}],\"scattergeo\":[{\"marker\":{\"colorbar\":{\"outlinewidth\":0,\"ticks\":\"\"}},\"type\":\"scattergeo\"}],\"scattergl\":[{\"marker\":{\"colorbar\":{\"outlinewidth\":0,\"ticks\":\"\"}},\"type\":\"scattergl\"}],\"scattermapbox\":[{\"marker\":{\"colorbar\":{\"outlinewidth\":0,\"ticks\":\"\"}},\"type\":\"scattermapbox\"}],\"scatterpolar\":[{\"marker\":{\"colorbar\":{\"outlinewidth\":0,\"ticks\":\"\"}},\"type\":\"scatterpolar\"}],\"scatterpolargl\":[{\"marker\":{\"colorbar\":{\"outlinewidth\":0,\"ticks\":\"\"}},\"type\":\"scatterpolargl\"}],\"scatterternary\":[{\"marker\":{\"colorbar\":{\"outlinewidth\":0,\"ticks\":\"\"}},\"type\":\"scatterternary\"}],\"surface\":[{\"colorbar\":{\"outlinewidth\":0,\"ticks\":\"\"},\"colorscale\":[[0.0,\"#0d0887\"],[0.1111111111111111,\"#46039f\"],[0.2222222222222222,\"#7201a8\"],[0.3333333333333333,\"#9c179e\"],[0.4444444444444444,\"#bd3786\"],[0.5555555555555556,\"#d8576b\"],[0.6666666666666666,\"#ed7953\"],[0.7777777777777778,\"#fb9f3a\"],[0.8888888888888888,\"#fdca26\"],[1.0,\"#f0f921\"]],\"type\":\"surface\"}],\"table\":[{\"cells\":{\"fill\":{\"color\":\"#EBF0F8\"},\"line\":{\"color\":\"white\"}},\"header\":{\"fill\":{\"color\":\"#C8D4E3\"},\"line\":{\"color\":\"white\"}},\"type\":\"table\"}]},\"layout\":{\"annotationdefaults\":{\"arrowcolor\":\"#2a3f5f\",\"arrowhead\":0,\"arrowwidth\":1},\"autotypenumbers\":\"strict\",\"coloraxis\":{\"colorbar\":{\"outlinewidth\":0,\"ticks\":\"\"}},\"colorscale\":{\"diverging\":[[0,\"#8e0152\"],[0.1,\"#c51b7d\"],[0.2,\"#de77ae\"],[0.3,\"#f1b6da\"],[0.4,\"#fde0ef\"],[0.5,\"#f7f7f7\"],[0.6,\"#e6f5d0\"],[0.7,\"#b8e186\"],[0.8,\"#7fbc41\"],[0.9,\"#4d9221\"],[1,\"#276419\"]],\"sequential\":[[0.0,\"#0d0887\"],[0.1111111111111111,\"#46039f\"],[0.2222222222222222,\"#7201a8\"],[0.3333333333333333,\"#9c179e\"],[0.4444444444444444,\"#bd3786\"],[0.5555555555555556,\"#d8576b\"],[0.6666666666666666,\"#ed7953\"],[0.7777777777777778,\"#fb9f3a\"],[0.8888888888888888,\"#fdca26\"],[1.0,\"#f0f921\"]],\"sequentialminus\":[[0.0,\"#0d0887\"],[0.1111111111111111,\"#46039f\"],[0.2222222222222222,\"#7201a8\"],[0.3333333333333333,\"#9c179e\"],[0.4444444444444444,\"#bd3786\"],[0.5555555555555556,\"#d8576b\"],[0.6666666666666666,\"#ed7953\"],[0.7777777777777778,\"#fb9f3a\"],[0.8888888888888888,\"#fdca26\"],[1.0,\"#f0f921\"]]},\"colorway\":[\"#636efa\",\"#EF553B\",\"#00cc96\",\"#ab63fa\",\"#FFA15A\",\"#19d3f3\",\"#FF6692\",\"#B6E880\",\"#FF97FF\",\"#FECB52\"],\"font\":{\"color\":\"#2a3f5f\"},\"geo\":{\"bgcolor\":\"white\",\"lakecolor\":\"white\",\"landcolor\":\"#E5ECF6\",\"showlakes\":true,\"showland\":true,\"subunitcolor\":\"white\"},\"hoverlabel\":{\"align\":\"left\"},\"hovermode\":\"closest\",\"mapbox\":{\"style\":\"light\"},\"paper_bgcolor\":\"white\",\"plot_bgcolor\":\"#E5ECF6\",\"polar\":{\"angularaxis\":{\"gridcolor\":\"white\",\"linecolor\":\"white\",\"ticks\":\"\"},\"bgcolor\":\"#E5ECF6\",\"radialaxis\":{\"gridcolor\":\"white\",\"linecolor\":\"white\",\"ticks\":\"\"}},\"scene\":{\"xaxis\":{\"backgroundcolor\":\"#E5ECF6\",\"gridcolor\":\"white\",\"gridwidth\":2,\"linecolor\":\"white\",\"showbackground\":true,\"ticks\":\"\",\"zerolinecolor\":\"white\"},\"yaxis\":{\"backgroundcolor\":\"#E5ECF6\",\"gridcolor\":\"white\",\"gridwidth\":2,\"linecolor\":\"white\",\"showbackground\":true,\"ticks\":\"\",\"zerolinecolor\":\"white\"},\"zaxis\":{\"backgroundcolor\":\"#E5ECF6\",\"gridcolor\":\"white\",\"gridwidth\":2,\"linecolor\":\"white\",\"showbackground\":true,\"ticks\":\"\",\"zerolinecolor\":\"white\"}},\"shapedefaults\":{\"line\":{\"color\":\"#2a3f5f\"}},\"ternary\":{\"aaxis\":{\"gridcolor\":\"white\",\"linecolor\":\"white\",\"ticks\":\"\"},\"baxis\":{\"gridcolor\":\"white\",\"linecolor\":\"white\",\"ticks\":\"\"},\"bgcolor\":\"#E5ECF6\",\"caxis\":{\"gridcolor\":\"white\",\"linecolor\":\"white\",\"ticks\":\"\"}},\"title\":{\"x\":0.05},\"xaxis\":{\"automargin\":true,\"gridcolor\":\"white\",\"linecolor\":\"white\",\"ticks\":\"\",\"title\":{\"standoff\":15},\"zerolinecolor\":\"white\",\"zerolinewidth\":2},\"yaxis\":{\"automargin\":true,\"gridcolor\":\"white\",\"linecolor\":\"white\",\"ticks\":\"\",\"title\":{\"standoff\":15},\"zerolinecolor\":\"white\",\"zerolinewidth\":2}}},\"title\":{\"text\":\"Scratch Assay: Con(cKO) v cKO Vel AutoCorr\"},\"xaxis\":{\"title\":{\"text\":\"Time (min)\"}},\"yaxis\":{\"title\":{\"text\":\"Vel Auto\"}}},                        {\"responsive\": true}                    ).then(function(){\n",
       "                            \n",
       "var gd = document.getElementById('df50228d-8d11-45e8-9265-6b254f30ad92');\n",
       "var x = new MutationObserver(function (mutations, observer) {{\n",
       "        var display = window.getComputedStyle(gd).display;\n",
       "        if (!display || display === 'none') {{\n",
       "            console.log([gd, 'removed!']);\n",
       "            Plotly.purge(gd);\n",
       "            observer.disconnect();\n",
       "        }}\n",
       "}});\n",
       "\n",
       "// Listen for the removal of the full notebook cells\n",
       "var notebookContainer = gd.closest('#notebook-container');\n",
       "if (notebookContainer) {{\n",
       "    x.observe(notebookContainer, {childList: true});\n",
       "}}\n",
       "\n",
       "// Listen for the clearing of the current output cell\n",
       "var outputEl = gd.closest('.output');\n",
       "if (outputEl) {{\n",
       "    x.observe(outputEl, {childList: true});\n",
       "}}\n",
       "\n",
       "                        })                };                });            </script>        </div>"
      ]
     },
     "metadata": {},
     "output_type": "display_data"
    }
   ],
   "source": [
    "Single_cKO_VA_fig = go.Figure()\n",
    "\n",
    "Single_cKO_VA_fig.add_trace(go.Scatter(x= time, y= Single_Con_cKO_VA.mean(axis=0), name='Con(cKO)', line_color='#000000', error_y=dict(type='data', array = Single_Con_cKO_VA.sem(axis=0), visible=True)))\n",
    "Single_cKO_VA_fig.add_trace(go.Scatter(x= time, y= Single_cKO_VA.mean(axis=0), name='cKO', line_color='#6a0dad', error_y =dict(type='data', array = Single_cKO_VA.sem(axis=0) , visible=True)))\n",
    "Single_cKO_VA_fig.update_layout(title=\"Scratch Assay: Con(cKO) v cKO Vel AutoCorr\", xaxis_title=\"Time (min)\", yaxis_title=\"Vel Auto\", legend_title=\"Condition\")\n",
    "Single_cKO_VA_fig.show()"
   ]
  },
  {
   "cell_type": "code",
   "execution_count": null,
   "metadata": {},
   "outputs": [],
   "source": []
  },
  {
   "cell_type": "markdown",
   "metadata": {},
   "source": [
    "Format Matlab Cell Tracker Outputs for DiPer:"
   ]
  },
  {
   "cell_type": "code",
   "execution_count": null,
   "metadata": {},
   "outputs": [],
   "source": [
    "save_name = '2022_02_02_359_363_364_CellTracker_DiPer_Formatted_DMSO_tdt'\n",
    "folder_path = \"D:/Jesse/DMSO_Tracks/\"\n",
    "fname = sorted(glob(os.path.join(folder_path, \"*.xls\")))\n",
    "#print(fname)\n",
    "all_df = pd.DataFrame(columns= ['Filename', ' Cell ID ', ' Frame number ', ' x-coordinate [pixel] ', ' y-coordinate [pixel] '])\n",
    "for file in range(len(fname)):\n",
    "    file_name = fname[file].split('\\\\')[-1]\n",
    "    file_name = file_name.split('.')[0]\n",
    "    file_type = file_name.split('_')[-1]\n",
    "    trackdata_df = pd.read_excel(fname[file])\n",
    "    trackdata_df['Filename']= file_name\n",
    "    cols = trackdata_df.columns.tolist()\n",
    "    new_index = [cols[-1], cols[3],cols[2],cols[1],cols[0]]\n",
    "    track_dataframe = trackdata_df.reindex(columns=new_index)\n",
    "    all_df = pd.concat([all_df,track_dataframe])\n",
    "df_microns = all_df.copy()\n",
    "df_microns[' x-coordinate [pixel] '] = df_microns[' x-coordinate [pixel] '].apply(lambda x: x*0.6481)\n",
    "df_microns[' y-coordinate [pixel] '] = df_microns[' y-coordinate [pixel] '].apply(lambda x: x*0.6481)\n",
    "df_microns.rename(columns={' x-coordinate [pixel] ':' x-coordinate [μm] ', ' y-coordinate [pixel] ':' y-coordinate [μm] '}, inplace=True)\n",
    "df_microns.to_csv('D:/Jesse/'+save_name+'_Microns.csv')\n",
    "all_df.to_csv('D:/Jesse/'+save_name+'_Pixels.csv')"
   ]
  },
  {
   "cell_type": "markdown",
   "metadata": {},
   "source": [
    "Format for diper analysis from trackmate:"
   ]
  },
  {
   "cell_type": "code",
   "execution_count": 88,
   "metadata": {},
   "outputs": [
    {
     "ename": "FileNotFoundError",
     "evalue": "[Errno 2] No such file or directory: 'C:/Users/17605/OneDrive/Documents/Jesse/2022_04_21_Yoda1.csv'",
     "output_type": "error",
     "traceback": [
      "\u001b[1;31m---------------------------------------------------------------------------\u001b[0m",
      "\u001b[1;31mFileNotFoundError\u001b[0m                         Traceback (most recent call last)",
      "\u001b[1;32m<ipython-input-88-4d2ad9077223>\u001b[0m in \u001b[0;36m<module>\u001b[1;34m()\u001b[0m\n\u001b[0;32m     32\u001b[0m         \u001b[0mdf\u001b[0m \u001b[1;33m=\u001b[0m \u001b[0mpd\u001b[0m\u001b[1;33m.\u001b[0m\u001b[0mconcat\u001b[0m\u001b[1;33m(\u001b[0m\u001b[1;33m[\u001b[0m\u001b[0mdf\u001b[0m\u001b[1;33m,\u001b[0m\u001b[0mtrack_dataframe\u001b[0m\u001b[1;33m]\u001b[0m\u001b[1;33m)\u001b[0m\u001b[1;33m\u001b[0m\u001b[0m\n\u001b[0;32m     33\u001b[0m \u001b[0mdate\u001b[0m \u001b[1;33m=\u001b[0m \u001b[0mdatetime\u001b[0m\u001b[1;33m.\u001b[0m\u001b[0mnow\u001b[0m\u001b[1;33m(\u001b[0m\u001b[1;33m)\u001b[0m\u001b[1;33m.\u001b[0m\u001b[0mstrftime\u001b[0m\u001b[1;33m(\u001b[0m\u001b[1;34m\"%Y_%m_%d_\"\u001b[0m\u001b[1;33m)\u001b[0m\u001b[1;33m\u001b[0m\u001b[0m\n\u001b[1;32m---> 34\u001b[1;33m \u001b[0mdf\u001b[0m\u001b[1;33m.\u001b[0m\u001b[0mto_csv\u001b[0m\u001b[1;33m(\u001b[0m\u001b[1;34mf'C:/Users/17605/OneDrive/Documents/Jesse/{date}{save_name}.csv'\u001b[0m\u001b[1;33m)\u001b[0m\u001b[1;33m\u001b[0m\u001b[0m\n\u001b[0m",
      "\u001b[1;32m~\\AppData\\Roaming\\Python\\Python37\\site-packages\\pandas\\core\\generic.py\u001b[0m in \u001b[0;36mto_csv\u001b[1;34m(self, path_or_buf, sep, na_rep, float_format, columns, header, index, index_label, mode, encoding, compression, quoting, quotechar, line_terminator, chunksize, date_format, doublequote, escapechar, decimal, errors, storage_options)\u001b[0m\n",
      "\u001b[1;32m~\\AppData\\Roaming\\Python\\Python37\\site-packages\\pandas\\io\\formats\\format.py\u001b[0m in \u001b[0;36mto_csv\u001b[1;34m(self, path_or_buf, encoding, sep, columns, index_label, mode, compression, quoting, quotechar, line_terminator, chunksize, date_format, doublequote, escapechar, errors, storage_options)\u001b[0m\n",
      "\u001b[1;32m~\\AppData\\Roaming\\Python\\Python37\\site-packages\\pandas\\io\\formats\\csvs.py\u001b[0m in \u001b[0;36msave\u001b[1;34m(self)\u001b[0m\n",
      "\u001b[1;32m~\\AppData\\Roaming\\Python\\Python37\\site-packages\\pandas\\io\\common.py\u001b[0m in \u001b[0;36mget_handle\u001b[1;34m(path_or_buf, mode, encoding, compression, memory_map, is_text, errors, storage_options)\u001b[0m\n",
      "\u001b[1;31mFileNotFoundError\u001b[0m: [Errno 2] No such file or directory: 'C:/Users/17605/OneDrive/Documents/Jesse/2022_04_21_Yoda1.csv'"
     ]
    }
   ],
   "source": [
    "#this formats dataframe for diper analysis from trackmate\n",
    "\n",
    "# folder_path = \"F:/Jesse/cKO/cKO_XML_Trajectories/cKO/\"\n",
    "# folder_path = \"F:/Jesse/cKO/cKO_XML_Trajectories/Con(cKO)/\"\n",
    "\n",
    "# folder_path = \"F:/Jesse/GoF/GoF_XML_Trajectories/GoF_tracks\"\n",
    "# folder_path = \"F:/Jesse/GoF/GoF_XML_Trajectories/Con_GoF_tracks\"\n",
    "\n",
    "# folder_path = \"F:/Jesse/tdTomato+Drug/dmso_tracks/\"\n",
    "folder_path = \"F:/Jesse/tdTomato+Drug/yoda1_tracks/\"\n",
    "\n",
    "fname = sorted(glob(os.path.join(folder_path, \"*.xml\")))\n",
    "df = pd.DataFrame(columns= ['Filename', 'Track Index', 'Frame', 'X', 'Y', 'Z'])\n",
    "for file in tqdm(range(len(fname)), position=0, leave=True):\n",
    "    file_name = fname[file].split('\\\\')[-1]\n",
    "    file_name = re.sub('_ScratchFast','',file_name)\n",
    "    file_name = re.sub('_MMStack','',file_name)\n",
    "    file_name = re.sub(' nuclei Binned_Tracks.xml','',file_name)\n",
    "    track_xml_file = loadxmlTrajs(fname[file])\n",
    "    all_dataframe = pd.DataFrame.from_dict(track_xml_file)\n",
    "    all_tracks_dataframe = pd.DataFrame(all_dataframe.loc['trackData'])\n",
    "    for index, track_data in all_tracks_dataframe.iterrows():\n",
    "        track_instance = all_tracks_dataframe.loc[index, 'trackData']\n",
    "        track_dataframe = pd.DataFrame(track_instance)\n",
    "        track_dataframe['Filename']= file_name\n",
    "        track_dataframe['Track Index']='Track_'+index\n",
    "        track_dataframe.rename(columns={0:'Frame', 1:'X', 2:'Y', 3:'Z'}, inplace=True)\n",
    "        cols = track_dataframe.columns.tolist()\n",
    "        cols = cols[-3:]+cols[:-3]\n",
    "        track_dataframe = track_dataframe.reindex(columns=cols)\n",
    "        df = pd.concat([df,track_dataframe])\n",
    "date = datetime.now().strftime(\"%Y_%m_%d_\")\n",
    "df.to_csv(f'{date}_Yoda1.csv')"
   ]
  },
  {
   "cell_type": "code",
   "execution_count": 90,
   "metadata": {},
   "outputs": [],
   "source": [
    "df.to_csv(f'{date}_Yoda1.csv')"
   ]
  },
  {
   "cell_type": "code",
   "execution_count": null,
   "metadata": {},
   "outputs": [],
   "source": []
  }
 ],
 "metadata": {
  "kernelspec": {
   "display_name": "Python 3",
   "language": "python",
   "name": "python3"
  },
  "language_info": {
   "codemirror_mode": {
    "name": "ipython",
    "version": 3
   },
   "file_extension": ".py",
   "mimetype": "text/x-python",
   "name": "python",
   "nbconvert_exporter": "python",
   "pygments_lexer": "ipython3",
   "version": "3.7.0"
  }
 },
 "nbformat": 4,
 "nbformat_minor": 4
}
