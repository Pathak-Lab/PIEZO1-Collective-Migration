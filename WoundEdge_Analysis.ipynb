{
 "cells": [
  {
   "cell_type": "code",
   "execution_count": 1,
   "metadata": {},
   "outputs": [],
   "source": [
    "from glob import glob\n",
    "import matplotlib.image as mpimg\n",
    "from skimage import segmentation\n",
    "import pims\n",
    "import seaborn as sns\n",
    "import re\n",
    "import scipy\n",
    "import os\n",
    "import numpy as np\n",
    "import cv2 as cv\n",
    "from glob import glob\n",
    "from tqdm import tqdm #progressbar\n",
    "import dabest\n",
    "import pandas as pd\n",
    "%matplotlib inline\n",
    "import plotly.express as px\n",
    "import pickle\n",
    "from datetime import datetime\n",
    "import plotly.graph_objects as go\n",
    "import math"
   ]
  },
  {
   "cell_type": "code",
   "execution_count": 2,
   "metadata": {},
   "outputs": [],
   "source": [
    "def get_edge(binary_image, pixel_size, image):\n",
    "    cnt = cv.findContours(~binary_image, cv.RETR_EXTERNAL, cv.CHAIN_APPROX_NONE)[0]\n",
    "    for k in range(len(cnt)):\n",
    "        area = cv.contourArea(cnt[k])\n",
    "        if area>7000:\n",
    "            # grab the (x, y) coordinates of all border values\n",
    "            otln = np.squeeze(cnt[k])\n",
    "            min_x = int(min(otln.T[0]))\n",
    "            min_y = int(min(otln.T[1]))\n",
    "            max_x = int(max(otln.T[0]))\n",
    "            max_y = int(max(otln.T[1]))\n",
    "            dl=[]\n",
    "            for j in range(len(otln)):\n",
    "                if otln.tolist()[j][0] == min_x or otln.tolist()[j][0] == max_x or otln.tolist()[j][1] == min_y or otln.tolist()[j][1] == max_y:\n",
    "                    dl.append(j)\n",
    "\n",
    "            # We will than be deleting these values from our contour array so that we are only\n",
    "            # looking at the monolayer edge boundarys\n",
    "            rslt = np.delete(otln, dl, 0) \n",
    "            edge = rslt*pixel_size # transform from pixel to micron\n",
    "            \n",
    "            if image==0:\n",
    "                # compute a rotated bounding box that contains all coordinates\n",
    "                box_ang  = cv.minAreaRect(rslt)[-1]\n",
    "\n",
    "                # the `cv2.minAreaRect` function returns values in the\n",
    "                # range [-90, 0); as the rectangle rotates clockwise the\n",
    "                # returned angle trends to 0\n",
    "                if box_ang > 45:\n",
    "                    box_ang = (90 - box_ang)\n",
    "                # otherwise, just take the inverse of the angle to make it positive\n",
    "                else:\n",
    "                    box_ang = -box_ang\n",
    "                return edge, box_ang\n",
    "            else:\n",
    "                return edge"
   ]
  },
  {
   "cell_type": "code",
   "execution_count": 3,
   "metadata": {},
   "outputs": [],
   "source": [
    "def calc_complexity(edge_coords):\n",
    "    all_dist = []\n",
    "    for i in range(len(edge_coords)-1):\n",
    "        #find point a (i) and point b (i+1)\n",
    "        a = np.array((edge_coords[i][0], edge_coords[i][1]))\n",
    "        b = np.array((edge_coords[i+1][0], edge_coords[i+1][1]))\n",
    "\n",
    "        # calculate euclidean distance between point a and point b\n",
    "        dist = np.linalg.norm(a-b) \n",
    "        # append distance between each point to a list\n",
    "        all_dist.append(dist)\n",
    "    edge_len = np.sum(all_dist)\n",
    "    return edge_len"
   ]
  },
  {
   "cell_type": "code",
   "execution_count": 78,
   "metadata": {},
   "outputs": [],
   "source": [
    "def calc_curvature(edge_coords):\n",
    "    # Calculate the curvature of the edge as the Menger curvature of points\n",
    "    # Uses curvature of points within 20 boundary points of the boundary point \n",
    "    # of interest. We use curvature of the surrounding X boundary points bc successive\n",
    "    # boundary points would result in oversampling of data. Function takes array \n",
    "    # of x,y coordinates as input. Returns an array of the Menger curvature of points\n",
    "    meng_first = []\n",
    "    bound = 40 #this detemines how many of surrounding boundary points we take\n",
    "    \n",
    "    for i in range(len(edge_coords)-bound):\n",
    "        # Find coordinates of 3 data points F, G(a+bound/2), H(a+bound)\n",
    "        F = np.array((edge_coords[i][0], edge_coords[i][1]))\n",
    "        G = np.array((edge_coords[i+int(bound/2)][0], edge_coords[i+int(bound/2)][1]))\n",
    "        H = np.array((edge_coords[i+bound][0], edge_coords[i+bound][1]))\n",
    "        \n",
    "        # Calculate Side lengths f,g and h using Cartesian distance formula\n",
    "        h = np.sqrt(np.square(G[0]-F[0])+np.square(G[1]-F[1]))\n",
    "        f = np.sqrt(np.square(H[0]-G[0])+np.square(H[1]-G[1]))\n",
    "        g = np.sqrt(np.square(F[0]-H[0])+np.square(F[1]-H[1]))\n",
    "        \n",
    "        # Calculate the area of the triangle using the Shoelace formula\n",
    "        A = (1/2)*(((G[0]-F[0])*(H[1]-G[1]))-((G[1]-F[1])*(H[1]-G[1])))\n",
    "        \n",
    "        # We can then calculate the Menger curvature:\n",
    "        meng_curv = (4*A)/(f*g*h)\n",
    "        meng_first.append(meng_curv)\n",
    "\n",
    "    rev = edge_coords[::-1]\n",
    "    meng_rev=[]\n",
    "    for i in range(bound):\n",
    "        # Find coordinates of 3 data points F, G(a+bound/2), H(a+bound)\n",
    "        F = np.array((rev[i][0], rev[i][1]))\n",
    "        G = np.array((rev[i+int(bound/2)][0], rev[i+int(bound/2)][1]))\n",
    "        H = np.array((rev[i+bound][0], rev[i+bound][1]))\n",
    "        \n",
    "        # Calculate Side lengths f,g and h using Cartesian distance formula\n",
    "        h = np.sqrt(np.square(G[0]-F[0])+np.square(G[1]-F[1]))\n",
    "        f = np.sqrt(np.square(H[0]-G[0])+np.square(H[1]-G[1]))\n",
    "        g = np.sqrt(np.square(F[0]-H[0])+np.square(F[1]-H[1]))\n",
    "        \n",
    "        # Calculate the area of the triangle using the Shoelace formula\n",
    "        A = (1/2)*(((G[0]-F[0])*(H[1]-G[1]))-((G[1]-F[1])*(H[1]-G[1])))\n",
    "        \n",
    "        # We can then calculate the Menger curvature:\n",
    "        meng_curv = (4*A)/(f*g*h)\n",
    "        meng_rev.append(meng_curv)\n",
    "    all_meng = meng_first+meng_rev[::-1]\n",
    "    \n",
    "    return np.array(all_meng)"
   ]
  },
  {
   "cell_type": "code",
   "execution_count": 5,
   "metadata": {},
   "outputs": [],
   "source": [
    "def rotate_matrix (x, y, angle, x_shift=0, y_shift=0, units=\"DEGREES\"):\n",
    "    \"\"\"\n",
    "    Rotates a point in the xy-plane counterclockwise through an angle about the origin\n",
    "    https://en.wikipedia.org/wiki/Rotation_matrix\n",
    "    :param x: x coordinate\n",
    "    :param y: y coordinate\n",
    "    :param x_shift: x-axis shift from origin (0, 0)\n",
    "    :param y_shift: y-axis shift from origin (0, 0)\n",
    "    :param angle: The rotation angle in degrees\n",
    "    :param units: DEGREES (default) or RADIANS\n",
    "    :return: Tuple of rotated x and y\n",
    "    \"\"\"\n",
    "\n",
    "    # Shift to origin (0,0)\n",
    "    x = x - x_shift\n",
    "    y = y - y_shift\n",
    "\n",
    "    # Convert degrees to radians\n",
    "    if units == \"DEGREES\":\n",
    "        angle = math.radians(angle)\n",
    "\n",
    "    # Rotation matrix multiplication to get rotated x & y\n",
    "    xr = (x * math.cos(angle)) - (y * math.sin(angle)) + x_shift\n",
    "    yr = (x * math.sin(angle)) + (y * math.cos(angle)) + y_shift\n",
    "\n",
    "    return xr, yr"
   ]
  },
  {
   "cell_type": "code",
   "execution_count": 6,
   "metadata": {},
   "outputs": [],
   "source": [
    "def calc_edge_move(coords, delta_t, angle, draw=False):    \n",
    "    if angle!=0:\n",
    "        edge_rotated = []\n",
    "        for j in range(len(coords)):\n",
    "            x_r, y_r = rotate_matrix(coords[j].T[0], coords[j].T[1], angle)\n",
    "            edge = np.concatenate((np.vstack(x_r),np.vstack(y_r)), axis=1)\n",
    "            edge_rotated.append(edge)\n",
    "    else:\n",
    "        edge_rotated=coords\n",
    "    \n",
    "    if draw==True:\n",
    "        plt.plot(coords[0].T[0], coords[0].T[1])\n",
    "        plt.plot(edge_rotated[0],edge_rotated[0])\n",
    "        plt.show()\n",
    "    \n",
    "    # Given that each line is going to be rotated to adjust for any of variability in edge angle\n",
    "    # our coordinate systems have varying X positions. To calculate the edge position for a fixed\n",
    "    # X position we will be taking the X positions for the first image and then using those X coords\n",
    "    # to interpolate Y at Timepoint E given our XY coordinates at that timepoint.\n",
    "    X_origin = np.unique(edge_rotated[0].T[0]) # we only care about unique X points\n",
    "    taco = pd.DataFrame(data = {'X0':X_origin})\n",
    "    for e in range(len(edge_rotated)):\n",
    "        df = pd.DataFrame({'x':edge_rotated[e].T[0], 'y':edge_rotated[e].T[1]})\n",
    "        edge_max = df.groupby('x').max() # we want to find the max Y points for a given X\n",
    "        edge_max.reset_index(inplace = True) # transform back to numpy (probably easier way to do this oh well)\n",
    "        edge_mx_np = pd.DataFrame.to_numpy(edge_max)\n",
    "        Y_interp = np.interp(X_origin, edge_mx_np.T[0], edge_mx_np.T[1]) # interpolates Y at positions X0 given XY at timepoint e\n",
    "        y_val = pd.DataFrame(data = {e:Y_interp}) # makes interpolated values a dataframe\n",
    "        taco = pd.concat([taco, y_val], axis = 1) # concatenates interpolated Y values to our OG DF\n",
    "    taco.set_index('X0', inplace = True) # sets the index as the xvalues as index\n",
    "    \n",
    "    # Calculate the difference in edge position at each region aka distance traveled btwn frames\n",
    "    edge_dist = pd.DataFrame()\n",
    "    for i in range(1, taco.shape[1]):\n",
    "        diff = taco[i]-taco[i-1] # distance would just be the difference between column at Ti and Ti-1 since we arent moving X positions\n",
    "        diff_df = pd.DataFrame(data={i:diff})\n",
    "        edge_dist = pd.concat([edge_dist, diff_df],axis=1)\n",
    "    \n",
    "    # Since the formula for speed is d/t we can also get velocity at each point\n",
    "    edge_vel = edge_dist/delta_t\n",
    "    \n",
    "    return edge_dist, edge_vel, edge_rotated"
   ]
  },
  {
   "cell_type": "code",
   "execution_count": 60,
   "metadata": {},
   "outputs": [
    {
     "name": "stderr",
     "output_type": "stream",
     "text": [
      "100%|████████████████████████████████████████████████████████████████████████████████| 164/164 [04:50<00:00,  1.77s/it]\n",
      "100%|████████████████████████████████████████████████████████████████████████████████| 164/164 [04:11<00:00,  1.54s/it]\n",
      "100%|████████████████████████████████████████████████████████████████████████████████| 178/178 [04:32<00:00,  1.53s/it]\n",
      "100%|████████████████████████████████████████████████████████████████████████████████| 178/178 [04:51<00:00,  1.64s/it]\n",
      "100%|██████████████████████████████████████████████████████████████████████████████████| 99/99 [02:35<00:00,  1.57s/it]\n",
      "100%|██████████████████████████████████████████████████████████████████████████████████| 99/99 [02:41<00:00,  1.63s/it]\n",
      "100%|██████████████████████████████████████████████████████████████████████████████████| 59/59 [01:39<00:00,  1.68s/it]\n",
      "100%|██████████████████████████████████████████████████████████████████████████████████| 59/59 [02:05<00:00,  2.14s/it]\n",
      "100%|██████████████████████████████████████████████████████████████████████████████████| 54/54 [01:38<00:00,  1.82s/it]\n",
      "100%|██████████████████████████████████████████████████████████████████████████████████| 54/54 [01:44<00:00,  1.94s/it]\n",
      "100%|██████████████████████████████████████████████████████████████████████████████████| 74/74 [02:26<00:00,  1.98s/it]\n",
      "100%|██████████████████████████████████████████████████████████████████████████████████| 74/74 [02:27<00:00,  1.99s/it]\n",
      "100%|████████████████████████████████████████████████████████████████████████████████| 103/103 [03:01<00:00,  1.76s/it]\n",
      "100%|████████████████████████████████████████████████████████████████████████████████| 103/103 [03:13<00:00,  1.88s/it]\n",
      "100%|██████████████████████████████████████████████████████████████████████████████████| 46/46 [01:23<00:00,  1.81s/it]\n",
      "100%|██████████████████████████████████████████████████████████████████████████████████| 46/46 [01:27<00:00,  1.90s/it]\n",
      "100%|██████████████████████████████████████████████████████████████████████████████████| 72/72 [01:58<00:00,  1.65s/it]\n",
      "100%|██████████████████████████████████████████████████████████████████████████████████| 72/72 [02:36<00:00,  2.17s/it]\n",
      "100%|██████████████████████████████████████████████████████████████████████████████████| 60/60 [01:18<00:00,  1.32s/it]\n",
      "100%|██████████████████████████████████████████████████████████████████████████████████| 60/60 [02:07<00:00,  2.13s/it]\n",
      "100%|██████████████████████████████████████████████████████████████████████████████████| 44/44 [01:17<00:00,  1.77s/it]\n",
      "100%|██████████████████████████████████████████████████████████████████████████████████| 44/44 [01:26<00:00,  1.97s/it]\n",
      "100%|██████████████████████████████████████████████████████████████████████████████████| 44/44 [01:28<00:00,  2.01s/it]\n",
      "100%|██████████████████████████████████████████████████████████████████████████████████| 44/44 [01:27<00:00,  1.99s/it]\n",
      "100%|██████████████████████████████████████████████████████████████████████████████████| 40/40 [01:13<00:00,  1.83s/it]\n",
      "100%|██████████████████████████████████████████████████████████████████████████████████| 40/40 [01:25<00:00,  2.15s/it]\n",
      "100%|██████████████████████████████████████████████████████████████████████████████████| 72/72 [02:18<00:00,  1.92s/it]\n",
      "100%|██████████████████████████████████████████████████████████████████████████████████| 72/72 [01:56<00:00,  1.62s/it]\n",
      "100%|██████████████████████████████████████████████████████████████████████████████████| 99/99 [03:13<00:00,  1.96s/it]\n",
      "100%|██████████████████████████████████████████████████████████████████████████████████| 99/99 [03:32<00:00,  2.14s/it]\n",
      "100%|██████████████████████████████████████████████████████████████████████████████████| 67/67 [01:44<00:00,  1.55s/it]\n",
      "100%|██████████████████████████████████████████████████████████████████████████████████| 67/67 [01:43<00:00,  1.54s/it]\n",
      "100%|████████████████████████████████████████████████████████████████████████████████| 100/100 [03:06<00:00,  1.86s/it]\n",
      "100%|████████████████████████████████████████████████████████████████████████████████| 100/100 [03:47<00:00,  2.28s/it]\n",
      "100%|██████████████████████████████████████████████████████████████████████████████████| 86/86 [03:11<00:00,  2.23s/it]\n",
      "100%|██████████████████████████████████████████████████████████████████████████████████| 86/86 [03:01<00:00,  2.11s/it]\n",
      "100%|████████████████████████████████████████████████████████████████████████████████| 164/164 [05:20<00:00,  1.95s/it]\n",
      "100%|████████████████████████████████████████████████████████████████████████████████| 164/164 [04:30<00:00,  1.65s/it]\n",
      "100%|██████████████████████████████████████████████████████████████████████████████████| 87/87 [02:47<00:00,  1.92s/it]\n",
      "100%|██████████████████████████████████████████████████████████████████████████████████| 87/87 [02:41<00:00,  1.86s/it]\n",
      "100%|██████████████████████████████████████████████████████████████████████████████████| 54/54 [01:43<00:00,  1.92s/it]\n",
      "100%|██████████████████████████████████████████████████████████████████████████████████| 54/54 [01:40<00:00,  1.87s/it]\n",
      "100%|██████████████████████████████████████████████████████████████████████████████████| 49/49 [01:37<00:00,  1.99s/it]\n",
      "100%|██████████████████████████████████████████████████████████████████████████████████| 49/49 [01:24<00:00,  1.72s/it]\n",
      "100%|██████████████████████████████████████████████████████████████████████████████████| 59/59 [02:06<00:00,  2.14s/it]\n",
      "100%|██████████████████████████████████████████████████████████████████████████████████| 59/59 [01:54<00:00,  1.95s/it]\n",
      "100%|██████████████████████████████████████████████████████████████████████████████████| 75/75 [02:14<00:00,  1.79s/it]\n",
      "100%|██████████████████████████████████████████████████████████████████████████████████| 75/75 [02:23<00:00,  1.92s/it]\n",
      "100%|██████████████████████████████████████████████████████████████████████████████████| 77/77 [02:43<00:00,  2.12s/it]\n",
      "100%|██████████████████████████████████████████████████████████████████████████████████| 77/77 [02:46<00:00,  2.16s/it]\n",
      "100%|████████████████████████████████████████████████████████████████████████████████| 110/110 [02:52<00:00,  1.57s/it]\n",
      "100%|████████████████████████████████████████████████████████████████████████████████| 110/110 [04:13<00:00,  2.30s/it]\n",
      "100%|████████████████████████████████████████████████████████████████████████████████| 300/300 [07:24<00:00,  1.48s/it]\n",
      "100%|████████████████████████████████████████████████████████████████████████████████| 300/300 [08:29<00:00,  1.70s/it]\n",
      "100%|████████████████████████████████████████████████████████████████████████████████| 300/300 [09:46<00:00,  1.95s/it]\n",
      "100%|████████████████████████████████████████████████████████████████████████████████| 300/300 [04:48<00:00,  1.04it/s]\n",
      "100%|████████████████████████████████████████████████████████████████████████████████| 300/300 [07:14<00:00,  1.45s/it]\n",
      "100%|████████████████████████████████████████████████████████████████████████████████| 300/300 [04:57<00:00,  1.01it/s]\n",
      "100%|████████████████████████████████████████████████████████████████████████████████| 300/300 [08:01<00:00,  1.61s/it]\n",
      "100%|████████████████████████████████████████████████████████████████████████████████| 300/300 [08:04<00:00,  1.62s/it]\n",
      "100%|████████████████████████████████████████████████████████████████████████████████| 300/300 [09:17<00:00,  1.86s/it]\n",
      "100%|████████████████████████████████████████████████████████████████████████████████| 300/300 [10:09<00:00,  2.03s/it]\n",
      "100%|████████████████████████████████████████████████████████████████████████████████| 300/300 [09:08<00:00,  1.83s/it]\n",
      "100%|████████████████████████████████████████████████████████████████████████████████| 300/300 [05:05<00:00,  1.02s/it]\n",
      "100%|████████████████████████████████████████████████████████████████████████████████| 300/300 [06:29<00:00,  1.30s/it]\n",
      "100%|████████████████████████████████████████████████████████████████████████████████| 300/300 [09:12<00:00,  1.84s/it]\n",
      "100%|████████████████████████████████████████████████████████████████████████████████| 300/300 [06:27<00:00,  1.29s/it]\n",
      "100%|████████████████████████████████████████████████████████████████████████████████| 300/300 [08:01<00:00,  1.60s/it]\n"
     ]
    },
    {
     "name": "stderr",
     "output_type": "stream",
     "text": [
      "100%|████████████████████████████████████████████████████████████████████████████████| 300/300 [08:11<00:00,  1.64s/it]\n",
      "100%|████████████████████████████████████████████████████████████████████████████████| 300/300 [07:59<00:00,  1.60s/it]\n",
      "100%|████████████████████████████████████████████████████████████████████████████████| 300/300 [10:02<00:00,  2.01s/it]\n",
      "100%|████████████████████████████████████████████████████████████████████████████████| 300/300 [07:47<00:00,  1.56s/it]\n",
      "100%|████████████████████████████████████████████████████████████████████████████████| 300/300 [10:40<00:00,  2.13s/it]\n",
      "100%|████████████████████████████████████████████████████████████████████████████████| 300/300 [07:09<00:00,  1.43s/it]\n",
      "100%|████████████████████████████████████████████████████████████████████████████████| 300/300 [06:46<00:00,  1.35s/it]\n",
      "100%|████████████████████████████████████████████████████████████████████████████████| 300/300 [07:49<00:00,  1.57s/it]\n",
      "100%|████████████████████████████████████████████████████████████████████████████████| 300/300 [09:36<00:00,  1.92s/it]\n",
      "100%|████████████████████████████████████████████████████████████████████████████████| 300/300 [06:38<00:00,  1.33s/it]\n",
      "100%|████████████████████████████████████████████████████████████████████████████████| 299/299 [09:41<00:00,  1.95s/it]\n",
      "100%|████████████████████████████████████████████████████████████████████████████████| 299/299 [06:09<00:00,  1.24s/it]\n",
      "100%|████████████████████████████████████████████████████████████████████████████████| 299/299 [11:17<00:00,  2.27s/it]\n",
      "100%|████████████████████████████████████████████████████████████████████████████████| 299/299 [08:58<00:00,  1.80s/it]\n",
      "100%|████████████████████████████████████████████████████████████████████████████████| 152/152 [04:37<00:00,  1.83s/it]\n",
      "100%|████████████████████████████████████████████████████████████████████████████████| 152/152 [05:14<00:00,  2.07s/it]\n",
      "100%|████████████████████████████████████████████████████████████████████████████████| 185/185 [05:15<00:00,  1.70s/it]\n",
      "100%|████████████████████████████████████████████████████████████████████████████████| 185/185 [06:56<00:00,  2.25s/it]\n",
      "100%|████████████████████████████████████████████████████████████████████████████████| 134/134 [03:43<00:00,  1.67s/it]\n",
      "100%|████████████████████████████████████████████████████████████████████████████████| 134/134 [04:31<00:00,  2.02s/it]\n",
      "100%|████████████████████████████████████████████████████████████████████████████████| 135/135 [03:38<00:00,  1.62s/it]\n",
      "100%|████████████████████████████████████████████████████████████████████████████████| 135/135 [05:04<00:00,  2.25s/it]\n",
      "100%|██████████████████████████████████████████████████████████████████████████████████| 62/62 [01:32<00:00,  1.49s/it]\n",
      "100%|██████████████████████████████████████████████████████████████████████████████████| 62/62 [02:08<00:00,  2.08s/it]\n",
      "100%|██████████████████████████████████████████████████████████████████████████████████| 91/91 [02:23<00:00,  1.57s/it]\n",
      "100%|██████████████████████████████████████████████████████████████████████████████████| 91/91 [03:10<00:00,  2.09s/it]\n",
      "100%|██████████████████████████████████████████████████████████████████████████████████| 72/72 [01:48<00:00,  1.50s/it]\n",
      " 86%|██████████████████████████████████████████████████████████████████████▌           | 62/72 [02:02<00:21,  2.13s/it]C:\\Users\\17605\\.conda\\envs\\piv\\lib\\site-packages\\ipykernel_launcher.py:25: RuntimeWarning: invalid value encountered in double_scalars\n",
      "100%|██████████████████████████████████████████████████████████████████████████████████| 72/72 [02:22<00:00,  1.99s/it]\n",
      "100%|████████████████████████████████████████████████████████████████████████████████| 101/101 [03:25<00:00,  2.03s/it]\n",
      "100%|████████████████████████████████████████████████████████████████████████████████| 101/101 [03:44<00:00,  2.23s/it]\n",
      "100%|██████████████████████████████████████████████████████████████████████████████████| 67/67 [02:04<00:00,  1.86s/it]\n",
      "100%|██████████████████████████████████████████████████████████████████████████████████| 67/67 [02:11<00:00,  1.96s/it]\n",
      "100%|██████████████████████████████████████████████████████████████████████████████████| 60/60 [01:49<00:00,  1.82s/it]\n",
      " 62%|██████████████████████████████████████████████████▌                               | 37/60 [01:07<00:43,  1.88s/it]C:\\Users\\17605\\.conda\\envs\\piv\\lib\\site-packages\\ipykernel_launcher.py:25: RuntimeWarning: divide by zero encountered in double_scalars\n",
      "100%|██████████████████████████████████████████████████████████████████████████████████| 60/60 [01:52<00:00,  1.88s/it]\n",
      "100%|██████████████████████████████████████████████████████████████████████████████████| 76/76 [02:27<00:00,  1.93s/it]\n",
      "100%|██████████████████████████████████████████████████████████████████████████████████| 76/76 [02:24<00:00,  1.90s/it]\n",
      "100%|██████████████████████████████████████████████████████████████████████████████████| 56/56 [01:50<00:00,  1.97s/it]\n",
      "100%|██████████████████████████████████████████████████████████████████████████████████| 56/56 [01:30<00:00,  1.62s/it]\n",
      "100%|████████████████████████████████████████████████████████████████████████████████| 157/157 [04:58<00:00,  1.90s/it]\n",
      "100%|████████████████████████████████████████████████████████████████████████████████| 157/157 [04:34<00:00,  1.75s/it]\n",
      "100%|████████████████████████████████████████████████████████████████████████████████| 139/139 [04:22<00:00,  1.89s/it]\n",
      "100%|████████████████████████████████████████████████████████████████████████████████| 139/139 [04:26<00:00,  1.92s/it]\n",
      "100%|██████████████████████████████████████████████████████████████████████████████████| 68/68 [02:07<00:00,  1.88s/it]\n",
      "100%|██████████████████████████████████████████████████████████████████████████████████| 68/68 [02:12<00:00,  1.95s/it]\n",
      "100%|█████████████████████████████████████████████████████████████████████████████| 112/112 [7:54:08<00:00, 254.01s/it]\n"
     ]
    }
   ],
   "source": [
    "# Set the pixelsize\n",
    "pixel_size= 0.6442*4\n",
    "# Set the timestep in minutes between frames\n",
    "delta_t = 5\n",
    "\n",
    "# Set which basefolder to cycle through for analysis\n",
    "# folder=\"F:/Jesse/cKO/cKO_PIV_less/\"\n",
    "# folder = \"F:/Jesse/tdTomato+Drug/Yoda1_PIV/\"\n",
    "folder=\"F:/Jesse/GoF/GoF_PIV/\"\n",
    "\n",
    "binary_list =  sorted(glob(os.path.join(folder,\"Binary\", \"*.tif\")))\n",
    "\n",
    "edge_dist_dict = {}\n",
    "edge_speed_dict = {}\n",
    "edge_coords_dict = {}\n",
    "edge_curvature_dict = {}\n",
    "edge_length_dict = {}\n",
    "rotated_coords={}\n",
    "\n",
    "for i in tqdm(range(len(binary_list)), position=0, leave=True):\n",
    "    \n",
    "    'General Housekeeping:'\n",
    "    # Grab the filename from filepath for later use\n",
    "    sfx = binary_list[i].split('\\\\')\n",
    "    file_name = sfx[-1][:-4] \n",
    "    \n",
    "    binary_image = pims.TiffStack(binary_list[i]) # Import binary image mask[i]\n",
    "    \n",
    "    # Create empty arrays for Edge Characteristics to be appended to\n",
    "    curvature = []\n",
    "    complexity = []\n",
    "    edge_coords = []\n",
    "    angles=[]\n",
    "    'Calculate Complexity (Edge Length) and Edge Curvature'\n",
    "    for image in tqdm(range(len(binary_image)), position=0, leave=True):\n",
    "        if image==0:\n",
    "            edge_a, ang = get_edge(binary_image[image], pixel_size, image) #converts units to um here\n",
    "        else:\n",
    "            edge_a = get_edge(binary_image[image], pixel_size, image) #converts units to um here\n",
    "        cmplx = calc_complexity(edge_a)\n",
    "        edge_coords.append(edge_a)\n",
    "        complexity.append(cmplx)\n",
    "        curvature.append(crv)\n",
    "        \n",
    "    \n",
    "    'Calculate Edge Speed and Distance at each unique X Point'\n",
    "    dist, speed, edge_rotated = calc_edge_move(edge_coords, delta_t, ang, draw=False)\n",
    "    \n",
    "    edge_dist_dict.update({file_name : dist})\n",
    "    edge_speed_dict.update({file_name : speed})\n",
    "    edge_curvature_dict.update({file_name : curvature})\n",
    "    edge_length_dict.update({file_name : complexity})\n",
    "    edge_coords_dict.update({file_name : edge_coords})\n",
    "    rotated_coords.update({file_name: edge_rotated})"
   ]
  },
  {
   "cell_type": "code",
   "execution_count": 16,
   "metadata": {},
   "outputs": [],
   "source": [
    "edge_dist_dict = {}\n",
    "edge_speed_dict = {}\n",
    "\n",
    "key_hole = list(rotated_coords.keys())\n",
    "for k in range(len(key_hole)):\n",
    "    dist, speed, edge_rotated = calc_edge_move(rotated_coords[key_hole[k]], 5, 0, draw=False)\n",
    "    edge_dist_dict.update({key_hole[k] : dist})\n",
    "    edge_speed_dict.update({key_hole[k] : speed})"
   ]
  },
  {
   "cell_type": "code",
   "execution_count": 101,
   "metadata": {},
   "outputs": [
    {
     "name": "stderr",
     "output_type": "stream",
     "text": [
      "C:\\Users\\17605\\.conda\\envs\\piv\\lib\\site-packages\\ipykernel_launcher.py:25: RuntimeWarning:\n",
      "\n",
      "invalid value encountered in double_scalars\n",
      "\n",
      "C:\\Users\\17605\\.conda\\envs\\piv\\lib\\site-packages\\ipykernel_launcher.py:45: RuntimeWarning:\n",
      "\n",
      "invalid value encountered in double_scalars\n",
      "\n"
     ]
    }
   ],
   "source": [
    "edge_curvature_dict = {}\n",
    "\n",
    "key_hole = list(rotated_coords.keys())\n",
    "for k in range(len(key_hole)):\n",
    "    curv=[]\n",
    "    for im in range(len(rotated_coords[key_hole[k]])):\n",
    "        j = calc_curvature(rotated_coords[key_hole[k]][im])\n",
    "        curv.append(j)\n",
    "    edge_curvature_dict.update({key_hole[k] : curv})\n"
   ]
  },
  {
   "cell_type": "code",
   "execution_count": 448,
   "metadata": {},
   "outputs": [],
   "source": [
    "# Save dictionaries as pickle files\n",
    "\n",
    "date = datetime.now().strftime(\"%Y_%m_%d_\")\n",
    "pickle.dump(edge_dist_dict, open(f\"{date}conVcKO_edge_dist_dict.p\", \"wb\"))\n",
    "pickle.dump(edge_speed_dict, open(f\"{date}conVcKO_edge_speed_dict.p\", \"wb\"))\n",
    "pickle.dump(edge_curvature_dict, open(f\"{date}conVcKO_edge_curvature_dict.p\", \"wb\"))\n",
    "pickle.dump(edge_length_dict, open(f\"{date}conVcKO_edge_length_dict.p\", \"wb\"))\n",
    "pickle.dump(edge_coords_dict, open(f\"{date}conVcKO_edge_coords_dict.p\", \"wb\"))\n",
    "pickle.dump(rotated_coords, open(f\"{date}conVcKO_edge_coords_rotated_dict.p\", \"wb\"))\n"
   ]
  },
  {
   "cell_type": "code",
   "execution_count": 106,
   "metadata": {},
   "outputs": [],
   "source": [
    "# Load dictionaries as pickle files\n",
    "edge_curvature_dict = pickle.load(open(\"2022_04_24_conVcKO_edge_curvature_dict.p\", \"rb\"))\n",
    "rotated_coords = pickle.load(open(\"2022_04_24_conVcKO_edge_coords_rotated_dict.p\", \"rb\"))\n",
    "edge_coords_dict = pickle.load(open(\"2022_04_24_conVcKO_edge_coords_dict.p\", \"rb\"))\n",
    "edge_length_dict = pickle.load(open(\"2022_04_24_conVcKO_edge_length_dict.p\", \"rb\"))\n",
    "edge_dist_dict = pickle.load(open(\"2022_05_03_conVcKO_edge_dist_dict.p\", \"rb\"))\n",
    "edge_speed_dict = pickle.load(open(\"2022_05_03_conVcKO_edge_speed_dict.p\", \"rb\"))\n"
   ]
  },
  {
   "cell_type": "code",
   "execution_count": 107,
   "metadata": {},
   "outputs": [],
   "source": [
    "cKO_name=[]\n",
    "Con_name=[]\n",
    "\n",
    "# standard deviation of edge length over time is the edge variability\n",
    "Con_cKO_edge_var = []\n",
    "cKO_edge_var = []\n",
    "\n",
    "# mean edge length over time is used as a measure of the edge complexity\n",
    "Con_cKO_edge_avg = []\n",
    "Con_cKO_edge_avg_norm = []\n",
    "Con_cKO_edge_last = []\n",
    "\n",
    "cKO_edge_avg = []\n",
    "cKO_edge_avg_norm = []\n",
    "cKO_edge_last = []\n",
    "\n",
    "key_hole = list(edge_length_dict.keys())\n",
    "for k in range(len(key_hole)):\n",
    "    # norm end edge length to edge length of start\n",
    "    last = edge_length_dict[key_hole[k]][-1]/edge_length_dict[key_hole[k]][0]\n",
    "    if key_hole[k].split('_')[-2]=='cKO' or key_hole[k].split('_')[-2]=='Skin8' or key_hole[k].split('_')[-4]=='cKO':\n",
    "        cKO_edge_last.append(last)\n",
    "        cKO_name.append(key_hole[k])\n",
    "    elif key_hole[k].split('_')[-2]=='Con' or key_hole[k].split('_')[-4]=='Con':\n",
    "        Con_cKO_edge_last.append(last)\n",
    "        Con_name.append(key_hole[k])\n",
    "        Con_cKO_edge_var\n",
    "    else:\n",
    "        print(key_hole[k])\n",
    "        raise ValueError('Genotype mismatch')"
   ]
  },
  {
   "cell_type": "code",
   "execution_count": 84,
   "metadata": {},
   "outputs": [],
   "source": [
    "cko_edge_avg=pd.concat([pd.DataFrame(Con_name, columns=['Filename']),\n",
    "                        pd.DataFrame(Con_cKO_edge_last, columns=['Control(cKO)']),\n",
    "                        pd.DataFrame(cKO_name, columns=['Filename']),\n",
    "                        pd.DataFrame(cKO_edge_last, columns=['cKO'])], axis=1)\n",
    "cko_edge_avg.to_excel('cKO_v_Con_Edge_Length.xlsx')"
   ]
  },
  {
   "cell_type": "code",
   "execution_count": 85,
   "metadata": {},
   "outputs": [
    {
     "data": {
      "text/plain": [
       "DABEST v0.3.1\n",
       "=============\n",
       "             \n",
       "Good morning!\n",
       "The current time is Wed Jun 22 10:47:48 2022.\n",
       "\n",
       "The unpaired Cohen's d between Control(cKO) and cKO is 0.598 [95%CI 0.233, 0.952].\n",
       "The p-value of the two-sided permutation t-test is 0.0012. \n",
       "\n",
       "5000 bootstrap samples were taken; the confidence interval is bias-corrected and accelerated.\n",
       "The p-value(s) reported are the likelihood(s) of observing the effect size(s),\n",
       "if the null hypothesis of zero difference is true.\n",
       "For each p-value, 5000 reshuffles of the control and test labels were performed.\n",
       "\n",
       "To get the results of all valid statistical tests, use `.cohens_d.statistical_tests`"
      ]
     },
     "execution_count": 85,
     "metadata": {},
     "output_type": "execute_result"
    }
   ],
   "source": [
    "cko_edge_avg_df=pd.concat([pd.DataFrame(Con_cKO_edge_last, columns=['Control(cKO)']),\n",
    "                      pd.DataFrame(cKO_edge_last, columns=['cKO'])], axis=1)\n",
    "edge_avg_dabest = dabest.load(cko_edge_avg_df, idx=(\"Control(cKO)\", \"cKO\"), resamples=5000)\n",
    "edge_avg_dabest.cohens_d"
   ]
  },
  {
   "cell_type": "code",
   "execution_count": 86,
   "metadata": {},
   "outputs": [
    {
     "name": "stderr",
     "output_type": "stream",
     "text": [
      "C:\\Users\\17605\\.conda\\envs\\piv\\lib\\site-packages\\IPython\\core\\pylabtools.py:151: UserWarning:\n",
      "\n",
      "This figure includes Axes that are not compatible with tight_layout, so results might be incorrect.\n",
      "\n"
     ]
    },
    {
     "data": {
      "image/png": "[encoded data removed]",
      "text/plain": [
       "<Figure size 300x600 with 2 Axes>"
      ]
     },
     "metadata": {
      "needs_background": "light"
     },
     "output_type": "display_data"
    }
   ],
   "source": [
    "color_pal={'Control(cKO)':'black', 'cKO': 'purple'}\n",
    "edge_avg_dabest.cohens_d.plot(swarm_label='Edge Length T[-1]/Length T[0]',float_contrast=False, custom_palette=color_pal, raw_marker_size=3);"
   ]
  },
  {
   "cell_type": "code",
   "execution_count": 87,
   "metadata": {},
   "outputs": [
    {
     "data": {
      "text/html": [
       "<div>\n",
       "<style scoped>\n",
       "    .dataframe tbody tr th:only-of-type {\n",
       "        vertical-align: middle;\n",
       "    }\n",
       "\n",
       "    .dataframe tbody tr th {\n",
       "        vertical-align: top;\n",
       "    }\n",
       "\n",
       "    .dataframe thead th {\n",
       "        text-align: right;\n",
       "    }\n",
       "</style>\n",
       "<table border=\"1\" class=\"dataframe\">\n",
       "  <thead>\n",
       "    <tr style=\"text-align: right;\">\n",
       "      <th></th>\n",
       "      <th>control</th>\n",
       "      <th>test</th>\n",
       "      <th>control_N</th>\n",
       "      <th>test_N</th>\n",
       "      <th>effect_size</th>\n",
       "      <th>is_paired</th>\n",
       "      <th>difference</th>\n",
       "      <th>ci</th>\n",
       "      <th>bca_low</th>\n",
       "      <th>bca_high</th>\n",
       "      <th>pvalue_permutation</th>\n",
       "      <th>pvalue_welch</th>\n",
       "      <th>statistic_welch</th>\n",
       "      <th>pvalue_students_t</th>\n",
       "      <th>statistic_students_t</th>\n",
       "      <th>pvalue_mann_whitney</th>\n",
       "      <th>statistic_mann_whitney</th>\n",
       "    </tr>\n",
       "  </thead>\n",
       "  <tbody>\n",
       "    <tr>\n",
       "      <th>0</th>\n",
       "      <td>Control(cKO)</td>\n",
       "      <td>cKO</td>\n",
       "      <td>55</td>\n",
       "      <td>66</td>\n",
       "      <td>Cohen's d</td>\n",
       "      <td>False</td>\n",
       "      <td>0.597928</td>\n",
       "      <td>95</td>\n",
       "      <td>0.233187</td>\n",
       "      <td>0.952435</td>\n",
       "      <td>0.0012</td>\n",
       "      <td>0.001385</td>\n",
       "      <td>-3.277178</td>\n",
       "      <td>0.001384</td>\n",
       "      <td>-3.274988</td>\n",
       "      <td>0.002981</td>\n",
       "      <td>1244.0</td>\n",
       "    </tr>\n",
       "  </tbody>\n",
       "</table>\n",
       "</div>"
      ],
      "text/plain": [
       "        control test  control_N  test_N effect_size  is_paired  difference  \\\n",
       "0  Control(cKO)  cKO         55      66   Cohen's d      False    0.597928   \n",
       "\n",
       "   ci   bca_low  bca_high  pvalue_permutation  pvalue_welch  statistic_welch  \\\n",
       "0  95  0.233187  0.952435              0.0012      0.001385        -3.277178   \n",
       "\n",
       "   pvalue_students_t  statistic_students_t  pvalue_mann_whitney  \\\n",
       "0           0.001384             -3.274988             0.002981   \n",
       "\n",
       "   statistic_mann_whitney  \n",
       "0                  1244.0  "
      ]
     },
     "execution_count": 87,
     "metadata": {},
     "output_type": "execute_result"
    }
   ],
   "source": [
    "edge_avg_dabest.cohens_d.statistical_tests"
   ]
  },
  {
   "cell_type": "code",
   "execution_count": 90,
   "metadata": {},
   "outputs": [],
   "source": [
    "Con_cKO_meng = []\n",
    "cKO_meng = []\n",
    "cKO_names = []\n",
    "Con_cKO_names = []\n",
    "\n",
    "key_hole = list(edge_curvature_dict.keys())\n",
    "for k in range(len(key_hole)):\n",
    "    if key_hole[k].split('_')[-2]=='cKO' or key_hole[k].split('_')[-2]=='Skin8' or key_hole[k].split('_')[-4]=='cKO':\n",
    "        cKO_meng.append(np.nanmedian(np.absolute(np.concatenate(edge_curvature_dict[key_hole[k]]))))\n",
    "        cKO_names.append(key_hole[k])\n",
    "    elif key_hole[k].split('_')[-2]=='Con' or key_hole[k].split('_')[-4]=='Con':\n",
    "        Con_cKO_meng.append(np.nanmedian(np.absolute(np.concatenate(edge_curvature_dict[key_hole[k]]))))\n",
    "        Con_cKO_names.append(key_hole[k])\n",
    "    else:\n",
    "        print(key_hole[k])\n",
    "        raise ValueError('Genotype mismatch')"
   ]
  },
  {
   "cell_type": "code",
   "execution_count": 91,
   "metadata": {},
   "outputs": [
    {
     "data": {
      "text/plain": [
       "DABEST v0.3.1\n",
       "=============\n",
       "             \n",
       "Good morning!\n",
       "The current time is Wed Jun 22 10:50:04 2022.\n",
       "\n",
       "The unpaired Cohen's d between Con and cKO is -0.52 [95%CI -0.906, -0.134].\n",
       "The p-value of the two-sided permutation t-test is 0.0052. \n",
       "\n",
       "5000 bootstrap samples were taken; the confidence interval is bias-corrected and accelerated.\n",
       "The p-value(s) reported are the likelihood(s) of observing the effect size(s),\n",
       "if the null hypothesis of zero difference is true.\n",
       "For each p-value, 5000 reshuffles of the control and test labels were performed.\n",
       "\n",
       "To get the results of all valid statistical tests, use `.cohens_d.statistical_tests`"
      ]
     },
     "execution_count": 91,
     "metadata": {},
     "output_type": "execute_result"
    }
   ],
   "source": [
    "cKO_meng_avg_df = pd.concat([pd.DataFrame(Con_cKO_meng, columns=['Con']),\n",
    "                      pd.DataFrame(cKO_meng, columns=['cKO'])], axis=1)\n",
    "cKO_meng_avg_dabest = dabest.load(cKO_meng_avg_df, idx=(\"Con\", \"cKO\"), resamples=5000)\n",
    "cKO_meng_avg_dabest.cohens_d"
   ]
  },
  {
   "cell_type": "code",
   "execution_count": 92,
   "metadata": {},
   "outputs": [],
   "source": [
    "cKO_meng_avg = pd.concat([pd.DataFrame(Con_cKO_names, columns=['Filename']),\n",
    "                        pd.DataFrame(Con_cKO_meng, columns=['Con']),\n",
    "                        pd.DataFrame(cKO_names, columns=['Filename']),\n",
    "                        pd.DataFrame(cKO_meng, columns=['cKO'])], axis=1)\n",
    "date = datetime.now().strftime(\"%Y_%m_%d_\")\n",
    "cKO_meng_avg.to_excel(f'{date}Con&cKO_Meng_Avg.xlsx')"
   ]
  },
  {
   "cell_type": "code",
   "execution_count": 93,
   "metadata": {},
   "outputs": [
    {
     "name": "stderr",
     "output_type": "stream",
     "text": [
      "C:\\Users\\17605\\.conda\\envs\\piv\\lib\\site-packages\\IPython\\core\\pylabtools.py:151: UserWarning:\n",
      "\n",
      "This figure includes Axes that are not compatible with tight_layout, so results might be incorrect.\n",
      "\n"
     ]
    },
    {
     "data": {
      "image/png": "[encoded data removed]",
      "text/plain": [
       "<Figure size 300x600 with 2 Axes>"
      ]
     },
     "metadata": {
      "needs_background": "light"
     },
     "output_type": "display_data"
    }
   ],
   "source": [
    "color_pal={'Con':'black', 'cKO': 'purple'}\n",
    "cKO_meng_avg_dabest.cohens_d.plot(swarm_label='Average Menger Curvature',float_contrast=False, custom_palette=color_pal, raw_marker_size=3);"
   ]
  },
  {
   "cell_type": "markdown",
   "metadata": {},
   "source": [
    "Edge Dist analysis"
   ]
  },
  {
   "cell_type": "code",
   "execution_count": 16,
   "metadata": {},
   "outputs": [],
   "source": [
    "# for loop which loops over a edge dist plot dictionary and creates heatmap for each FOV\n",
    "date = datetime.now().strftime(\"%Y_%m_%d_\")\n",
    "\n",
    "key_hole = list(edge_dist_dict.keys())\n",
    "for k in range(len(key_hole)):\n",
    "    fname = key_hole[k]\n",
    "    data = edge_dist_dict[fname]\n",
    "    fig = px.imshow(edge_dist_dict[fname], \n",
    "                    aspect = \"auto\", \n",
    "                    color_continuous_scale = 'RdBu_r', \n",
    "                    range_color = [-5,5],\n",
    "                    title = fname,\n",
    "                    labels=dict(x=\"Time (frame)\", y=\"Edge Position (um)\", color=\"Dist. (um)\")\n",
    "                   )\n",
    "    fig.update_layout(\n",
    "        showlegend=False,\n",
    "        font=dict(\n",
    "        size=15),\n",
    "        margin=dict(t=70,l=50,b=50,r=50)\n",
    "    )\n",
    "    fig.write_image(f\"{date}_{fname}_Dist_Heatmap.png\")"
   ]
  },
  {
   "cell_type": "code",
   "execution_count": 449,
   "metadata": {},
   "outputs": [],
   "source": [
    "Con_keys=[]\n",
    "cKO_keys=[]\n",
    "for k in range(len(key_hole)):\n",
    "    if key_hole[k].split('_')[-2]=='cKO' or key_hole[k].split('_')[-2]=='Skin8' or key_hole[k].split('_')[-4]=='cKO':\n",
    "        cKO_keys.append(key_hole[k])\n",
    "    elif key_hole[k].split('_')[-2]=='Con' or key_hole[k].split('_')[-4]=='Con':\n",
    "        Con_keys.append(key_hole[k])\n",
    "    else:\n",
    "        print(key_hole[k])\n",
    "        raise ValueError('Genotype mismatch')"
   ]
  },
  {
   "cell_type": "code",
   "execution_count": 456,
   "metadata": {},
   "outputs": [],
   "source": [
    "for k in range(len(cKO_keys)-1):\n",
    "    if k==0:\n",
    "        cKO_edge_stack = np.vstack([np.array(edge_dist_dict[cKO_keys[k]]), np.array(edge_dist_dict[cKO_keys[k+1]])])\n",
    "    else:\n",
    "        cKO_edge_stack = np.vstack([cKO_edge_stack, np.array(edge_dist_dict[cKO_keys[k+1]])[:,0:199]])\n",
    "        \n",
    "for k in range(len(Con_keys)-1):\n",
    "    if k==0:\n",
    "        Con_cKO_edge_stack = np.vstack([np.array(edge_dist_dict[Con_keys[k]]), np.array(edge_dist_dict[Con_keys[k+1]])])\n",
    "    else:\n",
    "        Con_cKO_edge_stack = np.vstack([Con_cKO_edge_stack, np.array(edge_dist_dict[Con_keys[k+1]])[:,0:199]])"
   ]
  },
  {
   "cell_type": "code",
   "execution_count": 459,
   "metadata": {},
   "outputs": [],
   "source": [
    "date = datetime.now().strftime(\"%Y_%m_%d_\")\n",
    "\n",
    "Con_cKO_Edge_dist = pd.DataFrame(Con_cKO_edge_stack)\n",
    "cKO_Edge_dist = pd.DataFrame(cKO_edge_stack)\n",
    "Con_cKO_Edge_dist.to_excel(f'{date}Con(cKO)_EdgeDistance.xlsx')\n",
    "cKO_Edge_dist.to_excel(f'{date}cKO_EdgeDistance.xlsx')"
   ]
  },
  {
   "cell_type": "code",
   "execution_count": 395,
   "metadata": {},
   "outputs": [],
   "source": [
    "fig = px.imshow(Con_cKO_edge_stack, \n",
    "                aspect = \"auto\", \n",
    "                color_continuous_scale = 'RdBu_r', \n",
    "                range_color = [-5,5],\n",
    "                title = 'Control All Stacked',\n",
    "                labels=dict(x=\"Time (frame)\", y=\"Edge Position (um)\", color=\"Dist. (um)\")\n",
    "               )\n",
    "fig.update_layout(\n",
    "    showlegend=False,\n",
    "    font=dict(\n",
    "    size=15),\n",
    "    margin=dict(t=70,l=50,b=50,r=50)\n",
    ")\n",
    "date = datetime.now().strftime(\"%Y_%m_%d_\")\n",
    "fig.write_image(f\"{date}_ControlAll_Dist_Heatmap.png\")"
   ]
  },
  {
   "cell_type": "code",
   "execution_count": 102,
   "metadata": {},
   "outputs": [],
   "source": [
    "key_hole = list(edge_coords_dict.keys())\n",
    "date = datetime.now().strftime(\"%Y_%m_%d_\")\n",
    "\n",
    "for k in range(len(key_hole)):\n",
    "    stack = pd.DataFrame()\n",
    "    fname = key_hole[k]\n",
    "    data = edge_coords_dict[fname]\n",
    "    cv = -pd.DataFrame.transpose(pd.DataFrame(edge_curvature_dict[fname]))\n",
    "    for i in range(len(data)):\n",
    "        df = pd.DataFrame(data[i], columns=['x','y'])\n",
    "        df.insert(loc=0, column='Curve', value=cv[i])\n",
    "        stack = pd.concat([stack, df])\n",
    "    fig = go.Figure()\n",
    "    fig = px.scatter(stack,\n",
    "                     x = \"x\",\n",
    "                     y = \"y\",\n",
    "                     title = fname,\n",
    "                     range_x = [0,1480],\n",
    "                     range_y = [0,1480],\n",
    "                     range_color = [-0.02, 0.02],\n",
    "                     color = 'Curve',\n",
    "                     color_continuous_scale  = \"Tropic\",\n",
    "                     labels = {\"Frame#\":\"Frame\"},\n",
    "                     height = 1325,\n",
    "                     width = 2880\n",
    "                    )\n",
    "    fig.update_layout(\n",
    "        showlegend=False,\n",
    "        font=dict(\n",
    "        size=25),\n",
    "        margin=dict(t=70,l=50,b=50,r=50)\n",
    "    )\n",
    "    fig.update_traces(marker_size=10)\n",
    "    fig.write_image(f\"{date}{fname}_CurveContour.png\")\n",
    "    fig.write_image(f\"{date}{fname}_CurveContour.svg\")"
   ]
  },
  {
   "cell_type": "code",
   "execution_count": 249,
   "metadata": {},
   "outputs": [],
   "source": [
    "cKO_curve={}\n",
    "Con_cKO_curve={}\n",
    "key_hole = list(edge_curvature_dict.keys())\n",
    "for k in range(len(key_hole)):\n",
    "    for j in range(len(edge_curvature_dict[key_hole[k]])):\n",
    "        if key_hole[k].split('_')[-2]=='cKO' or key_hole[k].split('_')[-2]=='Skin8' or key_hole[k].split('_')[-4]=='cKO':\n",
    "            cKO_curve.update({key_hole[k] : edge_curvature_dict[key_hole[k]]})\n",
    "        elif key_hole[k].split('_')[-2]=='Con' or key_hole[k].split('_')[-4]=='Con':\n",
    "            Con_cKO_curve.update({key_hole[k] : edge_curvature_dict[key_hole[k]]})\n",
    "        else:\n",
    "            print(key_hole[k])\n",
    "            raise ValueError('Genotype mismatch')"
   ]
  },
  {
   "cell_type": "code",
   "execution_count": 341,
   "metadata": {},
   "outputs": [],
   "source": [
    "# Create heatmap plots of just the menger curvature values\n",
    "\n",
    "key_hole = list(Con_cKO_curve.keys())\n",
    "date = datetime.now().strftime(\"%Y_%m_%d_\")\n",
    "\n",
    "for k in range(len(key_hole)):\n",
    "    fname=key_hole[k]\n",
    "    fig = px.imshow(pd.DataFrame.transpose(pd.DataFrame(Con_cKO_curve[fname])), \n",
    "                aspect = \"auto\", \n",
    "                color_continuous_scale = 'RdBu_r',\n",
    "                range_color = [-0.05,0.05],\n",
    "#                 color = \"Distance (μm)\",\n",
    "                title = fname\n",
    "#                 x = key_hole[0]\n",
    "               )\n",
    "    fig.write_html(f'{date}{fname}_curvature.html', auto_open=False)\n",
    "    break\n",
    "\n",
    "    \n",
    "key_hole = list(cKO_curve.keys())\n",
    "date = datetime.now().strftime(\"%Y_%m_%d_\")\n",
    "\n",
    "for k in range(len(key_hole)):\n",
    "    fname=key_hole[k]\n",
    "    fig = px.imshow(pd.DataFrame.transpose(pd.DataFrame(cKO_curve[fname])), \n",
    "                aspect = \"auto\", \n",
    "                color_continuous_scale = 'RdBu_r',\n",
    "                range_color = [-0.05,0.05],\n",
    "#                 color = \"Distance (μm)\",\n",
    "                title = fname\n",
    "#                 x = key_hole[0]\n",
    "               )\n",
    "    fig.write_html(f'{date}{fname}_curvature.html', auto_open=False)\n",
    "    break"
   ]
  },
  {
   "cell_type": "code",
   "execution_count": null,
   "metadata": {},
   "outputs": [],
   "source": [
    "# for loop which loops over a contour plot dictionary and creates plots for each FOV\n",
    "# Each Plot plots contour over the course of an imaging period\n",
    "\n",
    "key_hole = list(edge_coords_dict.keys())\n",
    "for k in range(len(key_hole)):\n",
    "    stack = pd.DataFrame()\n",
    "    fname = key_hole[k]\n",
    "    data = edge_coords_dict[fname]\n",
    "    for i in range(len(data)):\n",
    "        df = pd.DataFrame(data[i], columns=['x','y'])\n",
    "        df.insert(loc=0,column='Frame#', value=i, allow_duplicates=True)\n",
    "        stack = pd.concat([stack, df])\n",
    "    fig = go.Figure()\n",
    "    fig = px.scatter(stack,\n",
    "                     x=\"x\",\n",
    "                     y=\"y\",\n",
    "                     title=fname,\n",
    "                     range_x=[0,1480],\n",
    "                     range_y=[0,1480],\n",
    "                     color=\"Frame#\",\n",
    "                     color_continuous_scale  = \"Plasma_r\",\n",
    "                     labels={\"Frame#\":\"Frame\"},\n",
    "                     height=1325,\n",
    "                     width=2880\n",
    "                    )\n",
    "    fig.update_layout(\n",
    "        showlegend=False,\n",
    "        font=dict(\n",
    "        size=25),\n",
    "        margin=dict(t=70,l=50,b=50,r=50)\n",
    "    )\n",
    "    fig.update_traces(marker_size=14)\n",
    "    fig.write_image(f\"{fname}_ContourPlot.png\")\n",
    "    fig.write_image(f\"{fname}_ContourPlot.svg\")"
   ]
  },
  {
   "cell_type": "code",
   "execution_count": 135,
   "metadata": {},
   "outputs": [],
   "source": [
    "stack = pd.DataFrame()\n",
    "data = edge_coords_dict['317_2021_03_27_batch66_Pos13_cKO_bot']\n",
    "for i in range(len(data)):\n",
    "    df = pd.DataFrame(data[i], columns=['x','y'])\n",
    "    df.insert(loc=0,column='Frame#', value=i, allow_duplicates=True)\n",
    "    stack = pd.concat([stack, df])\n",
    "fig = px.scatter(stack,\n",
    "                 x=\"x\",\n",
    "                 y=\"y\",\n",
    "                 title=fname,\n",
    "                 range_x=[0,1480],\n",
    "#                  range_y=[0,800],\n",
    "                 color=\"Frame#\",\n",
    "                 color_continuous_scale  = \"Plasma_r\",\n",
    "                 labels={\"Frame#\":\"Frame\"},\n",
    "                 height=1325,\n",
    "                 width=2880\n",
    "                )\n",
    "fig.update_layout(\n",
    "    showlegend=False,\n",
    "    font=dict(\n",
    "    size=25),\n",
    "    margin=dict(t=60,l=50,b=50,r=50)\n",
    ")\n",
    "fig.update_traces(marker_size=14)\n",
    "\n",
    "fig.write_html('test.html', auto_open=True)"
   ]
  },
  {
   "cell_type": "code",
   "execution_count": 167,
   "metadata": {},
   "outputs": [],
   "source": [
    "stack = pd.DataFrame()\n",
    "data=edge_coords_dict['317_2021_03_27_batch66_Pos27_Con_top']\n",
    "for i in range(len(data)):\n",
    "    df = pd.DataFrame(data[i], columns=['x','y'])\n",
    "#     df.insert(loc=0,column='Frame#', value=i, allow_duplicates=True)\n",
    "    stack = pd.concat([stack, df],axis=1)\n",
    "    \n",
    "stack.to_excel('317_2021_03_27_batch66_Pos27_Con_top.xlsx')"
   ]
  },
  {
   "cell_type": "markdown",
   "metadata": {},
   "source": [
    "DMSO & Yoda1"
   ]
  },
  {
   "cell_type": "code",
   "execution_count": 31,
   "metadata": {},
   "outputs": [],
   "source": [
    "# Save dictionaries as pickle files\n",
    "date = datetime.now().strftime(\"%Y_%m_%d_\")\n",
    "pickle.dump(edge_dist_dict, open(f\"{date}DMSO&Yoda1_edge_dist_dict.p\", \"wb\"))\n",
    "pickle.dump(edge_speed_dict, open(f\"{date}DMSO&Yoda1_edge_speed_dict.p\", \"wb\"))\n",
    "pickle.dump(edge_curvature_dict, open(f\"{date}DMSO&Yoda1_edge_curvature_dict.p\", \"wb\"))\n",
    "pickle.dump(edge_length_dict, open(f\"{date}DMSO&Yoda1_edge_length_dict.p\", \"wb\"))\n",
    "pickle.dump(edge_coords_dict, open(f\"{date}DMSO&Yoda1_edge_coords_dict.p\", \"wb\"))\n",
    "pickle.dump(rotated_coords, open(f\"{date}DMSO&Yoda1_edge_coords_rotated_dict.p\", \"wb\"))\n"
   ]
  },
  {
   "cell_type": "code",
   "execution_count": 104,
   "metadata": {},
   "outputs": [],
   "source": [
    "# Load dictionaries as pickle files\n",
    "edge_curvature_dict = pickle.load(open(\"2022_05_26_DMSO&Yoda1_edge_curvature_dict.p\", \"rb\"))\n",
    "rotated_coords = pickle.load(open(\"2022_05_26_DMSO&Yoda1_edge_coords_rotated_dict.p\", \"rb\"))\n",
    "edge_coords_dict = pickle.load(open(\"2022_05_26_DMSO&Yoda1_edge_coords_dict.p\", \"rb\"))\n",
    "edge_length_dict = pickle.load(open(\"2022_05_26_DMSO&Yoda1_edge_length_dict.p\", \"rb\"))\n",
    "edge_dist_dict = pickle.load(open(\"2022_05_26_DMSO&Yoda1_edge_dist_dict.p\", \"rb\"))\n",
    "edge_speed_dict = pickle.load(open(\"2022_05_26_DMSO&Yoda1_edge_speed_dict.p\", \"rb\"))\n"
   ]
  },
  {
   "cell_type": "code",
   "execution_count": 105,
   "metadata": {},
   "outputs": [],
   "source": [
    "DMSO_name=[]\n",
    "Yoda1_name=[]\n",
    "\n",
    "# standard deviation of edge length over time is the edge variability\n",
    "DMSO_edge_var = []\n",
    "Yoda1_edge_var = []\n",
    "\n",
    "# mean edge length over time is used as a measure of the edge complexity\n",
    "DMSO_edge_avg = []\n",
    "DMSO_edge_avg_norm = []\n",
    "DMSO_edge_last = []\n",
    "\n",
    "Yoda1_edge_avg = []\n",
    "Yoda1_edge_avg_norm = []\n",
    "Yoda1_edge_last = []\n",
    "\n",
    "key_hole = list(edge_length_dict.keys())\n",
    "for k in range(len(key_hole)):\n",
    "    #norm to starting length of scratch\n",
    "    last = edge_length_dict[key_hole[k]][-1]/edge_length_dict[key_hole[k]][0]\n",
    "    if key_hole[k].split('_')[-4]=='Yoda1' or key_hole[k].split('_')[-2]=='Yoda1' or key_hole[k].split('_')[-2]=='Y1' or key_hole[k].split('_')[-3]=='Yoda1':\n",
    "        Yoda1_edge_last.append(last)\n",
    "        Yoda1_name.append(key_hole[k])\n",
    "    elif key_hole[k].split('_')[-2]=='DMSO' or key_hole[k].split('_')[-3]=='DMSO':\n",
    "        DMSO_edge_last.append(last)\n",
    "        DMSO_name.append(key_hole[k])\n",
    "    else:\n",
    "        print(key_hole[k])\n",
    "        raise ValueError('Genotype mismatch')"
   ]
  },
  {
   "cell_type": "code",
   "execution_count": 34,
   "metadata": {},
   "outputs": [],
   "source": [
    "DMSO_edge_avg=pd.concat([pd.DataFrame(DMSO_name, columns=['Filename']),\n",
    "                        pd.DataFrame(DMSO_edge_last, columns=['DMSO']),\n",
    "                        pd.DataFrame(Yoda1_name, columns=['Filename']),\n",
    "                        pd.DataFrame(Yoda1_edge_last, columns=['Yoda1'])], axis=1)\n",
    "DMSO_edge_avg.to_excel('DMSO_v_Yoda1_Edge_Length.xlsx')"
   ]
  },
  {
   "cell_type": "code",
   "execution_count": 35,
   "metadata": {},
   "outputs": [
    {
     "data": {
      "text/plain": [
       "DABEST v0.3.1\n",
       "=============\n",
       "             \n",
       "Good morning!\n",
       "The current time is Thu May 26 06:25:48 2022.\n",
       "\n",
       "The unpaired Cohen's d between DMSO and Yoda1 is -0.873 [95%CI -1.27, -0.416].\n",
       "The p-value of the two-sided permutation t-test is 0.0002. \n",
       "\n",
       "5000 bootstrap samples were taken; the confidence interval is bias-corrected and accelerated.\n",
       "The p-value(s) reported are the likelihood(s) of observing the effect size(s),\n",
       "if the null hypothesis of zero difference is true.\n",
       "For each p-value, 5000 reshuffles of the control and test labels were performed.\n",
       "\n",
       "To get the results of all valid statistical tests, use `.cohens_d.statistical_tests`"
      ]
     },
     "execution_count": 35,
     "metadata": {},
     "output_type": "execute_result"
    }
   ],
   "source": [
    "DMSO_edge_avg_df = pd.concat([pd.DataFrame(DMSO_edge_last, columns=['DMSO']),\n",
    "                      pd.DataFrame(Yoda1_edge_last, columns=['Yoda1'])], axis=1)\n",
    "edge_avg_dabest = dabest.load(DMSO_edge_avg_df, idx=(\"DMSO\", \"Yoda1\"), resamples=5000)\n",
    "edge_avg_dabest.cohens_d"
   ]
  },
  {
   "cell_type": "code",
   "execution_count": 36,
   "metadata": {},
   "outputs": [
    {
     "name": "stderr",
     "output_type": "stream",
     "text": [
      "C:\\Users\\17605\\.conda\\envs\\piv\\lib\\site-packages\\IPython\\core\\pylabtools.py:151: UserWarning:\n",
      "\n",
      "This figure includes Axes that are not compatible with tight_layout, so results might be incorrect.\n",
      "\n"
     ]
    },
    {
     "data": {
      "image/png": "[encoded data removed]",
      "text/plain": [
       "<Figure size 300x600 with 2 Axes>"
      ]
     },
     "metadata": {
      "needs_background": "light"
     },
     "output_type": "display_data"
    }
   ],
   "source": [
    "color_pal={'DMSO':'black', 'Yoda1': 'red'}\n",
    "edge_avg_dabest.cohens_d.plot(swarm_label='Edge Length T[-1]/Length T[0]',float_contrast=False, custom_palette=color_pal, raw_marker_size=3);"
   ]
  },
  {
   "cell_type": "code",
   "execution_count": 56,
   "metadata": {},
   "outputs": [],
   "source": [
    "DMSO_meng = []\n",
    "Yoda1_meng = []\n",
    "DMSO_names = []\n",
    "Yoda1_names = []\n",
    "\n",
    "key_hole = list(edge_curvature_dict.keys())\n",
    "for k in range(len(key_hole)):\n",
    "    if key_hole[k].split('_')[-2]=='DMSO' or key_hole[k].split('_')[-3]=='DMSO':\n",
    "        DMSO_meng.append(np.nanmedian(np.absolute(np.concatenate(edge_curvature_dict[key_hole[k]]))))\n",
    "        DMSO_names.append(key_hole[k])\n",
    "    elif key_hole[k].split('_')[-4]=='Yoda1' or key_hole[k].split('_')[-2]=='Yoda1' or key_hole[k].split('_')[-2]=='Y1' or key_hole[k].split('_')[-3]=='Yoda1':\n",
    "        Yoda1_meng.append(np.nanmedian(np.absolute(np.concatenate(edge_curvature_dict[key_hole[k]]))))\n",
    "        Yoda1_names.append(key_hole[k])\n",
    "    else:\n",
    "        print(key_hole[k])\n",
    "        raise ValueError('Genotype mismatch')"
   ]
  },
  {
   "cell_type": "code",
   "execution_count": 57,
   "metadata": {},
   "outputs": [
    {
     "data": {
      "text/plain": [
       "DABEST v0.3.1\n",
       "=============\n",
       "             \n",
       "Good evening!\n",
       "The current time is Sat Jun 18 12:28:35 2022.\n",
       "\n",
       "The unpaired Cohen's d between DMSO and Yoda1 is -0.427 [95%CI -0.884, 0.134].\n",
       "The p-value of the two-sided permutation t-test is 0.0796. \n",
       "\n",
       "5000 bootstrap samples were taken; the confidence interval is bias-corrected and accelerated.\n",
       "The p-value(s) reported are the likelihood(s) of observing the effect size(s),\n",
       "if the null hypothesis of zero difference is true.\n",
       "For each p-value, 5000 reshuffles of the control and test labels were performed.\n",
       "\n",
       "To get the results of all valid statistical tests, use `.cohens_d.statistical_tests`"
      ]
     },
     "execution_count": 57,
     "metadata": {},
     "output_type": "execute_result"
    }
   ],
   "source": [
    "DMSOYoda1_avg_df = pd.concat([pd.DataFrame(DMSO_meng, columns=['DMSO']),\n",
    "                      pd.DataFrame(Yoda1_meng, columns=['Yoda1'])], axis=1)\n",
    "Yoda1_meng_avg_dabest = dabest.load(DMSOYoda1_avg_df, idx=(\"DMSO\", \"Yoda1\"), resamples=5000)\n",
    "Yoda1_meng_avg_dabest.cohens_d"
   ]
  },
  {
   "cell_type": "code",
   "execution_count": 58,
   "metadata": {},
   "outputs": [],
   "source": [
    "Yoda1_meng_avg = pd.concat([pd.DataFrame(DMSO_names, columns=['Filename']),\n",
    "                        pd.DataFrame(DMSO_meng, columns=['DMSO']),\n",
    "                        pd.DataFrame(Yoda1_names, columns=['Filename']),\n",
    "                        pd.DataFrame(Yoda1_meng, columns=['Yoda1'])], axis=1)\n",
    "date = datetime.now().strftime(\"%Y_%m_%d_\")\n",
    "Yoda1_meng_avg.to_excel(f'{date}DMSO&Yoda1_Meng_Avg.xlsx')"
   ]
  },
  {
   "cell_type": "code",
   "execution_count": 59,
   "metadata": {},
   "outputs": [
    {
     "name": "stderr",
     "output_type": "stream",
     "text": [
      "C:\\Users\\17605\\.conda\\envs\\piv\\lib\\site-packages\\IPython\\core\\pylabtools.py:151: UserWarning: This figure includes Axes that are not compatible with tight_layout, so results might be incorrect.\n",
      "  fig.canvas.print_figure(bytes_io, **kw)\n"
     ]
    },
    {
     "data": {
      "image/png": "[encoded data removed]",
      "text/plain": [
       "<Figure size 300x600 with 2 Axes>"
      ]
     },
     "metadata": {
      "needs_background": "light"
     },
     "output_type": "display_data"
    }
   ],
   "source": [
    "color_pal={'DMSO':'black', 'Yoda1': 'red'}\n",
    "Yoda1_meng_avg_dabest.cohens_d.plot(swarm_label='Average Menger Curvature',float_contrast=False, custom_palette=color_pal, raw_marker_size=3);"
   ]
  },
  {
   "cell_type": "markdown",
   "metadata": {},
   "source": [
    "Con & GoF"
   ]
  },
  {
   "cell_type": "code",
   "execution_count": 61,
   "metadata": {},
   "outputs": [],
   "source": [
    "# Save dictionaries as pickle files\n",
    "date = datetime.now().strftime(\"%Y_%m_%d_\")\n",
    "pickle.dump(edge_dist_dict, open(f\"{date}Con&GoF_edge_dist_dict.p\", \"wb\"))\n",
    "pickle.dump(edge_speed_dict, open(f\"{date}Con&GoF_edge_speed_dict.p\", \"wb\"))\n",
    "pickle.dump(edge_curvature_dict, open(f\"{date}Con&GoF_edge_curvature_dict.p\", \"wb\"))\n",
    "pickle.dump(edge_length_dict, open(f\"{date}Con&GoF_edge_length_dict.p\", \"wb\"))\n",
    "pickle.dump(edge_coords_dict, open(f\"{date}Con&GoF_edge_coords_dict.p\", \"wb\"))\n",
    "pickle.dump(rotated_coords, open(f\"{date}Con&GoF_edge_coords_rotated_dict.p\", \"wb\"))\n"
   ]
  },
  {
   "cell_type": "code",
   "execution_count": 110,
   "metadata": {},
   "outputs": [],
   "source": [
    "# Load dictionaries as pickle files\n",
    "edge_curvature_dict = pickle.load(open(\"2022_06_19_Con&GoF_edge_curvature_dict.p\", \"rb\"))\n",
    "rotated_coords = pickle.load(open(\"2022_06_19_Con&GoF_edge_coords_rotated_dict.p\", \"rb\"))\n",
    "edge_coords_dict = pickle.load(open(\"2022_06_19_Con&GoF_edge_coords_dict.p\", \"rb\"))\n",
    "edge_length_dict = pickle.load(open(\"2022_06_19_Con&GoF_edge_length_dict.p\", \"rb\"))\n",
    "edge_dist_dict = pickle.load(open(\"2022_06_19_Con&GoF_edge_dist_dict.p\", \"rb\"))\n",
    "edge_speed_dict = pickle.load(open(\"2022_06_19_Con&GoF_edge_speed_dict.p\", \"rb\"))\n"
   ]
  },
  {
   "cell_type": "code",
   "execution_count": 111,
   "metadata": {},
   "outputs": [],
   "source": [
    "ConGoF_name=[]\n",
    "GoF_name=[]\n",
    "\n",
    "# standard deviation of edge length over time is the edge variability\n",
    "ConGoF_edge_var = []\n",
    "GoF_edge_var = []\n",
    "\n",
    "# mean edge length over time is used as a measure of the edge complexity\n",
    "ConGoF_edge_avg = []\n",
    "ConGoF_edge_avg_norm = []\n",
    "ConGoF_edge_last = []\n",
    "\n",
    "GoF_edge_avg = []\n",
    "GoF_edge_avg_norm = []\n",
    "GoF_edge_last = []\n",
    "\n",
    "key_hole = list(edge_length_dict.keys())\n",
    "for k in range(len(key_hole)):\n",
    "    #norm to starting length of scratch\n",
    "    last = edge_length_dict[key_hole[k]][-1]/edge_length_dict[key_hole[k]][0]\n",
    "    if key_hole[k].split('_')[-2]=='GoF':\n",
    "        GoF_edge_last.append(last)\n",
    "        GoF_name.append(key_hole[k])\n",
    "    elif key_hole[k].split('_')[-2]=='Con':\n",
    "        ConGoF_edge_last.append(last)\n",
    "        ConGoF_name.append(key_hole[k])\n",
    "    else:\n",
    "        print(key_hole[k])\n",
    "        raise ValueError('Genotype mismatch')"
   ]
  },
  {
   "cell_type": "code",
   "execution_count": 26,
   "metadata": {},
   "outputs": [],
   "source": [
    "GoF_edge_avg = pd.concat([pd.DataFrame(ConGoF_name, columns=['Filename']),\n",
    "                        pd.DataFrame(ConGoF_edge_last, columns=['Con']),\n",
    "                        pd.DataFrame(GoF_name, columns=['Filename']),\n",
    "                        pd.DataFrame(GoF_edge_last, columns=['GoF'])], axis=1)\n",
    "date = datetime.now().strftime(\"%Y_%m_%d_\")\n",
    "GoF_edge_avg.to_excel(f'{date}Con&GoF_Edge_Length.xlsx')"
   ]
  },
  {
   "cell_type": "code",
   "execution_count": 118,
   "metadata": {},
   "outputs": [],
   "source": [
    "del ConGoF_edge_last[12]"
   ]
  },
  {
   "cell_type": "code",
   "execution_count": 109,
   "metadata": {},
   "outputs": [
    {
     "data": {
      "text/plain": [
       "DABEST v0.3.1\n",
       "=============\n",
       "             \n",
       "Good morning!\n",
       "The current time is Tue Jun 28 09:08:23 2022.\n",
       "\n",
       "The unpaired Cohen's d between Con and GoF is -0.783 [95%CI -1.1, -0.445].\n",
       "The p-value of the two-sided permutation t-test is 0.0. \n",
       "\n",
       "5000 bootstrap samples were taken; the confidence interval is bias-corrected and accelerated.\n",
       "The p-value(s) reported are the likelihood(s) of observing the effect size(s),\n",
       "if the null hypothesis of zero difference is true.\n",
       "For each p-value, 5000 reshuffles of the control and test labels were performed.\n",
       "\n",
       "To get the results of all valid statistical tests, use `.cohens_d.statistical_tests`"
      ]
     },
     "execution_count": 109,
     "metadata": {},
     "output_type": "execute_result"
    }
   ],
   "source": [
    "GoF_edge_avg_df = pd.concat([pd.DataFrame(ConGoF_edge_last, columns=['Con']),\n",
    "                      pd.DataFrame(GoF_edge_last, columns=['GoF'])], axis=1)\n",
    "edge_avg_dabest = dabest.load(GoF_edge_avg_df, idx=(\"Con\", \"GoF\"), resamples=5000)\n",
    "edge_avg_dabest.cohens_d"
   ]
  },
  {
   "cell_type": "code",
   "execution_count": 28,
   "metadata": {},
   "outputs": [
    {
     "name": "stderr",
     "output_type": "stream",
     "text": [
      "C:\\Users\\17605\\.conda\\envs\\piv\\lib\\site-packages\\IPython\\core\\pylabtools.py:151: UserWarning: This figure includes Axes that are not compatible with tight_layout, so results might be incorrect.\n",
      "  fig.canvas.print_figure(bytes_io, **kw)\n"
     ]
    },
    {
     "data": {
      "image/png": "[encoded data removed]",
      "text/plain": [
       "<Figure size 300x600 with 2 Axes>"
      ]
     },
     "metadata": {
      "needs_background": "light"
     },
     "output_type": "display_data"
    }
   ],
   "source": [
    "color_pal={'Con':'black', 'GoF': 'green'}\n",
    "edge_avg_dabest.cohens_d.plot(swarm_label='Edge Length T[-1]/Length T[0]',float_contrast=False, custom_palette=color_pal, raw_marker_size=3);"
   ]
  },
  {
   "cell_type": "code",
   "execution_count": 39,
   "metadata": {},
   "outputs": [],
   "source": [
    "ConGoF_meng = []\n",
    "GoF_meng = []\n",
    "ConGoF_names = []\n",
    "GoF_names = []\n",
    "\n",
    "key_hole = list(edge_curvature_dict.keys())\n",
    "for k in range(len(key_hole)):\n",
    "    if key_hole[k].split('_')[-2]=='Con':\n",
    "        ConGoF_meng.append(np.nanmean(np.absolute(np.concatenate(edge_curvature_dict[key_hole[k]]))))\n",
    "        ConGoF_names.append(key_hole[k])\n",
    "    elif key_hole[k].split('_')[-2]=='GoF':\n",
    "        GoF_meng.append(np.nanmean(np.absolute(np.concatenate(edge_curvature_dict[key_hole[k]]))))\n",
    "        GoF_names.append(key_hole[k])\n",
    "    else:\n",
    "        print(key_hole[k])\n",
    "        raise ValueError('Genotype mismatch')"
   ]
  },
  {
   "cell_type": "code",
   "execution_count": 40,
   "metadata": {},
   "outputs": [
    {
     "name": "stderr",
     "output_type": "stream",
     "text": [
      "C:\\Users\\17605\\AppData\\Roaming\\Python\\Python37\\site-packages\\numpy\\core\\_methods.py:229: RuntimeWarning: invalid value encountered in subtract\n",
      "  x = asanyarray(arr - arrmean)\n",
      "C:\\Users\\17605\\AppData\\Roaming\\Python\\Python37\\site-packages\\dabest\\_classes.py:792: UserWarning: The lower limit of the BCa interval cannot be computed. It is set to the effect size itself. All bootstrap values were likely all the same.\n",
      "  stacklevel=0)\n",
      "C:\\Users\\17605\\AppData\\Roaming\\Python\\Python37\\site-packages\\dabest\\_classes.py:797: UserWarning: The upper limit of the BCa interval cannot be computed. It is set to the effect size itself. All bootstrap values were likely all the same.\n",
      "  stacklevel=0)\n"
     ]
    },
    {
     "data": {
      "text/plain": [
       "DABEST v0.3.1\n",
       "=============\n",
       "             \n",
       "Good evening!\n",
       "The current time is Fri Jun 17 21:55:18 2022.\n",
       "\n",
       "The unpaired Cohen's d between Con and GoF is nan [95%CI nan, nan].\n",
       "The p-value of the two-sided permutation t-test is 0.0. \n",
       "\n",
       "5000 bootstrap samples were taken; the confidence interval is bias-corrected and accelerated.\n",
       "The p-value(s) reported are the likelihood(s) of observing the effect size(s),\n",
       "if the null hypothesis of zero difference is true.\n",
       "For each p-value, 5000 reshuffles of the control and test labels were performed.\n",
       "\n",
       "To get the results of all valid statistical tests, use `.cohens_d.statistical_tests`"
      ]
     },
     "execution_count": 40,
     "metadata": {},
     "output_type": "execute_result"
    }
   ],
   "source": [
    "GoF_meng_avg_df = pd.concat([pd.DataFrame(ConGoF_meng, columns=['Con']),\n",
    "                      pd.DataFrame(GoF_meng, columns=['GoF'])], axis=1)\n",
    "meng_avg_dabest = dabest.load(GoF_meng_avg_df, idx=(\"Con\", \"GoF\"), resamples=5000)\n",
    "meng_avg_dabest.cohens_d"
   ]
  },
  {
   "cell_type": "code",
   "execution_count": 42,
   "metadata": {},
   "outputs": [],
   "source": [
    "GoF_meng_avg = pd.concat([pd.DataFrame(ConGoF_name, columns=['Filename']),\n",
    "                        pd.DataFrame(ConGoF_meng, columns=['Con']),\n",
    "                        pd.DataFrame(GoF_name, columns=['Filename']),\n",
    "                        pd.DataFrame(GoF_meng, columns=['GoF'])], axis=1)\n",
    "date = datetime.now().strftime(\"%Y_%m_%d_\")\n",
    "GoF_meng_avg.to_excel(f'{date}Con&GoF_Meng_Avg.xlsx')"
   ]
  },
  {
   "cell_type": "code",
   "execution_count": 112,
   "metadata": {},
   "outputs": [
    {
     "ename": "AttributeError",
     "evalue": "'DataFrame' object has no attribute 'difference'",
     "output_type": "error",
     "traceback": [
      "\u001b[1;31m---------------------------------------------------------------------------\u001b[0m",
      "\u001b[1;31mAttributeError\u001b[0m                            Traceback (most recent call last)",
      "\u001b[1;32m~\\AppData\\Local\\Temp/ipykernel_23640/4069071918.py\u001b[0m in \u001b[0;36m<module>\u001b[1;34m\u001b[0m\n\u001b[0;32m      1\u001b[0m \u001b[0mcolor_pal\u001b[0m\u001b[1;33m=\u001b[0m\u001b[1;33m{\u001b[0m\u001b[1;34m'Con'\u001b[0m\u001b[1;33m:\u001b[0m\u001b[1;34m'black'\u001b[0m\u001b[1;33m,\u001b[0m \u001b[1;34m'GoF'\u001b[0m\u001b[1;33m:\u001b[0m \u001b[1;34m'green'\u001b[0m\u001b[1;33m}\u001b[0m\u001b[1;33m\u001b[0m\u001b[1;33m\u001b[0m\u001b[0m\n\u001b[1;32m----> 2\u001b[1;33m \u001b[0mmeng_avg_dabest\u001b[0m\u001b[1;33m.\u001b[0m\u001b[0mcohens_d\u001b[0m\u001b[1;33m.\u001b[0m\u001b[0mplot\u001b[0m\u001b[1;33m(\u001b[0m\u001b[0mswarm_label\u001b[0m\u001b[1;33m=\u001b[0m\u001b[1;34m'Edge Length T[-1]/Length T[0]'\u001b[0m\u001b[1;33m,\u001b[0m\u001b[0mfloat_contrast\u001b[0m\u001b[1;33m=\u001b[0m\u001b[1;32mFalse\u001b[0m\u001b[1;33m,\u001b[0m \u001b[0mcustom_palette\u001b[0m\u001b[1;33m=\u001b[0m\u001b[0mcolor_pal\u001b[0m\u001b[1;33m,\u001b[0m \u001b[0mraw_marker_size\u001b[0m\u001b[1;33m=\u001b[0m\u001b[1;36m3\u001b[0m\u001b[1;33m)\u001b[0m\u001b[1;33m;\u001b[0m\u001b[1;33m\u001b[0m\u001b[1;33m\u001b[0m\u001b[0m\n\u001b[0m",
      "\u001b[1;32m~\\AppData\\Roaming\\Python\\Python37\\site-packages\\dabest\\_classes.py\u001b[0m in \u001b[0;36mplot\u001b[1;34m(self, color_col, raw_marker_size, es_marker_size, swarm_label, contrast_label, swarm_ylim, contrast_ylim, custom_palette, swarm_desat, halfviolin_desat, halfviolin_alpha, float_contrast, show_pairs, group_summaries, group_summaries_offset, fig_size, dpi, ax, swarmplot_kwargs, violinplot_kwargs, slopegraph_kwargs, reflines_kwargs, group_summary_kwargs, legend_kwargs)\u001b[0m\n\u001b[0;32m   1691\u001b[0m         \u001b[1;32mdel\u001b[0m \u001b[0mall_kwargs\u001b[0m\u001b[1;33m[\u001b[0m\u001b[1;34m\"self\"\u001b[0m\u001b[1;33m]\u001b[0m\u001b[1;33m\u001b[0m\u001b[1;33m\u001b[0m\u001b[0m\n\u001b[0;32m   1692\u001b[0m \u001b[1;33m\u001b[0m\u001b[0m\n\u001b[1;32m-> 1693\u001b[1;33m         \u001b[0mout\u001b[0m \u001b[1;33m=\u001b[0m \u001b[0mEffectSizeDataFramePlotter\u001b[0m\u001b[1;33m(\u001b[0m\u001b[0mself\u001b[0m\u001b[1;33m,\u001b[0m \u001b[1;33m**\u001b[0m\u001b[0mall_kwargs\u001b[0m\u001b[1;33m)\u001b[0m\u001b[1;33m\u001b[0m\u001b[1;33m\u001b[0m\u001b[0m\n\u001b[0m\u001b[0;32m   1694\u001b[0m \u001b[1;33m\u001b[0m\u001b[0m\n\u001b[0;32m   1695\u001b[0m         \u001b[1;32mreturn\u001b[0m \u001b[0mout\u001b[0m\u001b[1;33m\u001b[0m\u001b[1;33m\u001b[0m\u001b[0m\n",
      "\u001b[1;32m~\\AppData\\Roaming\\Python\\Python37\\site-packages\\dabest\\plotter.py\u001b[0m in \u001b[0;36mEffectSizeDataFramePlotter\u001b[1;34m(EffectSizeDataFrame, **plot_kwargs)\u001b[0m\n\u001b[0;32m    468\u001b[0m         \u001b[0mcurrent_control\u001b[0m   \u001b[1;33m=\u001b[0m \u001b[0mresults\u001b[0m\u001b[1;33m.\u001b[0m\u001b[0mcontrol\u001b[0m\u001b[1;33m[\u001b[0m\u001b[0mj\u001b[0m\u001b[1;33m]\u001b[0m\u001b[1;33m\u001b[0m\u001b[1;33m\u001b[0m\u001b[0m\n\u001b[0;32m    469\u001b[0m         \u001b[0mcurrent_bootstrap\u001b[0m \u001b[1;33m=\u001b[0m \u001b[0mresults\u001b[0m\u001b[1;33m.\u001b[0m\u001b[0mbootstraps\u001b[0m\u001b[1;33m[\u001b[0m\u001b[0mj\u001b[0m\u001b[1;33m]\u001b[0m\u001b[1;33m\u001b[0m\u001b[1;33m\u001b[0m\u001b[0m\n\u001b[1;32m--> 470\u001b[1;33m         \u001b[0mcurrent_effsize\u001b[0m   \u001b[1;33m=\u001b[0m \u001b[0mresults\u001b[0m\u001b[1;33m.\u001b[0m\u001b[0mdifference\u001b[0m\u001b[1;33m[\u001b[0m\u001b[0mj\u001b[0m\u001b[1;33m]\u001b[0m\u001b[1;33m\u001b[0m\u001b[1;33m\u001b[0m\u001b[0m\n\u001b[0m\u001b[0;32m    471\u001b[0m         \u001b[0mcurrent_ci_low\u001b[0m    \u001b[1;33m=\u001b[0m \u001b[0mresults\u001b[0m\u001b[1;33m.\u001b[0m\u001b[0mbca_low\u001b[0m\u001b[1;33m[\u001b[0m\u001b[0mj\u001b[0m\u001b[1;33m]\u001b[0m\u001b[1;33m\u001b[0m\u001b[1;33m\u001b[0m\u001b[0m\n\u001b[0;32m    472\u001b[0m         \u001b[0mcurrent_ci_high\u001b[0m   \u001b[1;33m=\u001b[0m \u001b[0mresults\u001b[0m\u001b[1;33m.\u001b[0m\u001b[0mbca_high\u001b[0m\u001b[1;33m[\u001b[0m\u001b[0mj\u001b[0m\u001b[1;33m]\u001b[0m\u001b[1;33m\u001b[0m\u001b[1;33m\u001b[0m\u001b[0m\n",
      "\u001b[1;32m~\\.conda\\envs\\piv\\lib\\site-packages\\pandas\\core\\generic.py\u001b[0m in \u001b[0;36m__getattr__\u001b[1;34m(self, name)\u001b[0m\n\u001b[0;32m   5485\u001b[0m         ):\n\u001b[0;32m   5486\u001b[0m             \u001b[1;32mreturn\u001b[0m \u001b[0mself\u001b[0m\u001b[1;33m[\u001b[0m\u001b[0mname\u001b[0m\u001b[1;33m]\u001b[0m\u001b[1;33m\u001b[0m\u001b[1;33m\u001b[0m\u001b[0m\n\u001b[1;32m-> 5487\u001b[1;33m         \u001b[1;32mreturn\u001b[0m \u001b[0mobject\u001b[0m\u001b[1;33m.\u001b[0m\u001b[0m__getattribute__\u001b[0m\u001b[1;33m(\u001b[0m\u001b[0mself\u001b[0m\u001b[1;33m,\u001b[0m \u001b[0mname\u001b[0m\u001b[1;33m)\u001b[0m\u001b[1;33m\u001b[0m\u001b[1;33m\u001b[0m\u001b[0m\n\u001b[0m\u001b[0;32m   5488\u001b[0m \u001b[1;33m\u001b[0m\u001b[0m\n\u001b[0;32m   5489\u001b[0m     \u001b[1;32mdef\u001b[0m \u001b[0m__setattr__\u001b[0m\u001b[1;33m(\u001b[0m\u001b[0mself\u001b[0m\u001b[1;33m,\u001b[0m \u001b[0mname\u001b[0m\u001b[1;33m:\u001b[0m \u001b[0mstr\u001b[0m\u001b[1;33m,\u001b[0m \u001b[0mvalue\u001b[0m\u001b[1;33m)\u001b[0m \u001b[1;33m->\u001b[0m \u001b[1;32mNone\u001b[0m\u001b[1;33m:\u001b[0m\u001b[1;33m\u001b[0m\u001b[1;33m\u001b[0m\u001b[0m\n",
      "\u001b[1;31mAttributeError\u001b[0m: 'DataFrame' object has no attribute 'difference'"
     ]
    },
    {
     "name": "stderr",
     "output_type": "stream",
     "text": [
      "C:\\Users\\17605\\.conda\\envs\\piv\\lib\\site-packages\\IPython\\core\\pylabtools.py:151: UserWarning:\n",
      "\n",
      "This figure includes Axes that are not compatible with tight_layout, so results might be incorrect.\n",
      "\n"
     ]
    },
    {
     "data": {
      "image/png": "[encoded data removed]",
      "text/plain": [
       "<Figure size 300x600 with 2 Axes>"
      ]
     },
     "metadata": {
      "needs_background": "light"
     },
     "output_type": "display_data"
    }
   ],
   "source": [
    "color_pal={'Con':'black', 'GoF': 'green'}\n",
    "meng_avg_dabest.cohens_d.plot(swarm_label='Edge Length T[-1]/Length T[0]',float_contrast=False, custom_palette=color_pal, raw_marker_size=3);"
   ]
  },
  {
   "cell_type": "code",
   "execution_count": 119,
   "metadata": {},
   "outputs": [],
   "source": [
    "all_edge_avg = pd.concat([pd.DataFrame(Con_cKO_edge_last, columns=['Control(cKO)']),\n",
    "                        pd.DataFrame(cKO_edge_last, columns=['cKO']),\n",
    "                        pd.DataFrame(ConGoF_edge_last, columns=['Control(GoF)']),\n",
    "                        pd.DataFrame(GoF_edge_last, columns=['GoF']),\n",
    "                        pd.DataFrame(DMSO_edge_last, columns=['DMSO']),\n",
    "                        pd.DataFrame(Yoda1_edge_last, columns=['Yoda1'])], axis=1)\n"
   ]
  },
  {
   "cell_type": "code",
   "execution_count": 120,
   "metadata": {},
   "outputs": [
    {
     "data": {
      "text/plain": [
       "DABEST v0.3.1\n",
       "=============\n",
       "             \n",
       "Good morning!\n",
       "The current time is Tue Jun 28 09:16:27 2022.\n",
       "\n",
       "The unpaired Cohen's d between Control(cKO) and cKO is 0.598 [95%CI 0.233, 0.952].\n",
       "The p-value of the two-sided permutation t-test is 0.0012. \n",
       "\n",
       "The unpaired Cohen's d between Control(GoF) and GoF is -0.799 [95%CI -1.18, -0.412].\n",
       "The p-value of the two-sided permutation t-test is 0.0. \n",
       "\n",
       "The unpaired Cohen's d between DMSO and Yoda1 is -0.873 [95%CI -1.27, -0.416].\n",
       "The p-value of the two-sided permutation t-test is 0.0002. \n",
       "\n",
       "5000 bootstrap samples were taken; the confidence interval is bias-corrected and accelerated.\n",
       "The p-value(s) reported are the likelihood(s) of observing the effect size(s),\n",
       "if the null hypothesis of zero difference is true.\n",
       "For each p-value, 5000 reshuffles of the control and test labels were performed.\n",
       "\n",
       "To get the results of all valid statistical tests, use `.cohens_d.statistical_tests`"
      ]
     },
     "execution_count": 120,
     "metadata": {},
     "output_type": "execute_result"
    }
   ],
   "source": [
    "all_edge_avg_dabest = dabest.load(all_edge_avg, idx = ((\"Control(cKO)\", \"cKO\"),\n",
    "                                                       (\"Control(GoF)\", \"GoF\"),\n",
    "                                                      (\"DMSO\", \"Yoda1\")), resamples=5000)\n",
    "all_edge_avg_dabest.cohens_d"
   ]
  },
  {
   "cell_type": "code",
   "execution_count": 121,
   "metadata": {},
   "outputs": [
    {
     "name": "stderr",
     "output_type": "stream",
     "text": [
      "C:\\Users\\17605\\AppData\\Roaming\\Python\\Python37\\site-packages\\seaborn\\categorical.py:1296: UserWarning:\n",
      "\n",
      "10.9% of the points cannot be placed; you may want to decrease the size of the markers or use stripplot.\n",
      "\n",
      "C:\\Users\\17605\\AppData\\Roaming\\Python\\Python37\\site-packages\\seaborn\\categorical.py:1296: UserWarning:\n",
      "\n",
      "10.6% of the points cannot be placed; you may want to decrease the size of the markers or use stripplot.\n",
      "\n",
      "C:\\Users\\17605\\AppData\\Roaming\\Python\\Python37\\site-packages\\seaborn\\categorical.py:1296: UserWarning:\n",
      "\n",
      "10.0% of the points cannot be placed; you may want to decrease the size of the markers or use stripplot.\n",
      "\n",
      "C:\\Users\\17605\\.conda\\envs\\piv\\lib\\site-packages\\ipykernel_launcher.py:4: UserWarning:\n",
      "\n",
      "This figure includes Axes that are not compatible with tight_layout, so results might be incorrect.\n",
      "\n",
      "C:\\Users\\17605\\.conda\\envs\\piv\\lib\\site-packages\\IPython\\core\\pylabtools.py:151: UserWarning:\n",
      "\n",
      "This figure includes Axes that are not compatible with tight_layout, so results might be incorrect.\n",
      "\n"
     ]
    },
    {
     "data": {
      "image/png": "[encoded data removed]",
      "text/plain": [
       "<Figure size 900x600 with 2 Axes>"
      ]
     },
     "metadata": {
      "needs_background": "light"
     },
     "output_type": "display_data"
    }
   ],
   "source": [
    "from matplotlib import pyplot as plt\n",
    "color_pal = {'Control(cKO)':'grey', 'cKO': '#d1a4ff', 'Control(GoF)':'grey', 'GoF': '#bbffbb', 'DMSO':'black', 'Yoda1': 'red'}\n",
    "edge_plot = all_edge_avg_dabest.cohens_d.plot(swarm_label='Edge Length T[-1]/Length T[0]',float_contrast=False, custom_palette=color_pal, raw_marker_size=7);\n",
    "plt.savefig(\"edge_plot.svg\")"
   ]
  },
  {
   "cell_type": "code",
   "execution_count": null,
   "metadata": {},
   "outputs": [],
   "source": []
  }
 ],
 "metadata": {
  "kernelspec": {
   "display_name": "Python3.7(PIV)",
   "language": "python",
   "name": "piv"
  },
  "language_info": {
   "codemirror_mode": {
    "name": "ipython",
    "version": 3
   },
   "file_extension": ".py",
   "mimetype": "text/x-python",
   "name": "python",
   "nbconvert_exporter": "python",
   "pygments_lexer": "ipython3",
   "version": "3.7.12"
  }
 },
 "nbformat": 4,
 "nbformat_minor": 5
}
